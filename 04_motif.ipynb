{
 "cells": [
  {
   "cell_type": "code",
   "execution_count": null,
   "id": "respective-tactics",
   "metadata": {},
   "outputs": [],
   "source": [
    "#hide\n",
    "#default_exp motif\n",
    "from nbdev.showdoc import show_doc\n",
    "from IPython.display import HTML\n",
    "%load_ext autoreload\n",
    "%autoreload 2"
   ]
  },
  {
   "cell_type": "markdown",
   "id": "composite-basin",
   "metadata": {},
   "source": [
    "# motif\n",
    "\n",
    ">Processing and analyzing glycan sequences on a motif-basis"
   ]
  },
  {
   "cell_type": "code",
   "execution_count": null,
   "id": "recovered-cattle",
   "metadata": {},
   "outputs": [],
   "source": [
    "#export\n",
    "from glycowork.motif.analysis import *\n",
    "from glycowork.motif.annotate import *\n",
    "from glycowork.motif.graph import *\n",
    "from glycowork.motif.processing import *\n",
    "from glycowork.motif.query import *\n",
    "from glycowork.motif.tokenization import *\n",
    "from glycowork.glycan_data.loader import df_species"
   ]
  },
  {
   "cell_type": "markdown",
   "id": "seasonal-matter",
   "metadata": {},
   "source": [
    "`motif` contains many functions to process glycans in various ways and use this processing analyze glycans via curated motifs, graph features, and sequence features. It contains the following modules:\n",
    "\n",
    "- `analysis` contains functions for downstream analyses of important glycan motifs etc.\n",
    "- `annotate` contains functions to extract curated motifs, graph features, and sequence features from glycan sequences\n",
    "- `graph` is used to convert glycan sequences to graphs and contains helper functions to search for motifs / check whether two sequences describe the same sequence, etc.\n",
    "- `processing` contains all the basic functions to process IUPACcondensed glycan sequences into glycoletters etc. Also contains `get_lib` to construct the glycoletter library\n",
    "- `query` is used to interact with the databases contained in glycowork, delivering insights for sequences of interest\n",
    "- `tokenization` has helper functions to map glycans (strings) to numbers that can be used by models"
   ]
  },
  {
   "cell_type": "markdown",
   "id": "asian-colombia",
   "metadata": {},
   "source": [
    "# analysis\n",
    " >downstream analyses of important glycan motifs"
   ]
  },
  {
   "cell_type": "code",
   "execution_count": null,
   "id": "straight-tackle",
   "metadata": {},
   "outputs": [],
   "source": [
    "show_doc(get_pvals_motifs)"
   ]
  },
  {
   "cell_type": "code",
   "execution_count": null,
   "id": "close-director",
   "metadata": {},
   "outputs": [],
   "source": [
    "glycans = ['Man(a1-3)[Man(a1-6)][Xyl(b1-2)]Man(b1-4)GlcNAc(b1-4)[Fuc(a1-3)]GlcNAc',\n",
    "           'Man(a1-2)Man(a1-2)Man(a1-3)[Man(a1-3)Man(a1-6)]Man(b1-4)GlcNAc(b1-4)GlcNAc',\n",
    "           'GalNAc(a1-4)GlcNAcA(a1-4)[GlcN(b1-7)]Kdo(a2-5)[Kdo(a2-4)]Kdo(a2-6)GlcOPN(b1-6)GlcOPN',\n",
    "          'Man(a1-2)Man(a1-3)[Man(a1-6)]Man(b1-4)GlcNAc(b1-4)GlcNAc',\n",
    "           'Glc(b1-3)Glc(b1-3)Glc']\n",
    "label = [3.234, 2.423, 0.733, 3.102, 0.108]\n",
    "test_df = pd.DataFrame({'glycan':glycans, 'binding':label})\n",
    "\n",
    "print(\"Glyco-Motif enrichment p-value test\")\n",
    "out = get_pvals_motifs(test_df, 'glycan', 'binding').iloc[:10,:]"
   ]
  },
  {
   "cell_type": "code",
   "execution_count": null,
   "id": "reported-traveler",
   "metadata": {},
   "outputs": [],
   "source": [
    "#hide_input\n",
    "HTML(out.style.set_properties(**{'font-size': '11pt', 'font-family': 'Helvetica','border-collapse': 'collapse','border': '1px solid black'}).render())"
   ]
  },
  {
   "cell_type": "code",
   "execution_count": null,
   "id": "sensitive-builder",
   "metadata": {},
   "outputs": [],
   "source": [
    "show_doc(make_heatmap)"
   ]
  },
  {
   "cell_type": "code",
   "execution_count": null,
   "id": "seasonal-termination",
   "metadata": {},
   "outputs": [],
   "source": [
    "glycans = ['Man(a1-3)[Man(a1-6)][Xyl(b1-2)]Man(b1-4)GlcNAc(b1-4)[Fuc(a1-3)]GlcNAc',\n",
    "           'Man(a1-2)Man(a1-2)Man(a1-3)[Man(a1-3)Man(a1-6)]Man(b1-4)GlcNAc(b1-4)GlcNAc',\n",
    "           'GalNAc(a1-4)GlcNAcA(a1-4)[GlcN(b1-7)]Kdo(a2-5)[Kdo(a2-4)]Kdo(a2-6)GlcN4P(b1-6)GlcN4P',\n",
    "           'Man(a1-2)Man(a1-3)[Man(a1-6)]Man(b1-4)GlcNAc(b1-4)GlcNAc',\n",
    "           'Glc(b1-3)Glc(b1-3)Glc']\n",
    "label = [3.234, 2.423, 0.733, 3.102, 0.108]\n",
    "label2 = [0.134, 0.345, 1.15, 0.233, 2.981]\n",
    "label3 = [0.334, 0.245, 1.55, 0.133, 2.581]\n",
    "test_df = pd.DataFrame([label, label2, label3], columns = glycans)\n",
    "\n",
    "make_heatmap(test_df)"
   ]
  },
  {
   "cell_type": "code",
   "execution_count": null,
   "id": "floating-patient",
   "metadata": {},
   "outputs": [],
   "source": [
    "make_heatmap(test_df, mode = 'motif', feature_set = ['known', 'exhaustive'], estimate_speedup = True)"
   ]
  },
  {
   "cell_type": "code",
   "execution_count": null,
   "id": "senior-brown",
   "metadata": {},
   "outputs": [],
   "source": [
    "show_doc(plot_embeddings)"
   ]
  },
  {
   "cell_type": "code",
   "execution_count": null,
   "id": "australian-venue",
   "metadata": {},
   "outputs": [],
   "source": [
    "df_fabales = df_species[df_species.Order == 'Fabales'].reset_index(drop = True)\n",
    "plot_embeddings(df_fabales.target.values.tolist(), label_list = df_fabales.Family.values.tolist())"
   ]
  },
  {
   "cell_type": "code",
   "execution_count": null,
   "id": "processed-approval",
   "metadata": {},
   "outputs": [],
   "source": [
    "show_doc(characterize_monosaccharide)"
   ]
  },
  {
   "cell_type": "code",
   "execution_count": null,
   "id": "mature-civilian",
   "metadata": {},
   "outputs": [],
   "source": [
    "characterize_monosaccharide('D-Rha', rank = 'Kingdom', focus = 'Bacteria', modifications = True)"
   ]
  },
  {
   "cell_type": "markdown",
   "id": "blond-drove",
   "metadata": {},
   "source": [
    "# annotate\n",
    ">extract curated motifs, graph features, and sequence features from glycan sequences"
   ]
  },
  {
   "cell_type": "code",
   "execution_count": null,
   "id": "offshore-aging",
   "metadata": {},
   "outputs": [],
   "source": [
    "show_doc(annotate_glycan)"
   ]
  },
  {
   "cell_type": "code",
   "execution_count": null,
   "id": "intellectual-habitat",
   "metadata": {},
   "outputs": [],
   "source": [
    "show_doc(annotate_dataset)"
   ]
  },
  {
   "cell_type": "code",
   "execution_count": null,
   "id": "worthy-holly",
   "metadata": {},
   "outputs": [],
   "source": [
    "glycans = ['Man(a1-3)[Man(a1-6)][Xyl(b1-2)]Man(b1-4)GlcNAc(b1-4)[Fuc(a1-3)]GlcNAc',\n",
    "           'Man(a1-2)Man(a1-2)Man(a1-3)[Man(a1-3)Man(a1-6)]Man(b1-4)GlcNAc(b1-4)GlcNAc',\n",
    "           'GalNAc(a1-4)GlcNAcA(a1-4)[GlcN(b1-7)]Kdo(a2-5)[Kdo(a2-4)]Kdo(a2-6)GlcN4P(b1-6)GlcN4P']\n",
    "print(\"Annotate Test\")\n",
    "out = annotate_dataset(glycans)"
   ]
  },
  {
   "cell_type": "code",
   "execution_count": null,
   "id": "numerous-consortium",
   "metadata": {},
   "outputs": [],
   "source": [
    "#hide_input\n",
    "HTML(out.style.set_properties(**{'font-size': '11pt', 'font-family': 'Helvetica','border-collapse': 'collapse','border': '1px solid black'}).render())"
   ]
  },
  {
   "cell_type": "code",
   "execution_count": null,
   "id": "compact-irrigation",
   "metadata": {},
   "outputs": [],
   "source": [
    "show_doc(get_trisaccharides)"
   ]
  },
  {
   "cell_type": "code",
   "execution_count": null,
   "id": "toxic-implement",
   "metadata": {},
   "outputs": [],
   "source": [
    "get_trisaccharides('GalNAc(a1-4)GlcNAcA(a1-4)[GlcN(b1-7)]Kdo(a2-5)[Kdo(a2-4)]Kdo(a2-6)GlcN4P(b1-6)GlcN4P')"
   ]
  },
  {
   "cell_type": "markdown",
   "id": "fewer-somewhere",
   "metadata": {},
   "source": [
    "# graph\n",
    ">convert glycan sequences to graphs and contains helper functions to search for motifs / check whether two sequences describe the same sequence, etc."
   ]
  },
  {
   "cell_type": "code",
   "execution_count": null,
   "id": "cross-witch",
   "metadata": {},
   "outputs": [],
   "source": [
    "show_doc(glycan_to_graph)"
   ]
  },
  {
   "cell_type": "code",
   "execution_count": null,
   "id": "precise-adolescent",
   "metadata": {},
   "outputs": [],
   "source": [
    "print('Glycan to Graph')\n",
    "print('Man(a1-3)[Man(a1-6)]Man(b1-4)GlcNAc(b1-4)[Fuc(a1-6)]GlcNAc')\n",
    "print(glycan_to_graph('Man(a1-3)[Man(a1-6)]Man(b1-4)GlcNAc(b1-4)[Fuc(a1-6)]GlcNAc'))"
   ]
  },
  {
   "cell_type": "code",
   "execution_count": null,
   "id": "original-criminal",
   "metadata": {},
   "outputs": [],
   "source": [
    "show_doc(compare_glycans)"
   ]
  },
  {
   "cell_type": "code",
   "execution_count": null,
   "id": "lucky-mistake",
   "metadata": {},
   "outputs": [],
   "source": [
    "print(\"Graph Isomorphism Test\")\n",
    "print(compare_glycans('Man(a1-3)[Man(a1-6)]Man(b1-4)GlcNAc(b1-4)[Fuc(a1-6)]GlcNAc',\n",
    "                      'Man(a1-6)[Man(a1-3)]Man(b1-4)GlcNAc(b1-4)[Fuc(a1-6)]GlcNAc'))"
   ]
  },
  {
   "cell_type": "code",
   "execution_count": null,
   "id": "sorted-canadian",
   "metadata": {},
   "outputs": [],
   "source": [
    "show_doc(fast_compare_glycans)"
   ]
  },
  {
   "cell_type": "code",
   "execution_count": null,
   "id": "distinct-mountain",
   "metadata": {},
   "outputs": [],
   "source": [
    "show_doc(subgraph_isomorphism)"
   ]
  },
  {
   "cell_type": "code",
   "execution_count": null,
   "id": "superb-failing",
   "metadata": {},
   "outputs": [],
   "source": [
    "print(\"Subgraph Isomorphism Test\")\n",
    "print(subgraph_isomorphism('Man(a1-3)[Man(a1-6)]Man(b1-4)GlcNAc(b1-4)[Fuc(a1-6)]GlcNAc',\n",
    "                           'Fuc(a1-6)GlcNAc'))"
   ]
  },
  {
   "cell_type": "code",
   "execution_count": null,
   "id": "higher-cornell",
   "metadata": {},
   "outputs": [],
   "source": [
    "show_doc(glycan_to_nxGraph)"
   ]
  },
  {
   "cell_type": "code",
   "execution_count": null,
   "id": "focused-peter",
   "metadata": {},
   "outputs": [],
   "source": [
    "show_doc(graph_to_string)"
   ]
  },
  {
   "cell_type": "code",
   "execution_count": null,
   "id": "fancy-identification",
   "metadata": {},
   "outputs": [],
   "source": [
    "graph_to_string(glycan_to_nxGraph('Man(a1-3)[Man(a1-6)]Man(b1-4)GlcNAc(b1-4)[Fuc(a1-6)]GlcNAc'))"
   ]
  },
  {
   "cell_type": "code",
   "execution_count": null,
   "id": "blank-dining",
   "metadata": {},
   "outputs": [],
   "source": [
    "print('Glycan to networkx Graph (only edges printed)')\n",
    "print(glycan_to_nxGraph('Man(a1-3)[Man(a1-6)]Man(b1-4)GlcNAc(b1-4)[Fuc(a1-6)]GlcNAc').edges())"
   ]
  },
  {
   "cell_type": "code",
   "execution_count": null,
   "id": "increasing-respect",
   "metadata": {},
   "outputs": [],
   "source": [
    "show_doc(generate_graph_features)"
   ]
  },
  {
   "cell_type": "code",
   "execution_count": null,
   "id": "facial-recall",
   "metadata": {},
   "outputs": [],
   "source": [
    "show_doc(try_string_conversion)"
   ]
  },
  {
   "cell_type": "markdown",
   "id": "round-holly",
   "metadata": {},
   "source": [
    "# processing\n",
    ">process IUPACcondensed glycan sequences into glycoletters etc."
   ]
  },
  {
   "cell_type": "code",
   "execution_count": null,
   "id": "boring-slide",
   "metadata": {},
   "outputs": [],
   "source": [
    "show_doc(check_nomenclature)"
   ]
  },
  {
   "cell_type": "code",
   "execution_count": null,
   "id": "romance-battlefield",
   "metadata": {},
   "outputs": [],
   "source": [
    "check_nomenclature('Glc(b1-4)Glc')"
   ]
  },
  {
   "cell_type": "code",
   "execution_count": null,
   "id": "sublime-novelty",
   "metadata": {},
   "outputs": [],
   "source": [
    "show_doc(small_motif_find)"
   ]
  },
  {
   "cell_type": "code",
   "execution_count": null,
   "id": "coastal-failure",
   "metadata": {},
   "outputs": [],
   "source": [
    "small_motif_find('Man(a1-3)[Man(a1-6)]Man(b1-4)GlcNAc(b1-4)GlcNAc')"
   ]
  },
  {
   "cell_type": "code",
   "execution_count": null,
   "id": "latter-military",
   "metadata": {},
   "outputs": [],
   "source": [
    "show_doc(min_process_glycans)"
   ]
  },
  {
   "cell_type": "code",
   "execution_count": null,
   "id": "initial-armor",
   "metadata": {},
   "outputs": [],
   "source": [
    "min_process_glycans(['Man(a1-3)[Man(a1-6)]Man(b1-4)GlcNAc(b1-4)GlcNAc',\n",
    "                     'Man(a1-2)Man(a1-3)[Man(a1-6)]Man(b1-4)GlcNAc(b1-4)GlcNAc'])"
   ]
  },
  {
   "cell_type": "code",
   "execution_count": null,
   "id": "associate-prior",
   "metadata": {},
   "outputs": [],
   "source": [
    "show_doc(motif_find)"
   ]
  },
  {
   "cell_type": "code",
   "execution_count": null,
   "id": "healthy-trick",
   "metadata": {},
   "outputs": [],
   "source": [
    "show_doc(process_glycans)"
   ]
  },
  {
   "cell_type": "code",
   "execution_count": null,
   "id": "mechanical-brave",
   "metadata": {},
   "outputs": [],
   "source": [
    "process_glycans(['Man(a1-3)[Man(a1-6)]Man(b1-4)GlcNAc(b1-4)GlcNAc',\n",
    "                     'Man(a1-2)Man(a1-3)[Man(a1-6)]Man(b1-4)GlcNAc(b1-4)GlcNAc'])"
   ]
  },
  {
   "cell_type": "code",
   "execution_count": null,
   "id": "precious-plasma",
   "metadata": {},
   "outputs": [],
   "source": [
    "show_doc(get_lib)"
   ]
  },
  {
   "cell_type": "code",
   "execution_count": null,
   "id": "checked-picnic",
   "metadata": {},
   "outputs": [],
   "source": [
    "get_lib(['Man(a1-3)[Man(a1-6)]Man(b1-4)GlcNAc(b1-4)GlcNAc',\n",
    "                     'Man(a1-2)Man(a1-3)[Man(a1-6)]Man(b1-4)GlcNAc(b1-4)GlcNAc'])"
   ]
  },
  {
   "cell_type": "code",
   "execution_count": null,
   "id": "surprising-hayes",
   "metadata": {},
   "outputs": [],
   "source": [
    "show_doc(expand_lib)"
   ]
  },
  {
   "cell_type": "code",
   "execution_count": null,
   "id": "gentle-acquisition",
   "metadata": {},
   "outputs": [],
   "source": [
    "lib1 = get_lib(['Man(a1-3)[Man(a1-6)]Man(b1-4)GlcNAc(b1-4)GlcNAc',\n",
    "                     'Man(a1-2)Man(a1-3)[Man(a1-6)]Man(b1-4)GlcNAc(b1-4)GlcNAc'])\n",
    "lib2 = expand_lib(lib1, ['Man(a1-3)[Man(a1-6)]Man(b1-4)GlcNAc(b1-4)[Fuc(a1-6)]GlcNAc'])\n",
    "lib2"
   ]
  },
  {
   "cell_type": "code",
   "execution_count": null,
   "id": "funny-israel",
   "metadata": {},
   "outputs": [],
   "source": [
    "show_doc(seed_wildcard)"
   ]
  },
  {
   "cell_type": "code",
   "execution_count": null,
   "id": "administrative-tunisia",
   "metadata": {},
   "outputs": [],
   "source": [
    "show_doc(presence_to_matrix)"
   ]
  },
  {
   "cell_type": "code",
   "execution_count": null,
   "id": "specified-television",
   "metadata": {},
   "outputs": [],
   "source": [
    "out = presence_to_matrix(df_species[df_species.Order == 'Fabales'].reset_index(drop = True),\n",
    "                         label_col_name = 'Family')"
   ]
  },
  {
   "cell_type": "code",
   "execution_count": null,
   "id": "turkish-badge",
   "metadata": {},
   "outputs": [],
   "source": [
    "#hide_input\n",
    "HTML(out.style.set_properties(**{'font-size': '11pt', 'font-family': 'Helvetica','border-collapse': 'collapse','border': '1px solid black'}).render())"
   ]
  },
  {
   "cell_type": "markdown",
   "id": "ordered-trailer",
   "metadata": {},
   "source": [
    "# query\n",
    ">for interacting with the databases contained in glycowork, delivering insights for sequences of interest"
   ]
  },
  {
   "cell_type": "code",
   "execution_count": null,
   "id": "illegal-toolbox",
   "metadata": {},
   "outputs": [],
   "source": [
    "show_doc(get_insight)"
   ]
  },
  {
   "cell_type": "code",
   "execution_count": null,
   "id": "still-offset",
   "metadata": {},
   "outputs": [],
   "source": [
    "print(\"Test get_insight with 'Man(a1-3)[Man(a1-6)]Man(b1-4)GlcNAc(b1-4)[Fuc(a1-6)]GlcNAc'\")\n",
    "get_insight('Man(a1-3)[Man(a1-6)]Man(b1-4)GlcNAc(b1-4)[Fuc(a1-6)]GlcNAc')"
   ]
  },
  {
   "cell_type": "code",
   "execution_count": null,
   "id": "broke-spray",
   "metadata": {},
   "outputs": [],
   "source": [
    "show_doc(glytoucan_to_glycan)"
   ]
  },
  {
   "cell_type": "code",
   "execution_count": null,
   "id": "blocked-niger",
   "metadata": {},
   "outputs": [],
   "source": [
    "glytoucan_to_glycan(['G59003TN', 'G88185OE'])"
   ]
  },
  {
   "cell_type": "markdown",
   "id": "serious-savage",
   "metadata": {},
   "source": [
    "# tokenization\n",
    ">helper functions to map glycans (strings) to numbers that can be used by models"
   ]
  },
  {
   "cell_type": "code",
   "execution_count": null,
   "id": "affiliated-russian",
   "metadata": {},
   "outputs": [],
   "source": [
    "show_doc(string_to_labels)"
   ]
  },
  {
   "cell_type": "code",
   "execution_count": null,
   "id": "unique-welcome",
   "metadata": {},
   "outputs": [],
   "source": [
    "string_to_labels(['Man','a1-3','Man','a1-6','Man'])"
   ]
  },
  {
   "cell_type": "code",
   "execution_count": null,
   "id": "breathing-angel",
   "metadata": {},
   "outputs": [],
   "source": [
    "show_doc(pad_sequence)"
   ]
  },
  {
   "cell_type": "code",
   "execution_count": null,
   "id": "recreational-persian",
   "metadata": {},
   "outputs": [],
   "source": [
    "pad_sequence(string_to_labels(['Man','a1-3','Man','a1-6','Man']), 7)"
   ]
  },
  {
   "cell_type": "code",
   "execution_count": null,
   "id": "dutch-spending",
   "metadata": {},
   "outputs": [],
   "source": [
    "show_doc(convert_to_counts_glycoletter)"
   ]
  },
  {
   "cell_type": "code",
   "execution_count": null,
   "id": "handled-ontario",
   "metadata": {},
   "outputs": [],
   "source": [
    "show_doc(glycoletter_count_matrix)"
   ]
  },
  {
   "cell_type": "code",
   "execution_count": null,
   "id": "coated-designer",
   "metadata": {},
   "outputs": [],
   "source": [
    "show_doc(find_isomorphs)"
   ]
  },
  {
   "cell_type": "code",
   "execution_count": null,
   "id": "liable-arthur",
   "metadata": {},
   "outputs": [],
   "source": [
    "find_isomorphs('Man(a1-3)[Man(a1-6)]Man(b1-4)GlcNAc(b1-4)GlcNAc')"
   ]
  },
  {
   "cell_type": "code",
   "execution_count": null,
   "id": "cloudy-portfolio",
   "metadata": {},
   "outputs": [],
   "source": [
    "show_doc(link_find)"
   ]
  },
  {
   "cell_type": "code",
   "execution_count": null,
   "id": "incredible-region",
   "metadata": {},
   "outputs": [],
   "source": [
    "link_find('Man(a1-3)[Man(a1-6)]Man(b1-4)GlcNAc(b1-4)GlcNAc')"
   ]
  },
  {
   "cell_type": "code",
   "execution_count": null,
   "id": "maritime-public",
   "metadata": {},
   "outputs": [],
   "source": [
    "show_doc(motif_matrix)"
   ]
  },
  {
   "cell_type": "code",
   "execution_count": null,
   "id": "after-individual",
   "metadata": {},
   "outputs": [],
   "source": [
    "glycans = ['Man(a1-3)[Man(a1-6)][Xyl(b1-2)]Man(b1-4)GlcNAc(b1-4)[Fuc(a1-3)]GlcNAc',\n",
    "           'Man(a1-2)Man(a1-2)Man(a1-3)[Man(a1-3)Man(a1-6)]Man(b1-4)GlcNAc(b1-4)GlcNAc',\n",
    "           'GalNAc(a1-4)GlcNAcA(a1-4)[GlcN(b1-7)]Kdo(a2-5)[Kdo(a2-4)]Kdo(a2-6)GlcN4P(b1-6)GlcN4P']\n",
    "label = [1,1,0]\n",
    "test_df = pd.DataFrame({'glycan':glycans, 'eukaryotic':label})\n",
    "print(\"Glyco-Motif Test\")\n",
    "out = motif_matrix(test_df, 'glycan', 'eukaryotic')"
   ]
  },
  {
   "cell_type": "code",
   "execution_count": null,
   "id": "acknowledged-gross",
   "metadata": {},
   "outputs": [],
   "source": [
    "#hide_input\n",
    "HTML(out.style.set_properties(**{'font-size': '11pt', 'font-family': 'Helvetica','border-collapse': 'collapse','border': '1px solid black'}).render())"
   ]
  },
  {
   "cell_type": "code",
   "execution_count": null,
   "id": "herbal-showcase",
   "metadata": {},
   "outputs": [],
   "source": [
    "show_doc(match_composition)"
   ]
  },
  {
   "cell_type": "code",
   "execution_count": null,
   "id": "occupied-identification",
   "metadata": {},
   "outputs": [],
   "source": [
    "match_composition({\"Glc\":1, \"Gal\":1, \"Neu5Ac\":1}, \"Homo_sapiens\", \"Species\", mode = \"exact\")"
   ]
  },
  {
   "cell_type": "code",
   "execution_count": null,
   "id": "alternate-zoning",
   "metadata": {},
   "outputs": [],
   "source": [
    "show_doc(match_composition_relaxed)"
   ]
  },
  {
   "cell_type": "code",
   "execution_count": null,
   "id": "grave-acoustic",
   "metadata": {},
   "outputs": [],
   "source": [
    "match_composition_relaxed({\"Hex\":3, \"HexNAc\":2, \"dHex\":1}, \"Homo_sapiens\", \"Species\")"
   ]
  },
  {
   "cell_type": "code",
   "execution_count": null,
   "id": "criminal-vehicle",
   "metadata": {},
   "outputs": [],
   "source": [
    "show_doc(condense_composition_matching)"
   ]
  },
  {
   "cell_type": "code",
   "execution_count": null,
   "id": "cheap-fifty",
   "metadata": {},
   "outputs": [],
   "source": [
    "match_comp = match_composition_relaxed({'Hex':1, 'HexNAc':1, 'Neu5Ac':1}, 'Homo_sapiens', 'Species', reducing_end = 'GalNAc')\n",
    "print(match_comp)\n",
    "condense_composition_matching(match_comp)"
   ]
  },
  {
   "cell_type": "code",
   "execution_count": null,
   "id": "every-india",
   "metadata": {},
   "outputs": [],
   "source": [
    "show_doc(compositions_to_structures)"
   ]
  },
  {
   "cell_type": "code",
   "execution_count": null,
   "id": "figured-handbook",
   "metadata": {},
   "outputs": [],
   "source": [
    "#hide\n",
    "from nbdev.export import notebook2script; notebook2script()"
   ]
  },
  {
   "cell_type": "code",
   "execution_count": null,
   "id": "cosmetic-vitamin",
   "metadata": {},
   "outputs": [],
   "source": []
  }
 ],
 "metadata": {
  "kernelspec": {
   "display_name": "Python 3",
   "language": "python",
   "name": "python3"
  }
 },
 "nbformat": 4,
 "nbformat_minor": 5
}
