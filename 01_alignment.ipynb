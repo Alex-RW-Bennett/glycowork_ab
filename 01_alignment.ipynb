{
 "cells": [
  {
   "cell_type": "code",
   "execution_count": 1,
   "id": "original-contents",
   "metadata": {},
   "outputs": [],
   "source": [
    "#hide\n",
    "#default_exp alignment\n",
    "from nbdev.showdoc import show_doc\n",
    "from IPython.display import HTML\n",
    "%load_ext autoreload\n",
    "%autoreload 2"
   ]
  },
  {
   "cell_type": "markdown",
   "id": "compound-hamilton",
   "metadata": {},
   "source": [
    "# alignment\n",
    ">aligning glycan sequences based on a substitution matrix"
   ]
  },
  {
   "cell_type": "code",
   "execution_count": 2,
   "id": "domestic-magnet",
   "metadata": {},
   "outputs": [],
   "source": [
    "#export\n",
    "from glycowork.alignment.glysum import *"
   ]
  },
  {
   "cell_type": "markdown",
   "id": "collect-lesbian",
   "metadata": {},
   "source": [
    "`alignment` contains the codebase for aligning glycan sequences based on a substitution matrix, GLYSUM. It currently includes the following modules:\n",
    " - `glysum` which contains the actual alignment functions\n",
    " \n",
    "For future iterations of `glycowork`, we are planning to include additional alignment algorithms, such as described in https://pubmed.ncbi.nlm.nih.gov/15215393/"
   ]
  },
  {
   "cell_type": "markdown",
   "id": "further-blank",
   "metadata": {},
   "source": [
    "# glysum\n",
    ">aligning glycan sequences based on a substitution matrix"
   ]
  },
  {
   "cell_type": "code",
   "execution_count": 3,
   "id": "purple-genealogy",
   "metadata": {},
   "outputs": [
    {
     "data": {
      "text/markdown": [
       "<h4 id=\"pairwiseAlign\" class=\"doc_header\"><code>pairwiseAlign</code><a href=\"https://github.com/BojarLab/glycowork/tree/master/glycowork/alignment/glysum.py#L14\" class=\"source_link\" style=\"float:right\">[source]</a></h4>\n",
       "\n",
       "> <code>pairwiseAlign</code>(**`query`**, **`corpus`**=*`None`*, **`n`**=*`5`*, **`vocab`**=*`None`*, **`submat`**=*`None`*, **`mismatch`**=*`-10`*, **`gap`**=*`-5`*, **`col`**=*`'glycan'`*)\n",
       "\n",
       "aligns glycan sequence from database against rest of the database and returns the best n alignments\n",
       "\n",
       "| Arguments:\n",
       "| :-\n",
       "| query (string): glycan string in IUPAC-condensed notation\n",
       "| corpus (dataframe): database to align query against; default is SugarBase\n",
       "| n (int): how many alignments to show; default shows top 5\n",
       "| vocab (list): list of glycowords used for mapping to tokens\n",
       "| submat (dataframe): GLYSUM substitution matrix\n",
       "| mismatch (int): mismatch penalty; default: -10\n",
       "| gap (int): gap penalty; default: -5\n",
       "| col (string): column name where glycan sequences are; default: glycan\n",
       "\n",
       "| Returns:\n",
       "| :-\n",
       "| The n best alignments of query against corpus in text form with scores etc"
      ],
      "text/plain": [
       "<IPython.core.display.Markdown object>"
      ]
     },
     "metadata": {},
     "output_type": "display_data"
    }
   ],
   "source": [
    "show_doc(pairwiseAlign)"
   ]
  },
  {
   "cell_type": "code",
   "execution_count": 4,
   "id": "preliminary-sense",
   "metadata": {},
   "outputs": [
    {
     "name": "stdout",
     "output_type": "stream",
     "text": [
      "Test Alignment\n",
      "1                                               9\n",
      "Man a1-3 Man a1-4 Glc b1-4 Man a1-5 Kdo\n",
      "Man a1-3 Man a1-4 Glc b1-4 Man a1-5 Kdo\n",
      "Alignment Score: 30\n",
      "Percent Identity: 100.0\n",
      "Percent Coverage: 100.0\n",
      "Sequence Index: Man*a1-3*Man*a1-4*Glc*b1-4*Man*a1-5*Kdo\n",
      "Species: ['Xanthomonas_oryzae']\n",
      "\n",
      "1                           5\n",
      "Man a1-3 Man a1-4 Glc\n",
      "Man a1-3 Man a1-4 Rha\n",
      "Alignment Score: 21\n",
      "Percent Identity: 80.0\n",
      "Percent Coverage: 55.55555555555556\n",
      "Sequence Index: Man*a1-3*Man*a1-4*Rha\n",
      "Species: []\n",
      "\n",
      "1                                               9\n",
      "Man a1-3 Man a1-4 Glc b1-4 Man   a1-5 Kdo\n",
      "Man a1-3 Man a1-4 Glc b1-4 ManOP a1-5 Kdo\n",
      "Alignment Score: 20\n",
      "Percent Identity: 88.88888888888889\n",
      "Percent Coverage: 100.0\n",
      "Sequence Index: Man*a1-3*Man*a1-4*Glc*b1-4*ManOP*a1-5*Kdo*a2-6*GlcOPN*b1-6*GlcN\n",
      "Species: []\n",
      "\n",
      "1                                               9\n",
      "Man a1-3 Man a1-4 Glc b1-4 Man a1-5 Kdo\n",
      "Man a1-3 Man a1-3 Glc b1-6 Man a1-5 Kdo\n",
      "Alignment Score: 20\n",
      "Percent Identity: 77.77777777777779\n",
      "Percent Coverage: 100.0\n",
      "Sequence Index: GalA*a1-4*Man*a1-3*Man*a1-3*Glc*b1-6*Man*a1-5*Kdo\n",
      "Species: []\n",
      "\n",
      "1                                               9\n",
      "Man a1-3 Man a1-4 Glc b1-4 Man   a1-5 Kdo\n",
      "Man a1-3 Man a1-4 Glc b1-4 ManOP a1-5 Kdo\n",
      "Alignment Score: 20\n",
      "Percent Identity: 88.88888888888889\n",
      "Percent Coverage: 100.0\n",
      "Sequence Index: Man*a1-3*Man*a1-4*Glc*b1-4*ManOP*a1-5*Kdo\n",
      "Species: ['Xanthomonas_oryzae']\n",
      "\n"
     ]
    }
   ],
   "source": [
    "print(\"Test Alignment\")\n",
    "pairwiseAlign('Man(a1-3)Man(a1-4)Glc(b1-4)Man(a1-5)Kdo')"
   ]
  },
  {
   "cell_type": "code",
   "execution_count": 5,
   "id": "matched-chicken",
   "metadata": {},
   "outputs": [
    {
     "name": "stdout",
     "output_type": "stream",
     "text": [
      "Converted 00_core.ipynb.\n",
      "Converted 01_alignment.ipynb.\n",
      "Converted 02_glycan_data.ipynb.\n",
      "Converted 03_ml.ipynb.\n",
      "Converted 04_motif.ipynb.\n",
      "Converted 05_examples.ipynb.\n",
      "Converted 06_network.ipynb.\n",
      "Converted index.ipynb.\n"
     ]
    }
   ],
   "source": [
    "#hide\n",
    "from nbdev.export import notebook2script; notebook2script()"
   ]
  }
 ],
 "metadata": {
  "kernelspec": {
   "display_name": "Python 3",
   "language": "python",
   "name": "python3"
  },
  "language_info": {
   "codemirror_mode": {
    "name": "ipython",
    "version": 3
   },
   "file_extension": ".py",
   "mimetype": "text/x-python",
   "name": "python",
   "nbconvert_exporter": "python",
   "pygments_lexer": "ipython3",
   "version": "3.9.1"
  }
 },
 "nbformat": 4,
 "nbformat_minor": 5
}
