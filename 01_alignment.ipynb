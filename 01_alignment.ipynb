{
 "cells": [
  {
   "cell_type": "code",
   "execution_count": null,
   "id": "original-contents",
   "metadata": {},
   "outputs": [],
   "source": [
    "#hide\n",
    "#default_exp alignment\n",
    "from nbdev.showdoc import show_doc\n",
    "from IPython.display import HTML\n",
    "%load_ext autoreload\n",
    "%autoreload 2"
   ]
  },
  {
   "cell_type": "markdown",
   "id": "compound-hamilton",
   "metadata": {},
   "source": [
    "# alignment\n",
    ">aligning glycan sequences based on a substitution matrix"
   ]
  },
  {
   "cell_type": "code",
   "execution_count": null,
   "id": "domestic-magnet",
   "metadata": {},
   "outputs": [],
   "source": [
    "#export\n",
    "from glycowork.alignment.glysum import *"
   ]
  },
  {
   "cell_type": "markdown",
   "id": "collect-lesbian",
   "metadata": {},
   "source": [
    "`alignment` contains the codebase for aligning glycan sequences based on a substitution matrix, GLYSUM. It currently includes the following modules:\n",
    " - `glysum` which contains the actual alignment functions\n",
    " \n",
    "For future iterations of `glycowork`, we are planning to include additional alignment algorithms, such as described in https://pubmed.ncbi.nlm.nih.gov/15215393/"
   ]
  },
  {
   "cell_type": "markdown",
   "id": "further-blank",
   "metadata": {},
   "source": [
    "# glysum\n",
    ">aligning glycan sequences based on a substitution matrix"
   ]
  },
  {
   "cell_type": "code",
   "execution_count": null,
   "id": "purple-genealogy",
   "metadata": {},
   "outputs": [],
   "source": [
    "show_doc(pairwiseAlign)"
   ]
  },
  {
   "cell_type": "code",
   "execution_count": null,
   "id": "preliminary-sense",
   "metadata": {},
   "outputs": [],
   "source": [
    "print(\"Test Alignment\")\n",
    "pairwiseAlign('Man(a1-3)Man(a1-4)Glc(b1-4)Man(a1-5)Kdo')\n",
    "#pairwiseAlign('Man(a1-3)[Man(a1-6)]Man(b1-4)GlcNAc(b1-4)GlcNAc')"
   ]
  },
  {
   "cell_type": "code",
   "execution_count": null,
   "id": "matched-chicken",
   "metadata": {},
   "outputs": [],
   "source": [
    "#hide\n",
    "from nbdev.export import notebook2script; notebook2script()"
   ]
  }
 ],
 "metadata": {
  "kernelspec": {
   "display_name": "Python 3",
   "language": "python",
   "name": "python3"
  }
 },
 "nbformat": 4,
 "nbformat_minor": 5
}
