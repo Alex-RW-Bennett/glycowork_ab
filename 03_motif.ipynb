{
 "cells": [
  {
   "cell_type": "code",
   "execution_count": null,
   "id": "enormous-robinson",
   "metadata": {},
   "outputs": [],
   "source": [
    "#hide\n",
    "#all_slow"
   ]
  },
  {
   "cell_type": "code",
   "execution_count": null,
   "id": "respective-tactics",
   "metadata": {},
   "outputs": [],
   "source": [
    "#hide\n",
    "#default_exp motif\n",
    "import warnings\n",
    "warnings.filterwarnings(\"ignore\")\n",
    "from nbdev.showdoc import show_doc\n",
    "from IPython.display import HTML\n",
    "%load_ext autoreload\n",
    "%autoreload 2"
   ]
  },
  {
   "cell_type": "markdown",
   "id": "composite-basin",
   "metadata": {},
   "source": [
    "# motif\n",
    "\n",
    ">Processing and analyzing glycan sequences on a motif-basis"
   ]
  },
  {
   "cell_type": "code",
   "execution_count": null,
   "id": "recovered-cattle",
   "metadata": {},
   "outputs": [],
   "source": [
    "#export\n",
    "from glycowork.motif.analysis import *\n",
    "from glycowork.motif.annotate import *\n",
    "from glycowork.motif.graph import *\n",
    "from glycowork.motif.processing import *\n",
    "from glycowork.motif.query import *\n",
    "from glycowork.motif.tokenization import *\n",
    "from glycowork.glycan_data.loader import df_species"
   ]
  },
  {
   "cell_type": "markdown",
   "id": "seasonal-matter",
   "metadata": {},
   "source": [
    "`motif` contains many functions to process glycans in various ways and use this processing to analyze glycans via curated motifs, graph features, and sequence features. It contains the following modules:\n",
    "\n",
    "- `analysis` contains functions for downstream analyses of important glycan motifs etc.\n",
    "- `annotate` contains functions to extract curated motifs, graph features, and sequence features from glycan sequences\n",
    "- `graph` is used to convert glycan sequences to graphs and contains helper functions to search for motifs / check whether two sequences describe the same sequence, etc.\n",
    "- `processing` contains all the basic functions to process IUPACcondensed glycan sequences into glycoletters etc. Also contains `get_lib` to construct the glycoletter library\n",
    "- `query` is used to interact with the databases contained in glycowork, delivering insights for sequences of interest\n",
    "- `tokenization` has helper functions to map m/z-->composition, composition-->structure, structure-->motif, and more"
   ]
  },
  {
   "cell_type": "markdown",
   "id": "asian-colombia",
   "metadata": {},
   "source": [
    "## analysis\n",
    " >downstream analyses of important glycan motifs"
   ]
  },
  {
   "cell_type": "code",
   "execution_count": null,
   "id": "straight-tackle",
   "metadata": {},
   "outputs": [
    {
     "data": {
      "text/markdown": [
       "<h4 id=\"get_pvals_motifs\" class=\"doc_header\"><code>get_pvals_motifs</code><a href=\"https://github.com/BojarLab/glycowork/tree/master/glycowork/motif/analysis.py#L32\" class=\"source_link\" style=\"float:right\">[source]</a></h4>\n",
       "\n",
       "> <code>get_pvals_motifs</code>(**`df`**, **`glycan_col_name`**=*`'glycan'`*, **`label_col_name`**=*`'target'`*, **`libr`**=*`None`*, **`thresh`**=*`1.645`*, **`sorting`**=*`True`*, **`feature_set`**=*`['exhaustive']`*, **`extra`**=*`'termini'`*, **`wildcard_list`**=*`[]`*, **`multiple_samples`**=*`False`*, **`motifs`**=*`None`*, **`estimate_speedup`**=*`False`*)\n",
       "\n",
       "returns enriched motifs based on label data or predicted data\n",
       "\n",
       "| Arguments:\n",
       "| :-\n",
       "| df (dataframe): dataframe containing glycan sequences and labels\n",
       "| glycan_col_name (string): column name for glycan sequences; arbitrary if multiple_samples = True; default:'glycan'\n",
       "| label_col_name (string): column name for labels; arbitrary if multiple_samples = True; default:'target'\n",
       "| libr (list): sorted list of unique glycoletters observed in the glycans of our dataset\n",
       "| thresh (float): threshold value to separate positive/negative; default is 1.645 for Z-scores\n",
       "| sorting (bool): whether p-value dataframe should be sorted ascendingly; default: True\n",
       "| feature_set (list): which feature set to use for annotations, add more to list to expand; default is 'exhaustive'; options are: 'known' (hand-crafted glycan features), 'graph' (structural graph features of glycans) and 'exhaustive' (all mono- and disaccharide features)\n",
       "| extra (string): 'ignore' skips this, 'wildcards' allows for wildcard matching', and 'termini' allows for positional matching; default:'termini'\n",
       "| wildcard_list (list): list of wildcard names (such as '?1-?', 'Hex', 'HexNAc', 'Sia')\n",
       "| multiple_samples (bool): set to True if you have multiple samples (rows) with glycan information (columns); default:False\n",
       "| motifs (dataframe): can be used to pass a modified motif_list to the function; default:None\n",
       "| estimate_speedup (bool): if True, pre-selects motifs for those which are present in glycans, not 100% exact; default:False\n",
       "\n",
       "| Returns:\n",
       "| :-\n",
       "| Returns dataframe with p-values and corrected p-values for every glycan motif"
      ],
      "text/plain": [
       "<IPython.core.display.Markdown object>"
      ]
     },
     "metadata": {},
     "output_type": "display_data"
    }
   ],
   "source": [
    "show_doc(get_pvals_motifs)"
   ]
  },
  {
   "cell_type": "code",
   "execution_count": null,
   "id": "close-director",
   "metadata": {},
   "outputs": [
    {
     "name": "stdout",
     "output_type": "stream",
     "text": [
      "Glyco-Motif enrichment p-value test\n"
     ]
    }
   ],
   "source": [
    "glycans = ['Man(a1-3)[Man(a1-6)][Xyl(b1-2)]Man(b1-4)GlcNAc(b1-4)[Fuc(a1-3)]GlcNAc',\n",
    "           'Man(a1-2)Man(a1-2)Man(a1-3)[Man(a1-3)Man(a1-6)]Man(b1-4)GlcNAc(b1-4)GlcNAc',\n",
    "           'GalNAc(a1-4)GlcNAcA(a1-4)[GlcN(b1-7)]Kdo(a2-5)[Kdo(a2-4)]Kdo(a2-6)GlcOPN(b1-6)GlcOPN',\n",
    "          'Man(a1-2)Man(a1-3)[Man(a1-6)]Man(b1-4)GlcNAc(b1-4)GlcNAc',\n",
    "           'Glc(b1-3)Glc(b1-3)Glc']\n",
    "label = [3.234, 2.423, 0.733, 3.102, 0.108]\n",
    "test_df = pd.DataFrame({'glycan':glycans, 'binding':label})\n",
    "\n",
    "print(\"Glyco-Motif enrichment p-value test\")\n",
    "out = get_pvals_motifs(test_df, 'glycan', 'binding').iloc[:10,:]"
   ]
  },
  {
   "cell_type": "code",
   "execution_count": null,
   "id": "reported-traveler",
   "metadata": {},
   "outputs": [
    {
     "data": {
      "text/html": [
       "<style type=\"text/css\">\n",
       "#T_1a94b_row0_col0, #T_1a94b_row0_col1, #T_1a94b_row0_col2, #T_1a94b_row1_col0, #T_1a94b_row1_col1, #T_1a94b_row1_col2, #T_1a94b_row2_col0, #T_1a94b_row2_col1, #T_1a94b_row2_col2, #T_1a94b_row3_col0, #T_1a94b_row3_col1, #T_1a94b_row3_col2, #T_1a94b_row4_col0, #T_1a94b_row4_col1, #T_1a94b_row4_col2, #T_1a94b_row5_col0, #T_1a94b_row5_col1, #T_1a94b_row5_col2, #T_1a94b_row6_col0, #T_1a94b_row6_col1, #T_1a94b_row6_col2, #T_1a94b_row7_col0, #T_1a94b_row7_col1, #T_1a94b_row7_col2, #T_1a94b_row8_col0, #T_1a94b_row8_col1, #T_1a94b_row8_col2, #T_1a94b_row9_col0, #T_1a94b_row9_col1, #T_1a94b_row9_col2 {\n",
       "  font-size: 11pt;\n",
       "  font-family: Helvetica;\n",
       "  border-collapse: collapse;\n",
       "  border: 1px solid black;\n",
       "}\n",
       "</style>\n",
       "<table id=\"T_1a94b\">\n",
       "  <thead>\n",
       "    <tr>\n",
       "      <th class=\"blank level0\" >&nbsp;</th>\n",
       "      <th id=\"T_1a94b_level0_col0\" class=\"col_heading level0 col0\" >motif</th>\n",
       "      <th id=\"T_1a94b_level0_col1\" class=\"col_heading level0 col1\" >pval</th>\n",
       "      <th id=\"T_1a94b_level0_col2\" class=\"col_heading level0 col2\" >corr_pval</th>\n",
       "    </tr>\n",
       "  </thead>\n",
       "  <tbody>\n",
       "    <tr>\n",
       "      <th id=\"T_1a94b_level0_row0\" class=\"row_heading level0 row0\" >4</th>\n",
       "      <td id=\"T_1a94b_row0_col0\" class=\"data row0 col0\" >GlcNAc</td>\n",
       "      <td id=\"T_1a94b_row0_col1\" class=\"data row0 col1\" >0.013469</td>\n",
       "      <td id=\"T_1a94b_row0_col2\" class=\"data row0 col2\" >0.394527</td>\n",
       "    </tr>\n",
       "    <tr>\n",
       "      <th id=\"T_1a94b_level0_row1\" class=\"row_heading level0 row1\" >19</th>\n",
       "      <td id=\"T_1a94b_row1_col0\" class=\"data row1 col0\" >b1-4</td>\n",
       "      <td id=\"T_1a94b_row1_col1\" class=\"data row1 col1\" >0.013469</td>\n",
       "      <td id=\"T_1a94b_row1_col2\" class=\"data row1 col2\" >0.394527</td>\n",
       "    </tr>\n",
       "    <tr>\n",
       "      <th id=\"T_1a94b_level0_row2\" class=\"row_heading level0 row2\" >8</th>\n",
       "      <td id=\"T_1a94b_row2_col0\" class=\"data row2 col0\" >Man</td>\n",
       "      <td id=\"T_1a94b_row2_col1\" class=\"data row2 col1\" >0.025198</td>\n",
       "      <td id=\"T_1a94b_row2_col2\" class=\"data row2 col2\" >0.590671</td>\n",
       "    </tr>\n",
       "    <tr>\n",
       "      <th id=\"T_1a94b_level0_row3\" class=\"row_heading level0 row3\" >11</th>\n",
       "      <td id=\"T_1a94b_row3_col0\" class=\"data row3 col0\" >a1-3</td>\n",
       "      <td id=\"T_1a94b_row3_col1\" class=\"data row3 col1\" >0.025636</td>\n",
       "      <td id=\"T_1a94b_row3_col2\" class=\"data row3 col2\" >0.590671</td>\n",
       "    </tr>\n",
       "    <tr>\n",
       "      <th id=\"T_1a94b_level0_row4\" class=\"row_heading level0 row4\" >13</th>\n",
       "      <td id=\"T_1a94b_row4_col0\" class=\"data row4 col0\" >a1-6</td>\n",
       "      <td id=\"T_1a94b_row4_col1\" class=\"data row4 col1\" >0.091752</td>\n",
       "      <td id=\"T_1a94b_row4_col2\" class=\"data row4 col2\" >0.958241</td>\n",
       "    </tr>\n",
       "    <tr>\n",
       "      <th id=\"T_1a94b_level0_row5\" class=\"row_heading level0 row5\" >26</th>\n",
       "      <td id=\"T_1a94b_row5_col0\" class=\"data row5 col0\" >GlcNAc(b1-4)GlcNAc</td>\n",
       "      <td id=\"T_1a94b_row5_col1\" class=\"data row5 col1\" >0.091752</td>\n",
       "      <td id=\"T_1a94b_row5_col2\" class=\"data row5 col2\" >0.958241</td>\n",
       "    </tr>\n",
       "    <tr>\n",
       "      <th id=\"T_1a94b_level0_row6\" class=\"row_heading level0 row6\" >33</th>\n",
       "      <td id=\"T_1a94b_row6_col0\" class=\"data row6 col0\" >Man(a1-3)Man</td>\n",
       "      <td id=\"T_1a94b_row6_col1\" class=\"data row6 col1\" >0.091752</td>\n",
       "      <td id=\"T_1a94b_row6_col2\" class=\"data row6 col2\" >0.958241</td>\n",
       "    </tr>\n",
       "    <tr>\n",
       "      <th id=\"T_1a94b_level0_row7\" class=\"row_heading level0 row7\" >34</th>\n",
       "      <td id=\"T_1a94b_row7_col0\" class=\"data row7 col0\" >Man(a1-6)Man</td>\n",
       "      <td id=\"T_1a94b_row7_col1\" class=\"data row7 col1\" >0.091752</td>\n",
       "      <td id=\"T_1a94b_row7_col2\" class=\"data row7 col2\" >0.958241</td>\n",
       "    </tr>\n",
       "    <tr>\n",
       "      <th id=\"T_1a94b_level0_row8\" class=\"row_heading level0 row8\" >35</th>\n",
       "      <td id=\"T_1a94b_row8_col0\" class=\"data row8 col0\" >Man(b1-4)GlcNAc</td>\n",
       "      <td id=\"T_1a94b_row8_col1\" class=\"data row8 col1\" >0.091752</td>\n",
       "      <td id=\"T_1a94b_row8_col2\" class=\"data row8 col2\" >0.958241</td>\n",
       "    </tr>\n",
       "    <tr>\n",
       "      <th id=\"T_1a94b_level0_row9\" class=\"row_heading level0 row9\" >10</th>\n",
       "      <td id=\"T_1a94b_row9_col0\" class=\"data row9 col0\" >a1-2</td>\n",
       "      <td id=\"T_1a94b_row9_col1\" class=\"data row9 col1\" >0.130826</td>\n",
       "      <td id=\"T_1a94b_row9_col2\" class=\"data row9 col2\" >0.980276</td>\n",
       "    </tr>\n",
       "  </tbody>\n",
       "</table>\n"
      ],
      "text/plain": [
       "<IPython.core.display.HTML object>"
      ]
     },
     "execution_count": null,
     "metadata": {},
     "output_type": "execute_result"
    }
   ],
   "source": [
    "#hide_input\n",
    "HTML(out.style.set_properties(**{'font-size': '11pt', 'font-family': 'Helvetica','border-collapse': 'collapse','border': '1px solid black'}).render())"
   ]
  },
  {
   "cell_type": "code",
   "execution_count": null,
   "id": "august-conversion",
   "metadata": {},
   "outputs": [
    {
     "data": {
      "text/markdown": [
       "<h4 id=\"get_representative_substructures\" class=\"doc_header\"><code>get_representative_substructures</code><a href=\"https://github.com/BojarLab/glycowork/tree/master/glycowork/motif/analysis.py#L101\" class=\"source_link\" style=\"float:right\">[source]</a></h4>\n",
       "\n",
       "> <code>get_representative_substructures</code>(**`enrichment_df`**, **`libr`**=*`None`*)\n",
       "\n",
       "builds minimal glycans that contain enriched motifs from get_pvals_motifs\n",
       "\n",
       "| Arguments:\n",
       "| :-\n",
       "| enrichment_df (dataframe): output from get_pvals_motifs\n",
       "| libr (list): sorted list of unique glycoletters observed in the glycans of our dataset\n",
       "\n",
       "| Returns:\n",
       "| :-\n",
       "| Returns up to 10 minimal glycans in a list"
      ],
      "text/plain": [
       "<IPython.core.display.Markdown object>"
      ]
     },
     "metadata": {},
     "output_type": "display_data"
    }
   ],
   "source": [
    "show_doc(get_representative_substructures)"
   ]
  },
  {
   "cell_type": "code",
   "execution_count": null,
   "id": "sensitive-builder",
   "metadata": {},
   "outputs": [
    {
     "data": {
      "text/markdown": [
       "<h4 id=\"make_heatmap\" class=\"doc_header\"><code>make_heatmap</code><a href=\"https://github.com/BojarLab/glycowork/tree/master/glycowork/motif/analysis.py#L148\" class=\"source_link\" style=\"float:right\">[source]</a></h4>\n",
       "\n",
       "> <code>make_heatmap</code>(**`df`**, **`mode`**=*`'sequence'`*, **`libr`**=*`None`*, **`feature_set`**=*`['known']`*, **`extra`**=*`'termini'`*, **`wildcard_list`**=*`[]`*, **`datatype`**=*`'response'`*, **`rarity_filter`**=*`0.05`*, **`filepath`**=*`''`*, **`index_col`**=*`'target'`*, **`estimate_speedup`**=*`False`*, **\\*\\*`kwargs`**)\n",
       "\n",
       "clusters samples based on glycan data (for instance glycan binding etc.)\n",
       "\n",
       "| Arguments:\n",
       "| :-\n",
       "| df (dataframe): dataframe with glycan data, rows are samples and columns are glycans\n",
       "| mode (string): whether glycan 'sequence' or 'motif' should be used for clustering; default:sequence\n",
       "| libr (list): sorted list of unique glycoletters observed in the glycans of our dataset\n",
       "| feature_set (list): which feature set to use for annotations, add more to list to expand; default is 'exhaustive'; options are: 'known' (hand-crafted glycan features), 'graph' (structural graph features of glycans) and 'exhaustive' (all mono- and disaccharide features)\n",
       "| extra (string): 'ignore' skips this, 'wildcards' allows for wildcard matching', and 'termini' allows for positional matching; default:'termini'\n",
       "| wildcard_list (list): list of wildcard names (such as 'bond', 'Hex', 'HexNAc', 'Sia')\n",
       "| datatype (string): whether df comes from a dataset with quantitative variable ('response') or from presence_to_matrix ('presence')\n",
       "| rarity_filter (float): proportion of samples that need to have a non-zero value for a variable to be included; default:0.05\n",
       "| filepath (string): absolute path including full filename allows for saving the plot\n",
       "| index_col (string): default column to convert to dataframe index; default:'target'\n",
       "| estimate_speedup (bool): if True, pre-selects motifs for those which are present in glycans, not 100% exact; default:False\n",
       "| **kwargs: keyword arguments that are directly passed on to seaborn clustermap\n",
       "                      \n",
       "| Returns:\n",
       "| :-\n",
       "| Prints clustermap                         "
      ],
      "text/plain": [
       "<IPython.core.display.Markdown object>"
      ]
     },
     "metadata": {},
     "output_type": "display_data"
    }
   ],
   "source": [
    "show_doc(make_heatmap)"
   ]
  },
  {
   "cell_type": "code",
   "execution_count": null,
   "id": "seasonal-termination",
   "metadata": {},
   "outputs": [
    {
     "data": {
      "image/png": "[encoded data removed]",
      "text/plain": [
       "<Figure size 1000x1000 with 4 Axes>"
      ]
     },
     "metadata": {},
     "output_type": "display_data"
    }
   ],
   "source": [
    "glycans = ['Man(a1-3)[Man(a1-6)][Xyl(b1-2)]Man(b1-4)GlcNAc(b1-4)[Fuc(a1-3)]GlcNAc',\n",
    "           'Man(a1-2)Man(a1-2)Man(a1-3)[Man(a1-3)Man(a1-6)]Man(b1-4)GlcNAc(b1-4)GlcNAc',\n",
    "           'GalNAc(a1-4)GlcNAcA(a1-4)[GlcN(b1-7)]Kdo(a2-5)[Kdo(a2-4)]Kdo(a2-6)GlcN4P(b1-6)GlcN4P',\n",
    "           'Man(a1-2)Man(a1-3)[Man(a1-6)]Man(b1-4)GlcNAc(b1-4)GlcNAc',\n",
    "           'Glc(b1-3)Glc(b1-3)Glc']\n",
    "label = [3.234, 2.423, 0.733, 3.102, 0.108]\n",
    "label2 = [0.134, 0.345, 1.15, 0.233, 2.981]\n",
    "label3 = [0.334, 0.245, 1.55, 0.133, 2.581]\n",
    "test_df = pd.DataFrame([label, label2, label3], columns = glycans)\n",
    "\n",
    "make_heatmap(test_df, mode = 'motif', feature_set = ['known', 'exhaustive'])"
   ]
  },
  {
   "cell_type": "code",
   "execution_count": null,
   "id": "senior-brown",
   "metadata": {},
   "outputs": [
    {
     "data": {
      "text/markdown": [
       "<h4 id=\"plot_embeddings\" class=\"doc_header\"><code>plot_embeddings</code><a href=\"https://github.com/BojarLab/glycowork/tree/master/glycowork/motif/analysis.py#L213\" class=\"source_link\" style=\"float:right\">[source]</a></h4>\n",
       "\n",
       "> <code>plot_embeddings</code>(**`glycans`**, **`emb`**=*`None`*, **`label_list`**=*`None`*, **`shape_feature`**=*`None`*, **`filepath`**=*`''`*, **`alpha`**=*`0.8`*, **`palette`**=*`'colorblind'`*, **\\*\\*`kwargs`**)\n",
       "\n",
       "plots glycan representations for a list of glycans\n",
       "\n",
       "| Arguments:\n",
       "| :-\n",
       "| glycans (list): list of IUPAC-condensed glycan sequences as strings\n",
       "| emb (dictionary): stored glycan representations; default takes them from trained species-level SweetNet model\n",
       "| label_list (list): list of same length as glycans if coloring of the plot is desired\n",
       "| shape_feature (string): monosaccharide/bond used to display alternative shapes for dots on the plot\n",
       "| filepath (string): absolute path including full filename allows for saving the plot\n",
       "| alpha (float): transparency of points in plot; default:0.8\n",
       "| palette (string): color palette to color different classes; default:'colorblind'\n",
       "| **kwargs: keyword arguments that are directly passed on to matplotlib"
      ],
      "text/plain": [
       "<IPython.core.display.Markdown object>"
      ]
     },
     "metadata": {},
     "output_type": "display_data"
    }
   ],
   "source": [
    "show_doc(plot_embeddings)"
   ]
  },
  {
   "cell_type": "code",
   "execution_count": null,
   "id": "australian-venue",
   "metadata": {},
   "outputs": [
    {
     "ename": "KeyError",
     "evalue": "'Gal(?1-?)Gal(b1-4)[Fuc(a1-3)]GlcNAc(b1-2)Man(a1-3)[Man(a1-2)Man(a1-6)][Xyl(b1-2)]Man(b1-4)GlcNAc(b1-4)[Fuc(a1-3)]GlcNAc'",
     "output_type": "error",
     "traceback": [
      "\u001b[1;31m---------------------------------------------------------------------------\u001b[0m",
      "\u001b[1;31mKeyError\u001b[0m                                  Traceback (most recent call last)",
      "\u001b[1;32m<ipython-input-11-4564563a757b>\u001b[0m in \u001b[0;36m<module>\u001b[1;34m\u001b[0m\n\u001b[0;32m      1\u001b[0m \u001b[0mdf_fabales\u001b[0m \u001b[1;33m=\u001b[0m \u001b[0mdf_species\u001b[0m\u001b[1;33m[\u001b[0m\u001b[0mdf_species\u001b[0m\u001b[1;33m.\u001b[0m\u001b[0mOrder\u001b[0m \u001b[1;33m==\u001b[0m \u001b[1;34m'Fabales'\u001b[0m\u001b[1;33m]\u001b[0m\u001b[1;33m.\u001b[0m\u001b[0mreset_index\u001b[0m\u001b[1;33m(\u001b[0m\u001b[0mdrop\u001b[0m \u001b[1;33m=\u001b[0m \u001b[1;32mTrue\u001b[0m\u001b[1;33m)\u001b[0m\u001b[1;33m\u001b[0m\u001b[1;33m\u001b[0m\u001b[0m\n\u001b[1;32m----> 2\u001b[1;33m \u001b[0mplot_embeddings\u001b[0m\u001b[1;33m(\u001b[0m\u001b[0mdf_fabales\u001b[0m\u001b[1;33m.\u001b[0m\u001b[0mtarget\u001b[0m\u001b[1;33m.\u001b[0m\u001b[0mvalues\u001b[0m\u001b[1;33m.\u001b[0m\u001b[0mtolist\u001b[0m\u001b[1;33m(\u001b[0m\u001b[1;33m)\u001b[0m\u001b[1;33m,\u001b[0m \u001b[0mlabel_list\u001b[0m \u001b[1;33m=\u001b[0m \u001b[0mdf_fabales\u001b[0m\u001b[1;33m.\u001b[0m\u001b[0mFamily\u001b[0m\u001b[1;33m.\u001b[0m\u001b[0mvalues\u001b[0m\u001b[1;33m.\u001b[0m\u001b[0mtolist\u001b[0m\u001b[1;33m(\u001b[0m\u001b[1;33m)\u001b[0m\u001b[1;33m)\u001b[0m\u001b[1;33m\u001b[0m\u001b[1;33m\u001b[0m\u001b[0m\n\u001b[0m",
      "\u001b[1;32m~\\OneDrive\\Documents\\glycowork\\glycowork\\motif\\analysis.py\u001b[0m in \u001b[0;36mplot_embeddings\u001b[1;34m(glycans, emb, label_list, shape_feature, filepath, alpha, palette, **kwargs)\u001b[0m\n\u001b[0;32m    235\u001b[0m     \u001b[1;32mif\u001b[0m \u001b[0misinstance\u001b[0m\u001b[1;33m(\u001b[0m\u001b[0memb\u001b[0m\u001b[1;33m,\u001b[0m \u001b[0mpd\u001b[0m\u001b[1;33m.\u001b[0m\u001b[0mDataFrame\u001b[0m\u001b[1;33m)\u001b[0m\u001b[1;33m:\u001b[0m\u001b[1;33m\u001b[0m\u001b[1;33m\u001b[0m\u001b[0m\n\u001b[0;32m    236\u001b[0m         \u001b[0memb\u001b[0m \u001b[1;33m=\u001b[0m \u001b[1;33m{\u001b[0m\u001b[0mglycan\u001b[0m\u001b[1;33m[\u001b[0m\u001b[0mk\u001b[0m\u001b[1;33m]\u001b[0m\u001b[1;33m:\u001b[0m\u001b[0memb\u001b[0m\u001b[1;33m.\u001b[0m\u001b[0miloc\u001b[0m\u001b[1;33m[\u001b[0m\u001b[0mk\u001b[0m\u001b[1;33m,\u001b[0m\u001b[1;33m:\u001b[0m\u001b[1;33m]\u001b[0m \u001b[1;32mfor\u001b[0m \u001b[0mk\u001b[0m \u001b[1;32min\u001b[0m \u001b[0mrange\u001b[0m\u001b[1;33m(\u001b[0m\u001b[0mlen\u001b[0m\u001b[1;33m(\u001b[0m\u001b[0mglycans\u001b[0m\u001b[1;33m)\u001b[0m\u001b[1;33m)\u001b[0m\u001b[1;33m}\u001b[0m\u001b[1;33m\u001b[0m\u001b[1;33m\u001b[0m\u001b[0m\n\u001b[1;32m--> 237\u001b[1;33m     \u001b[0membs\u001b[0m \u001b[1;33m=\u001b[0m \u001b[0mnp\u001b[0m\u001b[1;33m.\u001b[0m\u001b[0marray\u001b[0m\u001b[1;33m(\u001b[0m\u001b[1;33m[\u001b[0m\u001b[0memb\u001b[0m\u001b[1;33m[\u001b[0m\u001b[0mk\u001b[0m\u001b[1;33m]\u001b[0m \u001b[1;32mfor\u001b[0m \u001b[0mk\u001b[0m \u001b[1;32min\u001b[0m \u001b[0mglycans\u001b[0m\u001b[1;33m]\u001b[0m\u001b[1;33m)\u001b[0m\u001b[1;33m\u001b[0m\u001b[1;33m\u001b[0m\u001b[0m\n\u001b[0m\u001b[0;32m    238\u001b[0m     \u001b[1;31m#calculate t-SNE of embeddings\u001b[0m\u001b[1;33m\u001b[0m\u001b[1;33m\u001b[0m\u001b[1;33m\u001b[0m\u001b[0m\n\u001b[0;32m    239\u001b[0m     embs = TSNE(random_state = 42,\n",
      "\u001b[1;32m~\\OneDrive\\Documents\\glycowork\\glycowork\\motif\\analysis.py\u001b[0m in \u001b[0;36m<listcomp>\u001b[1;34m(.0)\u001b[0m\n\u001b[0;32m    235\u001b[0m     \u001b[1;32mif\u001b[0m \u001b[0misinstance\u001b[0m\u001b[1;33m(\u001b[0m\u001b[0memb\u001b[0m\u001b[1;33m,\u001b[0m \u001b[0mpd\u001b[0m\u001b[1;33m.\u001b[0m\u001b[0mDataFrame\u001b[0m\u001b[1;33m)\u001b[0m\u001b[1;33m:\u001b[0m\u001b[1;33m\u001b[0m\u001b[1;33m\u001b[0m\u001b[0m\n\u001b[0;32m    236\u001b[0m         \u001b[0memb\u001b[0m \u001b[1;33m=\u001b[0m \u001b[1;33m{\u001b[0m\u001b[0mglycan\u001b[0m\u001b[1;33m[\u001b[0m\u001b[0mk\u001b[0m\u001b[1;33m]\u001b[0m\u001b[1;33m:\u001b[0m\u001b[0memb\u001b[0m\u001b[1;33m.\u001b[0m\u001b[0miloc\u001b[0m\u001b[1;33m[\u001b[0m\u001b[0mk\u001b[0m\u001b[1;33m,\u001b[0m\u001b[1;33m:\u001b[0m\u001b[1;33m]\u001b[0m \u001b[1;32mfor\u001b[0m \u001b[0mk\u001b[0m \u001b[1;32min\u001b[0m \u001b[0mrange\u001b[0m\u001b[1;33m(\u001b[0m\u001b[0mlen\u001b[0m\u001b[1;33m(\u001b[0m\u001b[0mglycans\u001b[0m\u001b[1;33m)\u001b[0m\u001b[1;33m)\u001b[0m\u001b[1;33m}\u001b[0m\u001b[1;33m\u001b[0m\u001b[1;33m\u001b[0m\u001b[0m\n\u001b[1;32m--> 237\u001b[1;33m     \u001b[0membs\u001b[0m \u001b[1;33m=\u001b[0m \u001b[0mnp\u001b[0m\u001b[1;33m.\u001b[0m\u001b[0marray\u001b[0m\u001b[1;33m(\u001b[0m\u001b[1;33m[\u001b[0m\u001b[0memb\u001b[0m\u001b[1;33m[\u001b[0m\u001b[0mk\u001b[0m\u001b[1;33m]\u001b[0m \u001b[1;32mfor\u001b[0m \u001b[0mk\u001b[0m \u001b[1;32min\u001b[0m \u001b[0mglycans\u001b[0m\u001b[1;33m]\u001b[0m\u001b[1;33m)\u001b[0m\u001b[1;33m\u001b[0m\u001b[1;33m\u001b[0m\u001b[0m\n\u001b[0m\u001b[0;32m    238\u001b[0m     \u001b[1;31m#calculate t-SNE of embeddings\u001b[0m\u001b[1;33m\u001b[0m\u001b[1;33m\u001b[0m\u001b[1;33m\u001b[0m\u001b[0m\n\u001b[0;32m    239\u001b[0m     embs = TSNE(random_state = 42,\n",
      "\u001b[1;31mKeyError\u001b[0m: 'Gal(?1-?)Gal(b1-4)[Fuc(a1-3)]GlcNAc(b1-2)Man(a1-3)[Man(a1-2)Man(a1-6)][Xyl(b1-2)]Man(b1-4)GlcNAc(b1-4)[Fuc(a1-3)]GlcNAc'"
     ]
    }
   ],
   "source": [
    "df_fabales = df_species[df_species.Order == 'Fabales'].reset_index(drop = True)\n",
    "plot_embeddings(df_fabales.target.values.tolist(), label_list = df_fabales.Family.values.tolist())"
   ]
  },
  {
   "cell_type": "code",
   "execution_count": null,
   "id": "processed-approval",
   "metadata": {},
   "outputs": [],
   "source": [
    "show_doc(characterize_monosaccharide)"
   ]
  },
  {
   "cell_type": "code",
   "execution_count": null,
   "id": "mature-civilian",
   "metadata": {},
   "outputs": [],
   "source": [
    "characterize_monosaccharide('D-Rha', rank = 'Kingdom', focus = 'Bacteria', modifications = True)"
   ]
  },
  {
   "cell_type": "markdown",
   "id": "blond-drove",
   "metadata": {},
   "source": [
    "## annotate\n",
    ">extract curated motifs, graph features, and sequence features from glycan sequences"
   ]
  },
  {
   "cell_type": "code",
   "execution_count": null,
   "id": "sapphire-image",
   "metadata": {},
   "outputs": [],
   "source": [
    "show_doc(motif_matrix)"
   ]
  },
  {
   "cell_type": "code",
   "execution_count": null,
   "id": "organic-singing",
   "metadata": {},
   "outputs": [],
   "source": [
    "glycans = ['Man(a1-3)[Man(a1-6)][Xyl(b1-2)]Man(b1-4)GlcNAc(b1-4)[Fuc(a1-3)]GlcNAc',\n",
    "           'Man(a1-2)Man(a1-2)Man(a1-3)[Man(a1-3)Man(a1-6)]Man(b1-4)GlcNAc(b1-4)GlcNAc',\n",
    "           'GalNAc(a1-4)GlcNAcA(a1-4)[GlcN(b1-7)]Kdo(a2-5)[Kdo(a2-4)]Kdo(a2-6)GlcN4P(b1-6)GlcN4P']\n",
    "label = [1,1,0]\n",
    "test_df = pd.DataFrame({'glycan':glycans, 'eukaryotic':label})\n",
    "print(\"Glyco-Motif Test\")\n",
    "out = motif_matrix(test_df, 'glycan', 'eukaryotic')"
   ]
  },
  {
   "cell_type": "code",
   "execution_count": null,
   "id": "isolated-jimmy",
   "metadata": {},
   "outputs": [],
   "source": [
    "#hide_input\n",
    "HTML(out.style.set_properties(**{'font-size': '11pt', 'font-family': 'Helvetica','border-collapse': 'collapse','border': '1px solid black'}).render())"
   ]
  },
  {
   "cell_type": "code",
   "execution_count": null,
   "id": "offshore-aging",
   "metadata": {},
   "outputs": [],
   "source": [
    "show_doc(annotate_glycan)"
   ]
  },
  {
   "cell_type": "code",
   "execution_count": null,
   "id": "intellectual-habitat",
   "metadata": {},
   "outputs": [],
   "source": [
    "show_doc(annotate_dataset)"
   ]
  },
  {
   "cell_type": "code",
   "execution_count": null,
   "id": "worthy-holly",
   "metadata": {},
   "outputs": [],
   "source": [
    "glycans = ['Man(a1-3)[Man(a1-6)][Xyl(b1-2)]Man(b1-4)GlcNAc(b1-4)[Fuc(a1-3)]GlcNAc',\n",
    "           'Man(a1-2)Man(a1-2)Man(a1-3)[Man(a1-3)Man(a1-6)]Man(b1-4)GlcNAc(b1-4)GlcNAc',\n",
    "           'GalNAc(a1-4)GlcNAcA(a1-4)[GlcN(b1-7)]Kdo(a2-5)[Kdo(a2-4)]Kdo(a2-6)GlcN4P(b1-6)GlcN4P']\n",
    "print(\"Annotate Test\")\n",
    "out = annotate_dataset(glycans)"
   ]
  },
  {
   "cell_type": "code",
   "execution_count": null,
   "id": "numerous-consortium",
   "metadata": {},
   "outputs": [],
   "source": [
    "#hide_input\n",
    "HTML(out.style.set_properties(**{'font-size': '11pt', 'font-family': 'Helvetica','border-collapse': 'collapse','border': '1px solid black'}).render())"
   ]
  },
  {
   "cell_type": "code",
   "execution_count": null,
   "id": "compact-irrigation",
   "metadata": {},
   "outputs": [],
   "source": [
    "show_doc(get_k_saccharides)"
   ]
  },
  {
   "cell_type": "code",
   "execution_count": null,
   "id": "toxic-implement",
   "metadata": {},
   "outputs": [],
   "source": [
    "get_k_saccharides('GalNAc(a1-4)GlcNAcA(a1-4)[GlcN(b1-7)]Kdo(a2-5)[Kdo(a2-4)]Kdo(a2-6)GlcN4P(b1-6)GlcN4P',\n",
    "                 k = 3)"
   ]
  },
  {
   "cell_type": "markdown",
   "id": "fewer-somewhere",
   "metadata": {},
   "source": [
    "## graph\n",
    ">convert glycan sequences to graphs and contains helper functions to search for motifs / check whether two sequences describe the same sequence, etc."
   ]
  },
  {
   "cell_type": "code",
   "execution_count": null,
   "id": "higher-cornell",
   "metadata": {},
   "outputs": [],
   "source": [
    "show_doc(glycan_to_nxGraph)"
   ]
  },
  {
   "cell_type": "code",
   "execution_count": null,
   "id": "blank-dining",
   "metadata": {},
   "outputs": [],
   "source": [
    "print('Glycan to networkx Graph (only edges printed)')\n",
    "print(glycan_to_nxGraph('Man(a1-3)[Man(a1-6)]Man(b1-4)GlcNAc(b1-4)[Fuc(a1-6)]GlcNAc').edges())"
   ]
  },
  {
   "cell_type": "code",
   "execution_count": null,
   "id": "focused-peter",
   "metadata": {},
   "outputs": [],
   "source": [
    "show_doc(graph_to_string)"
   ]
  },
  {
   "cell_type": "code",
   "execution_count": null,
   "id": "fancy-identification",
   "metadata": {},
   "outputs": [],
   "source": [
    "graph_to_string(glycan_to_nxGraph('Man(a1-3)[Man(a1-6)]Man(b1-4)GlcNAc(b1-4)[Fuc(a1-6)]GlcNAc'))"
   ]
  },
  {
   "cell_type": "code",
   "execution_count": null,
   "id": "original-criminal",
   "metadata": {},
   "outputs": [],
   "source": [
    "show_doc(compare_glycans)"
   ]
  },
  {
   "cell_type": "code",
   "execution_count": null,
   "id": "lucky-mistake",
   "metadata": {},
   "outputs": [],
   "source": [
    "print(\"Graph Isomorphism Test\")\n",
    "print(compare_glycans('Man(a1-3)[Man(a1-6)]Man(b1-4)GlcNAc(b1-4)[Fuc(a1-6)]GlcNAc',\n",
    "                      'Man(a1-6)[Man(a1-3)]Man(b1-4)GlcNAc(b1-4)[Fuc(a1-6)]GlcNAc'))"
   ]
  },
  {
   "cell_type": "code",
   "execution_count": null,
   "id": "distinct-mountain",
   "metadata": {},
   "outputs": [],
   "source": [
    "show_doc(subgraph_isomorphism)"
   ]
  },
  {
   "cell_type": "code",
   "execution_count": null,
   "id": "superb-failing",
   "metadata": {},
   "outputs": [],
   "source": [
    "print(\"Subgraph Isomorphism Test\")\n",
    "print(subgraph_isomorphism('Man(a1-3)[Man(a1-6)]Man(b1-4)GlcNAc(b1-4)[Fuc(a1-6)]GlcNAc',\n",
    "                           'Fuc(a1-6)GlcNAc'))"
   ]
  },
  {
   "cell_type": "code",
   "execution_count": null,
   "id": "increasing-respect",
   "metadata": {},
   "outputs": [],
   "source": [
    "show_doc(generate_graph_features)"
   ]
  },
  {
   "cell_type": "code",
   "execution_count": null,
   "id": "facial-recall",
   "metadata": {},
   "outputs": [],
   "source": [
    "show_doc(largest_subgraph)"
   ]
  },
  {
   "cell_type": "code",
   "execution_count": null,
   "id": "oriented-anime",
   "metadata": {},
   "outputs": [],
   "source": [
    "glycan1 = 'Neu5Ac(a2-3)Gal(b1-4)GlcNAc(b1-2)Man(a1-3)[Man(a1-6)]Man(b1-4)GlcNAc(b1-4)[Fuc(a1-6)]GlcNAc'\n",
    "glycan2 = 'Man(a1-3)[Man(a1-6)]Man(a1-6)[Man(a1-3)]Man(b1-4)GlcNAc(b1-4)[Fuc(a1-6)]GlcNAc'\n",
    "largest_subgraph(glycan1, glycan2)"
   ]
  },
  {
   "cell_type": "markdown",
   "id": "round-holly",
   "metadata": {},
   "source": [
    "## processing\n",
    ">process IUPAC-condensed glycan sequences into glycoletters etc."
   ]
  },
  {
   "cell_type": "code",
   "execution_count": null,
   "id": "latter-military",
   "metadata": {},
   "outputs": [],
   "source": [
    "show_doc(min_process_glycans)"
   ]
  },
  {
   "cell_type": "code",
   "execution_count": null,
   "id": "initial-armor",
   "metadata": {},
   "outputs": [],
   "source": [
    "min_process_glycans(['Man(a1-3)[Man(a1-6)]Man(b1-4)GlcNAc(b1-4)GlcNAc',\n",
    "                     'Man(a1-2)Man(a1-3)[Man(a1-6)]Man(b1-4)GlcNAc(b1-4)GlcNAc'])"
   ]
  },
  {
   "cell_type": "code",
   "execution_count": null,
   "id": "precious-plasma",
   "metadata": {},
   "outputs": [],
   "source": [
    "show_doc(get_lib)"
   ]
  },
  {
   "cell_type": "code",
   "execution_count": null,
   "id": "checked-picnic",
   "metadata": {},
   "outputs": [],
   "source": [
    "get_lib(['Man(a1-3)[Man(a1-6)]Man(b1-4)GlcNAc(b1-4)GlcNAc',\n",
    "                     'Man(a1-2)Man(a1-3)[Man(a1-6)]Man(b1-4)GlcNAc(b1-4)GlcNAc'])"
   ]
  },
  {
   "cell_type": "code",
   "execution_count": null,
   "id": "surprising-hayes",
   "metadata": {},
   "outputs": [],
   "source": [
    "show_doc(expand_lib)"
   ]
  },
  {
   "cell_type": "code",
   "execution_count": null,
   "id": "gentle-acquisition",
   "metadata": {},
   "outputs": [],
   "source": [
    "lib1 = get_lib(['Man(a1-3)[Man(a1-6)]Man(b1-4)GlcNAc(b1-4)GlcNAc',\n",
    "                     'Man(a1-2)Man(a1-3)[Man(a1-6)]Man(b1-4)GlcNAc(b1-4)GlcNAc'])\n",
    "lib2 = expand_lib(lib1, ['Man(a1-3)[Man(a1-6)]Man(b1-4)GlcNAc(b1-4)[Fuc(a1-6)]GlcNAc'])\n",
    "lib2"
   ]
  },
  {
   "cell_type": "code",
   "execution_count": null,
   "id": "administrative-tunisia",
   "metadata": {},
   "outputs": [],
   "source": [
    "show_doc(presence_to_matrix)"
   ]
  },
  {
   "cell_type": "code",
   "execution_count": null,
   "id": "specified-television",
   "metadata": {},
   "outputs": [],
   "source": [
    "out = presence_to_matrix(df_species[df_species.Order == 'Fabales'].reset_index(drop = True),\n",
    "                         label_col_name = 'Family')"
   ]
  },
  {
   "cell_type": "code",
   "execution_count": null,
   "id": "turkish-badge",
   "metadata": {},
   "outputs": [],
   "source": [
    "#hide_input\n",
    "HTML(out.style.set_properties(**{'font-size': '11pt', 'font-family': 'Helvetica','border-collapse': 'collapse','border': '1px solid black'}).render())"
   ]
  },
  {
   "cell_type": "code",
   "execution_count": null,
   "id": "another-drinking",
   "metadata": {},
   "outputs": [],
   "source": [
    "show_doc(choose_correct_isoform)"
   ]
  },
  {
   "cell_type": "markdown",
   "id": "ordered-trailer",
   "metadata": {},
   "source": [
    "## query\n",
    ">for interacting with the databases contained in glycowork, delivering insights for sequences of interest"
   ]
  },
  {
   "cell_type": "code",
   "execution_count": null,
   "id": "illegal-toolbox",
   "metadata": {},
   "outputs": [],
   "source": [
    "show_doc(get_insight)"
   ]
  },
  {
   "cell_type": "code",
   "execution_count": null,
   "id": "still-offset",
   "metadata": {},
   "outputs": [],
   "source": [
    "print(\"Test get_insight with 'Man(a1-3)[Man(a1-6)]Man(b1-4)GlcNAc(b1-4)[Fuc(a1-6)]GlcNAc'\")\n",
    "get_insight('Man(a1-3)[Man(a1-6)]Man(b1-4)GlcNAc(b1-4)[Fuc(a1-6)]GlcNAc')"
   ]
  },
  {
   "cell_type": "code",
   "execution_count": null,
   "id": "broke-spray",
   "metadata": {},
   "outputs": [],
   "source": [
    "show_doc(glytoucan_to_glycan)"
   ]
  },
  {
   "cell_type": "code",
   "execution_count": null,
   "id": "blocked-niger",
   "metadata": {},
   "outputs": [],
   "source": [
    "glytoucan_to_glycan(['G59003TN', 'G88185OE'])"
   ]
  },
  {
   "cell_type": "markdown",
   "id": "serious-savage",
   "metadata": {},
   "source": [
    "## tokenization\n",
    ">helper functions to map m/z-->composition, composition-->structure, structure-->motif, and more"
   ]
  },
  {
   "cell_type": "code",
   "execution_count": null,
   "id": "affiliated-russian",
   "metadata": {},
   "outputs": [],
   "source": [
    "show_doc(string_to_labels)"
   ]
  },
  {
   "cell_type": "code",
   "execution_count": null,
   "id": "unique-welcome",
   "metadata": {},
   "outputs": [],
   "source": [
    "string_to_labels(['Man','a1-3','Man','a1-6','Man'])"
   ]
  },
  {
   "cell_type": "code",
   "execution_count": null,
   "id": "breathing-angel",
   "metadata": {},
   "outputs": [],
   "source": [
    "show_doc(pad_sequence)"
   ]
  },
  {
   "cell_type": "code",
   "execution_count": null,
   "id": "recreational-persian",
   "metadata": {},
   "outputs": [],
   "source": [
    "pad_sequence(string_to_labels(['Man','a1-3','Man','a1-6','Man']), 7)"
   ]
  },
  {
   "cell_type": "code",
   "execution_count": null,
   "id": "perfect-vermont",
   "metadata": {},
   "outputs": [],
   "source": [
    "show_doc(stemify_glycan)"
   ]
  },
  {
   "cell_type": "code",
   "execution_count": null,
   "id": "coastal-supervisor",
   "metadata": {},
   "outputs": [],
   "source": [
    "show_doc(stemify_dataset)"
   ]
  },
  {
   "cell_type": "code",
   "execution_count": null,
   "id": "empty-entrance",
   "metadata": {},
   "outputs": [],
   "source": [
    "show_doc(mask_rare_glycoletters)"
   ]
  },
  {
   "cell_type": "code",
   "execution_count": null,
   "id": "alternate-zoning",
   "metadata": {},
   "outputs": [],
   "source": [
    "show_doc(match_composition_relaxed)"
   ]
  },
  {
   "cell_type": "code",
   "execution_count": null,
   "id": "grave-acoustic",
   "metadata": {},
   "outputs": [],
   "source": [
    "match_composition_relaxed({\"Hex\":3, \"HexNAc\":2, \"dHex\":1}, \"Homo_sapiens\", \"Species\")"
   ]
  },
  {
   "cell_type": "code",
   "execution_count": null,
   "id": "criminal-vehicle",
   "metadata": {},
   "outputs": [],
   "source": [
    "show_doc(condense_composition_matching)"
   ]
  },
  {
   "cell_type": "code",
   "execution_count": null,
   "id": "cheap-fifty",
   "metadata": {},
   "outputs": [],
   "source": [
    "match_comp = match_composition_relaxed({'Hex':1, 'HexNAc':1, 'Neu5Ac':1},\n",
    "                                       'Homo_sapiens', 'Species', reducing_end = 'GalNAc')\n",
    "print(match_comp)\n",
    "condense_composition_matching(match_comp)"
   ]
  },
  {
   "cell_type": "code",
   "execution_count": null,
   "id": "secret-relevance",
   "metadata": {},
   "outputs": [],
   "source": [
    "show_doc(mz_to_structures)"
   ]
  },
  {
   "cell_type": "code",
   "execution_count": null,
   "id": "every-india",
   "metadata": {},
   "outputs": [],
   "source": [
    "show_doc(compositions_to_structures)"
   ]
  },
  {
   "cell_type": "code",
   "execution_count": null,
   "id": "supreme-result",
   "metadata": {},
   "outputs": [],
   "source": [
    "show_doc(structures_to_motifs)"
   ]
  },
  {
   "cell_type": "code",
   "execution_count": null,
   "id": "executed-maine",
   "metadata": {},
   "outputs": [],
   "source": [
    "show_doc(canonicalize_iupac)"
   ]
  },
  {
   "cell_type": "code",
   "execution_count": null,
   "id": "herbal-antigua",
   "metadata": {},
   "outputs": [],
   "source": [
    "show_doc(structure_to_basic)"
   ]
  },
  {
   "cell_type": "code",
   "execution_count": null,
   "id": "assigned-calvin",
   "metadata": {},
   "outputs": [],
   "source": [
    "show_doc(glycan_to_composition)"
   ]
  },
  {
   "cell_type": "code",
   "execution_count": null,
   "id": "south-ambassador",
   "metadata": {},
   "outputs": [],
   "source": [
    "show_doc(calculate_theoretical_mass)"
   ]
  },
  {
   "cell_type": "code",
   "execution_count": null,
   "id": "figured-handbook",
   "metadata": {},
   "outputs": [],
   "source": [
    "#hide\n",
    "from nbdev.export import notebook2script; notebook2script()"
   ]
  },
  {
   "cell_type": "code",
   "execution_count": null,
   "id": "cosmetic-vitamin",
   "metadata": {},
   "outputs": [],
   "source": []
  }
 ],
 "metadata": {
  "kernelspec": {
   "display_name": "Python 3",
   "language": "python",
   "name": "python3"
  }
 },
 "nbformat": 4,
 "nbformat_minor": 5
}
