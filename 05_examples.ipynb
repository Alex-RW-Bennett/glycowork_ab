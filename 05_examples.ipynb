{
 "cells": [
  {
   "cell_type": "code",
   "execution_count": null,
   "id": "fantastic-travel",
   "metadata": {},
   "outputs": [],
   "source": [
    "# default_exp examples"
   ]
  },
  {
   "cell_type": "markdown",
   "id": "circular-france",
   "metadata": {},
   "source": [
    "# Examples\n",
    "\n",
    "> Example workflows for using glycowork in your work"
   ]
  },
  {
   "cell_type": "markdown",
   "id": "embedded-emphasis",
   "metadata": {},
   "source": [
    "In this file, you will access to different toy examples demonstrating how you can apply `glycowork` to your projects! \n",
    "Here is a summary of the different case studies available: <br>\n",
    "\n",
    "1. [Investigation of *N*-linked and *O*-linked glycosylations in animals](#example1)\n",
    "2. [Glycan binding specificities of influenza viruses](#example2)\n",
    "3. [Glycan classification using machine learning models](#example3)\n",
    "4. [Deep Learning Code Snippet](#example4)"
   ]
  },
  {
   "cell_type": "code",
   "execution_count": null,
   "id": "hungarian-nowhere",
   "metadata": {},
   "outputs": [],
   "source": [
    "#hide\n",
    "from nbdev.showdoc import *\n",
    "from IPython.display import HTML\n",
    "import pandas as pd\n",
    "import copy\n",
    "import warnings\n",
    "warnings.filterwarnings(\"ignore\")\n",
    "from glycowork.glycan_data.loader import df_species, glycan_emb, influenza_binding, df_glycan\n",
    "from glycowork.motif.analysis import plot_embeddings, make_heatmap, characterize_monosaccharide, get_pvals_motifs\n",
    "from glycowork.motif.processing import presence_to_matrix\n",
    "from glycowork.motif.query import get_insight\n",
    "from glycowork.ml.model_training import train_ml_model, analyze_ml_model, get_mismatch\n",
    "from glycowork.ml.train_test_split import general_split\n",
    "%load_ext autoreload\n",
    "%autoreload 2"
   ]
  },
  {
   "cell_type": "markdown",
   "id": "pregnant-technician",
   "metadata": {},
   "source": [
    "# Example 1: Investigation of *N*-linked and *O*-linked glycosylations in arthropods <a class=\"anchor\" id=\"example1\"></a>"
   ]
  },
  {
   "cell_type": "markdown",
   "id": "parental-tourist",
   "metadata": {},
   "source": [
    "Suppose that after investigating glycans from plants as presented in the `core` module, you are now wondering what happens for glycans from the Arthropoda phylum. To satisfy your curiosity, let's start with importing the `df_species` dataset from `glycowork.glycan_data.loader` and putting a filter for animal glycans."
   ]
  },
  {
   "cell_type": "code",
   "execution_count": null,
   "id": "worse-installation",
   "metadata": {},
   "outputs": [],
   "source": [
    "df_animal = df_species[df_species.Phylum == 'Arthropoda'].reset_index(drop = True)"
   ]
  },
  {
   "cell_type": "code",
   "execution_count": null,
   "id": "metropolitan-percentage",
   "metadata": {},
   "outputs": [],
   "source": [
    "#hide_input\n",
    "df_animal2 = copy.deepcopy(df_animal)\n",
    "df_animal2.index = df_animal2.target.values.tolist()\n",
    "df_animal2.drop(['target'], axis = 1, inplace = True)\n",
    "HTML(df_animal2.head().style.set_properties(**{'font-size': '11pt', 'font-family': 'Helvetica','border-collapse': 'collapse','border': '1px solid black'}).render())"
   ]
  },
  {
   "cell_type": "markdown",
   "id": "homeless-handbook",
   "metadata": {},
   "source": [
    "To have a better overview of the glycans similarities in arthropods, you can plot these data using `plot_embeddings` from `glycowork.motif.analysis`. The best option here to visualize the data is to color the dots by taxonomic class.  "
   ]
  },
  {
   "cell_type": "code",
   "execution_count": null,
   "id": "charming-makeup",
   "metadata": {},
   "outputs": [],
   "source": [
    "plot_embeddings(df_animal.target.values.tolist(), label_list = df_animal.Class.values.tolist())"
   ]
  },
  {
   "cell_type": "markdown",
   "id": "changed-listening",
   "metadata": {},
   "source": [
    "Interesting! First, the graph shows Arachnida clusters in addition to lots of Insecta clusters. <br> \n",
    "\n",
    "Now, let's focus on further analyses. We will first convert our data into a count table using `presence_to_matrix` from the `glycowork.motif.processing` module and then visualize the results. A heatmap can be generated using `make_heatmap` from `glycowork.motif.analysis` and the `yticklabels = True` option allows us to display all the labels."
   ]
  },
  {
   "cell_type": "code",
   "execution_count": null,
   "id": "horizontal-senate",
   "metadata": {},
   "outputs": [],
   "source": [
    "df_map_animal = presence_to_matrix(df_animal, label_col_name = 'Class')\n",
    "make_heatmap(df_map_animal, mode = 'motif', feature_set = ['known', 'exhaustive'], datatype = 'presence', yticklabels = True,\n",
    "            estimate_speedup = True)"
   ]
  },
  {
   "cell_type": "markdown",
   "id": "hybrid-detector",
   "metadata": {},
   "source": [
    "The first thing that catches the eye is the absence of a bunch of glycan motifs in Insecta that are absent in the other classes, in part presumably because of the scarcity of their known glycans relative to Insecta. Coming back to Arachnida, this heatmap shows for example a notable presence of difucosylated cores, with the corresponding distinguishing a1-3 Fuc motif. The other classes, Malacostraca and Merostomata, seem rather enriched in mannose-rich motifs in their *N*-glycans. <br>\n",
    "\n",
    "To visualize which dots from the embedding plot correspond to, for instance, GlcA-containing glycans, we can map them again but with the additional option `shape_feature`. This parameter allows you to transform dots into crosses if the corresponding glycan contains the specified monosaccharide or linkage. \n",
    "\n"
   ]
  },
  {
   "cell_type": "code",
   "execution_count": null,
   "id": "similar-census",
   "metadata": {},
   "outputs": [],
   "source": [
    "plot_embeddings(df_animal.target.values.tolist(), label_list = df_animal.Class.values.tolist(), shape_feature = \"GlcA\")"
   ]
  },
  {
   "cell_type": "markdown",
   "id": "fantastic-noise",
   "metadata": {},
   "source": [
    "As you can see, in `df_species`, GlcA-containing glycans (crosses) exist only in Insecta organisms (in the phylum Arthropoda). In this class, they even constitute isolated clusters, presumably corresponding to certain taxonomic groups. <br> \n",
    "\n",
    "We can also use `glycowork` to take a look at the overall monosaccharide distribution in animal glycans. The `characterize_monosaccharide` from `glycowork.motif.analysis` will be our best ally to learn what are the other monosaccharides to which, for instance, Gal variants are often connected to. <br>"
   ]
  },
  {
   "cell_type": "code",
   "execution_count": null,
   "id": "rocky-barrier",
   "metadata": {},
   "outputs": [],
   "source": [
    "characterize_monosaccharide('Gal', rank = 'Kingdom', focus = 'Animalia', modifications = True)"
   ]
  },
  {
   "cell_type": "markdown",
   "id": "adjacent-language",
   "metadata": {},
   "source": [
    "Running this analysis, it appears that Gal is found connected to GlcNAc as well as various other monosaccharides and that it does display several variants, including sulfurylated galactose. This is a completely different profile that what was obtained studying xylose in plant glycans! <br>"
   ]
  },
  {
   "cell_type": "markdown",
   "id": "acknowledged-server",
   "metadata": {},
   "source": [
    "# Example 2: Glycan binding specificities of influenza viruses <a class=\"anchor\" id=\"example2\"></a>"
   ]
  },
  {
   "cell_type": "markdown",
   "id": "instructional-single",
   "metadata": {},
   "source": [
    "For this second example, we will move from animals to viruses. Influenza viruses are well known as the biological agents responsible for the seasonal flu in humans. In general, viruses penetrate inside host cells thanks to a mechanism involving contacts between glycosylated proteins. Surface proteins surrounding viruses and eukaryotic cells interact together and allow the entry of viral particules inside the targeted cells. However, different influenza strains may recognize different glycosylations on proteins with more or less efficiency. <br>\n",
    "\n",
    "To measure these glycan binding specificities, one can add virus particules to glycan arrays presenting immobilized glycans. Such a protocol allows screening for specific binding. From such data, we can then ask what are the glycans that are the most efficiently recognized by a given influenza virus? <br>\n",
    "\n",
    "Fortunately, `glycowork` can be really helpful to answer such a question! The binding efficiency of different influenza virus strains for a vast range of glycans is available in the `influenza_binding` dataset. Let's start by importing these data."
   ]
  },
  {
   "cell_type": "code",
   "execution_count": null,
   "id": "infrared-compression",
   "metadata": {},
   "outputs": [],
   "source": [
    "#hide_input\n",
    "HTML(influenza_binding.head().style.set_properties(**{'font-size': '11pt', 'font-family': 'Helvetica','border-collapse': 'collapse','border': '1px solid black'}).render())"
   ]
  },
  {
   "cell_type": "markdown",
   "id": "bridal-victor",
   "metadata": {},
   "source": [
    "As you can see, this dataset contains numerical values (Z-scores) corresponding to the ability of different influenza strains to bind different glycans. From these data, we can compute a heatmap with `make_heatmap`. The results should teach us whether some specific strains bind specific glycans. As we work with quantitative values, the `datatype` parameter must be set to `'response'`. If you want to include literature-annotated motifs (e.g., VIM, Lewis X, Blood group A), just add 'known' to the list of the feature_set. Let's see what kind of heatmap we can generate using this dataset."
   ]
  },
  {
   "cell_type": "code",
   "execution_count": null,
   "id": "extended-arbitration",
   "metadata": {},
   "outputs": [],
   "source": [
    "make_heatmap(influenza_binding, mode = 'motif', feature_set = ['exhaustive'], datatype = 'response', yticklabels = True)"
   ]
  },
  {
   "cell_type": "code",
   "execution_count": null,
   "id": "excited-particular",
   "metadata": {},
   "outputs": [],
   "source": [
    "#hide_input\n",
    "import numpy as np\n",
    "influenza_binding = influenza_binding.clip(lower=0).replace(0,np.nan).dropna(thresh = 50, axis=1)"
   ]
  },
  {
   "cell_type": "markdown",
   "id": "noticed-classics",
   "metadata": {},
   "source": [
    "Due to the high number of viruses in this dataset, the heatmap is difficult to analyze in detail. However, we can clearly see that some specific influenza strains are particularly well suited to recognize specific glycan motifs. Interestingly, we can note that the recognition of a2-6 and Neu5Ac(a2-6)Gal-containing glycans on one hand (two first lines), and the recognition of Neu5Ac, a2-3 and Neu5Ac(a2-3)Gal-containing glycans on the other hand (three last lines) seems to be exclusive in most of the strains. <br>\n",
    "\n",
    "Another way to analyze the glycan binding capacities of influenza viruses is to use the `get_pvals_motifs` function from the `glycowork.motif.analysis` module. As we are working with data obtained from different strains, we must also set `multiple_samples` to `True`. These adjustments being made, the next step consists in executing the function!"
   ]
  },
  {
   "cell_type": "code",
   "execution_count": null,
   "id": "ordinary-samuel",
   "metadata": {},
   "outputs": [],
   "source": [
    "results = get_pvals_motifs(influenza_binding, feature_set = ['exhaustive'], multiple_samples = True)"
   ]
  },
  {
   "cell_type": "code",
   "execution_count": null,
   "id": "acting-ownership",
   "metadata": {},
   "outputs": [],
   "source": [
    "#hide_input\n",
    "results = results.applymap(str)\n",
    "HTML(results[:25].style.set_properties(**{'font-size': '11pt', 'font-family': 'Helvetica',\n",
    "                                          'border-collapse': 'collapse','border': '1px solid black'}).render())"
   ]
  },
  {
   "cell_type": "markdown",
   "id": "liquid-liberty",
   "metadata": {},
   "source": [
    "These results indicate, for each motif, a p-value and a corrected p-value. Based on these numbers, we can identify Neu5Ac(a2-3)Gal and Neu5Ac(a2-6)Gal as particularly well recognized motifs. This is consistent with the current knowledge as Neu5Ac(a2-3)Gal is the canonical binding motif for avian influenza and Neu5Ac(a2-6)Gal for mammalian influenza. Interestingly, other motifs also seem to be recognized by influenza strains, such as sulfurylated glycans."
   ]
  },
  {
   "cell_type": "markdown",
   "id": "italic-howard",
   "metadata": {},
   "source": [
    "# Example 3: Glycan classification using machine learning models <a class=\"anchor\" id=\"example3\"></a>"
   ]
  },
  {
   "cell_type": "markdown",
   "id": "configured-distinction",
   "metadata": {},
   "source": [
    "Investigation of glycans from animals and viruses demonstrated how specific their presence in an organism can be. This particular characteristic can be exploited to predict the source of a given glycan among living organisms. By classifying which glycans stem from which species/taxonomic groups, machine learning models can be trained to learn which motifs are enriched in which species, allowing further insights. <br>\n",
    "\n",
    "Let's see how we can use `glycowork` to classify vertebrate versus invertebrate glycans! First, we need to annotate each known glycan using a binary code where **1** means **vertebrate glycan** and **0** means **invertebrate glycan**. "
   ]
  },
  {
   "cell_type": "code",
   "execution_count": null,
   "id": "historical-ceiling",
   "metadata": {},
   "outputs": [],
   "source": [
    "vertebrate = [1 if k == 'Chordata' else 0 for k in df_species[df_species.Kingdom == 'Animalia'].Phylum.values.tolist()]"
   ]
  },
  {
   "cell_type": "markdown",
   "id": "attached-designer",
   "metadata": {},
   "source": [
    "Now, we have to generate two sets of glycans that we will use as train set and test set. In addition, we also need their corresponding sets with classes labelled as **0** or **1**. One way to do it is to use the `general_split` function from the `glycowork.ml.train_test_split` module. This function assigns the data with a 80/20 ratio to train and test sets respectively."
   ]
  },
  {
   "cell_type": "code",
   "execution_count": null,
   "id": "boolean-conviction",
   "metadata": {},
   "outputs": [],
   "source": [
    "X_train, X_test, y_train, y_test = general_split(df_species[df_species.Kingdom == 'Animalia'].target.values.tolist(), vertebrate)"
   ]
  },
  {
   "cell_type": "markdown",
   "id": "dramatic-portsmouth",
   "metadata": {},
   "source": [
    "It is now time to train a machine learning model on these data! Different machine learning algorithms are available in `glycowork` and here we can use the `train_ml_model` function from the `glycowork.ml.model_training` module. This classification method uses a standard machine learning model trained on short glycan motifs which may not be the most accurate, but can be sufficient for a preliminary exploration of our problem. Plus, it has the advantage of running faster than other more complex algorithms such as deep learning so... let's give it a try!"
   ]
  },
  {
   "cell_type": "code",
   "execution_count": null,
   "id": "meaning-corpus",
   "metadata": {},
   "outputs": [],
   "source": [
    "model_ft, _, X_test = train_ml_model(X_train, X_test, y_train, y_test, feature_calc = True, feature_set = ['exhaustive'],\n",
    "                         return_features = True)"
   ]
  },
  {
   "cell_type": "markdown",
   "id": "minus-blackjack",
   "metadata": {},
   "source": [
    "As you can see, even this (quite) simple algorithm is enough to reach around 93% prediction accuracy on the test set! It also confirms that glycan composition is highly representative of their origin and allows efficiently discriminating vertebrate from invertebrate glycans! <br>\n",
    "\n",
    "One more step we can do is the analysis of the model we have generated. This is important, as we do not know yet what information is the most useful for this model to predict the origin of a glycan. Fortunately, the `analyze_ml_model` function can help us to understand on which basis the model predictions are made."
   ]
  },
  {
   "cell_type": "code",
   "execution_count": null,
   "id": "unauthorized-glucose",
   "metadata": {},
   "outputs": [],
   "source": [
    "analyze_ml_model(model_ft)"
   ]
  },
  {
   "cell_type": "markdown",
   "id": "therapeutic-ukraine",
   "metadata": {},
   "source": [
    "Interesting! It appears that the presence of the Gal(b1-4)GlcNAc motif (type II LacNAc) in glycans is quite discriminant of its belonging to the Chordata Phylum! <br>\n",
    "\n",
    "Next to knowing what is important for model prediction, it is often also crucial to know the limits of a model. In `glycowork`, you can use `get_mismatch` from the `glycowork.ml.model_training` module to get a sense of wrong classifications. This could for instance inform you about potential model biases."
   ]
  },
  {
   "cell_type": "code",
   "execution_count": null,
   "id": "written-serve",
   "metadata": {},
   "outputs": [],
   "source": [
    "get_mismatch(model_ft, X_test, y_test)"
   ]
  },
  {
   "cell_type": "markdown",
   "id": "recognized-parking",
   "metadata": {},
   "source": [
    "Here we can see that our model was especially confused by glycans which can occur in both phyla and therefore are ambiguous for classification ambiguous. Maybe in these scenarios a more powerful, deep learning-based model might be able to differentiate (at least a bit better)! <br>"
   ]
  },
  {
   "cell_type": "markdown",
   "id": "federal-visit",
   "metadata": {},
   "source": [
    "# Deep Learning Code Snippet <a class=\"anchor\" id=\"example4\"></a>"
   ]
  },
  {
   "cell_type": "markdown",
   "id": "orange-tenant",
   "metadata": {},
   "source": [
    "For those of you that are blessed with GPU-access, we wrote up a minimal example for training a glycan-focused deep learning model. Even if you usually do not have access to a GPU, you can always go to Google Colab (click on the badge at the top of this site to open this notebook on Google Colab) and change the runtime type to GPU. Then you can paste the following code in a cell, execute, and see our model train!"
   ]
  },
  {
   "cell_type": "markdown",
   "id": "official-shuttle",
   "metadata": {},
   "source": [
    "First, we need to install torch_geometric for deep learning:\n",
    "\n",
    "```\n",
    "!pip install torch-scatter -f https://pytorch-geometric.com/whl/torch-1.8.0+cu101.html\n",
    "!pip install torch-sparse -f https://pytorch-geometric.com/whl/torch-1.8.0+cu101.html\n",
    "!pip install torch-cluster -f https://pytorch-geometric.com/whl/torch-1.8.0+cu101.html\n",
    "!pip install torch-spline-conv -f https://pytorch-geometric.com/whl/torch-1.8.0+cu101.html\n",
    "!pip install torch-geometric\n",
    "```"
   ]
  },
  {
   "cell_type": "markdown",
   "id": "prerequisite-update",
   "metadata": {},
   "source": [
    "Then, we import the relevant `glycowork` modules:\n",
    "\n",
    "```\n",
    "from glycowork.glycan_data.loader import df_species\n",
    "from glycowork.ml.train_test_split import hierarchy_filter\n",
    "from glycowork.ml.processing import split_data_to_train\n",
    "from glycowork.ml import models\n",
    "from glycowork.ml import model_training\n",
    "```"
   ]
  },
  {
   "cell_type": "markdown",
   "id": "plastic-singapore",
   "metadata": {},
   "source": [
    "Finally, we can prepare the data and train a model to classify from which taxonomic kingdom a glycan came from, using our graph convolutional neural network, `SweetNet`.\n",
    "\n",
    "```\n",
    "train_x, val_x, train_y, val_y, id_val, class_list, class_converter = hierarchy_filter(df_species,\n",
    "                                                                                       rank = 'Kingdom')\n",
    "\n",
    "dataloaders = split_data_to_train(train_x, val_x, train_y, val_y)\n",
    "model = models.prep_model('SweetNet', len(class_list))\n",
    "optimizer_ft, scheduler, criterion = model_training.training_setup(model, 100, 0.0005)\n",
    "model_ft = model_training.train_model(model, dataloaders, criterion, optimizer_ft, scheduler,\n",
    "                   num_epochs = 100)\n",
    "```\n",
    "\n",
    "And that's it! You've just trained a state-of-the-art deep learning model with effectively five lines of code (excluding package imports of course)."
   ]
  },
  {
   "cell_type": "code",
   "execution_count": null,
   "id": "angry-shakespeare",
   "metadata": {},
   "outputs": [],
   "source": [
    "#hide\n",
    "from nbdev.export import notebook2script; notebook2script()"
   ]
  },
  {
   "cell_type": "code",
   "execution_count": null,
   "id": "handled-session",
   "metadata": {},
   "outputs": [],
   "source": []
  }
 ],
 "metadata": {
  "kernelspec": {
   "display_name": "Python 3",
   "language": "python",
   "name": "python3"
  }
 },
 "nbformat": 4,
 "nbformat_minor": 5
}
