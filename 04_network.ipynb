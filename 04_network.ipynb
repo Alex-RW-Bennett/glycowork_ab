{
 "cells": [
  {
   "cell_type": "raw",
   "id": "secure-survivor",
   "metadata": {},
   "source": [
    "---\n",
    "output-file: network.html\n",
    "title: network\n",
    "\n",
    "---\n",
    "\n"
   ]
  },
  {
   "cell_type": "code",
   "execution_count": null,
   "id": "specialized-integrity",
   "metadata": {},
   "outputs": [],
   "source": [
    "#| include: false\n",
    "#| default_exp network\n",
    "import warnings\n",
    "warnings.filterwarnings(\"ignore\")\n",
    "from nbdev.showdoc import show_doc\n",
    "from IPython.display import HTML\n",
    "%load_ext autoreload\n",
    "%autoreload 2"
   ]
  },
  {
   "cell_type": "code",
   "execution_count": null,
   "id": "greatest-adaptation",
   "metadata": {},
   "outputs": [],
   "source": [
    "#| export\n",
    "from glycowork.network.biosynthesis import *\n",
    "from glycowork.network.evolution import *"
   ]
  },
  {
   "cell_type": "markdown",
   "id": "preliminary-approval",
   "metadata": {},
   "source": [
    "`network` contains functions to arrange and analyze glycans in the context of networks. In such a network, each node represents a glycan and edges represent, for instance, their connection via a biosynthetic step. It should be noted, since `glycowork` treats glycans as molecular graphs, that these networks represent hierarchical graphs, with the network being one graph and each node within the network also a graph. `network` contains the following modules:\n",
    "\n",
    "- `biosynthesis` contains functions to construct and analyze biosynthetic glycan networks\n",
    "- `evolution` contains functions to compare (taxonomic) groups as to their glycan repertoires"
   ]
  },
  {
   "cell_type": "markdown",
   "id": "random-islam",
   "metadata": {},
   "source": [
    "## biosynthesis\n",
    ">constructing and analyzing biosynthetic glycan networks"
   ]
  },
  {
   "cell_type": "code",
   "execution_count": null,
   "id": "musical-jumping",
   "metadata": {},
   "outputs": [
    {
     "data": {
      "text/markdown": [
       "---\n",
       "\n",
       "### construct_network\n",
       "\n",
       ">      construct_network (glycans, add_virtual_nodes='exhaustive', libr=None,\n",
       ">                         reducing_end=['Glc-ol', 'GlcNAc-ol', 'Glc3S-ol',\n",
       ">                         'GlcNAc6S-ol', 'GlcNAc6P-ol', 'GlcNAc1P-ol',\n",
       ">                         'Glc3P-ol', 'Glc6S-ol', 'GlcOS-ol'], limit=5,\n",
       ">                         ptm=True, allowed_ptms=['OS', '3S', '6S', '1P', '3P',\n",
       ">                         '6P', 'OAc', '4Ac'], permitted_roots=['Gal(b1-4)Glc-\n",
       ">                         ol', 'Gal(b1-4)GlcNAc-ol'], directed=True,\n",
       ">                         edge_type='monolink')\n",
       "\n",
       "visualize biosynthetic network\n",
       "\n",
       "| Arguments:\n",
       "| :-\n",
       "| glycans (list): list of glycans in IUPAC-condensed format\n",
       "| add_virtual_nodes (string): indicates whether no ('none'), proximal ('simple'), or all ('exhaustive') virtual nodes should be added; default:'exhaustive'\n",
       "| libr (list): library of monosaccharides; if you have one use it, otherwise a comprehensive lib will be used\n",
       "| reducing_end (list): monosaccharides at the reducing end that are allowed; default:milk glycan reducing ends\n",
       "| limit (int): maximum number of virtual nodes between observed nodes; default:5\n",
       "| ptm (bool): whether to consider post-translational modifications in the network construction; default:True\n",
       "| allowed_ptms (list): list of PTMs to consider\n",
       "| permitted_roots (list): which nodes should be considered as roots; default:[\"Gal(b1-4)Glc-ol\", \"Gal(b1-4)GlcNAc-ol\"]\n",
       "| directed (bool): whether to return a network with directed edges in the direction of biosynthesis; default:True\n",
       "| edge_type (string): indicates whether edges represent monosaccharides ('monosaccharide'), monosaccharide(linkage) ('monolink'), or enzyme catalyzing the reaction ('enzyme'); default:'monolink'\n",
       "\n",
       "| Returns:\n",
       "| :-\n",
       "| Returns a networkx object of the network"
      ],
      "text/plain": [
       "---\n",
       "\n",
       "### construct_network\n",
       "\n",
       ">      construct_network (glycans, add_virtual_nodes='exhaustive', libr=None,\n",
       ">                         reducing_end=['Glc-ol', 'GlcNAc-ol', 'Glc3S-ol',\n",
       ">                         'GlcNAc6S-ol', 'GlcNAc6P-ol', 'GlcNAc1P-ol',\n",
       ">                         'Glc3P-ol', 'Glc6S-ol', 'GlcOS-ol'], limit=5,\n",
       ">                         ptm=True, allowed_ptms=['OS', '3S', '6S', '1P', '3P',\n",
       ">                         '6P', 'OAc', '4Ac'], permitted_roots=['Gal(b1-4)Glc-\n",
       ">                         ol', 'Gal(b1-4)GlcNAc-ol'], directed=True,\n",
       ">                         edge_type='monolink')\n",
       "\n",
       "visualize biosynthetic network\n",
       "\n",
       "| Arguments:\n",
       "| :-\n",
       "| glycans (list): list of glycans in IUPAC-condensed format\n",
       "| add_virtual_nodes (string): indicates whether no ('none'), proximal ('simple'), or all ('exhaustive') virtual nodes should be added; default:'exhaustive'\n",
       "| libr (list): library of monosaccharides; if you have one use it, otherwise a comprehensive lib will be used\n",
       "| reducing_end (list): monosaccharides at the reducing end that are allowed; default:milk glycan reducing ends\n",
       "| limit (int): maximum number of virtual nodes between observed nodes; default:5\n",
       "| ptm (bool): whether to consider post-translational modifications in the network construction; default:True\n",
       "| allowed_ptms (list): list of PTMs to consider\n",
       "| permitted_roots (list): which nodes should be considered as roots; default:[\"Gal(b1-4)Glc-ol\", \"Gal(b1-4)GlcNAc-ol\"]\n",
       "| directed (bool): whether to return a network with directed edges in the direction of biosynthesis; default:True\n",
       "| edge_type (string): indicates whether edges represent monosaccharides ('monosaccharide'), monosaccharide(linkage) ('monolink'), or enzyme catalyzing the reaction ('enzyme'); default:'monolink'\n",
       "\n",
       "| Returns:\n",
       "| :-\n",
       "| Returns a networkx object of the network"
      ]
     },
     "execution_count": null,
     "metadata": {},
     "output_type": "execute_result"
    }
   ],
   "source": [
    "show_doc(construct_network)"
   ]
  },
  {
   "cell_type": "code",
   "execution_count": null,
   "id": "distant-valley",
   "metadata": {},
   "outputs": [
    {
     "data": {
      "text/markdown": [
       "---\n",
       "\n",
       "### plot_network\n",
       "\n",
       ">      plot_network (network, plot_format='pydot2', edge_label_draw=True,\n",
       ">                    lfc_dict=None)\n",
       "\n",
       "visualizes biosynthetic network\n",
       "\n",
       "| Arguments:\n",
       "| :-\n",
       "| network (networkx object): biosynthetic network, returned from construct_network\n",
       "| plot_format (string): how to layout network, either 'pydot2', 'kamada_kawai', or 'spring'; default:'pydot2'\n",
       "| edge_label_draw (bool): draws edge labels if True; default:True\n",
       "| lfc_dict (dict): dictionary of enzyme:log2-fold-change to scale edge width; default:None"
      ],
      "text/plain": [
       "---\n",
       "\n",
       "### plot_network\n",
       "\n",
       ">      plot_network (network, plot_format='pydot2', edge_label_draw=True,\n",
       ">                    lfc_dict=None)\n",
       "\n",
       "visualizes biosynthetic network\n",
       "\n",
       "| Arguments:\n",
       "| :-\n",
       "| network (networkx object): biosynthetic network, returned from construct_network\n",
       "| plot_format (string): how to layout network, either 'pydot2', 'kamada_kawai', or 'spring'; default:'pydot2'\n",
       "| edge_label_draw (bool): draws edge labels if True; default:True\n",
       "| lfc_dict (dict): dictionary of enzyme:log2-fold-change to scale edge width; default:None"
      ]
     },
     "execution_count": null,
     "metadata": {},
     "output_type": "execute_result"
    }
   ],
   "source": [
    "show_doc(plot_network)"
   ]
  },
  {
   "cell_type": "code",
   "execution_count": null,
   "id": "interim-contact",
   "metadata": {},
   "outputs": [
    {
     "data": {
      "image/png": "[encoded data removed]",
      "text/html": [
       "\n",
       "\n",
       "<style>\n",
       "\n",
       "</style>\n",
       "\n",
       "<div id=\"fig_el767625762197497284391691751\"></div>\n",
       "<script>\n",
       "function mpld3_load_lib(url, callback){\n",
       "  var s = document.createElement('script');\n",
       "  s.src = url;\n",
       "  s.async = true;\n",
       "  s.onreadystatechange = s.onload = callback;\n",
       "  s.onerror = function(){console.warn(\"failed to load library \" + url);};\n",
       "  document.getElementsByTagName(\"head\")[0].appendChild(s);\n",
       "}\n",
       "\n",
       "if(typeof(mpld3) !== \"undefined\" && mpld3._mpld3IsLoaded){\n",
       "   // already loaded: just create the figure\n",
       "   !function(mpld3){\n",
       "       \n",
       "       mpld3.draw_figure(\"fig_el767625762197497284391691751\", {\"width\": 1152.0, \"height\": 1152.0, \"axes\": [{\"bbox\": [0.125, 0.125, 0.775, 0.755], \"xlim\": [-1.2050209853074851, 1.157601797759725], \"ylim\": [-0.45875281723007644, 0.41437008806483905], \"xdomain\": [-1.2050209853074851, 1.157601797759725], \"ydomain\": [-0.45875281723007644, 0.41437008806483905], \"xscale\": \"linear\", \"yscale\": \"linear\", \"axes\": [{\"position\": \"top\", \"nticks\": 0, \"tickvalues\": [], \"tickformat_formatter\": \"\", \"tickformat\": \"\", \"scale\": \"linear\", \"fontsize\": null, \"grid\": {\"gridOn\": false}, \"visible\": true}, {\"position\": \"right\", \"nticks\": 0, \"tickvalues\": [], \"tickformat_formatter\": \"\", \"tickformat\": \"\", \"scale\": \"linear\", \"fontsize\": null, \"grid\": {\"gridOn\": false}, \"visible\": true}], \"axesbg\": \"#FFFFFF\", \"axesbgalpha\": null, \"zoomable\": true, \"id\": \"el76762576220328864\", \"lines\": [], \"paths\": [{\"data\": \"data01\", \"xindex\": 0, \"yindex\": 1, \"coordinates\": \"data\", \"pathcodes\": [\"M\", \"S\", \"M\", \"L\", \"L\", \"L\", \"Z\"], \"id\": \"el76762576221682224\", \"dasharray\": \"none\", \"alpha\": 1, \"facecolor\": \"#6495ED\", \"edgecolor\": \"#6495ED\", \"edgewidth\": 1.0, \"zorder\": 1}, {\"data\": \"data02\", \"xindex\": 0, \"yindex\": 1, \"coordinates\": \"data\", \"pathcodes\": [\"M\", \"S\", \"M\", \"L\", \"L\", \"L\", \"Z\"], \"id\": \"el76762576221682752\", \"dasharray\": \"none\", \"alpha\": 1, \"facecolor\": \"#6495ED\", \"edgecolor\": \"#6495ED\", \"edgewidth\": 1.0, \"zorder\": 1}, {\"data\": \"data03\", \"xindex\": 0, \"yindex\": 1, \"coordinates\": \"data\", \"pathcodes\": [\"M\", \"S\", \"M\", \"L\", \"L\", \"L\", \"Z\"], \"id\": \"el76762576221683616\", \"dasharray\": \"none\", \"alpha\": 1, \"facecolor\": \"#6495ED\", \"edgecolor\": \"#6495ED\", \"edgewidth\": 1.0, \"zorder\": 1}, {\"data\": \"data04\", \"xindex\": 0, \"yindex\": 1, \"coordinates\": \"data\", \"pathcodes\": [\"M\", \"S\", \"M\", \"L\", \"L\", \"L\", \"Z\"], \"id\": \"el76762576255390864\", \"dasharray\": \"none\", \"alpha\": 1, \"facecolor\": \"#6495ED\", \"edgecolor\": \"#6495ED\", \"edgewidth\": 1.0, \"zorder\": 1}, {\"data\": \"data05\", \"xindex\": 0, \"yindex\": 1, \"coordinates\": \"data\", \"pathcodes\": [\"M\", \"S\", \"M\", \"L\", \"L\", \"L\", \"Z\"], \"id\": \"el76762576255391392\", \"dasharray\": \"none\", \"alpha\": 1, \"facecolor\": \"#6495ED\", \"edgecolor\": \"#6495ED\", \"edgewidth\": 1.0, \"zorder\": 1}, {\"data\": \"data06\", \"xindex\": 0, \"yindex\": 1, \"coordinates\": \"data\", \"pathcodes\": [\"M\", \"S\", \"M\", \"L\", \"L\", \"L\", \"Z\"], \"id\": \"el76762576255391920\", \"dasharray\": \"none\", \"alpha\": 1, \"facecolor\": \"#6495ED\", \"edgecolor\": \"#6495ED\", \"edgewidth\": 1.0, \"zorder\": 1}, {\"data\": \"data07\", \"xindex\": 0, \"yindex\": 1, \"coordinates\": \"data\", \"pathcodes\": [\"M\", \"S\", \"M\", \"L\", \"L\", \"L\", \"Z\"], \"id\": \"el76762576255392448\", \"dasharray\": \"none\", \"alpha\": 1, \"facecolor\": \"#6495ED\", \"edgecolor\": \"#6495ED\", \"edgewidth\": 1.0, \"zorder\": 1}, {\"data\": \"data08\", \"xindex\": 0, \"yindex\": 1, \"coordinates\": \"data\", \"pathcodes\": [\"M\", \"S\", \"M\", \"L\", \"L\", \"L\", \"Z\"], \"id\": \"el76762576255392976\", \"dasharray\": \"none\", \"alpha\": 1, \"facecolor\": \"#6495ED\", \"edgecolor\": \"#6495ED\", \"edgewidth\": 1.0, \"zorder\": 1}, {\"data\": \"data09\", \"xindex\": 0, \"yindex\": 1, \"coordinates\": \"data\", \"pathcodes\": [\"M\", \"S\", \"M\", \"L\", \"L\", \"L\", \"Z\"], \"id\": \"el76762576255393504\", \"dasharray\": \"none\", \"alpha\": 1, \"facecolor\": \"#6495ED\", \"edgecolor\": \"#6495ED\", \"edgewidth\": 1.0, \"zorder\": 1}, {\"data\": \"data10\", \"xindex\": 0, \"yindex\": 1, \"coordinates\": \"data\", \"pathcodes\": [\"M\", \"S\", \"M\", \"L\", \"L\", \"L\", \"Z\"], \"id\": \"el76762576255393600\", \"dasharray\": \"none\", \"alpha\": 1, \"facecolor\": \"#6495ED\", \"edgecolor\": \"#6495ED\", \"edgewidth\": 1.0, \"zorder\": 1}, {\"data\": \"data11\", \"xindex\": 0, \"yindex\": 1, \"coordinates\": \"data\", \"pathcodes\": [\"M\", \"S\", \"M\", \"L\", \"L\", \"L\", \"Z\"], \"id\": \"el76762576255435584\", \"dasharray\": \"none\", \"alpha\": 1, \"facecolor\": \"#6495ED\", \"edgecolor\": \"#6495ED\", \"edgewidth\": 1.0, \"zorder\": 1}, {\"data\": \"data12\", \"xindex\": 0, \"yindex\": 1, \"coordinates\": \"data\", \"pathcodes\": [\"M\", \"S\", \"M\", \"L\", \"L\", \"L\", \"Z\"], \"id\": \"el76762576255436112\", \"dasharray\": \"none\", \"alpha\": 1, \"facecolor\": \"#6495ED\", \"edgecolor\": \"#6495ED\", \"edgewidth\": 1.0, \"zorder\": 1}, {\"data\": \"data13\", \"xindex\": 0, \"yindex\": 1, \"coordinates\": \"data\", \"pathcodes\": [\"M\", \"S\", \"M\", \"L\", \"L\", \"L\", \"Z\"], \"id\": \"el76762576255436640\", \"dasharray\": \"none\", \"alpha\": 1, \"facecolor\": \"#6495ED\", \"edgecolor\": \"#6495ED\", \"edgewidth\": 1.0, \"zorder\": 1}, {\"data\": \"data14\", \"xindex\": 0, \"yindex\": 1, \"coordinates\": \"data\", \"pathcodes\": [\"M\", \"S\", \"M\", \"L\", \"L\", \"L\", \"Z\"], \"id\": \"el76762576255437168\", \"dasharray\": \"none\", \"alpha\": 1, \"facecolor\": \"#6495ED\", \"edgecolor\": \"#6495ED\", \"edgewidth\": 1.0, \"zorder\": 1}, {\"data\": \"data15\", \"xindex\": 0, \"yindex\": 1, \"coordinates\": \"data\", \"pathcodes\": [\"M\", \"S\", \"M\", \"L\", \"L\", \"L\", \"Z\"], \"id\": \"el76762576255437696\", \"dasharray\": \"none\", \"alpha\": 1, \"facecolor\": \"#6495ED\", \"edgecolor\": \"#6495ED\", \"edgewidth\": 1.0, \"zorder\": 1}, {\"data\": \"data16\", \"xindex\": 0, \"yindex\": 1, \"coordinates\": \"data\", \"pathcodes\": [\"M\", \"S\", \"M\", \"L\", \"L\", \"L\", \"Z\"], \"id\": \"el76762576255438224\", \"dasharray\": \"none\", \"alpha\": 1, \"facecolor\": \"#6495ED\", \"edgecolor\": \"#6495ED\", \"edgewidth\": 1.0, \"zorder\": 1}, {\"data\": \"data17\", \"xindex\": 0, \"yindex\": 1, \"coordinates\": \"data\", \"pathcodes\": [\"M\", \"S\", \"M\", \"L\", \"L\", \"L\", \"Z\"], \"id\": \"el76762576255438752\", \"dasharray\": \"none\", \"alpha\": 1, \"facecolor\": \"#6495ED\", \"edgecolor\": \"#6495ED\", \"edgewidth\": 1.0, \"zorder\": 1}, {\"data\": \"data18\", \"xindex\": 0, \"yindex\": 1, \"coordinates\": \"data\", \"pathcodes\": [\"M\", \"S\", \"M\", \"L\", \"L\", \"L\", \"Z\"], \"id\": \"el76762576255438608\", \"dasharray\": \"none\", \"alpha\": 1, \"facecolor\": \"#6495ED\", \"edgecolor\": \"#6495ED\", \"edgewidth\": 1.0, \"zorder\": 1}, {\"data\": \"data19\", \"xindex\": 0, \"yindex\": 1, \"coordinates\": \"data\", \"pathcodes\": [\"M\", \"S\", \"M\", \"L\", \"L\", \"L\", \"Z\"], \"id\": \"el76762576255476736\", \"dasharray\": \"none\", \"alpha\": 1, \"facecolor\": \"#6495ED\", \"edgecolor\": \"#6495ED\", \"edgewidth\": 1.0, \"zorder\": 1}, {\"data\": \"data20\", \"xindex\": 0, \"yindex\": 1, \"coordinates\": \"data\", \"pathcodes\": [\"M\", \"S\", \"M\", \"L\", \"L\", \"L\", \"Z\"], \"id\": \"el76762576255477264\", \"dasharray\": \"none\", \"alpha\": 1, \"facecolor\": \"#6495ED\", \"edgecolor\": \"#6495ED\", \"edgewidth\": 1.0, \"zorder\": 1}], \"markers\": [], \"texts\": [{\"text\": \"GlcNAc(b1-3)\", \"position\": [0.682492832865973, -0.08751997287741321], \"coordinates\": \"data\", \"h_anchor\": \"middle\", \"v_baseline\": \"auto\", \"rotation\": -70.87531523957068, \"fontsize\": 10.0, \"color\": \"#000000\", \"alpha\": 1, \"zorder\": 1, \"id\": \"el76762576220642848\"}, {\"text\": \"Fuc(a1-2)\", \"position\": [0.5588485841687787, 0.27327461608742787], \"coordinates\": \"data\", \"h_anchor\": \"middle\", \"v_baseline\": \"auto\", \"rotation\": -336.37601674723254, \"fontsize\": 10.0, \"color\": \"#000000\", \"alpha\": 1, \"zorder\": 1, \"id\": \"el76762576221681168\"}, {\"text\": \"GlcNAc(b1-6)\", \"position\": [0.7593786210539706, 0.13642708220712152], \"coordinates\": \"data\", \"h_anchor\": \"middle\", \"v_baseline\": \"auto\", \"rotation\": -44.2990807872675, \"fontsize\": 10.0, \"color\": \"#000000\", \"alpha\": 1, \"zorder\": 1, \"id\": \"el76762576255477552\"}, {\"text\": \"GlcNAc(b1-3)\", \"position\": [0.8170768949626193, 0.06063195044520736], \"coordinates\": \"data\", \"h_anchor\": \"middle\", \"v_baseline\": \"auto\", \"rotation\": -70.7643789535892, \"fontsize\": 10.0, \"color\": \"#000000\", \"alpha\": 1, \"zorder\": 1, \"id\": \"el76762576255478368\"}, {\"text\": \"Gal(b1-4)\", \"position\": [0.20585669413527505, -0.3693863076889691], \"coordinates\": \"data\", \"h_anchor\": \"middle\", \"v_baseline\": \"auto\", \"rotation\": -350.15336405474454, \"fontsize\": 10.0, \"color\": \"#000000\", \"alpha\": 1, \"zorder\": 1, \"id\": \"el76762576255479136\"}, {\"text\": \"6S\", \"position\": [0.5469889153763522, -0.23483403022483923], \"coordinates\": \"data\", \"h_anchor\": \"middle\", \"v_baseline\": \"auto\", \"rotation\": -70.98577203466812, \"fontsize\": 10.0, \"color\": \"#000000\", \"alpha\": 1, \"zorder\": 1, \"id\": \"el76762576255533216\"}, {\"text\": \"GlcNAc(b1-6)\", \"position\": [0.29033016351656465, -0.21631401877147652], \"coordinates\": \"data\", \"h_anchor\": \"middle\", \"v_baseline\": \"auto\", \"rotation\": -285.5275610689534, \"fontsize\": 10.0, \"color\": \"#000000\", \"alpha\": 1, \"zorder\": 1, \"id\": \"el76762576255533984\"}, {\"text\": \"GlcNAc(b1-6)\", \"position\": [-0.12164807040313388, -0.1884635786187777], \"coordinates\": \"data\", \"h_anchor\": \"middle\", \"v_baseline\": \"auto\", \"rotation\": -285.33504261680525, \"fontsize\": 10.0, \"color\": \"#000000\", \"alpha\": 1, \"zorder\": 1, \"id\": \"el76762576255534752\"}, {\"text\": \"Neu5Ac(a2-3)\", \"position\": [-0.1991974472599651, -0.3083317778598015], \"coordinates\": \"data\", \"h_anchor\": \"middle\", \"v_baseline\": \"auto\", \"rotation\": -327.78127600644603, \"fontsize\": 10.0, \"color\": \"#000000\", \"alpha\": 1, \"zorder\": 1, \"id\": \"el76762576255535520\"}, {\"text\": \"Neu5Ac(a2-3)\", \"position\": [-0.8079873364187, 0.19671222345627232], \"coordinates\": \"data\", \"h_anchor\": \"middle\", \"v_baseline\": \"auto\", \"rotation\": -322.33435726770955, \"fontsize\": 10.0, \"color\": \"#000000\", \"alpha\": 1, \"zorder\": 1, \"id\": \"el76762576255536288\"}, {\"text\": \"Gal(b1-3)\", \"position\": [-0.819447804706217, 0.16074856390246356], \"coordinates\": \"data\", \"h_anchor\": \"middle\", \"v_baseline\": \"auto\", \"rotation\": -306.610042185902, \"fontsize\": 10.0, \"color\": \"#000000\", \"alpha\": 1, \"zorder\": 1, \"id\": \"el76762576255537056\"}, {\"text\": \"Gal(b1-4)\", \"position\": [-0.41924468165567813, 0.10499003900123037], \"coordinates\": \"data\", \"h_anchor\": \"middle\", \"v_baseline\": \"auto\", \"rotation\": -334.56305868964074, \"fontsize\": 10.0, \"color\": \"#000000\", \"alpha\": 1, \"zorder\": 1, \"id\": \"el76762576255562464\"}, {\"text\": \"Gal(b1-3)\", \"position\": [-0.42928967431725606, 0.059672437629694215], \"coordinates\": \"data\", \"h_anchor\": \"middle\", \"v_baseline\": \"auto\", \"rotation\": -311.2288349194879, \"fontsize\": 10.0, \"color\": \"#000000\", \"alpha\": 1, \"zorder\": 1, \"id\": \"el76762576255563232\"}, {\"text\": \"Neu5Ac(a2-3)\", \"position\": [-0.4407501426047731, 0.023708778075885444], \"coordinates\": \"data\", \"h_anchor\": \"middle\", \"v_baseline\": \"auto\", \"rotation\": -329.1766631337918, \"fontsize\": 10.0, \"color\": \"#000000\", \"alpha\": 1, \"zorder\": 1, \"id\": \"el76762576255564000\"}, {\"text\": \"GlcNAc(b1-6)\", \"position\": [-0.5182995194616042, -0.09615942116513838], \"coordinates\": \"data\", \"h_anchor\": \"middle\", \"v_baseline\": \"auto\", \"rotation\": -285.52179095717486, \"fontsize\": 10.0, \"color\": \"#000000\", \"alpha\": 1, \"zorder\": 1, \"id\": \"el76762576255564768\"}, {\"text\": \"GlcNAc(b1-3)\", \"position\": [-0.025118524966254843, 0.041837154151996875], \"coordinates\": \"data\", \"h_anchor\": \"middle\", \"v_baseline\": \"auto\", \"rotation\": -339.728239662108, \"fontsize\": 10.0, \"color\": \"#000000\", \"alpha\": 1, \"zorder\": 1, \"id\": \"el76762576255565536\"}, {\"text\": \"Gal(b1-3)\", \"position\": [-0.027129608360266372, 0.009926311670250997], \"coordinates\": \"data\", \"h_anchor\": \"middle\", \"v_baseline\": \"auto\", \"rotation\": -321.2114956961286, \"fontsize\": 10.0, \"color\": \"#000000\", \"alpha\": 1, \"zorder\": 1, \"id\": \"el76762576255586848\"}, {\"text\": \"Gal(b1-4)\", \"position\": [-0.037174601021844264, -0.03539128970128516], \"coordinates\": \"data\", \"h_anchor\": \"middle\", \"v_baseline\": \"auto\", \"rotation\": -349.63690191075625, \"fontsize\": 10.0, \"color\": \"#000000\", \"alpha\": 1, \"zorder\": 1, \"id\": \"el76762576255587616\"}, {\"text\": \"Gal(b1-3)\", \"position\": [0.36922703509857385, 0.0395438787948041], \"coordinates\": \"data\", \"h_anchor\": \"middle\", \"v_baseline\": \"auto\", \"rotation\": -18.752041843789183, \"fontsize\": 10.0, \"color\": \"#000000\", \"alpha\": 1, \"zorder\": 1, \"id\": \"el76762576255588384\"}, {\"text\": \"GlcNAc(b1-3)\", \"position\": [0.36721595170456234, 0.0076330363130582245], \"coordinates\": \"data\", \"h_anchor\": \"middle\", \"v_baseline\": \"auto\", \"rotation\": -37.19352196343178, \"fontsize\": 10.0, \"color\": \"#000000\", \"alpha\": 1, \"zorder\": 1, \"id\": \"el76762576255589152\"}], \"collections\": [{\"offsets\": \"data21\", \"xindex\": 0, \"yindex\": 1, \"paths\": [[[[0.0, -0.5], [0.13260155, -0.5], [0.25978993539242673, -0.44731684579412084], [0.3535533905932738, -0.3535533905932738], [0.44731684579412084, -0.25978993539242673], [0.5, -0.13260155], [0.5, 0.0], [0.5, 0.13260155], [0.44731684579412084, 0.25978993539242673], [0.3535533905932738, 0.3535533905932738], [0.25978993539242673, 0.44731684579412084], [0.13260155, 0.5], [0.0, 0.5], [-0.13260155, 0.5], [-0.25978993539242673, 0.44731684579412084], [-0.3535533905932738, 0.3535533905932738], [-0.44731684579412084, 0.25978993539242673], [-0.5, 0.13260155], [-0.5, 0.0], [-0.5, -0.13260155], [-0.44731684579412084, -0.25978993539242673], [-0.3535533905932738, -0.3535533905932738], [-0.25978993539242673, -0.44731684579412084], [-0.13260155, -0.5], [0.0, -0.5]], [\"M\", \"C\", \"C\", \"C\", \"C\", \"C\", \"C\", \"C\", \"C\", \"Z\"]]], \"pathtransforms\": [[7.0710678118654755, 0.0, 0.0, 7.0710678118654755, 0.0, 0.0]], \"alphas\": [0.7], \"edgecolors\": [\"rgba(100, 149, 237, 0.7)\", \"rgba(100, 149, 237, 0.7)\", \"rgba(100, 149, 237, 0.7)\", \"rgba(100, 149, 237, 0.7)\", \"rgba(100, 149, 237, 0.7)\", \"rgba(100, 149, 237, 0.7)\", \"rgba(255, 140, 0, 0.7)\", \"rgba(255, 140, 0, 0.7)\", \"rgba(255, 140, 0, 0.7)\", \"rgba(255, 140, 0, 0.7)\", \"rgba(255, 140, 0, 0.7)\", \"rgba(255, 140, 0, 0.7)\", \"rgba(255, 140, 0, 0.7)\", \"rgba(255, 140, 0, 0.7)\"], \"facecolors\": [\"rgba(100, 149, 237, 0.7)\", \"rgba(100, 149, 237, 0.7)\", \"rgba(100, 149, 237, 0.7)\", \"rgba(100, 149, 237, 0.7)\", \"rgba(100, 149, 237, 0.7)\", \"rgba(100, 149, 237, 0.7)\", \"rgba(255, 140, 0, 0.7)\", \"rgba(255, 140, 0, 0.7)\", \"rgba(255, 140, 0, 0.7)\", \"rgba(255, 140, 0, 0.7)\", \"rgba(255, 140, 0, 0.7)\", \"rgba(255, 140, 0, 0.7)\", \"rgba(255, 140, 0, 0.7)\", \"rgba(255, 140, 0, 0.7)\"], \"edgewidths\": [1.0], \"offsetcoordinates\": \"data\", \"pathcoordinates\": \"display\", \"zorder\": 2, \"id\": \"el76762576221680736\"}], \"images\": [], \"sharex\": [], \"sharey\": []}], \"data\": {\"data01\": [[0.9450760790106725, 0.19973611474453545], [0.6824935322230896, -0.08751920780731803], [0.42088031670243264, -0.37371411880803485], [0.4293488046951013, -0.37057805857823134], [0.42088031670243264, -0.37371411880803485], [0.41934779864756466, -0.36926249163794134], [0.4293488046951013, -0.37057805857823134]], \"data02\": [[0.9315892901496521, 0.21142895086792035], [0.5588494883388693, 0.2732744660662476], [0.1888203971798066, 0.3346702163186396], [0.19639760769554115, 0.3312216133021608], [0.1888203971798066, 0.3346702163186396], [0.2006394531747271, 0.3349005633574954], [0.19639760769554115, 0.3312216133021608]], \"data03\": [[0.9361838613328985, 0.2018762405790926], [0.759380764917382, 0.1364278758151376], [0.584695193858892, 0.07176336933632155], [0.5959674644669053, 0.07313084361304589], [0.584695193858892, 0.07176336933632155], [0.5885747013065235, 0.07600472837254901], [0.5959674644669053, 0.07313084361304589]], \"data04\": [[0.9450339786687145, 0.1997414132290638], [0.8170803581157693, 0.060635715437033055], [0.6901014794070308, -0.07741028475660527], [0.698585958136178, -0.0742804504331478], [0.6901014794070308, -0.07741028475660527], [0.6885916855551986, -0.07295754031014845], [0.698585958136178, -0.0742804504331478]], \"data05\": [[0.3898262550724505, -0.3814993223381973], [0.20585937317426595, -0.36938648408357677], [0.024807568366123967, -0.3574655817737693], [0.03433176731481402, -0.3601304297816369], [0.024807568366123967, -0.3574655817737693], [0.03614196312299556, -0.35617411558967005], [0.03433176731481402, -0.3601304297816369]], \"data06\": [[0.41986759866635204, -0.3747708642933948], [0.5469885425176915, -0.23483444067260612], [0.6731455459041276, -0.09595913552022417], [0.6646930110744798, -0.09910138306610083], [0.6731455459041276, -0.09595913552022417], [0.6747006842352565, -0.10040963366246947], [0.6646930110744798, -0.09910138306610083]], \"data07\": [[0.4062709428581053, -0.37461115677595536], [0.29033119487079984, -0.2163154269078083], [0.1751834860103021, -0.05910108986514706], [0.17291772849399023, -0.063507472342758], [0.1751834860103021, -0.05910108986514706], [0.1831166141774332, -0.06243252456567017], [0.17291772849399023, -0.063507472342758]], \"data08\": [[-0.006750738317085059, -0.34740467815457476], [-0.12164657945024748, -0.18846564110088015], [-0.23575996440889524, -0.030609000326178193], [-0.23806473884786183, -0.03501246992350682], [-0.23575996440889524, -0.030609000326178193], [-0.22785638934390717, -0.03395052803579379], [-0.23806473884786183, -0.03501246992350682]], \"data09\": [[-0.020082872760158077, -0.3511509476095879], [-0.19919853158692935, -0.3083315186403579], [-0.375811107022364, -0.26611047733964016], [-0.3696775753742845, -0.26994991432694965], [-0.375811107022364, -0.26611047733964016], [-0.36403403189802996, -0.26655275396414224], [-0.3696775753742845, -0.26994991432694965]], \"data10\": [[-0.634110634561769, 0.14579610398508291], [-0.8079856872431279, 0.1967117405300406], [-0.9795186931638348, 0.24694155815044405], [-0.9743735966812019, 0.24289859626432686], [-0.9795186931638348, 0.24694155815044405], [-0.9679054672039014, 0.24607719928277505], [-0.9743735966812019, 0.24289859626432686]], \"data11\": [[-0.652565958427445, 0.07553817427382925], [-0.8194467945731003, 0.16074804812535315], [-0.9845631871280558, 0.24505699159293248], [-0.9824989715043894, 0.24063638224737882], [-0.9845631871280558, 0.24505699159293248], [-0.974002072155661, 0.24303106787770257], [-0.9824989715043894, 0.24063638224737882]], \"data12\": [[-0.24320952322552447, 0.07322860651354857], [-0.4192457264624927, 0.10499022751221543], [-0.5926100855524057, 0.13626977664381268], [-0.5853242753900103, 0.13273196349296112], [-0.5926100855524057, 0.13626977664381268], [-0.5807777352728829, 0.13635816430728032], [-0.5853242753900103, 0.13273196349296112]], \"data13\": [[-0.2577078841429645, -0.014602559448810504], [-0.42928900846178, 0.059672149391569174], [-0.5989201738490205, 0.1331027523755005], [-0.5959242752125334, 0.12875955483445312], [-0.5989201738490205, 0.1331027523755005], [-0.587963302167637, 0.13140602007583357], [-0.5959242752125334, 0.12875955483445312]], \"data14\": [[-0.2622873996270354, -0.016685405527101405], [-0.4407504773093849, 0.0237088538346647], [-0.6166728010744388, 0.06352802576634431], [-0.6102946200729946, 0.05974638721106429], [-0.6166728010744388, 0.06352802576634431], [-0.6048708269617344, 0.06319467364425213], [-0.6102946200729946, 0.05974638721106429]], \"data15\": [[-0.40383665045508166, -0.2524997677815038], [-0.5183003852259818, -0.09615823865150674], [-0.631972367958291, 0.05910186740022927], [-0.6342392952533659, 0.05469557150366322], [-0.631972367958291, 0.05910186740022927], [-0.6240401242484497, 0.05577012964742467], [-0.6342392952533659, 0.05469557150366322]], \"data16\": [[0.15077177167967637, 0.017192829265937792], [-0.02512329725596696, 0.041837822806609304], [-0.19824296516154094, 0.06609394961626469], [-0.19014713817883067, 0.06281932410177193], [-0.19824296516154094, 0.06609394961626469], [-0.18647963896646624, 0.06658607130758998], [-0.19014713817883067, 0.06281932410177193]], \"data17\": [[0.1503972486273708, -0.04419752390580489], [-0.027127976165914447, 0.009925814051917503], [-0.20234703216995342, 0.06334605444751473], [-0.19741177619214256, 0.05926562124474111], [-0.20234703216995342, 0.06334605444751473], [-0.1907806875706668, 0.06239553103036255], [-0.19741177619214256, 0.05926562124474111]], \"data18\": [[0.145723867041317, -0.04807905437228199], [-0.037164323795904064, -0.03539200263795206], [-0.21714211665953576, -0.022906846769557232], [-0.20768162547798186, -0.025604153248907635], [-0.21714211665953576, -0.022906846769557232], [-0.2057774951674185, -0.021654189508150457], [-0.20768162547798186, -0.025604153248907635]], \"data19\": [[0.5444788187441039, 0.062113813269718654], [0.3692314469820279, 0.039544446982575976], [0.19678568660551732, 0.017335888352171924], [0.2085104697522333, 0.01672559324548717], [0.19678568660551732, 0.017335888352171924], [0.2051076026737193, 0.020527912890119904], [0.2085104697522333, 0.01672559324548717]], \"data20\": [[0.5479185513232103, 0.05965222745999432], [0.36721419727206905, 0.007632531261335673], [0.18886670748696988, -0.043708690067446376], [0.20049831435932242, -0.04288066117544942], [0.18886670748696988, -0.043708690067446376], [0.19409944849496785, -0.039681947983221666], [0.20049831435932242, -0.04288066117544942]], \"data21\": [[0.9525808124522399, 0.20794600779263336], [0.41240485327970594, -0.3829859535474598], [0.6815729774729985, -0.08668210690221864], [-0.000691465009155842, -0.3557866618304783], [0.1651163558853175, 0.3386032243822224], [-1.0, 0.25293907624607914], [-0.6159746728374002, 0.1404853706664655], [-0.6388956094124342, 0.06855805155884795], [-0.22251469047395614, 0.06949470733599525], [-0.24260467579711192, -0.021140495407077062], [-0.39770342951077436, -0.2608768938891247], [0.17227764054144645, 0.014179600967998505], [0.1682554737534234, -0.049642083995493254], [0.5661764296557013, 0.0649081566216097]]}, \"id\": \"el76762576219749728\", \"plugins\": [{\"type\": \"reset\"}, {\"type\": \"zoom\", \"button\": true, \"enabled\": false}, {\"type\": \"boxzoom\", \"button\": true, \"enabled\": false}, {\"type\": \"tooltip\", \"id\": \"el76762576221680736\", \"labels\": [\"Gal(b1-4)Glc-ol\", \"GlcNAc(b1-3)Gal(b1-4)Glc-ol\", \"GlcNAc6S(b1-3)Gal(b1-4)Glc-ol\", \"Gal(b1-4)GlcNAc(b1-3)Gal(b1-4)Glc-ol\", \"Fuc(a1-2)Gal(b1-4)Glc-ol\", \"Neu5Ac(a2-3)Gal(b1-4)GlcNAc(b1-3)[Gal(b1-3)GlcNAc(b1-6)]Gal(b1-4)Glc-ol\", \"Gal(b1-4)GlcNAc(b1-3)[Gal(b1-3)GlcNAc(b1-6)]Gal(b1-4)Glc-ol\", \"Neu5Ac(a2-3)Gal(b1-4)GlcNAc(b1-3)[GlcNAc(b1-6)]Gal(b1-4)Glc-ol\", \"GlcNAc(b1-3)[Gal(b1-3)GlcNAc(b1-6)]Gal(b1-4)Glc-ol\", \"Gal(b1-4)GlcNAc(b1-3)[GlcNAc(b1-6)]Gal(b1-4)Glc-ol\", \"Neu5Ac(a2-3)Gal(b1-4)GlcNAc(b1-3)Gal(b1-4)Glc-ol\", \"Gal(b1-3)GlcNAc(b1-6)Gal(b1-4)Glc-ol\", \"GlcNAc(b1-3)[GlcNAc(b1-6)]Gal(b1-4)Glc-ol\", \"GlcNAc(b1-6)Gal(b1-4)Glc-ol\"], \"hoffset\": 0, \"voffset\": 10, \"location\": \"mouse\"}]});\n",
       "   }(mpld3);\n",
       "}else if(typeof define === \"function\" && define.amd){\n",
       "   // require.js is available: use it to load d3/mpld3\n",
       "   require.config({paths: {d3: \"https://d3js.org/d3.v5\"}});\n",
       "   require([\"d3\"], function(d3){\n",
       "      window.d3 = d3;\n",
       "      mpld3_load_lib(\"https://mpld3.github.io/js/mpld3.v0.5.2.js\", function(){\n",
       "         \n",
       "         mpld3.draw_figure(\"fig_el767625762197497284391691751\", {\"width\": 1152.0, \"height\": 1152.0, \"axes\": [{\"bbox\": [0.125, 0.125, 0.775, 0.755], \"xlim\": [-1.2050209853074851, 1.157601797759725], \"ylim\": [-0.45875281723007644, 0.41437008806483905], \"xdomain\": [-1.2050209853074851, 1.157601797759725], \"ydomain\": [-0.45875281723007644, 0.41437008806483905], \"xscale\": \"linear\", \"yscale\": \"linear\", \"axes\": [{\"position\": \"top\", \"nticks\": 0, \"tickvalues\": [], \"tickformat_formatter\": \"\", \"tickformat\": \"\", \"scale\": \"linear\", \"fontsize\": null, \"grid\": {\"gridOn\": false}, \"visible\": true}, {\"position\": \"right\", \"nticks\": 0, \"tickvalues\": [], \"tickformat_formatter\": \"\", \"tickformat\": \"\", \"scale\": \"linear\", \"fontsize\": null, \"grid\": {\"gridOn\": false}, \"visible\": true}], \"axesbg\": \"#FFFFFF\", \"axesbgalpha\": null, \"zoomable\": true, \"id\": \"el76762576220328864\", \"lines\": [], \"paths\": [{\"data\": \"data01\", \"xindex\": 0, \"yindex\": 1, \"coordinates\": \"data\", \"pathcodes\": [\"M\", \"S\", \"M\", \"L\", \"L\", \"L\", \"Z\"], \"id\": \"el76762576221682224\", \"dasharray\": \"none\", \"alpha\": 1, \"facecolor\": \"#6495ED\", \"edgecolor\": \"#6495ED\", \"edgewidth\": 1.0, \"zorder\": 1}, {\"data\": \"data02\", \"xindex\": 0, \"yindex\": 1, \"coordinates\": \"data\", \"pathcodes\": [\"M\", \"S\", \"M\", \"L\", \"L\", \"L\", \"Z\"], \"id\": \"el76762576221682752\", \"dasharray\": \"none\", \"alpha\": 1, \"facecolor\": \"#6495ED\", \"edgecolor\": \"#6495ED\", \"edgewidth\": 1.0, \"zorder\": 1}, {\"data\": \"data03\", \"xindex\": 0, \"yindex\": 1, \"coordinates\": \"data\", \"pathcodes\": [\"M\", \"S\", \"M\", \"L\", \"L\", \"L\", \"Z\"], \"id\": \"el76762576221683616\", \"dasharray\": \"none\", \"alpha\": 1, \"facecolor\": \"#6495ED\", \"edgecolor\": \"#6495ED\", \"edgewidth\": 1.0, \"zorder\": 1}, {\"data\": \"data04\", \"xindex\": 0, \"yindex\": 1, \"coordinates\": \"data\", \"pathcodes\": [\"M\", \"S\", \"M\", \"L\", \"L\", \"L\", \"Z\"], \"id\": \"el76762576255390864\", \"dasharray\": \"none\", \"alpha\": 1, \"facecolor\": \"#6495ED\", \"edgecolor\": \"#6495ED\", \"edgewidth\": 1.0, \"zorder\": 1}, {\"data\": \"data05\", \"xindex\": 0, \"yindex\": 1, \"coordinates\": \"data\", \"pathcodes\": [\"M\", \"S\", \"M\", \"L\", \"L\", \"L\", \"Z\"], \"id\": \"el76762576255391392\", \"dasharray\": \"none\", \"alpha\": 1, \"facecolor\": \"#6495ED\", \"edgecolor\": \"#6495ED\", \"edgewidth\": 1.0, \"zorder\": 1}, {\"data\": \"data06\", \"xindex\": 0, \"yindex\": 1, \"coordinates\": \"data\", \"pathcodes\": [\"M\", \"S\", \"M\", \"L\", \"L\", \"L\", \"Z\"], \"id\": \"el76762576255391920\", \"dasharray\": \"none\", \"alpha\": 1, \"facecolor\": \"#6495ED\", \"edgecolor\": \"#6495ED\", \"edgewidth\": 1.0, \"zorder\": 1}, {\"data\": \"data07\", \"xindex\": 0, \"yindex\": 1, \"coordinates\": \"data\", \"pathcodes\": [\"M\", \"S\", \"M\", \"L\", \"L\", \"L\", \"Z\"], \"id\": \"el76762576255392448\", \"dasharray\": \"none\", \"alpha\": 1, \"facecolor\": \"#6495ED\", \"edgecolor\": \"#6495ED\", \"edgewidth\": 1.0, \"zorder\": 1}, {\"data\": \"data08\", \"xindex\": 0, \"yindex\": 1, \"coordinates\": \"data\", \"pathcodes\": [\"M\", \"S\", \"M\", \"L\", \"L\", \"L\", \"Z\"], \"id\": \"el76762576255392976\", \"dasharray\": \"none\", \"alpha\": 1, \"facecolor\": \"#6495ED\", \"edgecolor\": \"#6495ED\", \"edgewidth\": 1.0, \"zorder\": 1}, {\"data\": \"data09\", \"xindex\": 0, \"yindex\": 1, \"coordinates\": \"data\", \"pathcodes\": [\"M\", \"S\", \"M\", \"L\", \"L\", \"L\", \"Z\"], \"id\": \"el76762576255393504\", \"dasharray\": \"none\", \"alpha\": 1, \"facecolor\": \"#6495ED\", \"edgecolor\": \"#6495ED\", \"edgewidth\": 1.0, \"zorder\": 1}, {\"data\": \"data10\", \"xindex\": 0, \"yindex\": 1, \"coordinates\": \"data\", \"pathcodes\": [\"M\", \"S\", \"M\", \"L\", \"L\", \"L\", \"Z\"], \"id\": \"el76762576255393600\", \"dasharray\": \"none\", \"alpha\": 1, \"facecolor\": \"#6495ED\", \"edgecolor\": \"#6495ED\", \"edgewidth\": 1.0, \"zorder\": 1}, {\"data\": \"data11\", \"xindex\": 0, \"yindex\": 1, \"coordinates\": \"data\", \"pathcodes\": [\"M\", \"S\", \"M\", \"L\", \"L\", \"L\", \"Z\"], \"id\": \"el76762576255435584\", \"dasharray\": \"none\", \"alpha\": 1, \"facecolor\": \"#6495ED\", \"edgecolor\": \"#6495ED\", \"edgewidth\": 1.0, \"zorder\": 1}, {\"data\": \"data12\", \"xindex\": 0, \"yindex\": 1, \"coordinates\": \"data\", \"pathcodes\": [\"M\", \"S\", \"M\", \"L\", \"L\", \"L\", \"Z\"], \"id\": \"el76762576255436112\", \"dasharray\": \"none\", \"alpha\": 1, \"facecolor\": \"#6495ED\", \"edgecolor\": \"#6495ED\", \"edgewidth\": 1.0, \"zorder\": 1}, {\"data\": \"data13\", \"xindex\": 0, \"yindex\": 1, \"coordinates\": \"data\", \"pathcodes\": [\"M\", \"S\", \"M\", \"L\", \"L\", \"L\", \"Z\"], \"id\": \"el76762576255436640\", \"dasharray\": \"none\", \"alpha\": 1, \"facecolor\": \"#6495ED\", \"edgecolor\": \"#6495ED\", \"edgewidth\": 1.0, \"zorder\": 1}, {\"data\": \"data14\", \"xindex\": 0, \"yindex\": 1, \"coordinates\": \"data\", \"pathcodes\": [\"M\", \"S\", \"M\", \"L\", \"L\", \"L\", \"Z\"], \"id\": \"el76762576255437168\", \"dasharray\": \"none\", \"alpha\": 1, \"facecolor\": \"#6495ED\", \"edgecolor\": \"#6495ED\", \"edgewidth\": 1.0, \"zorder\": 1}, {\"data\": \"data15\", \"xindex\": 0, \"yindex\": 1, \"coordinates\": \"data\", \"pathcodes\": [\"M\", \"S\", \"M\", \"L\", \"L\", \"L\", \"Z\"], \"id\": \"el76762576255437696\", \"dasharray\": \"none\", \"alpha\": 1, \"facecolor\": \"#6495ED\", \"edgecolor\": \"#6495ED\", \"edgewidth\": 1.0, \"zorder\": 1}, {\"data\": \"data16\", \"xindex\": 0, \"yindex\": 1, \"coordinates\": \"data\", \"pathcodes\": [\"M\", \"S\", \"M\", \"L\", \"L\", \"L\", \"Z\"], \"id\": \"el76762576255438224\", \"dasharray\": \"none\", \"alpha\": 1, \"facecolor\": \"#6495ED\", \"edgecolor\": \"#6495ED\", \"edgewidth\": 1.0, \"zorder\": 1}, {\"data\": \"data17\", \"xindex\": 0, \"yindex\": 1, \"coordinates\": \"data\", \"pathcodes\": [\"M\", \"S\", \"M\", \"L\", \"L\", \"L\", \"Z\"], \"id\": \"el76762576255438752\", \"dasharray\": \"none\", \"alpha\": 1, \"facecolor\": \"#6495ED\", \"edgecolor\": \"#6495ED\", \"edgewidth\": 1.0, \"zorder\": 1}, {\"data\": \"data18\", \"xindex\": 0, \"yindex\": 1, \"coordinates\": \"data\", \"pathcodes\": [\"M\", \"S\", \"M\", \"L\", \"L\", \"L\", \"Z\"], \"id\": \"el76762576255438608\", \"dasharray\": \"none\", \"alpha\": 1, \"facecolor\": \"#6495ED\", \"edgecolor\": \"#6495ED\", \"edgewidth\": 1.0, \"zorder\": 1}, {\"data\": \"data19\", \"xindex\": 0, \"yindex\": 1, \"coordinates\": \"data\", \"pathcodes\": [\"M\", \"S\", \"M\", \"L\", \"L\", \"L\", \"Z\"], \"id\": \"el76762576255476736\", \"dasharray\": \"none\", \"alpha\": 1, \"facecolor\": \"#6495ED\", \"edgecolor\": \"#6495ED\", \"edgewidth\": 1.0, \"zorder\": 1}, {\"data\": \"data20\", \"xindex\": 0, \"yindex\": 1, \"coordinates\": \"data\", \"pathcodes\": [\"M\", \"S\", \"M\", \"L\", \"L\", \"L\", \"Z\"], \"id\": \"el76762576255477264\", \"dasharray\": \"none\", \"alpha\": 1, \"facecolor\": \"#6495ED\", \"edgecolor\": \"#6495ED\", \"edgewidth\": 1.0, \"zorder\": 1}], \"markers\": [], \"texts\": [{\"text\": \"GlcNAc(b1-3)\", \"position\": [0.682492832865973, -0.08751997287741321], \"coordinates\": \"data\", \"h_anchor\": \"middle\", \"v_baseline\": \"auto\", \"rotation\": -70.87531523957068, \"fontsize\": 10.0, \"color\": \"#000000\", \"alpha\": 1, \"zorder\": 1, \"id\": \"el76762576220642848\"}, {\"text\": \"Fuc(a1-2)\", \"position\": [0.5588485841687787, 0.27327461608742787], \"coordinates\": \"data\", \"h_anchor\": \"middle\", \"v_baseline\": \"auto\", \"rotation\": -336.37601674723254, \"fontsize\": 10.0, \"color\": \"#000000\", \"alpha\": 1, \"zorder\": 1, \"id\": \"el76762576221681168\"}, {\"text\": \"GlcNAc(b1-6)\", \"position\": [0.7593786210539706, 0.13642708220712152], \"coordinates\": \"data\", \"h_anchor\": \"middle\", \"v_baseline\": \"auto\", \"rotation\": -44.2990807872675, \"fontsize\": 10.0, \"color\": \"#000000\", \"alpha\": 1, \"zorder\": 1, \"id\": \"el76762576255477552\"}, {\"text\": \"GlcNAc(b1-3)\", \"position\": [0.8170768949626193, 0.06063195044520736], \"coordinates\": \"data\", \"h_anchor\": \"middle\", \"v_baseline\": \"auto\", \"rotation\": -70.7643789535892, \"fontsize\": 10.0, \"color\": \"#000000\", \"alpha\": 1, \"zorder\": 1, \"id\": \"el76762576255478368\"}, {\"text\": \"Gal(b1-4)\", \"position\": [0.20585669413527505, -0.3693863076889691], \"coordinates\": \"data\", \"h_anchor\": \"middle\", \"v_baseline\": \"auto\", \"rotation\": -350.15336405474454, \"fontsize\": 10.0, \"color\": \"#000000\", \"alpha\": 1, \"zorder\": 1, \"id\": \"el76762576255479136\"}, {\"text\": \"6S\", \"position\": [0.5469889153763522, -0.23483403022483923], \"coordinates\": \"data\", \"h_anchor\": \"middle\", \"v_baseline\": \"auto\", \"rotation\": -70.98577203466812, \"fontsize\": 10.0, \"color\": \"#000000\", \"alpha\": 1, \"zorder\": 1, \"id\": \"el76762576255533216\"}, {\"text\": \"GlcNAc(b1-6)\", \"position\": [0.29033016351656465, -0.21631401877147652], \"coordinates\": \"data\", \"h_anchor\": \"middle\", \"v_baseline\": \"auto\", \"rotation\": -285.5275610689534, \"fontsize\": 10.0, \"color\": \"#000000\", \"alpha\": 1, \"zorder\": 1, \"id\": \"el76762576255533984\"}, {\"text\": \"GlcNAc(b1-6)\", \"position\": [-0.12164807040313388, -0.1884635786187777], \"coordinates\": \"data\", \"h_anchor\": \"middle\", \"v_baseline\": \"auto\", \"rotation\": -285.33504261680525, \"fontsize\": 10.0, \"color\": \"#000000\", \"alpha\": 1, \"zorder\": 1, \"id\": \"el76762576255534752\"}, {\"text\": \"Neu5Ac(a2-3)\", \"position\": [-0.1991974472599651, -0.3083317778598015], \"coordinates\": \"data\", \"h_anchor\": \"middle\", \"v_baseline\": \"auto\", \"rotation\": -327.78127600644603, \"fontsize\": 10.0, \"color\": \"#000000\", \"alpha\": 1, \"zorder\": 1, \"id\": \"el76762576255535520\"}, {\"text\": \"Neu5Ac(a2-3)\", \"position\": [-0.8079873364187, 0.19671222345627232], \"coordinates\": \"data\", \"h_anchor\": \"middle\", \"v_baseline\": \"auto\", \"rotation\": -322.33435726770955, \"fontsize\": 10.0, \"color\": \"#000000\", \"alpha\": 1, \"zorder\": 1, \"id\": \"el76762576255536288\"}, {\"text\": \"Gal(b1-3)\", \"position\": [-0.819447804706217, 0.16074856390246356], \"coordinates\": \"data\", \"h_anchor\": \"middle\", \"v_baseline\": \"auto\", \"rotation\": -306.610042185902, \"fontsize\": 10.0, \"color\": \"#000000\", \"alpha\": 1, \"zorder\": 1, \"id\": \"el76762576255537056\"}, {\"text\": \"Gal(b1-4)\", \"position\": [-0.41924468165567813, 0.10499003900123037], \"coordinates\": \"data\", \"h_anchor\": \"middle\", \"v_baseline\": \"auto\", \"rotation\": -334.56305868964074, \"fontsize\": 10.0, \"color\": \"#000000\", \"alpha\": 1, \"zorder\": 1, \"id\": \"el76762576255562464\"}, {\"text\": \"Gal(b1-3)\", \"position\": [-0.42928967431725606, 0.059672437629694215], \"coordinates\": \"data\", \"h_anchor\": \"middle\", \"v_baseline\": \"auto\", \"rotation\": -311.2288349194879, \"fontsize\": 10.0, \"color\": \"#000000\", \"alpha\": 1, \"zorder\": 1, \"id\": \"el76762576255563232\"}, {\"text\": \"Neu5Ac(a2-3)\", \"position\": [-0.4407501426047731, 0.023708778075885444], \"coordinates\": \"data\", \"h_anchor\": \"middle\", \"v_baseline\": \"auto\", \"rotation\": -329.1766631337918, \"fontsize\": 10.0, \"color\": \"#000000\", \"alpha\": 1, \"zorder\": 1, \"id\": \"el76762576255564000\"}, {\"text\": \"GlcNAc(b1-6)\", \"position\": [-0.5182995194616042, -0.09615942116513838], \"coordinates\": \"data\", \"h_anchor\": \"middle\", \"v_baseline\": \"auto\", \"rotation\": -285.52179095717486, \"fontsize\": 10.0, \"color\": \"#000000\", \"alpha\": 1, \"zorder\": 1, \"id\": \"el76762576255564768\"}, {\"text\": \"GlcNAc(b1-3)\", \"position\": [-0.025118524966254843, 0.041837154151996875], \"coordinates\": \"data\", \"h_anchor\": \"middle\", \"v_baseline\": \"auto\", \"rotation\": -339.728239662108, \"fontsize\": 10.0, \"color\": \"#000000\", \"alpha\": 1, \"zorder\": 1, \"id\": \"el76762576255565536\"}, {\"text\": \"Gal(b1-3)\", \"position\": [-0.027129608360266372, 0.009926311670250997], \"coordinates\": \"data\", \"h_anchor\": \"middle\", \"v_baseline\": \"auto\", \"rotation\": -321.2114956961286, \"fontsize\": 10.0, \"color\": \"#000000\", \"alpha\": 1, \"zorder\": 1, \"id\": \"el76762576255586848\"}, {\"text\": \"Gal(b1-4)\", \"position\": [-0.037174601021844264, -0.03539128970128516], \"coordinates\": \"data\", \"h_anchor\": \"middle\", \"v_baseline\": \"auto\", \"rotation\": -349.63690191075625, \"fontsize\": 10.0, \"color\": \"#000000\", \"alpha\": 1, \"zorder\": 1, \"id\": \"el76762576255587616\"}, {\"text\": \"Gal(b1-3)\", \"position\": [0.36922703509857385, 0.0395438787948041], \"coordinates\": \"data\", \"h_anchor\": \"middle\", \"v_baseline\": \"auto\", \"rotation\": -18.752041843789183, \"fontsize\": 10.0, \"color\": \"#000000\", \"alpha\": 1, \"zorder\": 1, \"id\": \"el76762576255588384\"}, {\"text\": \"GlcNAc(b1-3)\", \"position\": [0.36721595170456234, 0.0076330363130582245], \"coordinates\": \"data\", \"h_anchor\": \"middle\", \"v_baseline\": \"auto\", \"rotation\": -37.19352196343178, \"fontsize\": 10.0, \"color\": \"#000000\", \"alpha\": 1, \"zorder\": 1, \"id\": \"el76762576255589152\"}], \"collections\": [{\"offsets\": \"data21\", \"xindex\": 0, \"yindex\": 1, \"paths\": [[[[0.0, -0.5], [0.13260155, -0.5], [0.25978993539242673, -0.44731684579412084], [0.3535533905932738, -0.3535533905932738], [0.44731684579412084, -0.25978993539242673], [0.5, -0.13260155], [0.5, 0.0], [0.5, 0.13260155], [0.44731684579412084, 0.25978993539242673], [0.3535533905932738, 0.3535533905932738], [0.25978993539242673, 0.44731684579412084], [0.13260155, 0.5], [0.0, 0.5], [-0.13260155, 0.5], [-0.25978993539242673, 0.44731684579412084], [-0.3535533905932738, 0.3535533905932738], [-0.44731684579412084, 0.25978993539242673], [-0.5, 0.13260155], [-0.5, 0.0], [-0.5, -0.13260155], [-0.44731684579412084, -0.25978993539242673], [-0.3535533905932738, -0.3535533905932738], [-0.25978993539242673, -0.44731684579412084], [-0.13260155, -0.5], [0.0, -0.5]], [\"M\", \"C\", \"C\", \"C\", \"C\", \"C\", \"C\", \"C\", \"C\", \"Z\"]]], \"pathtransforms\": [[7.0710678118654755, 0.0, 0.0, 7.0710678118654755, 0.0, 0.0]], \"alphas\": [0.7], \"edgecolors\": [\"rgba(100, 149, 237, 0.7)\", \"rgba(100, 149, 237, 0.7)\", \"rgba(100, 149, 237, 0.7)\", \"rgba(100, 149, 237, 0.7)\", \"rgba(100, 149, 237, 0.7)\", \"rgba(100, 149, 237, 0.7)\", \"rgba(255, 140, 0, 0.7)\", \"rgba(255, 140, 0, 0.7)\", \"rgba(255, 140, 0, 0.7)\", \"rgba(255, 140, 0, 0.7)\", \"rgba(255, 140, 0, 0.7)\", \"rgba(255, 140, 0, 0.7)\", \"rgba(255, 140, 0, 0.7)\", \"rgba(255, 140, 0, 0.7)\"], \"facecolors\": [\"rgba(100, 149, 237, 0.7)\", \"rgba(100, 149, 237, 0.7)\", \"rgba(100, 149, 237, 0.7)\", \"rgba(100, 149, 237, 0.7)\", \"rgba(100, 149, 237, 0.7)\", \"rgba(100, 149, 237, 0.7)\", \"rgba(255, 140, 0, 0.7)\", \"rgba(255, 140, 0, 0.7)\", \"rgba(255, 140, 0, 0.7)\", \"rgba(255, 140, 0, 0.7)\", \"rgba(255, 140, 0, 0.7)\", \"rgba(255, 140, 0, 0.7)\", \"rgba(255, 140, 0, 0.7)\", \"rgba(255, 140, 0, 0.7)\"], \"edgewidths\": [1.0], \"offsetcoordinates\": \"data\", \"pathcoordinates\": \"display\", \"zorder\": 2, \"id\": \"el76762576221680736\"}], \"images\": [], \"sharex\": [], \"sharey\": []}], \"data\": {\"data01\": [[0.9450760790106725, 0.19973611474453545], [0.6824935322230896, -0.08751920780731803], [0.42088031670243264, -0.37371411880803485], [0.4293488046951013, -0.37057805857823134], [0.42088031670243264, -0.37371411880803485], [0.41934779864756466, -0.36926249163794134], [0.4293488046951013, -0.37057805857823134]], \"data02\": [[0.9315892901496521, 0.21142895086792035], [0.5588494883388693, 0.2732744660662476], [0.1888203971798066, 0.3346702163186396], [0.19639760769554115, 0.3312216133021608], [0.1888203971798066, 0.3346702163186396], [0.2006394531747271, 0.3349005633574954], [0.19639760769554115, 0.3312216133021608]], \"data03\": [[0.9361838613328985, 0.2018762405790926], [0.759380764917382, 0.1364278758151376], [0.584695193858892, 0.07176336933632155], [0.5959674644669053, 0.07313084361304589], [0.584695193858892, 0.07176336933632155], [0.5885747013065235, 0.07600472837254901], [0.5959674644669053, 0.07313084361304589]], \"data04\": [[0.9450339786687145, 0.1997414132290638], [0.8170803581157693, 0.060635715437033055], [0.6901014794070308, -0.07741028475660527], [0.698585958136178, -0.0742804504331478], [0.6901014794070308, -0.07741028475660527], [0.6885916855551986, -0.07295754031014845], [0.698585958136178, -0.0742804504331478]], \"data05\": [[0.3898262550724505, -0.3814993223381973], [0.20585937317426595, -0.36938648408357677], [0.024807568366123967, -0.3574655817737693], [0.03433176731481402, -0.3601304297816369], [0.024807568366123967, -0.3574655817737693], [0.03614196312299556, -0.35617411558967005], [0.03433176731481402, -0.3601304297816369]], \"data06\": [[0.41986759866635204, -0.3747708642933948], [0.5469885425176915, -0.23483444067260612], [0.6731455459041276, -0.09595913552022417], [0.6646930110744798, -0.09910138306610083], [0.6731455459041276, -0.09595913552022417], [0.6747006842352565, -0.10040963366246947], [0.6646930110744798, -0.09910138306610083]], \"data07\": [[0.4062709428581053, -0.37461115677595536], [0.29033119487079984, -0.2163154269078083], [0.1751834860103021, -0.05910108986514706], [0.17291772849399023, -0.063507472342758], [0.1751834860103021, -0.05910108986514706], [0.1831166141774332, -0.06243252456567017], [0.17291772849399023, -0.063507472342758]], \"data08\": [[-0.006750738317085059, -0.34740467815457476], [-0.12164657945024748, -0.18846564110088015], [-0.23575996440889524, -0.030609000326178193], [-0.23806473884786183, -0.03501246992350682], [-0.23575996440889524, -0.030609000326178193], [-0.22785638934390717, -0.03395052803579379], [-0.23806473884786183, -0.03501246992350682]], \"data09\": [[-0.020082872760158077, -0.3511509476095879], [-0.19919853158692935, -0.3083315186403579], [-0.375811107022364, -0.26611047733964016], [-0.3696775753742845, -0.26994991432694965], [-0.375811107022364, -0.26611047733964016], [-0.36403403189802996, -0.26655275396414224], [-0.3696775753742845, -0.26994991432694965]], \"data10\": [[-0.634110634561769, 0.14579610398508291], [-0.8079856872431279, 0.1967117405300406], [-0.9795186931638348, 0.24694155815044405], [-0.9743735966812019, 0.24289859626432686], [-0.9795186931638348, 0.24694155815044405], [-0.9679054672039014, 0.24607719928277505], [-0.9743735966812019, 0.24289859626432686]], \"data11\": [[-0.652565958427445, 0.07553817427382925], [-0.8194467945731003, 0.16074804812535315], [-0.9845631871280558, 0.24505699159293248], [-0.9824989715043894, 0.24063638224737882], [-0.9845631871280558, 0.24505699159293248], [-0.974002072155661, 0.24303106787770257], [-0.9824989715043894, 0.24063638224737882]], \"data12\": [[-0.24320952322552447, 0.07322860651354857], [-0.4192457264624927, 0.10499022751221543], [-0.5926100855524057, 0.13626977664381268], [-0.5853242753900103, 0.13273196349296112], [-0.5926100855524057, 0.13626977664381268], [-0.5807777352728829, 0.13635816430728032], [-0.5853242753900103, 0.13273196349296112]], \"data13\": [[-0.2577078841429645, -0.014602559448810504], [-0.42928900846178, 0.059672149391569174], [-0.5989201738490205, 0.1331027523755005], [-0.5959242752125334, 0.12875955483445312], [-0.5989201738490205, 0.1331027523755005], [-0.587963302167637, 0.13140602007583357], [-0.5959242752125334, 0.12875955483445312]], \"data14\": [[-0.2622873996270354, -0.016685405527101405], [-0.4407504773093849, 0.0237088538346647], [-0.6166728010744388, 0.06352802576634431], [-0.6102946200729946, 0.05974638721106429], [-0.6166728010744388, 0.06352802576634431], [-0.6048708269617344, 0.06319467364425213], [-0.6102946200729946, 0.05974638721106429]], \"data15\": [[-0.40383665045508166, -0.2524997677815038], [-0.5183003852259818, -0.09615823865150674], [-0.631972367958291, 0.05910186740022927], [-0.6342392952533659, 0.05469557150366322], [-0.631972367958291, 0.05910186740022927], [-0.6240401242484497, 0.05577012964742467], [-0.6342392952533659, 0.05469557150366322]], \"data16\": [[0.15077177167967637, 0.017192829265937792], [-0.02512329725596696, 0.041837822806609304], [-0.19824296516154094, 0.06609394961626469], [-0.19014713817883067, 0.06281932410177193], [-0.19824296516154094, 0.06609394961626469], [-0.18647963896646624, 0.06658607130758998], [-0.19014713817883067, 0.06281932410177193]], \"data17\": [[0.1503972486273708, -0.04419752390580489], [-0.027127976165914447, 0.009925814051917503], [-0.20234703216995342, 0.06334605444751473], [-0.19741177619214256, 0.05926562124474111], [-0.20234703216995342, 0.06334605444751473], [-0.1907806875706668, 0.06239553103036255], [-0.19741177619214256, 0.05926562124474111]], \"data18\": [[0.145723867041317, -0.04807905437228199], [-0.037164323795904064, -0.03539200263795206], [-0.21714211665953576, -0.022906846769557232], [-0.20768162547798186, -0.025604153248907635], [-0.21714211665953576, -0.022906846769557232], [-0.2057774951674185, -0.021654189508150457], [-0.20768162547798186, -0.025604153248907635]], \"data19\": [[0.5444788187441039, 0.062113813269718654], [0.3692314469820279, 0.039544446982575976], [0.19678568660551732, 0.017335888352171924], [0.2085104697522333, 0.01672559324548717], [0.19678568660551732, 0.017335888352171924], [0.2051076026737193, 0.020527912890119904], [0.2085104697522333, 0.01672559324548717]], \"data20\": [[0.5479185513232103, 0.05965222745999432], [0.36721419727206905, 0.007632531261335673], [0.18886670748696988, -0.043708690067446376], [0.20049831435932242, -0.04288066117544942], [0.18886670748696988, -0.043708690067446376], [0.19409944849496785, -0.039681947983221666], [0.20049831435932242, -0.04288066117544942]], \"data21\": [[0.9525808124522399, 0.20794600779263336], [0.41240485327970594, -0.3829859535474598], [0.6815729774729985, -0.08668210690221864], [-0.000691465009155842, -0.3557866618304783], [0.1651163558853175, 0.3386032243822224], [-1.0, 0.25293907624607914], [-0.6159746728374002, 0.1404853706664655], [-0.6388956094124342, 0.06855805155884795], [-0.22251469047395614, 0.06949470733599525], [-0.24260467579711192, -0.021140495407077062], [-0.39770342951077436, -0.2608768938891247], [0.17227764054144645, 0.014179600967998505], [0.1682554737534234, -0.049642083995493254], [0.5661764296557013, 0.0649081566216097]]}, \"id\": \"el76762576219749728\", \"plugins\": [{\"type\": \"reset\"}, {\"type\": \"zoom\", \"button\": true, \"enabled\": false}, {\"type\": \"boxzoom\", \"button\": true, \"enabled\": false}, {\"type\": \"tooltip\", \"id\": \"el76762576221680736\", \"labels\": [\"Gal(b1-4)Glc-ol\", \"GlcNAc(b1-3)Gal(b1-4)Glc-ol\", \"GlcNAc6S(b1-3)Gal(b1-4)Glc-ol\", \"Gal(b1-4)GlcNAc(b1-3)Gal(b1-4)Glc-ol\", \"Fuc(a1-2)Gal(b1-4)Glc-ol\", \"Neu5Ac(a2-3)Gal(b1-4)GlcNAc(b1-3)[Gal(b1-3)GlcNAc(b1-6)]Gal(b1-4)Glc-ol\", \"Gal(b1-4)GlcNAc(b1-3)[Gal(b1-3)GlcNAc(b1-6)]Gal(b1-4)Glc-ol\", \"Neu5Ac(a2-3)Gal(b1-4)GlcNAc(b1-3)[GlcNAc(b1-6)]Gal(b1-4)Glc-ol\", \"GlcNAc(b1-3)[Gal(b1-3)GlcNAc(b1-6)]Gal(b1-4)Glc-ol\", \"Gal(b1-4)GlcNAc(b1-3)[GlcNAc(b1-6)]Gal(b1-4)Glc-ol\", \"Neu5Ac(a2-3)Gal(b1-4)GlcNAc(b1-3)Gal(b1-4)Glc-ol\", \"Gal(b1-3)GlcNAc(b1-6)Gal(b1-4)Glc-ol\", \"GlcNAc(b1-3)[GlcNAc(b1-6)]Gal(b1-4)Glc-ol\", \"GlcNAc(b1-6)Gal(b1-4)Glc-ol\"], \"hoffset\": 0, \"voffset\": 10, \"location\": \"mouse\"}]});\n",
       "      });\n",
       "    });\n",
       "}else{\n",
       "    // require.js not available: dynamically load d3 & mpld3\n",
       "    mpld3_load_lib(\"https://d3js.org/d3.v5.js\", function(){\n",
       "         mpld3_load_lib(\"https://mpld3.github.io/js/mpld3.v0.5.2.js\", function(){\n",
       "                 \n",
       "                 mpld3.draw_figure(\"fig_el767625762197497284391691751\", {\"width\": 1152.0, \"height\": 1152.0, \"axes\": [{\"bbox\": [0.125, 0.125, 0.775, 0.755], \"xlim\": [-1.2050209853074851, 1.157601797759725], \"ylim\": [-0.45875281723007644, 0.41437008806483905], \"xdomain\": [-1.2050209853074851, 1.157601797759725], \"ydomain\": [-0.45875281723007644, 0.41437008806483905], \"xscale\": \"linear\", \"yscale\": \"linear\", \"axes\": [{\"position\": \"top\", \"nticks\": 0, \"tickvalues\": [], \"tickformat_formatter\": \"\", \"tickformat\": \"\", \"scale\": \"linear\", \"fontsize\": null, \"grid\": {\"gridOn\": false}, \"visible\": true}, {\"position\": \"right\", \"nticks\": 0, \"tickvalues\": [], \"tickformat_formatter\": \"\", \"tickformat\": \"\", \"scale\": \"linear\", \"fontsize\": null, \"grid\": {\"gridOn\": false}, \"visible\": true}], \"axesbg\": \"#FFFFFF\", \"axesbgalpha\": null, \"zoomable\": true, \"id\": \"el76762576220328864\", \"lines\": [], \"paths\": [{\"data\": \"data01\", \"xindex\": 0, \"yindex\": 1, \"coordinates\": \"data\", \"pathcodes\": [\"M\", \"S\", \"M\", \"L\", \"L\", \"L\", \"Z\"], \"id\": \"el76762576221682224\", \"dasharray\": \"none\", \"alpha\": 1, \"facecolor\": \"#6495ED\", \"edgecolor\": \"#6495ED\", \"edgewidth\": 1.0, \"zorder\": 1}, {\"data\": \"data02\", \"xindex\": 0, \"yindex\": 1, \"coordinates\": \"data\", \"pathcodes\": [\"M\", \"S\", \"M\", \"L\", \"L\", \"L\", \"Z\"], \"id\": \"el76762576221682752\", \"dasharray\": \"none\", \"alpha\": 1, \"facecolor\": \"#6495ED\", \"edgecolor\": \"#6495ED\", \"edgewidth\": 1.0, \"zorder\": 1}, {\"data\": \"data03\", \"xindex\": 0, \"yindex\": 1, \"coordinates\": \"data\", \"pathcodes\": [\"M\", \"S\", \"M\", \"L\", \"L\", \"L\", \"Z\"], \"id\": \"el76762576221683616\", \"dasharray\": \"none\", \"alpha\": 1, \"facecolor\": \"#6495ED\", \"edgecolor\": \"#6495ED\", \"edgewidth\": 1.0, \"zorder\": 1}, {\"data\": \"data04\", \"xindex\": 0, \"yindex\": 1, \"coordinates\": \"data\", \"pathcodes\": [\"M\", \"S\", \"M\", \"L\", \"L\", \"L\", \"Z\"], \"id\": \"el76762576255390864\", \"dasharray\": \"none\", \"alpha\": 1, \"facecolor\": \"#6495ED\", \"edgecolor\": \"#6495ED\", \"edgewidth\": 1.0, \"zorder\": 1}, {\"data\": \"data05\", \"xindex\": 0, \"yindex\": 1, \"coordinates\": \"data\", \"pathcodes\": [\"M\", \"S\", \"M\", \"L\", \"L\", \"L\", \"Z\"], \"id\": \"el76762576255391392\", \"dasharray\": \"none\", \"alpha\": 1, \"facecolor\": \"#6495ED\", \"edgecolor\": \"#6495ED\", \"edgewidth\": 1.0, \"zorder\": 1}, {\"data\": \"data06\", \"xindex\": 0, \"yindex\": 1, \"coordinates\": \"data\", \"pathcodes\": [\"M\", \"S\", \"M\", \"L\", \"L\", \"L\", \"Z\"], \"id\": \"el76762576255391920\", \"dasharray\": \"none\", \"alpha\": 1, \"facecolor\": \"#6495ED\", \"edgecolor\": \"#6495ED\", \"edgewidth\": 1.0, \"zorder\": 1}, {\"data\": \"data07\", \"xindex\": 0, \"yindex\": 1, \"coordinates\": \"data\", \"pathcodes\": [\"M\", \"S\", \"M\", \"L\", \"L\", \"L\", \"Z\"], \"id\": \"el76762576255392448\", \"dasharray\": \"none\", \"alpha\": 1, \"facecolor\": \"#6495ED\", \"edgecolor\": \"#6495ED\", \"edgewidth\": 1.0, \"zorder\": 1}, {\"data\": \"data08\", \"xindex\": 0, \"yindex\": 1, \"coordinates\": \"data\", \"pathcodes\": [\"M\", \"S\", \"M\", \"L\", \"L\", \"L\", \"Z\"], \"id\": \"el76762576255392976\", \"dasharray\": \"none\", \"alpha\": 1, \"facecolor\": \"#6495ED\", \"edgecolor\": \"#6495ED\", \"edgewidth\": 1.0, \"zorder\": 1}, {\"data\": \"data09\", \"xindex\": 0, \"yindex\": 1, \"coordinates\": \"data\", \"pathcodes\": [\"M\", \"S\", \"M\", \"L\", \"L\", \"L\", \"Z\"], \"id\": \"el76762576255393504\", \"dasharray\": \"none\", \"alpha\": 1, \"facecolor\": \"#6495ED\", \"edgecolor\": \"#6495ED\", \"edgewidth\": 1.0, \"zorder\": 1}, {\"data\": \"data10\", \"xindex\": 0, \"yindex\": 1, \"coordinates\": \"data\", \"pathcodes\": [\"M\", \"S\", \"M\", \"L\", \"L\", \"L\", \"Z\"], \"id\": \"el76762576255393600\", \"dasharray\": \"none\", \"alpha\": 1, \"facecolor\": \"#6495ED\", \"edgecolor\": \"#6495ED\", \"edgewidth\": 1.0, \"zorder\": 1}, {\"data\": \"data11\", \"xindex\": 0, \"yindex\": 1, \"coordinates\": \"data\", \"pathcodes\": [\"M\", \"S\", \"M\", \"L\", \"L\", \"L\", \"Z\"], \"id\": \"el76762576255435584\", \"dasharray\": \"none\", \"alpha\": 1, \"facecolor\": \"#6495ED\", \"edgecolor\": \"#6495ED\", \"edgewidth\": 1.0, \"zorder\": 1}, {\"data\": \"data12\", \"xindex\": 0, \"yindex\": 1, \"coordinates\": \"data\", \"pathcodes\": [\"M\", \"S\", \"M\", \"L\", \"L\", \"L\", \"Z\"], \"id\": \"el76762576255436112\", \"dasharray\": \"none\", \"alpha\": 1, \"facecolor\": \"#6495ED\", \"edgecolor\": \"#6495ED\", \"edgewidth\": 1.0, \"zorder\": 1}, {\"data\": \"data13\", \"xindex\": 0, \"yindex\": 1, \"coordinates\": \"data\", \"pathcodes\": [\"M\", \"S\", \"M\", \"L\", \"L\", \"L\", \"Z\"], \"id\": \"el76762576255436640\", \"dasharray\": \"none\", \"alpha\": 1, \"facecolor\": \"#6495ED\", \"edgecolor\": \"#6495ED\", \"edgewidth\": 1.0, \"zorder\": 1}, {\"data\": \"data14\", \"xindex\": 0, \"yindex\": 1, \"coordinates\": \"data\", \"pathcodes\": [\"M\", \"S\", \"M\", \"L\", \"L\", \"L\", \"Z\"], \"id\": \"el76762576255437168\", \"dasharray\": \"none\", \"alpha\": 1, \"facecolor\": \"#6495ED\", \"edgecolor\": \"#6495ED\", \"edgewidth\": 1.0, \"zorder\": 1}, {\"data\": \"data15\", \"xindex\": 0, \"yindex\": 1, \"coordinates\": \"data\", \"pathcodes\": [\"M\", \"S\", \"M\", \"L\", \"L\", \"L\", \"Z\"], \"id\": \"el76762576255437696\", \"dasharray\": \"none\", \"alpha\": 1, \"facecolor\": \"#6495ED\", \"edgecolor\": \"#6495ED\", \"edgewidth\": 1.0, \"zorder\": 1}, {\"data\": \"data16\", \"xindex\": 0, \"yindex\": 1, \"coordinates\": \"data\", \"pathcodes\": [\"M\", \"S\", \"M\", \"L\", \"L\", \"L\", \"Z\"], \"id\": \"el76762576255438224\", \"dasharray\": \"none\", \"alpha\": 1, \"facecolor\": \"#6495ED\", \"edgecolor\": \"#6495ED\", \"edgewidth\": 1.0, \"zorder\": 1}, {\"data\": \"data17\", \"xindex\": 0, \"yindex\": 1, \"coordinates\": \"data\", \"pathcodes\": [\"M\", \"S\", \"M\", \"L\", \"L\", \"L\", \"Z\"], \"id\": \"el76762576255438752\", \"dasharray\": \"none\", \"alpha\": 1, \"facecolor\": \"#6495ED\", \"edgecolor\": \"#6495ED\", \"edgewidth\": 1.0, \"zorder\": 1}, {\"data\": \"data18\", \"xindex\": 0, \"yindex\": 1, \"coordinates\": \"data\", \"pathcodes\": [\"M\", \"S\", \"M\", \"L\", \"L\", \"L\", \"Z\"], \"id\": \"el76762576255438608\", \"dasharray\": \"none\", \"alpha\": 1, \"facecolor\": \"#6495ED\", \"edgecolor\": \"#6495ED\", \"edgewidth\": 1.0, \"zorder\": 1}, {\"data\": \"data19\", \"xindex\": 0, \"yindex\": 1, \"coordinates\": \"data\", \"pathcodes\": [\"M\", \"S\", \"M\", \"L\", \"L\", \"L\", \"Z\"], \"id\": \"el76762576255476736\", \"dasharray\": \"none\", \"alpha\": 1, \"facecolor\": \"#6495ED\", \"edgecolor\": \"#6495ED\", \"edgewidth\": 1.0, \"zorder\": 1}, {\"data\": \"data20\", \"xindex\": 0, \"yindex\": 1, \"coordinates\": \"data\", \"pathcodes\": [\"M\", \"S\", \"M\", \"L\", \"L\", \"L\", \"Z\"], \"id\": \"el76762576255477264\", \"dasharray\": \"none\", \"alpha\": 1, \"facecolor\": \"#6495ED\", \"edgecolor\": \"#6495ED\", \"edgewidth\": 1.0, \"zorder\": 1}], \"markers\": [], \"texts\": [{\"text\": \"GlcNAc(b1-3)\", \"position\": [0.682492832865973, -0.08751997287741321], \"coordinates\": \"data\", \"h_anchor\": \"middle\", \"v_baseline\": \"auto\", \"rotation\": -70.87531523957068, \"fontsize\": 10.0, \"color\": \"#000000\", \"alpha\": 1, \"zorder\": 1, \"id\": \"el76762576220642848\"}, {\"text\": \"Fuc(a1-2)\", \"position\": [0.5588485841687787, 0.27327461608742787], \"coordinates\": \"data\", \"h_anchor\": \"middle\", \"v_baseline\": \"auto\", \"rotation\": -336.37601674723254, \"fontsize\": 10.0, \"color\": \"#000000\", \"alpha\": 1, \"zorder\": 1, \"id\": \"el76762576221681168\"}, {\"text\": \"GlcNAc(b1-6)\", \"position\": [0.7593786210539706, 0.13642708220712152], \"coordinates\": \"data\", \"h_anchor\": \"middle\", \"v_baseline\": \"auto\", \"rotation\": -44.2990807872675, \"fontsize\": 10.0, \"color\": \"#000000\", \"alpha\": 1, \"zorder\": 1, \"id\": \"el76762576255477552\"}, {\"text\": \"GlcNAc(b1-3)\", \"position\": [0.8170768949626193, 0.06063195044520736], \"coordinates\": \"data\", \"h_anchor\": \"middle\", \"v_baseline\": \"auto\", \"rotation\": -70.7643789535892, \"fontsize\": 10.0, \"color\": \"#000000\", \"alpha\": 1, \"zorder\": 1, \"id\": \"el76762576255478368\"}, {\"text\": \"Gal(b1-4)\", \"position\": [0.20585669413527505, -0.3693863076889691], \"coordinates\": \"data\", \"h_anchor\": \"middle\", \"v_baseline\": \"auto\", \"rotation\": -350.15336405474454, \"fontsize\": 10.0, \"color\": \"#000000\", \"alpha\": 1, \"zorder\": 1, \"id\": \"el76762576255479136\"}, {\"text\": \"6S\", \"position\": [0.5469889153763522, -0.23483403022483923], \"coordinates\": \"data\", \"h_anchor\": \"middle\", \"v_baseline\": \"auto\", \"rotation\": -70.98577203466812, \"fontsize\": 10.0, \"color\": \"#000000\", \"alpha\": 1, \"zorder\": 1, \"id\": \"el76762576255533216\"}, {\"text\": \"GlcNAc(b1-6)\", \"position\": [0.29033016351656465, -0.21631401877147652], \"coordinates\": \"data\", \"h_anchor\": \"middle\", \"v_baseline\": \"auto\", \"rotation\": -285.5275610689534, \"fontsize\": 10.0, \"color\": \"#000000\", \"alpha\": 1, \"zorder\": 1, \"id\": \"el76762576255533984\"}, {\"text\": \"GlcNAc(b1-6)\", \"position\": [-0.12164807040313388, -0.1884635786187777], \"coordinates\": \"data\", \"h_anchor\": \"middle\", \"v_baseline\": \"auto\", \"rotation\": -285.33504261680525, \"fontsize\": 10.0, \"color\": \"#000000\", \"alpha\": 1, \"zorder\": 1, \"id\": \"el76762576255534752\"}, {\"text\": \"Neu5Ac(a2-3)\", \"position\": [-0.1991974472599651, -0.3083317778598015], \"coordinates\": \"data\", \"h_anchor\": \"middle\", \"v_baseline\": \"auto\", \"rotation\": -327.78127600644603, \"fontsize\": 10.0, \"color\": \"#000000\", \"alpha\": 1, \"zorder\": 1, \"id\": \"el76762576255535520\"}, {\"text\": \"Neu5Ac(a2-3)\", \"position\": [-0.8079873364187, 0.19671222345627232], \"coordinates\": \"data\", \"h_anchor\": \"middle\", \"v_baseline\": \"auto\", \"rotation\": -322.33435726770955, \"fontsize\": 10.0, \"color\": \"#000000\", \"alpha\": 1, \"zorder\": 1, \"id\": \"el76762576255536288\"}, {\"text\": \"Gal(b1-3)\", \"position\": [-0.819447804706217, 0.16074856390246356], \"coordinates\": \"data\", \"h_anchor\": \"middle\", \"v_baseline\": \"auto\", \"rotation\": -306.610042185902, \"fontsize\": 10.0, \"color\": \"#000000\", \"alpha\": 1, \"zorder\": 1, \"id\": \"el76762576255537056\"}, {\"text\": \"Gal(b1-4)\", \"position\": [-0.41924468165567813, 0.10499003900123037], \"coordinates\": \"data\", \"h_anchor\": \"middle\", \"v_baseline\": \"auto\", \"rotation\": -334.56305868964074, \"fontsize\": 10.0, \"color\": \"#000000\", \"alpha\": 1, \"zorder\": 1, \"id\": \"el76762576255562464\"}, {\"text\": \"Gal(b1-3)\", \"position\": [-0.42928967431725606, 0.059672437629694215], \"coordinates\": \"data\", \"h_anchor\": \"middle\", \"v_baseline\": \"auto\", \"rotation\": -311.2288349194879, \"fontsize\": 10.0, \"color\": \"#000000\", \"alpha\": 1, \"zorder\": 1, \"id\": \"el76762576255563232\"}, {\"text\": \"Neu5Ac(a2-3)\", \"position\": [-0.4407501426047731, 0.023708778075885444], \"coordinates\": \"data\", \"h_anchor\": \"middle\", \"v_baseline\": \"auto\", \"rotation\": -329.1766631337918, \"fontsize\": 10.0, \"color\": \"#000000\", \"alpha\": 1, \"zorder\": 1, \"id\": \"el76762576255564000\"}, {\"text\": \"GlcNAc(b1-6)\", \"position\": [-0.5182995194616042, -0.09615942116513838], \"coordinates\": \"data\", \"h_anchor\": \"middle\", \"v_baseline\": \"auto\", \"rotation\": -285.52179095717486, \"fontsize\": 10.0, \"color\": \"#000000\", \"alpha\": 1, \"zorder\": 1, \"id\": \"el76762576255564768\"}, {\"text\": \"GlcNAc(b1-3)\", \"position\": [-0.025118524966254843, 0.041837154151996875], \"coordinates\": \"data\", \"h_anchor\": \"middle\", \"v_baseline\": \"auto\", \"rotation\": -339.728239662108, \"fontsize\": 10.0, \"color\": \"#000000\", \"alpha\": 1, \"zorder\": 1, \"id\": \"el76762576255565536\"}, {\"text\": \"Gal(b1-3)\", \"position\": [-0.027129608360266372, 0.009926311670250997], \"coordinates\": \"data\", \"h_anchor\": \"middle\", \"v_baseline\": \"auto\", \"rotation\": -321.2114956961286, \"fontsize\": 10.0, \"color\": \"#000000\", \"alpha\": 1, \"zorder\": 1, \"id\": \"el76762576255586848\"}, {\"text\": \"Gal(b1-4)\", \"position\": [-0.037174601021844264, -0.03539128970128516], \"coordinates\": \"data\", \"h_anchor\": \"middle\", \"v_baseline\": \"auto\", \"rotation\": -349.63690191075625, \"fontsize\": 10.0, \"color\": \"#000000\", \"alpha\": 1, \"zorder\": 1, \"id\": \"el76762576255587616\"}, {\"text\": \"Gal(b1-3)\", \"position\": [0.36922703509857385, 0.0395438787948041], \"coordinates\": \"data\", \"h_anchor\": \"middle\", \"v_baseline\": \"auto\", \"rotation\": -18.752041843789183, \"fontsize\": 10.0, \"color\": \"#000000\", \"alpha\": 1, \"zorder\": 1, \"id\": \"el76762576255588384\"}, {\"text\": \"GlcNAc(b1-3)\", \"position\": [0.36721595170456234, 0.0076330363130582245], \"coordinates\": \"data\", \"h_anchor\": \"middle\", \"v_baseline\": \"auto\", \"rotation\": -37.19352196343178, \"fontsize\": 10.0, \"color\": \"#000000\", \"alpha\": 1, \"zorder\": 1, \"id\": \"el76762576255589152\"}], \"collections\": [{\"offsets\": \"data21\", \"xindex\": 0, \"yindex\": 1, \"paths\": [[[[0.0, -0.5], [0.13260155, -0.5], [0.25978993539242673, -0.44731684579412084], [0.3535533905932738, -0.3535533905932738], [0.44731684579412084, -0.25978993539242673], [0.5, -0.13260155], [0.5, 0.0], [0.5, 0.13260155], [0.44731684579412084, 0.25978993539242673], [0.3535533905932738, 0.3535533905932738], [0.25978993539242673, 0.44731684579412084], [0.13260155, 0.5], [0.0, 0.5], [-0.13260155, 0.5], [-0.25978993539242673, 0.44731684579412084], [-0.3535533905932738, 0.3535533905932738], [-0.44731684579412084, 0.25978993539242673], [-0.5, 0.13260155], [-0.5, 0.0], [-0.5, -0.13260155], [-0.44731684579412084, -0.25978993539242673], [-0.3535533905932738, -0.3535533905932738], [-0.25978993539242673, -0.44731684579412084], [-0.13260155, -0.5], [0.0, -0.5]], [\"M\", \"C\", \"C\", \"C\", \"C\", \"C\", \"C\", \"C\", \"C\", \"Z\"]]], \"pathtransforms\": [[7.0710678118654755, 0.0, 0.0, 7.0710678118654755, 0.0, 0.0]], \"alphas\": [0.7], \"edgecolors\": [\"rgba(100, 149, 237, 0.7)\", \"rgba(100, 149, 237, 0.7)\", \"rgba(100, 149, 237, 0.7)\", \"rgba(100, 149, 237, 0.7)\", \"rgba(100, 149, 237, 0.7)\", \"rgba(100, 149, 237, 0.7)\", \"rgba(255, 140, 0, 0.7)\", \"rgba(255, 140, 0, 0.7)\", \"rgba(255, 140, 0, 0.7)\", \"rgba(255, 140, 0, 0.7)\", \"rgba(255, 140, 0, 0.7)\", \"rgba(255, 140, 0, 0.7)\", \"rgba(255, 140, 0, 0.7)\", \"rgba(255, 140, 0, 0.7)\"], \"facecolors\": [\"rgba(100, 149, 237, 0.7)\", \"rgba(100, 149, 237, 0.7)\", \"rgba(100, 149, 237, 0.7)\", \"rgba(100, 149, 237, 0.7)\", \"rgba(100, 149, 237, 0.7)\", \"rgba(100, 149, 237, 0.7)\", \"rgba(255, 140, 0, 0.7)\", \"rgba(255, 140, 0, 0.7)\", \"rgba(255, 140, 0, 0.7)\", \"rgba(255, 140, 0, 0.7)\", \"rgba(255, 140, 0, 0.7)\", \"rgba(255, 140, 0, 0.7)\", \"rgba(255, 140, 0, 0.7)\", \"rgba(255, 140, 0, 0.7)\"], \"edgewidths\": [1.0], \"offsetcoordinates\": \"data\", \"pathcoordinates\": \"display\", \"zorder\": 2, \"id\": \"el76762576221680736\"}], \"images\": [], \"sharex\": [], \"sharey\": []}], \"data\": {\"data01\": [[0.9450760790106725, 0.19973611474453545], [0.6824935322230896, -0.08751920780731803], [0.42088031670243264, -0.37371411880803485], [0.4293488046951013, -0.37057805857823134], [0.42088031670243264, -0.37371411880803485], [0.41934779864756466, -0.36926249163794134], [0.4293488046951013, -0.37057805857823134]], \"data02\": [[0.9315892901496521, 0.21142895086792035], [0.5588494883388693, 0.2732744660662476], [0.1888203971798066, 0.3346702163186396], [0.19639760769554115, 0.3312216133021608], [0.1888203971798066, 0.3346702163186396], [0.2006394531747271, 0.3349005633574954], [0.19639760769554115, 0.3312216133021608]], \"data03\": [[0.9361838613328985, 0.2018762405790926], [0.759380764917382, 0.1364278758151376], [0.584695193858892, 0.07176336933632155], [0.5959674644669053, 0.07313084361304589], [0.584695193858892, 0.07176336933632155], [0.5885747013065235, 0.07600472837254901], [0.5959674644669053, 0.07313084361304589]], \"data04\": [[0.9450339786687145, 0.1997414132290638], [0.8170803581157693, 0.060635715437033055], [0.6901014794070308, -0.07741028475660527], [0.698585958136178, -0.0742804504331478], [0.6901014794070308, -0.07741028475660527], [0.6885916855551986, -0.07295754031014845], [0.698585958136178, -0.0742804504331478]], \"data05\": [[0.3898262550724505, -0.3814993223381973], [0.20585937317426595, -0.36938648408357677], [0.024807568366123967, -0.3574655817737693], [0.03433176731481402, -0.3601304297816369], [0.024807568366123967, -0.3574655817737693], [0.03614196312299556, -0.35617411558967005], [0.03433176731481402, -0.3601304297816369]], \"data06\": [[0.41986759866635204, -0.3747708642933948], [0.5469885425176915, -0.23483444067260612], [0.6731455459041276, -0.09595913552022417], [0.6646930110744798, -0.09910138306610083], [0.6731455459041276, -0.09595913552022417], [0.6747006842352565, -0.10040963366246947], [0.6646930110744798, -0.09910138306610083]], \"data07\": [[0.4062709428581053, -0.37461115677595536], [0.29033119487079984, -0.2163154269078083], [0.1751834860103021, -0.05910108986514706], [0.17291772849399023, -0.063507472342758], [0.1751834860103021, -0.05910108986514706], [0.1831166141774332, -0.06243252456567017], [0.17291772849399023, -0.063507472342758]], \"data08\": [[-0.006750738317085059, -0.34740467815457476], [-0.12164657945024748, -0.18846564110088015], [-0.23575996440889524, -0.030609000326178193], [-0.23806473884786183, -0.03501246992350682], [-0.23575996440889524, -0.030609000326178193], [-0.22785638934390717, -0.03395052803579379], [-0.23806473884786183, -0.03501246992350682]], \"data09\": [[-0.020082872760158077, -0.3511509476095879], [-0.19919853158692935, -0.3083315186403579], [-0.375811107022364, -0.26611047733964016], [-0.3696775753742845, -0.26994991432694965], [-0.375811107022364, -0.26611047733964016], [-0.36403403189802996, -0.26655275396414224], [-0.3696775753742845, -0.26994991432694965]], \"data10\": [[-0.634110634561769, 0.14579610398508291], [-0.8079856872431279, 0.1967117405300406], [-0.9795186931638348, 0.24694155815044405], [-0.9743735966812019, 0.24289859626432686], [-0.9795186931638348, 0.24694155815044405], [-0.9679054672039014, 0.24607719928277505], [-0.9743735966812019, 0.24289859626432686]], \"data11\": [[-0.652565958427445, 0.07553817427382925], [-0.8194467945731003, 0.16074804812535315], [-0.9845631871280558, 0.24505699159293248], [-0.9824989715043894, 0.24063638224737882], [-0.9845631871280558, 0.24505699159293248], [-0.974002072155661, 0.24303106787770257], [-0.9824989715043894, 0.24063638224737882]], \"data12\": [[-0.24320952322552447, 0.07322860651354857], [-0.4192457264624927, 0.10499022751221543], [-0.5926100855524057, 0.13626977664381268], [-0.5853242753900103, 0.13273196349296112], [-0.5926100855524057, 0.13626977664381268], [-0.5807777352728829, 0.13635816430728032], [-0.5853242753900103, 0.13273196349296112]], \"data13\": [[-0.2577078841429645, -0.014602559448810504], [-0.42928900846178, 0.059672149391569174], [-0.5989201738490205, 0.1331027523755005], [-0.5959242752125334, 0.12875955483445312], [-0.5989201738490205, 0.1331027523755005], [-0.587963302167637, 0.13140602007583357], [-0.5959242752125334, 0.12875955483445312]], \"data14\": [[-0.2622873996270354, -0.016685405527101405], [-0.4407504773093849, 0.0237088538346647], [-0.6166728010744388, 0.06352802576634431], [-0.6102946200729946, 0.05974638721106429], [-0.6166728010744388, 0.06352802576634431], [-0.6048708269617344, 0.06319467364425213], [-0.6102946200729946, 0.05974638721106429]], \"data15\": [[-0.40383665045508166, -0.2524997677815038], [-0.5183003852259818, -0.09615823865150674], [-0.631972367958291, 0.05910186740022927], [-0.6342392952533659, 0.05469557150366322], [-0.631972367958291, 0.05910186740022927], [-0.6240401242484497, 0.05577012964742467], [-0.6342392952533659, 0.05469557150366322]], \"data16\": [[0.15077177167967637, 0.017192829265937792], [-0.02512329725596696, 0.041837822806609304], [-0.19824296516154094, 0.06609394961626469], [-0.19014713817883067, 0.06281932410177193], [-0.19824296516154094, 0.06609394961626469], [-0.18647963896646624, 0.06658607130758998], [-0.19014713817883067, 0.06281932410177193]], \"data17\": [[0.1503972486273708, -0.04419752390580489], [-0.027127976165914447, 0.009925814051917503], [-0.20234703216995342, 0.06334605444751473], [-0.19741177619214256, 0.05926562124474111], [-0.20234703216995342, 0.06334605444751473], [-0.1907806875706668, 0.06239553103036255], [-0.19741177619214256, 0.05926562124474111]], \"data18\": [[0.145723867041317, -0.04807905437228199], [-0.037164323795904064, -0.03539200263795206], [-0.21714211665953576, -0.022906846769557232], [-0.20768162547798186, -0.025604153248907635], [-0.21714211665953576, -0.022906846769557232], [-0.2057774951674185, -0.021654189508150457], [-0.20768162547798186, -0.025604153248907635]], \"data19\": [[0.5444788187441039, 0.062113813269718654], [0.3692314469820279, 0.039544446982575976], [0.19678568660551732, 0.017335888352171924], [0.2085104697522333, 0.01672559324548717], [0.19678568660551732, 0.017335888352171924], [0.2051076026737193, 0.020527912890119904], [0.2085104697522333, 0.01672559324548717]], \"data20\": [[0.5479185513232103, 0.05965222745999432], [0.36721419727206905, 0.007632531261335673], [0.18886670748696988, -0.043708690067446376], [0.20049831435932242, -0.04288066117544942], [0.18886670748696988, -0.043708690067446376], [0.19409944849496785, -0.039681947983221666], [0.20049831435932242, -0.04288066117544942]], \"data21\": [[0.9525808124522399, 0.20794600779263336], [0.41240485327970594, -0.3829859535474598], [0.6815729774729985, -0.08668210690221864], [-0.000691465009155842, -0.3557866618304783], [0.1651163558853175, 0.3386032243822224], [-1.0, 0.25293907624607914], [-0.6159746728374002, 0.1404853706664655], [-0.6388956094124342, 0.06855805155884795], [-0.22251469047395614, 0.06949470733599525], [-0.24260467579711192, -0.021140495407077062], [-0.39770342951077436, -0.2608768938891247], [0.17227764054144645, 0.014179600967998505], [0.1682554737534234, -0.049642083995493254], [0.5661764296557013, 0.0649081566216097]]}, \"id\": \"el76762576219749728\", \"plugins\": [{\"type\": \"reset\"}, {\"type\": \"zoom\", \"button\": true, \"enabled\": false}, {\"type\": \"boxzoom\", \"button\": true, \"enabled\": false}, {\"type\": \"tooltip\", \"id\": \"el76762576221680736\", \"labels\": [\"Gal(b1-4)Glc-ol\", \"GlcNAc(b1-3)Gal(b1-4)Glc-ol\", \"GlcNAc6S(b1-3)Gal(b1-4)Glc-ol\", \"Gal(b1-4)GlcNAc(b1-3)Gal(b1-4)Glc-ol\", \"Fuc(a1-2)Gal(b1-4)Glc-ol\", \"Neu5Ac(a2-3)Gal(b1-4)GlcNAc(b1-3)[Gal(b1-3)GlcNAc(b1-6)]Gal(b1-4)Glc-ol\", \"Gal(b1-4)GlcNAc(b1-3)[Gal(b1-3)GlcNAc(b1-6)]Gal(b1-4)Glc-ol\", \"Neu5Ac(a2-3)Gal(b1-4)GlcNAc(b1-3)[GlcNAc(b1-6)]Gal(b1-4)Glc-ol\", \"GlcNAc(b1-3)[Gal(b1-3)GlcNAc(b1-6)]Gal(b1-4)Glc-ol\", \"Gal(b1-4)GlcNAc(b1-3)[GlcNAc(b1-6)]Gal(b1-4)Glc-ol\", \"Neu5Ac(a2-3)Gal(b1-4)GlcNAc(b1-3)Gal(b1-4)Glc-ol\", \"Gal(b1-3)GlcNAc(b1-6)Gal(b1-4)Glc-ol\", \"GlcNAc(b1-3)[GlcNAc(b1-6)]Gal(b1-4)Glc-ol\", \"GlcNAc(b1-6)Gal(b1-4)Glc-ol\"], \"hoffset\": 0, \"voffset\": 10, \"location\": \"mouse\"}]});\n",
       "            })\n",
       "         });\n",
       "}\n",
       "</script>"
      ],
      "text/plain": [
       "<Figure size 1152x1152 with 1 Axes>"
      ]
     },
     "metadata": {},
     "output_type": "display_data"
    }
   ],
   "source": [
    "glycans = [\"Gal(b1-4)Glc-ol\", \"GlcNAc(b1-3)Gal(b1-4)Glc-ol\",\n",
    "           \"GlcNAc6S(b1-3)Gal(b1-4)Glc-ol\",\n",
    "           \"Gal(b1-4)GlcNAc(b1-3)Gal(b1-4)Glc-ol\", \"Fuc(a1-2)Gal(b1-4)Glc-ol\",\n",
    "          \"Neu5Ac(a2-3)Gal(b1-4)GlcNAc(b1-3)[Gal(b1-3)GlcNAc(b1-6)]Gal(b1-4)Glc-ol\"]\n",
    "network = construct_network(glycans)\n",
    "plot_network(network, plot_format = 'kamada_kawai')"
   ]
  },
  {
   "cell_type": "code",
   "execution_count": null,
   "id": "reduced-driving",
   "metadata": {},
   "outputs": [
    {
     "data": {
      "text/markdown": [
       "---\n",
       "\n",
       "### find_diff\n",
       "\n",
       ">      find_diff (glycan_a, glycan_b, graph_dic, libr=None)\n",
       "\n",
       "finds the subgraph that differs between glycans and returns it, will only work if the differing subgraph is connected\n",
       "\n",
       "| Arguments:\n",
       "| :-\n",
       "| glycan_a (string): glycan in IUPAC-condensed format\n",
       "| glycan_b (string): glycan in IUPAC-condensed format\n",
       "| graph_dic (dict): dictionary of form glycan : glycan-graph\n",
       "| libr (list): library of monosaccharides; if you have one use it, otherwise a comprehensive lib will be used\n",
       "\n",
       "| Returns:\n",
       "| :-\n",
       "| Returns difference between glycan_a and glycan_b in IUPAC-condensed"
      ],
      "text/plain": [
       "---\n",
       "\n",
       "### find_diff\n",
       "\n",
       ">      find_diff (glycan_a, glycan_b, graph_dic, libr=None)\n",
       "\n",
       "finds the subgraph that differs between glycans and returns it, will only work if the differing subgraph is connected\n",
       "\n",
       "| Arguments:\n",
       "| :-\n",
       "| glycan_a (string): glycan in IUPAC-condensed format\n",
       "| glycan_b (string): glycan in IUPAC-condensed format\n",
       "| graph_dic (dict): dictionary of form glycan : glycan-graph\n",
       "| libr (list): library of monosaccharides; if you have one use it, otherwise a comprehensive lib will be used\n",
       "\n",
       "| Returns:\n",
       "| :-\n",
       "| Returns difference between glycan_a and glycan_b in IUPAC-condensed"
      ]
     },
     "execution_count": null,
     "metadata": {},
     "output_type": "execute_result"
    }
   ],
   "source": [
    "show_doc(find_diff)"
   ]
  },
  {
   "cell_type": "code",
   "execution_count": null,
   "id": "accomplished-gallery",
   "metadata": {},
   "outputs": [
    {
     "data": {
      "text/plain": [
       "'Fuc(a1-6)'"
      ]
     },
     "execution_count": null,
     "metadata": {},
     "output_type": "execute_result"
    }
   ],
   "source": [
    "glycans = ['Man(a1-3)[Man(a1-6)]Man(b1-4)GlcNAc(b1-4)GlcNAc',\n",
    "         'Man(a1-3)[Man(a1-6)]Man(b1-4)GlcNAc(b1-4)[Fuc(a1-6)]GlcNAc']\n",
    "graph_dic = {k:glycan_to_nxGraph(k) for k in glycans}\n",
    "find_diff(glycans[0], glycans[1], graph_dic)"
   ]
  },
  {
   "cell_type": "code",
   "execution_count": null,
   "id": "caroline-protest",
   "metadata": {},
   "outputs": [
    {
     "data": {
      "text/markdown": [
       "---\n",
       "\n",
       "### get_virtual_nodes\n",
       "\n",
       ">      get_virtual_nodes (glycan, graph_dic, libr=None, reducing_end=['Glc-ol',\n",
       ">                         'GlcNAc-ol', 'Glc3S-ol', 'GlcNAc6S-ol', 'GlcNAc6P-ol',\n",
       ">                         'GlcNAc1P-ol', 'Glc3P-ol', 'Glc6S-ol', 'GlcOS-ol'])\n",
       "\n",
       "find unobserved biosynthetic precursors of a glycan\n",
       "\n",
       "| Arguments:\n",
       "| :-\n",
       "| glycan (string): glycan in IUPAC-condensed format\n",
       "| graph_dic (dict): dictionary of form glycan : glycan-graph\n",
       "| libr (list): library of monosaccharides; if you have one use it, otherwise a comprehensive lib will be used\n",
       "| reducing_end (list): monosaccharides at the reducing end that are allowed; default:milk glycan reducing ends\n",
       "\n",
       "| Returns:\n",
       "| :-\n",
       "| (1) list of virtual node graphs\n",
       "| (2) list of virtual nodes in IUPAC-condensed format"
      ],
      "text/plain": [
       "---\n",
       "\n",
       "### get_virtual_nodes\n",
       "\n",
       ">      get_virtual_nodes (glycan, graph_dic, libr=None, reducing_end=['Glc-ol',\n",
       ">                         'GlcNAc-ol', 'Glc3S-ol', 'GlcNAc6S-ol', 'GlcNAc6P-ol',\n",
       ">                         'GlcNAc1P-ol', 'Glc3P-ol', 'Glc6S-ol', 'GlcOS-ol'])\n",
       "\n",
       "find unobserved biosynthetic precursors of a glycan\n",
       "\n",
       "| Arguments:\n",
       "| :-\n",
       "| glycan (string): glycan in IUPAC-condensed format\n",
       "| graph_dic (dict): dictionary of form glycan : glycan-graph\n",
       "| libr (list): library of monosaccharides; if you have one use it, otherwise a comprehensive lib will be used\n",
       "| reducing_end (list): monosaccharides at the reducing end that are allowed; default:milk glycan reducing ends\n",
       "\n",
       "| Returns:\n",
       "| :-\n",
       "| (1) list of virtual node graphs\n",
       "| (2) list of virtual nodes in IUPAC-condensed format"
      ]
     },
     "execution_count": null,
     "metadata": {},
     "output_type": "execute_result"
    }
   ],
   "source": [
    "show_doc(get_virtual_nodes)"
   ]
  },
  {
   "cell_type": "code",
   "execution_count": null,
   "id": "certified-pendant",
   "metadata": {},
   "outputs": [
    {
     "data": {
      "text/plain": [
       "([<networkx.classes.graph.Graph>,\n",
       "  <networkx.classes.graph.Graph>,\n",
       "  <networkx.classes.graph.Graph>],\n",
       " ['Man(a1-6)Man(b1-4)GlcNAc(b1-4)[Fuc(a1-6)]GlcNAc-ol',\n",
       "  'Man(a1-3)Man(b1-4)GlcNAc(b1-4)[Fuc(a1-6)]GlcNAc-ol',\n",
       "  'Man(a1-3)[Man(a1-6)]Man(b1-4)GlcNAc(b1-4)GlcNAc-ol'])"
      ]
     },
     "execution_count": null,
     "metadata": {},
     "output_type": "execute_result"
    }
   ],
   "source": [
    "glycan = 'Man(a1-3)[Man(a1-6)]Man(b1-4)GlcNAc(b1-4)[Fuc(a1-6)]GlcNAc-ol'\n",
    "get_virtual_nodes(glycan, {glycan:glycan_to_nxGraph(glycan)})"
   ]
  },
  {
   "cell_type": "code",
   "execution_count": null,
   "id": "retired-hampton",
   "metadata": {},
   "outputs": [
    {
     "data": {
      "text/markdown": [
       "---\n",
       "\n",
       "### find_shared_virtuals\n",
       "\n",
       ">      find_shared_virtuals (glycan_a, glycan_b, graph_dic, libr=None,\n",
       ">                            reducing_end=['Glc-ol', 'GlcNAc-ol', 'Glc3S-ol',\n",
       ">                            'GlcNAc6S-ol', 'GlcNAc6P-ol', 'GlcNAc1P-ol',\n",
       ">                            'Glc3P-ol', 'Glc6S-ol', 'GlcOS-ol'], min_size=1)\n",
       "\n",
       "finds virtual nodes that are shared between two glycans (i.e., that connect these two glycans)\n",
       "\n",
       "| Arguments:\n",
       "| :-\n",
       "| glycan_a (string): glycan in IUPAC-condensed format\n",
       "| glycan_b (string): glycan in IUPAC-condensed format\n",
       "| graph_dic (dict): dictionary of form glycan : glycan-graph\n",
       "| libr (list): library of monosaccharides; if you have one use it, otherwise a comprehensive lib will be used\n",
       "| reducing_end (list): monosaccharides at the reducing end that are allowed; default:milk glycan reducing ends\n",
       "| min_size (int): length of smallest root in biosynthetic network; default:1\n",
       "\n",
       "| Returns:\n",
       "| :-\n",
       "| Returns list of edges between glycan and virtual node (if virtual node connects the two glycans)"
      ],
      "text/plain": [
       "---\n",
       "\n",
       "### find_shared_virtuals\n",
       "\n",
       ">      find_shared_virtuals (glycan_a, glycan_b, graph_dic, libr=None,\n",
       ">                            reducing_end=['Glc-ol', 'GlcNAc-ol', 'Glc3S-ol',\n",
       ">                            'GlcNAc6S-ol', 'GlcNAc6P-ol', 'GlcNAc1P-ol',\n",
       ">                            'Glc3P-ol', 'Glc6S-ol', 'GlcOS-ol'], min_size=1)\n",
       "\n",
       "finds virtual nodes that are shared between two glycans (i.e., that connect these two glycans)\n",
       "\n",
       "| Arguments:\n",
       "| :-\n",
       "| glycan_a (string): glycan in IUPAC-condensed format\n",
       "| glycan_b (string): glycan in IUPAC-condensed format\n",
       "| graph_dic (dict): dictionary of form glycan : glycan-graph\n",
       "| libr (list): library of monosaccharides; if you have one use it, otherwise a comprehensive lib will be used\n",
       "| reducing_end (list): monosaccharides at the reducing end that are allowed; default:milk glycan reducing ends\n",
       "| min_size (int): length of smallest root in biosynthetic network; default:1\n",
       "\n",
       "| Returns:\n",
       "| :-\n",
       "| Returns list of edges between glycan and virtual node (if virtual node connects the two glycans)"
      ]
     },
     "execution_count": null,
     "metadata": {},
     "output_type": "execute_result"
    }
   ],
   "source": [
    "show_doc(find_shared_virtuals)"
   ]
  },
  {
   "cell_type": "code",
   "execution_count": null,
   "id": "closing-corner",
   "metadata": {},
   "outputs": [
    {
     "data": {
      "text/plain": [
       "[('GlcNAc(b1-2)Man(a1-3)[Man(a1-6)]Man(b1-4)GlcNAc(b1-4)GlcNAc-ol',\n",
       "  'Man(a1-3)[Man(a1-6)]Man(b1-4)GlcNAc(b1-4)GlcNAc-ol'),\n",
       " ('GlcNAc(b1-2)Man(a1-6)[Man(a1-3)]Man(b1-4)GlcNAc(b1-4)GlcNAc-ol',\n",
       "  'Man(a1-3)[Man(a1-6)]Man(b1-4)GlcNAc(b1-4)GlcNAc-ol')]"
      ]
     },
     "execution_count": null,
     "metadata": {},
     "output_type": "execute_result"
    }
   ],
   "source": [
    "glycans = ['GlcNAc(b1-2)Man(a1-3)[Man(a1-6)]Man(b1-4)GlcNAc(b1-4)GlcNAc-ol',\n",
    "                    'GlcNAc(b1-2)Man(a1-6)[Man(a1-3)]Man(b1-4)GlcNAc(b1-4)GlcNAc-ol']\n",
    "graph_dic = {k:glycan_to_nxGraph(k) for k in glycans}\n",
    "find_shared_virtuals(glycans[0], glycans[1], graph_dic)"
   ]
  },
  {
   "cell_type": "code",
   "execution_count": null,
   "id": "quarterly-valley",
   "metadata": {},
   "outputs": [
    {
     "data": {
      "text/markdown": [
       "---\n",
       "\n",
       "### find_shortest_path\n",
       "\n",
       ">      find_shortest_path (goal_glycan, glycan_list, graph_dic, libr=None,\n",
       ">                          reducing_end=['Glc-ol', 'GlcNAc-ol', 'Glc3S-ol',\n",
       ">                          'GlcNAc6S-ol', 'GlcNAc6P-ol', 'GlcNAc1P-ol',\n",
       ">                          'Glc3P-ol', 'Glc6S-ol', 'GlcOS-ol'], limit=5,\n",
       ">                          permitted_roots=['Gal(b1-4)Glc-ol', 'Gal(b1-4)GlcNAc-\n",
       ">                          ol'])\n",
       "\n",
       "finds the glycan with the shortest path via virtual nodes to the goal glycan\n",
       "\n",
       "| Arguments:\n",
       "| :-\n",
       "| goal_glycan (string): glycan in IUPAC-condensed format\n",
       "| glycan_list (list): list of glycans in IUPAC-condensed format\n",
       "| graph_dic (dict): dictionary of form glycan : glycan-graph\n",
       "| libr (list): library of monosaccharides; if you have one use it, otherwise a comprehensive lib will be used\n",
       "| reducing_end (list): monosaccharides at the reducing end that are allowed; default:milk glycan reducing ends\n",
       "| limit (int): maximum number of virtual nodes between observed nodes; default:5\n",
       "| permitted_roots (list): which nodes should be considered as roots; default:[\"Gal(b1-4)Glc-ol\", \"Gal(b1-4)GlcNAc-ol\"]\n",
       "\n",
       "| Returns:\n",
       "| :-\n",
       "| (1) list of edges of shortest path to connect goal_glycan and glycan via virtual nodes\n",
       "| (2) dictionary of edge labels detailing difference between two connected nodes in shortest path"
      ],
      "text/plain": [
       "---\n",
       "\n",
       "### find_shortest_path\n",
       "\n",
       ">      find_shortest_path (goal_glycan, glycan_list, graph_dic, libr=None,\n",
       ">                          reducing_end=['Glc-ol', 'GlcNAc-ol', 'Glc3S-ol',\n",
       ">                          'GlcNAc6S-ol', 'GlcNAc6P-ol', 'GlcNAc1P-ol',\n",
       ">                          'Glc3P-ol', 'Glc6S-ol', 'GlcOS-ol'], limit=5,\n",
       ">                          permitted_roots=['Gal(b1-4)Glc-ol', 'Gal(b1-4)GlcNAc-\n",
       ">                          ol'])\n",
       "\n",
       "finds the glycan with the shortest path via virtual nodes to the goal glycan\n",
       "\n",
       "| Arguments:\n",
       "| :-\n",
       "| goal_glycan (string): glycan in IUPAC-condensed format\n",
       "| glycan_list (list): list of glycans in IUPAC-condensed format\n",
       "| graph_dic (dict): dictionary of form glycan : glycan-graph\n",
       "| libr (list): library of monosaccharides; if you have one use it, otherwise a comprehensive lib will be used\n",
       "| reducing_end (list): monosaccharides at the reducing end that are allowed; default:milk glycan reducing ends\n",
       "| limit (int): maximum number of virtual nodes between observed nodes; default:5\n",
       "| permitted_roots (list): which nodes should be considered as roots; default:[\"Gal(b1-4)Glc-ol\", \"Gal(b1-4)GlcNAc-ol\"]\n",
       "\n",
       "| Returns:\n",
       "| :-\n",
       "| (1) list of edges of shortest path to connect goal_glycan and glycan via virtual nodes\n",
       "| (2) dictionary of edge labels detailing difference between two connected nodes in shortest path"
      ]
     },
     "execution_count": null,
     "metadata": {},
     "output_type": "execute_result"
    }
   ],
   "source": [
    "show_doc(find_shortest_path)"
   ]
  },
  {
   "cell_type": "code",
   "execution_count": null,
   "id": "level-shame",
   "metadata": {},
   "outputs": [
    {
     "data": {
      "text/plain": [
       "([('Gal(b1-4)GlcNAc(b1-3)Gal(b1-4)Glc-ol', 'GlcNAc(b1-3)Gal(b1-4)Glc-ol'),\n",
       "  ('GlcNAc(b1-3)Gal(b1-4)Glc-ol', 'Gal(b1-4)Glc-ol')],\n",
       " {('Gal(b1-4)GlcNAc(b1-3)Gal(b1-4)Glc-ol',\n",
       "   'GlcNAc(b1-3)Gal(b1-4)Glc-ol'): 'Gal(b1-4)',\n",
       "  ('GlcNAc(b1-3)Gal(b1-4)Glc-ol', 'Gal(b1-4)Glc-ol'): 'GlcNAc(b1-3)'})"
      ]
     },
     "execution_count": null,
     "metadata": {},
     "output_type": "execute_result"
    }
   ],
   "source": [
    "glycans = ['Gal(b1-4)GlcNAc(b1-3)Gal(b1-4)Glc-ol', 'Gal(b1-4)Glc-ol', 'Gal(b1-4)GlcNAc-ol']\n",
    "graph_dic = {k:glycan_to_nxGraph(k) for k in glycans}\n",
    "find_shortest_path(glycans[0], glycans[1:], graph_dic)"
   ]
  },
  {
   "cell_type": "code",
   "execution_count": null,
   "id": "sustained-competition",
   "metadata": {},
   "outputs": [
    {
     "data": {
      "text/markdown": [
       "---\n",
       "\n",
       "### infer_network\n",
       "\n",
       ">      infer_network (network, network_species, species_list, network_dic)\n",
       "\n",
       "replaces virtual nodes if they are observed in other species\n",
       "\n",
       "| Arguments:\n",
       "| :-\n",
       "| network (networkx object): biosynthetic network that should be inferred\n",
       "| network_species (string): species from which the network stems\n",
       "| species_list (list): list of species to compare network to\n",
       "| network_dic (dict): dictionary of form species name : biosynthetic network (gained from construct_network)\n",
       "\n",
       "| Returns:\n",
       "| :-\n",
       "| Returns network with filled in virtual nodes"
      ],
      "text/plain": [
       "---\n",
       "\n",
       "### infer_network\n",
       "\n",
       ">      infer_network (network, network_species, species_list, network_dic)\n",
       "\n",
       "replaces virtual nodes if they are observed in other species\n",
       "\n",
       "| Arguments:\n",
       "| :-\n",
       "| network (networkx object): biosynthetic network that should be inferred\n",
       "| network_species (string): species from which the network stems\n",
       "| species_list (list): list of species to compare network to\n",
       "| network_dic (dict): dictionary of form species name : biosynthetic network (gained from construct_network)\n",
       "\n",
       "| Returns:\n",
       "| :-\n",
       "| Returns network with filled in virtual nodes"
      ]
     },
     "execution_count": null,
     "metadata": {},
     "output_type": "execute_result"
    }
   ],
   "source": [
    "show_doc(infer_network)"
   ]
  },
  {
   "cell_type": "code",
   "execution_count": null,
   "id": "piano-madness",
   "metadata": {},
   "outputs": [
    {
     "data": {
      "text/markdown": [
       "---\n",
       "\n",
       "### retrieve_inferred_nodes\n",
       "\n",
       ">      retrieve_inferred_nodes (network, species=None)\n",
       "\n",
       "returns the inferred virtual nodes of a network that has been used with infer_network\n",
       "\n",
       "| Arguments:\n",
       "| :-\n",
       "| network (networkx object): biosynthetic network with inferred virtual nodes\n",
       "| species (string): species from which the network stems (only relevant if multiple species in network); default:None\n",
       "\n",
       "| Returns:\n",
       "| :-\n",
       "| Returns inferred nodes as list or dictionary (if species argument is used)"
      ],
      "text/plain": [
       "---\n",
       "\n",
       "### retrieve_inferred_nodes\n",
       "\n",
       ">      retrieve_inferred_nodes (network, species=None)\n",
       "\n",
       "returns the inferred virtual nodes of a network that has been used with infer_network\n",
       "\n",
       "| Arguments:\n",
       "| :-\n",
       "| network (networkx object): biosynthetic network with inferred virtual nodes\n",
       "| species (string): species from which the network stems (only relevant if multiple species in network); default:None\n",
       "\n",
       "| Returns:\n",
       "| :-\n",
       "| Returns inferred nodes as list or dictionary (if species argument is used)"
      ]
     },
     "execution_count": null,
     "metadata": {},
     "output_type": "execute_result"
    }
   ],
   "source": [
    "show_doc(retrieve_inferred_nodes)"
   ]
  },
  {
   "cell_type": "code",
   "execution_count": null,
   "id": "modular-absolute",
   "metadata": {},
   "outputs": [
    {
     "data": {
      "text/markdown": [
       "---\n",
       "\n",
       "### update_network\n",
       "\n",
       ">      update_network (network_in, edge_list, edge_labels=None,\n",
       ">                      node_labels=None)\n",
       "\n",
       "updates a network with new edges and their labels\n",
       "\n",
       "| Arguments:\n",
       "| :-\n",
       "| network (networkx object): network that should be modified\n",
       "| edge_list (list): list of edges as node tuples\n",
       "| edge_labels (list): list of edge labels as strings\n",
       "| node_labels (dict): dictionary of form node:0 or 1 depending on whether the node is observed or virtual\n",
       "\n",
       "| Returns:\n",
       "| :-\n",
       "| Returns network with added edges"
      ],
      "text/plain": [
       "---\n",
       "\n",
       "### update_network\n",
       "\n",
       ">      update_network (network_in, edge_list, edge_labels=None,\n",
       ">                      node_labels=None)\n",
       "\n",
       "updates a network with new edges and their labels\n",
       "\n",
       "| Arguments:\n",
       "| :-\n",
       "| network (networkx object): network that should be modified\n",
       "| edge_list (list): list of edges as node tuples\n",
       "| edge_labels (list): list of edge labels as strings\n",
       "| node_labels (dict): dictionary of form node:0 or 1 depending on whether the node is observed or virtual\n",
       "\n",
       "| Returns:\n",
       "| :-\n",
       "| Returns network with added edges"
      ]
     },
     "execution_count": null,
     "metadata": {},
     "output_type": "execute_result"
    }
   ],
   "source": [
    "show_doc(update_network)"
   ]
  },
  {
   "cell_type": "code",
   "execution_count": null,
   "id": "minute-tiffany",
   "metadata": {},
   "outputs": [
    {
     "data": {
      "text/markdown": [
       "---\n",
       "\n",
       "### trace_diamonds\n",
       "\n",
       ">      trace_diamonds (network, species_list, network_dic, libr=None,\n",
       ">                      threshold=0.0, nb_intermediates=2)\n",
       "\n",
       "extracts diamond-shape motifs from biosynthetic networks (A->B,A->C,B->D,C->D) and uses evolutionary information to determine which path is taken from A to D\n",
       "\n",
       "| Arguments:\n",
       "| :-\n",
       "| network (networkx object): biosynthetic network, returned from construct_network\n",
       "| species_list (list): list of species to compare network to\n",
       "| network_dic (dict): dictionary of form species name : biosynthetic network (gained from construct_network)\n",
       "| libr (list): library of monosaccharides; if you have one use it, otherwise a comprehensive lib will be used\n",
       "| threshold (float): everything below or equal to that threshold will be cut; default:0.\n",
       "| nb_intermediates (int): number of intermediate nodes expected in a network motif to extract; has to be a multiple of 2 (2: diamond, 4: hexagon,...)\n",
       "\n",
       "| Returns:\n",
       "| :-\n",
       "| Returns dataframe of each intermediary glycan and its proportion (0-1) of how often it has been experimentally observed in this path"
      ],
      "text/plain": [
       "---\n",
       "\n",
       "### trace_diamonds\n",
       "\n",
       ">      trace_diamonds (network, species_list, network_dic, libr=None,\n",
       ">                      threshold=0.0, nb_intermediates=2)\n",
       "\n",
       "extracts diamond-shape motifs from biosynthetic networks (A->B,A->C,B->D,C->D) and uses evolutionary information to determine which path is taken from A to D\n",
       "\n",
       "| Arguments:\n",
       "| :-\n",
       "| network (networkx object): biosynthetic network, returned from construct_network\n",
       "| species_list (list): list of species to compare network to\n",
       "| network_dic (dict): dictionary of form species name : biosynthetic network (gained from construct_network)\n",
       "| libr (list): library of monosaccharides; if you have one use it, otherwise a comprehensive lib will be used\n",
       "| threshold (float): everything below or equal to that threshold will be cut; default:0.\n",
       "| nb_intermediates (int): number of intermediate nodes expected in a network motif to extract; has to be a multiple of 2 (2: diamond, 4: hexagon,...)\n",
       "\n",
       "| Returns:\n",
       "| :-\n",
       "| Returns dataframe of each intermediary glycan and its proportion (0-1) of how often it has been experimentally observed in this path"
      ]
     },
     "execution_count": null,
     "metadata": {},
     "output_type": "execute_result"
    }
   ],
   "source": [
    "show_doc(trace_diamonds)"
   ]
  },
  {
   "cell_type": "code",
   "execution_count": null,
   "id": "subtle-grace",
   "metadata": {},
   "outputs": [
    {
     "data": {
      "text/markdown": [
       "---\n",
       "\n",
       "### evoprune_network\n",
       "\n",
       ">      evoprune_network (network, network_dic=None, species_list=None,\n",
       ">                        libr=None, node_attr='abundance', threshold=0.01,\n",
       ">                        nb_intermediates=2)\n",
       "\n",
       "given a biosynthetic network, this function uses evolutionary relationships to prune impossible paths\n",
       "\n",
       "| Arguments:\n",
       "| :-\n",
       "| network (networkx object): biosynthetic network, returned from construct_network\n",
       "| network_dic (dict): dictionary of form species name : biosynthetic network (gained from construct_network); default:pre-computed milk networks\n",
       "| species_list (list): list of species to compare network to; default:species from pre-computed milk networks\n",
       "| libr (list): library of monosaccharides; if you have one use it, otherwise a comprehensive lib will be used\n",
       "| node_attr (string): which (numerical) node attribute to use for pruning; default:'abundance'\n",
       "| threshold (float): everything below or equal to that threshold will be cut; default:0.01\n",
       "| nb_intermediates (int): number of intermediate nodes expected in a network motif to extract; has to be a multiple of 2 (2: diamond, 4: hexagon,...)\n",
       "\n",
       "| Returns:\n",
       "| :-\n",
       "| Returns pruned network (with virtual node probability as a new node attribute)"
      ],
      "text/plain": [
       "---\n",
       "\n",
       "### evoprune_network\n",
       "\n",
       ">      evoprune_network (network, network_dic=None, species_list=None,\n",
       ">                        libr=None, node_attr='abundance', threshold=0.01,\n",
       ">                        nb_intermediates=2)\n",
       "\n",
       "given a biosynthetic network, this function uses evolutionary relationships to prune impossible paths\n",
       "\n",
       "| Arguments:\n",
       "| :-\n",
       "| network (networkx object): biosynthetic network, returned from construct_network\n",
       "| network_dic (dict): dictionary of form species name : biosynthetic network (gained from construct_network); default:pre-computed milk networks\n",
       "| species_list (list): list of species to compare network to; default:species from pre-computed milk networks\n",
       "| libr (list): library of monosaccharides; if you have one use it, otherwise a comprehensive lib will be used\n",
       "| node_attr (string): which (numerical) node attribute to use for pruning; default:'abundance'\n",
       "| threshold (float): everything below or equal to that threshold will be cut; default:0.01\n",
       "| nb_intermediates (int): number of intermediate nodes expected in a network motif to extract; has to be a multiple of 2 (2: diamond, 4: hexagon,...)\n",
       "\n",
       "| Returns:\n",
       "| :-\n",
       "| Returns pruned network (with virtual node probability as a new node attribute)"
      ]
     },
     "execution_count": null,
     "metadata": {},
     "output_type": "execute_result"
    }
   ],
   "source": [
    "show_doc(evoprune_network)"
   ]
  },
  {
   "cell_type": "code",
   "execution_count": null,
   "id": "magnetic-feature",
   "metadata": {},
   "outputs": [
    {
     "data": {
      "text/markdown": [
       "---\n",
       "\n",
       "### highlight_network\n",
       "\n",
       ">      highlight_network (network, highlight, motif=None, abundance_df=None,\n",
       ">                         glycan_col='target', intensity_col='rel_intensity',\n",
       ">                         conservation_df=None, network_dic=None, species=None,\n",
       ">                         libr=None)\n",
       "\n",
       "highlights a certain attribute in the network that will be visible when using plot_network\n",
       "\n",
       "| Arguments:\n",
       "| :-\n",
       "| network (networkx object): biosynthetic network, returned from construct_network\n",
       "| highlight (string): which attribute to highlight (choices are 'motif' for glycan motifs, 'abundance' for glycan abundances, 'conservation' for glycan conservation, 'species' for highlighting 1 species in multi-network)\n",
       "| motif (string): highlight=motif; which motif to highlight (absence/presence, in violet/green); default:None\n",
       "| abundance_df (dataframe): highlight=abundance; dataframe containing glycans and their relative intensity\n",
       "| glycan_col (string): highlight=abundance; column name of the glycans in abundance_df\n",
       "| intensity_col (string): highlight=abundance; column name of the relative intensities in abundance_df\n",
       "| conservation_df (dataframe): highlight=conservation; dataframe containing glycans from different species\n",
       "| network_dic (dict): highlight=conservation/species; dictionary of form species name : biosynthetic network (gained from construct_network); default:pre-computed milk networks\n",
       "| species (string): highlight=species; which species to highlight in a multi-species network\n",
       "| libr (list): library of monosaccharides; if you have one use it, otherwise a comprehensive lib will be used\n",
       "\n",
       "| Returns:\n",
       "| :-\n",
       "| Returns a network with the additional 'origin' (motif/species) or 'abundance' (abundance/conservation) node attribute storing the highlight"
      ],
      "text/plain": [
       "---\n",
       "\n",
       "### highlight_network\n",
       "\n",
       ">      highlight_network (network, highlight, motif=None, abundance_df=None,\n",
       ">                         glycan_col='target', intensity_col='rel_intensity',\n",
       ">                         conservation_df=None, network_dic=None, species=None,\n",
       ">                         libr=None)\n",
       "\n",
       "highlights a certain attribute in the network that will be visible when using plot_network\n",
       "\n",
       "| Arguments:\n",
       "| :-\n",
       "| network (networkx object): biosynthetic network, returned from construct_network\n",
       "| highlight (string): which attribute to highlight (choices are 'motif' for glycan motifs, 'abundance' for glycan abundances, 'conservation' for glycan conservation, 'species' for highlighting 1 species in multi-network)\n",
       "| motif (string): highlight=motif; which motif to highlight (absence/presence, in violet/green); default:None\n",
       "| abundance_df (dataframe): highlight=abundance; dataframe containing glycans and their relative intensity\n",
       "| glycan_col (string): highlight=abundance; column name of the glycans in abundance_df\n",
       "| intensity_col (string): highlight=abundance; column name of the relative intensities in abundance_df\n",
       "| conservation_df (dataframe): highlight=conservation; dataframe containing glycans from different species\n",
       "| network_dic (dict): highlight=conservation/species; dictionary of form species name : biosynthetic network (gained from construct_network); default:pre-computed milk networks\n",
       "| species (string): highlight=species; which species to highlight in a multi-species network\n",
       "| libr (list): library of monosaccharides; if you have one use it, otherwise a comprehensive lib will be used\n",
       "\n",
       "| Returns:\n",
       "| :-\n",
       "| Returns a network with the additional 'origin' (motif/species) or 'abundance' (abundance/conservation) node attribute storing the highlight"
      ]
     },
     "execution_count": null,
     "metadata": {},
     "output_type": "execute_result"
    }
   ],
   "source": [
    "show_doc(highlight_network)"
   ]
  },
  {
   "cell_type": "code",
   "execution_count": null,
   "id": "moral-planet",
   "metadata": {},
   "outputs": [
    {
     "data": {
      "text/markdown": [
       "---\n",
       "\n",
       "### export_network\n",
       "\n",
       ">      export_network (network, filepath, other_node_attributes=[])\n",
       "\n",
       "converts NetworkX network into files usable, e.g., by Cytoscape or Gephi\n",
       "\n",
       "| Arguments:\n",
       "| :-\n",
       "| network (networkx object): biosynthetic network, returned from construct_network\n",
       "| filepath (string): should describe a valid path + file name prefix, will be appended by file description and type\n",
       "| other_node_attributes (list): string names of node attributes that should also be extracted; default:[]\n",
       "\n",
       "| Returns:\n",
       "| :-\n",
       "| (1) saves a .csv dataframe containing the edge list and edge labels\n",
       "| (2) saves a .csv dataframe containing node IDs and labels"
      ],
      "text/plain": [
       "---\n",
       "\n",
       "### export_network\n",
       "\n",
       ">      export_network (network, filepath, other_node_attributes=[])\n",
       "\n",
       "converts NetworkX network into files usable, e.g., by Cytoscape or Gephi\n",
       "\n",
       "| Arguments:\n",
       "| :-\n",
       "| network (networkx object): biosynthetic network, returned from construct_network\n",
       "| filepath (string): should describe a valid path + file name prefix, will be appended by file description and type\n",
       "| other_node_attributes (list): string names of node attributes that should also be extracted; default:[]\n",
       "\n",
       "| Returns:\n",
       "| :-\n",
       "| (1) saves a .csv dataframe containing the edge list and edge labels\n",
       "| (2) saves a .csv dataframe containing node IDs and labels"
      ]
     },
     "execution_count": null,
     "metadata": {},
     "output_type": "execute_result"
    }
   ],
   "source": [
    "show_doc(export_network)"
   ]
  },
  {
   "cell_type": "markdown",
   "id": "distant-graphics",
   "metadata": {},
   "source": [
    "## evolution\n",
    ">investigating evolutionary relationships of glycans"
   ]
  },
  {
   "cell_type": "code",
   "execution_count": null,
   "id": "conceptual-checklist",
   "metadata": {},
   "outputs": [
    {
     "data": {
      "text/markdown": [
       "---\n",
       "\n",
       "### distance_from_embeddings\n",
       "\n",
       ">      distance_from_embeddings (df, embeddings, cut_off=10, rank='Species',\n",
       ">                                averaging='median')\n",
       "\n",
       "calculates a cosine distance matrix from learned embeddings\n",
       "\n",
       "| Arguments:\n",
       "| :-\n",
       "| df (dataframe): dataframe with glycans as rows and taxonomic information as columns\n",
       "| embeddings (dataframe): dataframe with glycans as rows and learned embeddings as columns (e.g., from glycans_to_emb)\n",
       "| cut_off (int): how many glycans a rank (e.g., species) needs to have at least to be included; default:10\n",
       "| rank (string): which taxonomic rank to use for grouping organisms; default:'Species'\n",
       "| averaging (string): how to average embeddings, by 'median' or 'mean'; default:'median'\n",
       "\n",
       "| Returns:\n",
       "| :-\n",
       "| Returns a rank x rank distance matrix"
      ],
      "text/plain": [
       "---\n",
       "\n",
       "### distance_from_embeddings\n",
       "\n",
       ">      distance_from_embeddings (df, embeddings, cut_off=10, rank='Species',\n",
       ">                                averaging='median')\n",
       "\n",
       "calculates a cosine distance matrix from learned embeddings\n",
       "\n",
       "| Arguments:\n",
       "| :-\n",
       "| df (dataframe): dataframe with glycans as rows and taxonomic information as columns\n",
       "| embeddings (dataframe): dataframe with glycans as rows and learned embeddings as columns (e.g., from glycans_to_emb)\n",
       "| cut_off (int): how many glycans a rank (e.g., species) needs to have at least to be included; default:10\n",
       "| rank (string): which taxonomic rank to use for grouping organisms; default:'Species'\n",
       "| averaging (string): how to average embeddings, by 'median' or 'mean'; default:'median'\n",
       "\n",
       "| Returns:\n",
       "| :-\n",
       "| Returns a rank x rank distance matrix"
      ]
     },
     "execution_count": null,
     "metadata": {},
     "output_type": "execute_result"
    }
   ],
   "source": [
    "show_doc(distance_from_embeddings)"
   ]
  },
  {
   "cell_type": "code",
   "execution_count": null,
   "id": "numerous-newport",
   "metadata": {},
   "outputs": [
    {
     "data": {
      "text/markdown": [
       "---\n",
       "\n",
       "### distance_from_metric\n",
       "\n",
       ">      distance_from_metric (df, networks, metric='Jaccard', cut_off=10,\n",
       ">                            rank='Species')\n",
       "\n",
       "calculates a distance matrix of generated networks based on provided metric\n",
       "\n",
       "| Arguments:\n",
       "| :-\n",
       "| df (dataframe): dataframe with glycans as rows and taxonomic information as columns\n",
       "| networks (list): list of networks in networkx format\n",
       "| metric (string): which metric to use, available: 'Jaccard'; default:'Jaccard'\n",
       "| cut_off (int): how many glycans a rank (e.g., species) needs to have at least to be included; default:10\n",
       "| rank (string): which taxonomic rank to use for grouping organisms; default:'Species'\n",
       "\n",
       "| Returns:\n",
       "| :-\n",
       "| Returns a rank x rank distance matrix"
      ],
      "text/plain": [
       "---\n",
       "\n",
       "### distance_from_metric\n",
       "\n",
       ">      distance_from_metric (df, networks, metric='Jaccard', cut_off=10,\n",
       ">                            rank='Species')\n",
       "\n",
       "calculates a distance matrix of generated networks based on provided metric\n",
       "\n",
       "| Arguments:\n",
       "| :-\n",
       "| df (dataframe): dataframe with glycans as rows and taxonomic information as columns\n",
       "| networks (list): list of networks in networkx format\n",
       "| metric (string): which metric to use, available: 'Jaccard'; default:'Jaccard'\n",
       "| cut_off (int): how many glycans a rank (e.g., species) needs to have at least to be included; default:10\n",
       "| rank (string): which taxonomic rank to use for grouping organisms; default:'Species'\n",
       "\n",
       "| Returns:\n",
       "| :-\n",
       "| Returns a rank x rank distance matrix"
      ]
     },
     "execution_count": null,
     "metadata": {},
     "output_type": "execute_result"
    }
   ],
   "source": [
    "show_doc(distance_from_metric)"
   ]
  },
  {
   "cell_type": "code",
   "execution_count": null,
   "id": "honest-minnesota",
   "metadata": {},
   "outputs": [
    {
     "data": {
      "text/markdown": [
       "---\n",
       "\n",
       "### dendrogram_from_distance\n",
       "\n",
       ">      dendrogram_from_distance (dm, ylabel='Mammalia', filepath='')\n",
       "\n",
       "plots a dendrogram from distance matrix\n",
       "\n",
       "| Arguments:\n",
       "| :-\n",
       "| dm (dataframe): a rank x rank distance matrix (e.g., from distance_from_embeddings)\n",
       "| ylabel (string): how to label the y-axis of the dendrogram; default:'Mammalia'\n",
       "| filepath (string): absolute path including full filename allows for saving the plot"
      ],
      "text/plain": [
       "---\n",
       "\n",
       "### dendrogram_from_distance\n",
       "\n",
       ">      dendrogram_from_distance (dm, ylabel='Mammalia', filepath='')\n",
       "\n",
       "plots a dendrogram from distance matrix\n",
       "\n",
       "| Arguments:\n",
       "| :-\n",
       "| dm (dataframe): a rank x rank distance matrix (e.g., from distance_from_embeddings)\n",
       "| ylabel (string): how to label the y-axis of the dendrogram; default:'Mammalia'\n",
       "| filepath (string): absolute path including full filename allows for saving the plot"
      ]
     },
     "execution_count": null,
     "metadata": {},
     "output_type": "execute_result"
    }
   ],
   "source": [
    "show_doc(dendrogram_from_distance)"
   ]
  },
  {
   "cell_type": "code",
   "execution_count": null,
   "id": "exciting-lloyd",
   "metadata": {},
   "outputs": [
    {
     "data": {
      "text/markdown": [
       "---\n",
       "\n",
       "### check_conservation\n",
       "\n",
       ">      check_conservation (glycan, df, network_dic=None, libr=None,\n",
       ">                          rank='Order', threshold=5, motif=False)\n",
       "\n",
       "estimates evolutionary conservation of glycans and glycan motifs via biosynthetic networks\n",
       "\n",
       "| Arguments:\n",
       "| :-\n",
       "| glycan (string): full glycan or glycan motif in IUPAC-condensed nomenclature\n",
       "| df (dataframe): dataframe in the style of df_species, each row one glycan and columns are the taxonomic levels\n",
       "| network_dic (dict): dictionary of form species name : biosynthetic network (gained from construct_network); default:pre-computed milk networks\n",
       "| libr (list): library of monosaccharides; if you have one use it, otherwise a comprehensive lib will be used\n",
       "| rank (string): at which taxonomic level to assess conservation; default:Order\n",
       "| threshold (int): threshold of how many glycans a species needs to have to consider the species;default:5\n",
       "| motif (bool): whether glycan is a motif (True) or a full sequence (False); default:False\n",
       "\n",
       "| Returns:\n",
       "| :-\n",
       "| Returns a dictionary of taxonomic group : degree of conservation"
      ],
      "text/plain": [
       "---\n",
       "\n",
       "### check_conservation\n",
       "\n",
       ">      check_conservation (glycan, df, network_dic=None, libr=None,\n",
       ">                          rank='Order', threshold=5, motif=False)\n",
       "\n",
       "estimates evolutionary conservation of glycans and glycan motifs via biosynthetic networks\n",
       "\n",
       "| Arguments:\n",
       "| :-\n",
       "| glycan (string): full glycan or glycan motif in IUPAC-condensed nomenclature\n",
       "| df (dataframe): dataframe in the style of df_species, each row one glycan and columns are the taxonomic levels\n",
       "| network_dic (dict): dictionary of form species name : biosynthetic network (gained from construct_network); default:pre-computed milk networks\n",
       "| libr (list): library of monosaccharides; if you have one use it, otherwise a comprehensive lib will be used\n",
       "| rank (string): at which taxonomic level to assess conservation; default:Order\n",
       "| threshold (int): threshold of how many glycans a species needs to have to consider the species;default:5\n",
       "| motif (bool): whether glycan is a motif (True) or a full sequence (False); default:False\n",
       "\n",
       "| Returns:\n",
       "| :-\n",
       "| Returns a dictionary of taxonomic group : degree of conservation"
      ]
     },
     "execution_count": null,
     "metadata": {},
     "output_type": "execute_result"
    }
   ],
   "source": [
    "show_doc(check_conservation)"
   ]
  },
  {
   "cell_type": "code",
   "execution_count": null,
   "id": "canadian-consultancy",
   "metadata": {},
   "outputs": [
    {
     "data": {
      "text/markdown": [
       "---\n",
       "\n",
       "### get_communities\n",
       "\n",
       ">      get_communities (graph_list, label_list=None)\n",
       "\n",
       "Find communities for each graph in a list of graphs\n",
       "\n",
       "| Arguments:\n",
       "| :-\n",
       "| graph_list (list): list of undirected biosynthetic networks, in the form of networkx objects\n",
       "| label_list (list): labels to create the community names, which are running_number + _ + label[k]  for graph_list[k]; default:range(len(graph_list))\n",
       "\n",
       "| Returns:\n",
       "| :-\n",
       "| Returns a merged dictionary of community : glycans in that community"
      ],
      "text/plain": [
       "---\n",
       "\n",
       "### get_communities\n",
       "\n",
       ">      get_communities (graph_list, label_list=None)\n",
       "\n",
       "Find communities for each graph in a list of graphs\n",
       "\n",
       "| Arguments:\n",
       "| :-\n",
       "| graph_list (list): list of undirected biosynthetic networks, in the form of networkx objects\n",
       "| label_list (list): labels to create the community names, which are running_number + _ + label[k]  for graph_list[k]; default:range(len(graph_list))\n",
       "\n",
       "| Returns:\n",
       "| :-\n",
       "| Returns a merged dictionary of community : glycans in that community"
      ]
     },
     "execution_count": null,
     "metadata": {},
     "output_type": "execute_result"
    }
   ],
   "source": [
    "show_doc(get_communities)"
   ]
  },
  {
   "cell_type": "code",
   "execution_count": null,
   "id": "sweet-agriculture",
   "metadata": {},
   "outputs": [],
   "source": [
    "#| hide\n",
    "import nbdev; nbdev.nbdev_export()"
   ]
  },
  {
   "cell_type": "code",
   "execution_count": null,
   "id": "tribal-thread",
   "metadata": {},
   "outputs": [],
   "source": []
  }
 ],
 "metadata": {
  "kernelspec": {
   "display_name": "Python 3",
   "language": "python",
   "name": "python3"
  }
 },
 "nbformat": 4,
 "nbformat_minor": 5
}
