{
 "cells": [
  {
   "cell_type": "code",
   "execution_count": null,
   "id": "attempted-cemetery",
   "metadata": {},
   "outputs": [],
   "source": [
    "#hide\n",
    "#default_exp glycan_data\n",
    "from nbdev.showdoc import show_doc\n",
    "from IPython.display import HTML\n",
    "import copy\n",
    "%load_ext autoreload\n",
    "%autoreload 2"
   ]
  },
  {
   "cell_type": "markdown",
   "id": "educated-mining",
   "metadata": {},
   "source": [
    "# glycan_data\n",
    "\n",
    ">Loading and handling glycan datasets"
   ]
  },
  {
   "cell_type": "code",
   "execution_count": null,
   "id": "logical-polyester",
   "metadata": {},
   "outputs": [],
   "source": [
    "#export\n",
    "from glycowork.glycan_data.loader import *\n",
    "from glycowork.glycan_data.data_entry import *"
   ]
  },
  {
   "cell_type": "markdown",
   "id": "retired-cartoon",
   "metadata": {},
   "source": [
    "`glycan_data` contains several helper functions for glycan data loading and data entry. Helper functions for data loading and data objects are in `loader` and include:\n",
    "- `unwrap` flattens nested lists\n",
    "- `find_nth` returns the n-th occurrence of a motif\n",
    "- `df_species` loaded file for all glycans with species information, one row per glycan-species combination\n",
    "- `df_glycan` loaded file containing all unique glycans with lots of meta-information\n",
    "- `df_glysum` loaded glycan substitution matrix for glycan alignment\n",
    "- `glycan_emb` glycan representations for all glycans in df_species from a trained species-level SweetNet model\n",
    "- `influenza_binding` Z-score data for influenza virus binding to glycans; every row one virus, glycans are columns\n",
    "- `lib` library of unique monosaccharides + linkages in stored datasets; generated with `get_lib`"
   ]
  },
  {
   "cell_type": "markdown",
   "id": "instrumental-excuse",
   "metadata": {},
   "source": [
    "# loader"
   ]
  },
  {
   "cell_type": "code",
   "execution_count": null,
   "id": "according-characterization",
   "metadata": {},
   "outputs": [],
   "source": [
    "show_doc(unwrap)"
   ]
  },
  {
   "cell_type": "code",
   "execution_count": null,
   "id": "saving-greek",
   "metadata": {},
   "outputs": [],
   "source": [
    "unwrap([[1,2], [3,4]])"
   ]
  },
  {
   "cell_type": "code",
   "execution_count": null,
   "id": "oriented-delay",
   "metadata": {},
   "outputs": [],
   "source": [
    "show_doc(find_nth)"
   ]
  },
  {
   "cell_type": "code",
   "execution_count": null,
   "id": "academic-kingdom",
   "metadata": {},
   "outputs": [],
   "source": [
    "find_nth('This is as good as it gets', 'as', 2)"
   ]
  },
  {
   "cell_type": "markdown",
   "id": "hungarian-breakfast",
   "metadata": {},
   "source": [
    "`df_species`"
   ]
  },
  {
   "cell_type": "code",
   "execution_count": null,
   "id": "precious-cooperative",
   "metadata": {},
   "outputs": [],
   "source": [
    "#hide_input\n",
    "df_species2 = copy.deepcopy(df_species)\n",
    "df_species2.index = df_species2.target.values.tolist()\n",
    "df_species2.drop(['target'], axis = 1, inplace = True)\n",
    "HTML(df_species2.head().style.set_properties(**{'font-size': '11pt', 'font-family': 'Helvetica','border-collapse': 'collapse','border': '1px solid black'}).render())"
   ]
  },
  {
   "cell_type": "markdown",
   "id": "separate-compiler",
   "metadata": {},
   "source": [
    "`df_glycan`"
   ]
  },
  {
   "cell_type": "code",
   "execution_count": null,
   "id": "anonymous-australia",
   "metadata": {},
   "outputs": [],
   "source": [
    "#hide_input\n",
    "df_glycan.index = df_glycan.glycan.values.tolist()\n",
    "df_glycan.drop(['glycan'], axis = 1, inplace = True)\n",
    "HTML(df_glycan.head().style.set_properties(**{'font-size': '11pt', 'font-family': 'Helvetica','border-collapse': 'collapse','border': '1px solid black'}).render())"
   ]
  },
  {
   "cell_type": "markdown",
   "id": "integral-completion",
   "metadata": {},
   "source": [
    "`influenza_binding`"
   ]
  },
  {
   "cell_type": "code",
   "execution_count": null,
   "id": "varying-romania",
   "metadata": {},
   "outputs": [],
   "source": [
    "#hide_input\n",
    "HTML(influenza_binding.head().style.set_properties(**{'font-size': '11pt', 'font-family': 'Helvetica','border-collapse': 'collapse','border': '1px solid black'}).render())"
   ]
  },
  {
   "cell_type": "markdown",
   "id": "unable-discussion",
   "metadata": {},
   "source": [
    "# data_entry"
   ]
  },
  {
   "cell_type": "markdown",
   "id": "incredible-assessment",
   "metadata": {},
   "source": [
    "Helper functions for entering data are contained in `data_entry` and include:\n",
    "\n",
    "- `check_presence` tests whether the entered glycan is already in database"
   ]
  },
  {
   "cell_type": "code",
   "execution_count": null,
   "id": "thrown-industry",
   "metadata": {},
   "outputs": [],
   "source": [
    "show_doc(check_presence)"
   ]
  },
  {
   "cell_type": "code",
   "execution_count": null,
   "id": "developed-greene",
   "metadata": {},
   "outputs": [],
   "source": [
    "print(\"Check presence of Man(a1-3)[Man(a1-6)]Man(b1-4)GlcNAc(b1-4)GlcNAc\")\n",
    "check_presence('Man(a1-3)[Man(a1-6)]Man(b1-4)GlcNAc(b1-4)GlcNAc', df_species)\n",
    "\n",
    "print(\"Check presence of Fuc(b1-3)[Man(a1-6)]Man(b1-4)GlcNAc(b1-4)GlcNAc\")\n",
    "check_presence('Fuc(b1-3)[Man(a1-6)]Man(b1-4)GlcNAc(b1-4)GlcNAc', df_species)\n",
    "\n",
    "print(\"Check presence of Man(a1-3)[Man(a1-6)]Man(b1-4)GlcNAc(b1-4)GlcNAc in the species Danielus Bojarum\")\n",
    "check_presence('Man(a1-3)[Man(a1-6)]Man(b1-4)GlcNAc(b1-4)GlcNAc', df_species,\n",
    "               name = 'Danielus Bojarum')"
   ]
  },
  {
   "cell_type": "code",
   "execution_count": null,
   "id": "worth-nicholas",
   "metadata": {},
   "outputs": [],
   "source": [
    "#hide\n",
    "from nbdev.export import notebook2script; notebook2script()"
   ]
  }
 ],
 "metadata": {
  "kernelspec": {
   "display_name": "Python 3",
   "language": "python",
   "name": "python3"
  }
 },
 "nbformat": 4,
 "nbformat_minor": 5
}
