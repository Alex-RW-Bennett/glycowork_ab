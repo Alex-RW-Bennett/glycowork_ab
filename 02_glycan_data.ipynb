{
 "cells": [
  {
   "cell_type": "code",
   "execution_count": null,
   "id": "attempted-cemetery",
   "metadata": {},
   "outputs": [],
   "source": [
    "#hide\n",
    "#default_exp glycan_data\n",
    "from nbdev.showdoc import show_doc\n",
    "from IPython.display import HTML\n",
    "%load_ext autoreload\n",
    "%autoreload 2"
   ]
  },
  {
   "cell_type": "markdown",
   "id": "educated-mining",
   "metadata": {},
   "source": [
    "# glycan_data\n",
    "\n",
    ">Loading and handling glycan datasets"
   ]
  },
  {
   "cell_type": "code",
   "execution_count": null,
   "id": "logical-polyester",
   "metadata": {},
   "outputs": [],
   "source": [
    "#export\n",
    "from glycowork.glycan_data.loader import *\n",
    "from glycowork.glycan_data.data_entry import *"
   ]
  },
  {
   "cell_type": "markdown",
   "id": "retired-cartoon",
   "metadata": {},
   "source": [
    "`glycan_data` contains several helper functions for glycan data loading and data entry. Helper functions for data loading and data objects are in `loader` and include:\n",
    "- `unwrap` flattens nested lists\n",
    "- `find_nth` returns the n-th occurrence of a motif\n",
    "- `df_species` loaded file for all glycans with species information, one row per glycan-species combination\n",
    "- `df_glycan` loaded file containing all unique glycans with lots of meta-information\n",
    "- `df_glysum` loaded glycan substitution matrix for glycan alignment\n",
    "- `lib` library of unique monosaccharides + linkages in stored datasets; generated with `get_lib`"
   ]
  },
  {
   "cell_type": "markdown",
   "id": "instrumental-excuse",
   "metadata": {},
   "source": [
    "# loader"
   ]
  },
  {
   "cell_type": "code",
   "execution_count": null,
   "id": "according-characterization",
   "metadata": {},
   "outputs": [
    {
     "data": {
      "text/markdown": [
       "<h4 id=\"unwrap\" class=\"doc_header\"><code>unwrap</code><a href=\"https://github.com/BojarLab/glycoworkglycowork/glycan_data/loader.py#L20\" class=\"source_link\" style=\"float:right\">[source]</a></h4>\n",
       "\n",
       "> <code>unwrap</code>(**`nested_list`**)\n",
       "\n",
       "converts a nested list into a flat list"
      ],
      "text/plain": [
       "<IPython.core.display.Markdown object>"
      ]
     },
     "metadata": {},
     "output_type": "display_data"
    }
   ],
   "source": [
    "show_doc(unwrap)"
   ]
  },
  {
   "cell_type": "code",
   "execution_count": null,
   "id": "saving-greek",
   "metadata": {},
   "outputs": [
    {
     "data": {
      "text/plain": [
       "[1, 2, 3, 4]"
      ]
     },
     "execution_count": null,
     "metadata": {},
     "output_type": "execute_result"
    }
   ],
   "source": [
    "unwrap([[1,2], [3,4]])"
   ]
  },
  {
   "cell_type": "code",
   "execution_count": null,
   "id": "oriented-delay",
   "metadata": {},
   "outputs": [
    {
     "data": {
      "text/markdown": [
       "<h4 id=\"find_nth\" class=\"doc_header\"><code>find_nth</code><a href=\"https://github.com/BojarLab/glycoworkglycowork/glycan_data/loader.py#L25\" class=\"source_link\" style=\"float:right\">[source]</a></h4>\n",
       "\n",
       "> <code>find_nth</code>(**`haystack`**, **`needle`**, **`n`**)\n",
       "\n",
       "finds n-th instance of motif\n",
       "\n",
       "haystack -- string to search for motif\n",
       "\n",
       "needle -- motif\n",
       "\n",
       "n -- n-th occurrence in string\n",
       "\n",
       "\n",
       "returns starting index of n-th occurrence in string "
      ],
      "text/plain": [
       "<IPython.core.display.Markdown object>"
      ]
     },
     "metadata": {},
     "output_type": "display_data"
    }
   ],
   "source": [
    "show_doc(find_nth)"
   ]
  },
  {
   "cell_type": "code",
   "execution_count": null,
   "id": "academic-kingdom",
   "metadata": {},
   "outputs": [
    {
     "data": {
      "text/plain": [
       "16"
      ]
     },
     "execution_count": null,
     "metadata": {},
     "output_type": "execute_result"
    }
   ],
   "source": [
    "find_nth('This is as good as it gets', 'as', 2)"
   ]
  },
  {
   "cell_type": "code",
   "execution_count": null,
   "id": "precious-cooperative",
   "metadata": {},
   "outputs": [
    {
     "data": {
      "text/html": [
       "<table border=\"1\" class=\"dataframe\">\n",
       "  <thead>\n",
       "    <tr style=\"text-align: right;\">\n",
       "      <th></th>\n",
       "      <th>target</th>\n",
       "      <th>species</th>\n",
       "      <th>genus</th>\n",
       "      <th>family</th>\n",
       "      <th>order</th>\n",
       "      <th>class</th>\n",
       "      <th>phylum</th>\n",
       "      <th>kingdom</th>\n",
       "      <th>domain</th>\n",
       "      <th>ref</th>\n",
       "    </tr>\n",
       "  </thead>\n",
       "  <tbody>\n",
       "    <tr>\n",
       "      <th>0</th>\n",
       "      <td>Man(a1-3)[Man(a1-6)][Xyl(b1-2)]Man(b1-4)GlcNAc(b1-4)[Fuc(a1-3)]GlcNAc</td>\n",
       "      <td>Acer_pseudoplatanus</td>\n",
       "      <td>Acer</td>\n",
       "      <td>Sapindaceae</td>\n",
       "      <td>Sapindales</td>\n",
       "      <td>Dicotyledons</td>\n",
       "      <td>Angiosperms</td>\n",
       "      <td>Plantae</td>\n",
       "      <td>Eukarya</td>\n",
       "      <td>NaN</td>\n",
       "    </tr>\n",
       "    <tr>\n",
       "      <th>1</th>\n",
       "      <td>GlcNAc(b1-2)Man(a1-3)[Man(a1-6)][Xyl(b1-2)]Man(b1-4)GlcNAc(b1-4)[Fuc(a1-3)]GlcNAc</td>\n",
       "      <td>Acer_pseudoplatanus</td>\n",
       "      <td>Acer</td>\n",
       "      <td>Sapindaceae</td>\n",
       "      <td>Sapindales</td>\n",
       "      <td>Dicotyledons</td>\n",
       "      <td>Angiosperms</td>\n",
       "      <td>Plantae</td>\n",
       "      <td>Eukarya</td>\n",
       "      <td>NaN</td>\n",
       "    </tr>\n",
       "    <tr>\n",
       "      <th>2</th>\n",
       "      <td>GlcNAc(b1-2)Man(a1-6)[Man(a1-3)][Xyl(b1-2)]Man(b1-4)GlcNAc(b1-4)[Fuc(a1-3)]GlcNAc</td>\n",
       "      <td>Acer_pseudoplatanus</td>\n",
       "      <td>Acer</td>\n",
       "      <td>Sapindaceae</td>\n",
       "      <td>Sapindales</td>\n",
       "      <td>Dicotyledons</td>\n",
       "      <td>Angiosperms</td>\n",
       "      <td>Plantae</td>\n",
       "      <td>Eukarya</td>\n",
       "      <td>NaN</td>\n",
       "    </tr>\n",
       "    <tr>\n",
       "      <th>3</th>\n",
       "      <td>Fuc(a1-6)[Gal(b1-4)]GlcNAc(b1-2)Man(a1-6)[GlcNAc(b1-2)Man(a1-3)][Xyl(b1-2)]Man(b1-4)GlcNAc(b1-4)[Fuc(a1-3)]GlcNAc</td>\n",
       "      <td>Acer_pseudoplatanus</td>\n",
       "      <td>Acer</td>\n",
       "      <td>Sapindaceae</td>\n",
       "      <td>Sapindales</td>\n",
       "      <td>Dicotyledons</td>\n",
       "      <td>Angiosperms</td>\n",
       "      <td>Plantae</td>\n",
       "      <td>Eukarya</td>\n",
       "      <td>NaN</td>\n",
       "    </tr>\n",
       "    <tr>\n",
       "      <th>4</th>\n",
       "      <td>GlcNAc(b1-2)Man(a1-3)[GlcNAc(b1-2)Man(a1-6)][Xyl(b1-2)]Man(b1-4)GlcNAc(b1-4)[Fuc(a1-3)]GlcNAc</td>\n",
       "      <td>Acer_pseudoplatanus</td>\n",
       "      <td>Acer</td>\n",
       "      <td>Sapindaceae</td>\n",
       "      <td>Sapindales</td>\n",
       "      <td>Dicotyledons</td>\n",
       "      <td>Angiosperms</td>\n",
       "      <td>Plantae</td>\n",
       "      <td>Eukarya</td>\n",
       "      <td>NaN</td>\n",
       "    </tr>\n",
       "  </tbody>\n",
       "</table>"
      ],
      "text/plain": [
       "<IPython.core.display.HTML object>"
      ]
     },
     "execution_count": null,
     "metadata": {},
     "output_type": "execute_result"
    }
   ],
   "source": [
    "HTML(df_species.head().to_html())"
   ]
  },
  {
   "cell_type": "code",
   "execution_count": null,
   "id": "anonymous-australia",
   "metadata": {},
   "outputs": [
    {
     "data": {
      "text/html": [
       "<table border=\"1\" class=\"dataframe\">\n",
       "  <thead>\n",
       "    <tr style=\"text-align: right;\">\n",
       "      <th></th>\n",
       "      <th>glycan_id</th>\n",
       "      <th>glycan</th>\n",
       "      <th>species</th>\n",
       "      <th>immunogenicity</th>\n",
       "      <th>inferred_origin</th>\n",
       "      <th>link</th>\n",
       "      <th>genus</th>\n",
       "      <th>family</th>\n",
       "      <th>order</th>\n",
       "      <th>class</th>\n",
       "      <th>phylum</th>\n",
       "      <th>kingdom</th>\n",
       "      <th>domain</th>\n",
       "      <th>WURCS</th>\n",
       "      <th>glytoucan_acc</th>\n",
       "    </tr>\n",
       "  </thead>\n",
       "  <tbody>\n",
       "    <tr>\n",
       "      <th>0</th>\n",
       "      <td>1</td>\n",
       "      <td>Glc(a1-1)[L-Xyl(b1-3)L-Xyl(b1-3)L-Xyl(b1-3)L-Xyl(b1-3)L-Xyl(b1-3)L-Xyl(b1-4)L-Aco(a1-3)Gal(b1-3)Glc(b1-4)]Glc</td>\n",
       "      <td>[]</td>\n",
       "      <td>NaN</td>\n",
       "      <td>Bacteria</td>\n",
       "      <td>NaN</td>\n",
       "      <td>[]</td>\n",
       "      <td>[]</td>\n",
       "      <td>[]</td>\n",
       "      <td>[]</td>\n",
       "      <td>[]</td>\n",
       "      <td>[]</td>\n",
       "      <td>[]</td>\n",
       "      <td>NaN</td>\n",
       "      <td>NaN</td>\n",
       "    </tr>\n",
       "    <tr>\n",
       "      <th>1</th>\n",
       "      <td>2</td>\n",
       "      <td>GlcNAc(b1-2)[Gal(b1-3)[Neu5Ac(a2-6)]GlcNAc(b1-4)]Man(a1-3)[GlcNAc(b1-2)Man(a1-6)]Man(b1-4)GlcNAc(b1-4)[Fuc(a1-6)]GlcNAc</td>\n",
       "      <td>[]</td>\n",
       "      <td>NaN</td>\n",
       "      <td>Chordata</td>\n",
       "      <td>NaN</td>\n",
       "      <td>[]</td>\n",
       "      <td>[]</td>\n",
       "      <td>[]</td>\n",
       "      <td>[]</td>\n",
       "      <td>[]</td>\n",
       "      <td>[]</td>\n",
       "      <td>[]</td>\n",
       "      <td>WURCS=2.0/2,5,4/[a2122h-1b_1-5][a2211m-1a_1-5]/1-2-2-2-2/a2-b1_b4-c1_c3-d1_c4-e1</td>\n",
       "      <td>G52117LP</td>\n",
       "    </tr>\n",
       "    <tr>\n",
       "      <th>2</th>\n",
       "      <td>3</td>\n",
       "      <td>Man(b1-2)Man(b1-2)D-4dLyxHexOMe</td>\n",
       "      <td>['Candida_albicans']</td>\n",
       "      <td>NaN</td>\n",
       "      <td>NaN</td>\n",
       "      <td>NaN</td>\n",
       "      <td>['Candida']</td>\n",
       "      <td>['Saccharomycetaceae']</td>\n",
       "      <td>['Saccharomycetales']</td>\n",
       "      <td>['Saccharomycetes']</td>\n",
       "      <td>['Ascomycota']</td>\n",
       "      <td>['Fungi']</td>\n",
       "      <td>['Eukarya']</td>\n",
       "      <td>NaN</td>\n",
       "      <td>NaN</td>\n",
       "    </tr>\n",
       "    <tr>\n",
       "      <th>3</th>\n",
       "      <td>4</td>\n",
       "      <td>Man(a1-3)[Man(a1-3)[Man(a1-6)]Man(a1-6)]Man(b1-4)GlcNAc(b1-4)Glc</td>\n",
       "      <td>[]</td>\n",
       "      <td>NaN</td>\n",
       "      <td>Eukarya</td>\n",
       "      <td>NaN</td>\n",
       "      <td>[]</td>\n",
       "      <td>[]</td>\n",
       "      <td>[]</td>\n",
       "      <td>[]</td>\n",
       "      <td>[]</td>\n",
       "      <td>[]</td>\n",
       "      <td>[]</td>\n",
       "      <td>WURCS=2.0/5,11,10/[a2122h-1b_1-5_2*NCC/3=O][a1122h-1b_1-5][a1122h-1a_1-5][a2112h-1b_1-5][a1221m-1a_1-5]/1-1-2-3-1-1-4-3-1-1-5/a4-b1_a6-k1_b4-c1_c3-d1_c6-h1_d2-e1_d4-f1_f3-g1_h2-i1_h6-j1</td>\n",
       "      <td>G46712PI</td>\n",
       "    </tr>\n",
       "    <tr>\n",
       "      <th>4</th>\n",
       "      <td>5</td>\n",
       "      <td>GalA(a1-4)GalA(a1-4)GalA(a1-2)[GalOMe(a1-4)GalOMe(a1-4)]Rha</td>\n",
       "      <td>[]</td>\n",
       "      <td>NaN</td>\n",
       "      <td>Angiosperms</td>\n",
       "      <td>NaN</td>\n",
       "      <td>[]</td>\n",
       "      <td>[]</td>\n",
       "      <td>[]</td>\n",
       "      <td>[]</td>\n",
       "      <td>[]</td>\n",
       "      <td>[]</td>\n",
       "      <td>[]</td>\n",
       "      <td>WURCS=2.0/2,2,1/[a2122A-1x_1-5_6*OC][a2122h-1a_1-5]/1-2/a4-b1</td>\n",
       "      <td>G69176HJ</td>\n",
       "    </tr>\n",
       "  </tbody>\n",
       "</table>"
      ],
      "text/plain": [
       "<IPython.core.display.HTML object>"
      ]
     },
     "execution_count": null,
     "metadata": {},
     "output_type": "execute_result"
    }
   ],
   "source": [
    "HTML(df_glycan.head().to_html())"
   ]
  },
  {
   "cell_type": "markdown",
   "id": "unable-discussion",
   "metadata": {},
   "source": [
    "# data_entry"
   ]
  },
  {
   "cell_type": "markdown",
   "id": "incredible-assessment",
   "metadata": {},
   "source": [
    "Helper functions for entering data are contained in `data_entry` and include:\n",
    "\n",
    "- `check_presence` tests whether the entered glycan is already in database"
   ]
  },
  {
   "cell_type": "code",
   "execution_count": null,
   "id": "thrown-industry",
   "metadata": {},
   "outputs": [
    {
     "data": {
      "text/markdown": [
       "<h4 id=\"check_presence\" class=\"doc_header\"><code>check_presence</code><a href=\"https://github.com/BojarLab/glycoworkglycowork/glycan_data/data_entry.py#L5\" class=\"source_link\" style=\"float:right\">[source]</a></h4>\n",
       "\n",
       "> <code>check_presence</code>(**`glycan`**, **`df`**, **`colname`**=*`'target'`*, **`libr`**=*`None`*, **`name`**=*`None`*, **`rank`**=*`'species'`*, **`fast`**=*`False`*)\n",
       "\n",
       "checks whether glycan (of that species) is already present in dataset\n",
       "\n",
       "glycan -- IUPACcondensed glycan sequence (string)\n",
       "\n",
       "df -- glycan dataframe where glycans are under colname and ideally taxonomic labels are columns\n",
       "\n",
       "libr -- sorted list of unique glycoletters observed in the glycans of our dataset\n",
       "\n",
       "name -- name of the species (etc.) of interest; string\n",
       "\n",
       "rank -- column name for filtering; default: species\n",
       "\n",
       "fast -- True uses precomputed glycan graphs, only use if df has column 'graph' with glycan graphs\n",
       "\n",
       "\n",
       "returns text output regarding whether the glycan is already in df"
      ],
      "text/plain": [
       "<IPython.core.display.Markdown object>"
      ]
     },
     "metadata": {},
     "output_type": "display_data"
    }
   ],
   "source": [
    "show_doc(check_presence)"
   ]
  },
  {
   "cell_type": "code",
   "execution_count": null,
   "id": "developed-greene",
   "metadata": {},
   "outputs": [
    {
     "name": "stdout",
     "output_type": "stream",
     "text": [
      "Check presence of Man(a1-3)[Man(a1-6)]Man(b1-4)GlcNAc(b1-4)GlcNAc\n",
      "Glycan already in dataset.\n",
      "Check presence of Fuc(b1-3)[Man(a1-6)]Man(b1-4)GlcNAc(b1-4)GlcNAc\n",
      "It's your lucky day, this glycan is new!\n",
      "Check presence of Man(a1-3)[Man(a1-6)]Man(b1-4)GlcNAc(b1-4)GlcNAc in the species Danielus Bojarum\n",
      "This is the best: Danielus_Bojarum is not in dataset\n",
      "It's your lucky day, this glycan is new!\n"
     ]
    }
   ],
   "source": [
    "print(\"Check presence of Man(a1-3)[Man(a1-6)]Man(b1-4)GlcNAc(b1-4)GlcNAc\")\n",
    "check_presence('Man(a1-3)[Man(a1-6)]Man(b1-4)GlcNAc(b1-4)GlcNAc', df_species)\n",
    "\n",
    "print(\"Check presence of Fuc(b1-3)[Man(a1-6)]Man(b1-4)GlcNAc(b1-4)GlcNAc\")\n",
    "check_presence('Fuc(b1-3)[Man(a1-6)]Man(b1-4)GlcNAc(b1-4)GlcNAc', df_species)\n",
    "\n",
    "print(\"Check presence of Man(a1-3)[Man(a1-6)]Man(b1-4)GlcNAc(b1-4)GlcNAc in the species Danielus Bojarum\")\n",
    "check_presence('Man(a1-3)[Man(a1-6)]Man(b1-4)GlcNAc(b1-4)GlcNAc', df_species,\n",
    "               name = 'Danielus Bojarum')"
   ]
  },
  {
   "cell_type": "code",
   "execution_count": null,
   "id": "worth-nicholas",
   "metadata": {},
   "outputs": [
    {
     "name": "stdout",
     "output_type": "stream",
     "text": [
      "Converted 00_core.ipynb.\n",
      "Converted 01_alignment.ipynb.\n",
      "Converted 02_glycan_data.ipynb.\n",
      "Converted 03_ml.ipynb.\n",
      "Converted 04_motif.ipynb.\n",
      "Converted index.ipynb.\n"
     ]
    }
   ],
   "source": [
    "#hide\n",
    "from nbdev.export import notebook2script; notebook2script()"
   ]
  }
 ],
 "metadata": {
  "kernelspec": {
   "display_name": "Python 3",
   "language": "python",
   "name": "python3"
  }
 },
 "nbformat": 4,
 "nbformat_minor": 5
}
