{
 "cells": [
  {
   "cell_type": "code",
   "execution_count": null,
   "metadata": {},
   "outputs": [],
   "source": [
    "#hide\n",
    "#all_slow"
   ]
  },
  {
   "cell_type": "code",
   "execution_count": null,
   "metadata": {},
   "outputs": [],
   "source": [
    "# default_exp core"
   ]
  },
  {
   "cell_type": "markdown",
   "metadata": {},
   "source": [
    "# Glycowork\n",
    "\n",
    "> Glycans are a fundamental biological sequence, similar to DNA, RNA, or proteins. Glycans are complex carbohydrates that can form branched structures comprising monosaccharides and linkages as constituents. Despite being conspicuously absent from most research, glycans are ubiquitous in biology. They decorate most proteins and lipids and direct the stability and functions of biomolecules, cells, and organisms. This also makes glycans relevant to every human disease."
   ]
  },
  {
   "cell_type": "markdown",
   "metadata": {},
   "source": [
    "The analysis of glycans is made difficult by their nonlinearity and their astounding diversity, given the large number of monosaccharides and types of linkages. Glycowork is a Python package designed to process and analyze glycan sequences, with a special emphasis on glycan-focused machine learning. Next to various functions to work with glycans, glycowork also contains some of the largest curated glycan datasets in the field, that can be used for model training, motif comparisons, composition matching, etc.\n",
    "\n",
    "Where possible, glycowork uses the IUPAC-condensed nomenclature for glycans. An example for this would be `Man(a1-3)[Man(a1-6)]Man(b1-4)GlcNAc(b1-4)GlcNAc`, in which parentheses enclose the linkage description and brackets indicate branches. Ideally, the longest branch should constitute the main chain and side branches should be ordered ascendingly based on the last linkage of the branch (yet all functions in glycowork can deal with violations to these guidelines). Fragments with unclear attachment points are added within curly brackets. Where possible/known, monosaccharide modifications are indicated by the ring position to which they are attached (e.g., Glc6Me), while the type of connection is given if the exact position is unknown (e.g., GlcOMe). Linkage uncertainty is expressed with a '?' placeholder (e.g., a1-6, ?1-6, a1-?). As suggested in IUPAC-condensed, we omit the D-/L-prefix for the \"usual\" case and only add it for the rarer option (e.g., Glc vs. L-Glc).\n",
    "\n",
    "However, it should be noted that nearly all functions in glycowork operate on pure graphs (facilitated by `glycan_to_nxGraph`), avoiding all ambiguity of the IUPAC nomenclature. We use the IUPAC nomenclature here as a human-readable glycan nomenclature that can be readily used for motif interpretation and user-friendly usage. The conversion to graphs in all end user-functions and operations, such as motif annotation via subgraph isomorphism tests, are handled behind the scenes, allowing you to work with glycans in a human-readable format."
   ]
  },
  {
   "cell_type": "code",
   "execution_count": null,
   "metadata": {},
   "outputs": [],
   "source": [
    "#hide\n",
    "import warnings\n",
    "warnings.filterwarnings(\"ignore\")\n",
    "from nbdev.showdoc import *\n",
    "import copy\n",
    "from IPython.display import HTML\n",
    "import pandas as pd\n",
    "from glycowork.glycan_data.loader import df_species\n",
    "from glycowork.motif.analysis import plot_embeddings, make_heatmap, characterize_monosaccharide\n",
    "from glycowork.motif.processing import presence_to_matrix\n",
    "from glycowork.motif.query import get_insight\n",
    "%load_ext autoreload\n",
    "%autoreload 2"
   ]
  },
  {
   "cell_type": "markdown",
   "metadata": {},
   "source": [
    "All modules in glycowork, **except** for `ml`, can be run on any machine. For most parts of `ml`, however, a GPU is needed to load and run torch_geometric.\n",
    "\n",
    "If you want to run `glycowork.ml` in a Jupyter Notebook (in the cloud or wherever you have a GPU), just run this prior to importing glycowork:\n",
    "```\n",
    "!pip install torch-scatter -f https://pytorch-geometric.com/whl/torch-1.12.0+cu113.html\n",
    "!pip install torch-sparse -f https://pytorch-geometric.com/whl/torch-1.12.0+cu113.html\n",
    "!pip install torch-cluster -f https://pytorch-geometric.com/whl/torch-1.12.0+cu113.html\n",
    "!pip install torch-spline-conv -f https://pytorch-geometric.com/whl/torch-1.12.0+cu113.html\n",
    "!pip install torch-geometric==2.0.4\n",
    "```"
   ]
  },
  {
   "cell_type": "markdown",
   "metadata": {},
   "source": [
    "Okay, how about an example! (For more example workflows, head over to the `examples` section) <br>\n",
    "Let's say you're interested in glycans of the plant order Fabales that includes the legumes. Luckily, we've got you covered and `df_species` has >700 glycan sequences that stem from Fabales. So the first step is easy: import `df_species` from `glycowork.glycan_data.loader` and filter for Fabales glycans."
   ]
  },
  {
   "cell_type": "code",
   "execution_count": null,
   "metadata": {},
   "outputs": [],
   "source": [
    "df_fabales = df_species[df_species.Order == 'Fabales'].reset_index(drop = True)"
   ]
  },
  {
   "cell_type": "code",
   "execution_count": null,
   "metadata": {},
   "outputs": [
    {
     "data": {
      "text/html": [
       "<style type=\"text/css\">\n",
       "#T_7045c_row0_col0, #T_7045c_row0_col1, #T_7045c_row0_col2, #T_7045c_row0_col3, #T_7045c_row0_col4, #T_7045c_row0_col5, #T_7045c_row0_col6, #T_7045c_row0_col7, #T_7045c_row0_col8, #T_7045c_row1_col0, #T_7045c_row1_col1, #T_7045c_row1_col2, #T_7045c_row1_col3, #T_7045c_row1_col4, #T_7045c_row1_col5, #T_7045c_row1_col6, #T_7045c_row1_col7, #T_7045c_row1_col8, #T_7045c_row2_col0, #T_7045c_row2_col1, #T_7045c_row2_col2, #T_7045c_row2_col3, #T_7045c_row2_col4, #T_7045c_row2_col5, #T_7045c_row2_col6, #T_7045c_row2_col7, #T_7045c_row2_col8, #T_7045c_row3_col0, #T_7045c_row3_col1, #T_7045c_row3_col2, #T_7045c_row3_col3, #T_7045c_row3_col4, #T_7045c_row3_col5, #T_7045c_row3_col6, #T_7045c_row3_col7, #T_7045c_row3_col8, #T_7045c_row4_col0, #T_7045c_row4_col1, #T_7045c_row4_col2, #T_7045c_row4_col3, #T_7045c_row4_col4, #T_7045c_row4_col5, #T_7045c_row4_col6, #T_7045c_row4_col7, #T_7045c_row4_col8 {\n",
       "  font-size: 11pt;\n",
       "  font-family: Helvetica;\n",
       "  border-collapse: collapse;\n",
       "  border: 1px solid black;\n",
       "}\n",
       "</style>\n",
       "<table id=\"T_7045c\">\n",
       "  <thead>\n",
       "    <tr>\n",
       "      <th class=\"blank level0\" >&nbsp;</th>\n",
       "      <th id=\"T_7045c_level0_col0\" class=\"col_heading level0 col0\" >Species</th>\n",
       "      <th id=\"T_7045c_level0_col1\" class=\"col_heading level0 col1\" >Genus</th>\n",
       "      <th id=\"T_7045c_level0_col2\" class=\"col_heading level0 col2\" >Family</th>\n",
       "      <th id=\"T_7045c_level0_col3\" class=\"col_heading level0 col3\" >Order</th>\n",
       "      <th id=\"T_7045c_level0_col4\" class=\"col_heading level0 col4\" >Class</th>\n",
       "      <th id=\"T_7045c_level0_col5\" class=\"col_heading level0 col5\" >Phylum</th>\n",
       "      <th id=\"T_7045c_level0_col6\" class=\"col_heading level0 col6\" >Kingdom</th>\n",
       "      <th id=\"T_7045c_level0_col7\" class=\"col_heading level0 col7\" >Domain</th>\n",
       "      <th id=\"T_7045c_level0_col8\" class=\"col_heading level0 col8\" >ref</th>\n",
       "    </tr>\n",
       "  </thead>\n",
       "  <tbody>\n",
       "    <tr>\n",
       "      <th id=\"T_7045c_level0_row0\" class=\"row_heading level0 row0\" >Man(a1-3)Man(a1-6)[Xyl(b1-2)][Man(a1-3)]Man(a1-6)Man(b1-4)GlcNAc(b1-4)GlcNAc</th>\n",
       "      <td id=\"T_7045c_row0_col0\" class=\"data row0 col0\" >Abrus_precatorius</td>\n",
       "      <td id=\"T_7045c_row0_col1\" class=\"data row0 col1\" >Abrus</td>\n",
       "      <td id=\"T_7045c_row0_col2\" class=\"data row0 col2\" >Fabaceae</td>\n",
       "      <td id=\"T_7045c_row0_col3\" class=\"data row0 col3\" >Fabales</td>\n",
       "      <td id=\"T_7045c_row0_col4\" class=\"data row0 col4\" >Dicotyledons</td>\n",
       "      <td id=\"T_7045c_row0_col5\" class=\"data row0 col5\" >Angiosperms</td>\n",
       "      <td id=\"T_7045c_row0_col6\" class=\"data row0 col6\" >Plantae</td>\n",
       "      <td id=\"T_7045c_row0_col7\" class=\"data row0 col7\" >Eukarya</td>\n",
       "      <td id=\"T_7045c_row0_col8\" class=\"data row0 col8\" ></td>\n",
       "    </tr>\n",
       "    <tr>\n",
       "      <th id=\"T_7045c_level0_row1\" class=\"row_heading level0 row1\" >Man(a1-3)[Man(a1-3)Man(a1-6)][Xyl(b1-2)]Man(b1-4)GlcNAc(b1-4)GlcNAc</th>\n",
       "      <td id=\"T_7045c_row1_col0\" class=\"data row1 col0\" >Abrus_precatorius</td>\n",
       "      <td id=\"T_7045c_row1_col1\" class=\"data row1 col1\" >Abrus</td>\n",
       "      <td id=\"T_7045c_row1_col2\" class=\"data row1 col2\" >Fabaceae</td>\n",
       "      <td id=\"T_7045c_row1_col3\" class=\"data row1 col3\" >Fabales</td>\n",
       "      <td id=\"T_7045c_row1_col4\" class=\"data row1 col4\" >Dicotyledons</td>\n",
       "      <td id=\"T_7045c_row1_col5\" class=\"data row1 col5\" >Angiosperms</td>\n",
       "      <td id=\"T_7045c_row1_col6\" class=\"data row1 col6\" >Plantae</td>\n",
       "      <td id=\"T_7045c_row1_col7\" class=\"data row1 col7\" >Eukarya</td>\n",
       "      <td id=\"T_7045c_row1_col8\" class=\"data row1 col8\" ></td>\n",
       "    </tr>\n",
       "    <tr>\n",
       "      <th id=\"T_7045c_level0_row2\" class=\"row_heading level0 row2\" >Man(a1-6)[Man(a1-3)]Man(a1-6)[Man(a1-3)]Man(b1-4)GlcNAc(b1-4)GlcNAc</th>\n",
       "      <td id=\"T_7045c_row2_col0\" class=\"data row2 col0\" >Abrus_precatorius</td>\n",
       "      <td id=\"T_7045c_row2_col1\" class=\"data row2 col1\" >Abrus</td>\n",
       "      <td id=\"T_7045c_row2_col2\" class=\"data row2 col2\" >Fabaceae</td>\n",
       "      <td id=\"T_7045c_row2_col3\" class=\"data row2 col3\" >Fabales</td>\n",
       "      <td id=\"T_7045c_row2_col4\" class=\"data row2 col4\" >Dicotyledons</td>\n",
       "      <td id=\"T_7045c_row2_col5\" class=\"data row2 col5\" >Angiosperms</td>\n",
       "      <td id=\"T_7045c_row2_col6\" class=\"data row2 col6\" >Plantae</td>\n",
       "      <td id=\"T_7045c_row2_col7\" class=\"data row2 col7\" >Eukarya</td>\n",
       "      <td id=\"T_7045c_row2_col8\" class=\"data row2 col8\" ></td>\n",
       "    </tr>\n",
       "    <tr>\n",
       "      <th id=\"T_7045c_level0_row3\" class=\"row_heading level0 row3\" >Man(a1-6)[Xyl(b1-2)][Man(a1-3)]Man(a1-6)Man(b1-4)GlcNAc(b1-4)[Fuc(a1-3)]GlcNAc</th>\n",
       "      <td id=\"T_7045c_row3_col0\" class=\"data row3 col0\" >Abrus_precatorius</td>\n",
       "      <td id=\"T_7045c_row3_col1\" class=\"data row3 col1\" >Abrus</td>\n",
       "      <td id=\"T_7045c_row3_col2\" class=\"data row3 col2\" >Fabaceae</td>\n",
       "      <td id=\"T_7045c_row3_col3\" class=\"data row3 col3\" >Fabales</td>\n",
       "      <td id=\"T_7045c_row3_col4\" class=\"data row3 col4\" >Dicotyledons</td>\n",
       "      <td id=\"T_7045c_row3_col5\" class=\"data row3 col5\" >Angiosperms</td>\n",
       "      <td id=\"T_7045c_row3_col6\" class=\"data row3 col6\" >Plantae</td>\n",
       "      <td id=\"T_7045c_row3_col7\" class=\"data row3 col7\" >Eukarya</td>\n",
       "      <td id=\"T_7045c_row3_col8\" class=\"data row3 col8\" ></td>\n",
       "    </tr>\n",
       "    <tr>\n",
       "      <th id=\"T_7045c_level0_row4\" class=\"row_heading level0 row4\" >Rha(a1-2)Gal(b1-2)GlcA6Me</th>\n",
       "      <td id=\"T_7045c_row4_col0\" class=\"data row4 col0\" >Abrus_precatorius</td>\n",
       "      <td id=\"T_7045c_row4_col1\" class=\"data row4 col1\" >Abrus</td>\n",
       "      <td id=\"T_7045c_row4_col2\" class=\"data row4 col2\" >Fabaceae</td>\n",
       "      <td id=\"T_7045c_row4_col3\" class=\"data row4 col3\" >Fabales</td>\n",
       "      <td id=\"T_7045c_row4_col4\" class=\"data row4 col4\" >Dicotyledons</td>\n",
       "      <td id=\"T_7045c_row4_col5\" class=\"data row4 col5\" >Angiosperms</td>\n",
       "      <td id=\"T_7045c_row4_col6\" class=\"data row4 col6\" >Plantae</td>\n",
       "      <td id=\"T_7045c_row4_col7\" class=\"data row4 col7\" >Eukarya</td>\n",
       "      <td id=\"T_7045c_row4_col8\" class=\"data row4 col8\" ></td>\n",
       "    </tr>\n",
       "  </tbody>\n",
       "</table>\n"
      ],
      "text/plain": [
       "<IPython.core.display.HTML object>"
      ]
     },
     "execution_count": null,
     "metadata": {},
     "output_type": "execute_result"
    }
   ],
   "source": [
    "#hide_input\n",
    "df_fabales2 = copy.deepcopy(df_fabales)\n",
    "df_fabales2.index = df_fabales2.target.values.tolist()\n",
    "df_fabales2.drop(['target'], axis = 1, inplace = True)\n",
    "HTML(df_fabales2.head().style.set_properties(**{'font-size': '11pt', 'font-family': 'Helvetica','border-collapse': 'collapse','border': '1px solid black'}).render())"
   ]
  },
  {
   "cell_type": "markdown",
   "metadata": {},
   "source": [
    "Now, if you're not a plant glycobiologist, that may seem a bit overwhelming to you. But fear not, we can just **plot** glycans. How? Easy: Glycan representations! <br>\n",
    "\n",
    "Representations or embeddings are really just a bunch of numbers learned by a machine learning model that express similarity. Meaning that if two glycans are similar (in sequence/properties/etc.), the difference between their representations should be small. Or, in other words, they should cluster in a plot. <br>\n",
    "\n",
    "Now, you might not be in possession of a GPU and/or the wherewithal to train a glycan-focused deep learning model. That's why `glycowork` has both trained models and **already calculated** glycan representations waiting for you! And the best thing: you don't even need to worry about them. You just pass glycan sequences to our functions and `glycowork` will handle glycan representations behind the scenes. <br>\n",
    "\n",
    "So, for our Fabales example, we pass our glycan sequences to `plot_embeddings` (from `glycowork.motif.analysis`), which will retrieve their learned representations, transform them into two dimensions via t-distributed stochastic neighbor embedding (t-SNE), and plot them! If you want, it can even color the resulting scatterplots by a label, for instance the taxonomic family within Fabales."
   ]
  },
  {
   "cell_type": "code",
   "execution_count": null,
   "metadata": {},
   "outputs": [
    {
     "ename": "KeyError",
     "evalue": "'Gal(?1-?)Gal(b1-4)[Fuc(a1-3)]GlcNAc(b1-2)Man(a1-3)[Man(a1-2)Man(a1-6)][Xyl(b1-2)]Man(b1-4)GlcNAc(b1-4)[Fuc(a1-3)]GlcNAc'",
     "output_type": "error",
     "traceback": [
      "\u001b[1;31m---------------------------------------------------------------------------\u001b[0m",
      "\u001b[1;31mKeyError\u001b[0m                                  Traceback (most recent call last)",
      "\u001b[1;32m<ipython-input-6-3846194131c0>\u001b[0m in \u001b[0;36m<module>\u001b[1;34m\u001b[0m\n\u001b[1;32m----> 1\u001b[1;33m \u001b[0mplot_embeddings\u001b[0m\u001b[1;33m(\u001b[0m\u001b[0mdf_fabales\u001b[0m\u001b[1;33m.\u001b[0m\u001b[0mtarget\u001b[0m\u001b[1;33m.\u001b[0m\u001b[0mvalues\u001b[0m\u001b[1;33m.\u001b[0m\u001b[0mtolist\u001b[0m\u001b[1;33m(\u001b[0m\u001b[1;33m)\u001b[0m\u001b[1;33m,\u001b[0m \u001b[0mlabel_list\u001b[0m \u001b[1;33m=\u001b[0m \u001b[0mdf_fabales\u001b[0m\u001b[1;33m.\u001b[0m\u001b[0mFamily\u001b[0m\u001b[1;33m.\u001b[0m\u001b[0mvalues\u001b[0m\u001b[1;33m.\u001b[0m\u001b[0mtolist\u001b[0m\u001b[1;33m(\u001b[0m\u001b[1;33m)\u001b[0m\u001b[1;33m)\u001b[0m\u001b[1;33m\u001b[0m\u001b[1;33m\u001b[0m\u001b[0m\n\u001b[0m",
      "\u001b[1;32m~\\OneDrive\\Documents\\glycowork\\glycowork\\motif\\analysis.py\u001b[0m in \u001b[0;36mplot_embeddings\u001b[1;34m(glycans, emb, label_list, shape_feature, filepath, alpha, palette, **kwargs)\u001b[0m\n\u001b[0;32m    235\u001b[0m     \u001b[1;32mif\u001b[0m \u001b[0misinstance\u001b[0m\u001b[1;33m(\u001b[0m\u001b[0memb\u001b[0m\u001b[1;33m,\u001b[0m \u001b[0mpd\u001b[0m\u001b[1;33m.\u001b[0m\u001b[0mDataFrame\u001b[0m\u001b[1;33m)\u001b[0m\u001b[1;33m:\u001b[0m\u001b[1;33m\u001b[0m\u001b[1;33m\u001b[0m\u001b[0m\n\u001b[0;32m    236\u001b[0m         \u001b[0memb\u001b[0m \u001b[1;33m=\u001b[0m \u001b[1;33m{\u001b[0m\u001b[0mglycan\u001b[0m\u001b[1;33m[\u001b[0m\u001b[0mk\u001b[0m\u001b[1;33m]\u001b[0m\u001b[1;33m:\u001b[0m\u001b[0memb\u001b[0m\u001b[1;33m.\u001b[0m\u001b[0miloc\u001b[0m\u001b[1;33m[\u001b[0m\u001b[0mk\u001b[0m\u001b[1;33m,\u001b[0m\u001b[1;33m:\u001b[0m\u001b[1;33m]\u001b[0m \u001b[1;32mfor\u001b[0m \u001b[0mk\u001b[0m \u001b[1;32min\u001b[0m \u001b[0mrange\u001b[0m\u001b[1;33m(\u001b[0m\u001b[0mlen\u001b[0m\u001b[1;33m(\u001b[0m\u001b[0mglycans\u001b[0m\u001b[1;33m)\u001b[0m\u001b[1;33m)\u001b[0m\u001b[1;33m}\u001b[0m\u001b[1;33m\u001b[0m\u001b[1;33m\u001b[0m\u001b[0m\n\u001b[1;32m--> 237\u001b[1;33m     \u001b[0membs\u001b[0m \u001b[1;33m=\u001b[0m \u001b[0mnp\u001b[0m\u001b[1;33m.\u001b[0m\u001b[0marray\u001b[0m\u001b[1;33m(\u001b[0m\u001b[1;33m[\u001b[0m\u001b[0memb\u001b[0m\u001b[1;33m[\u001b[0m\u001b[0mk\u001b[0m\u001b[1;33m]\u001b[0m \u001b[1;32mfor\u001b[0m \u001b[0mk\u001b[0m \u001b[1;32min\u001b[0m \u001b[0mglycans\u001b[0m\u001b[1;33m]\u001b[0m\u001b[1;33m)\u001b[0m\u001b[1;33m\u001b[0m\u001b[1;33m\u001b[0m\u001b[0m\n\u001b[0m\u001b[0;32m    238\u001b[0m     \u001b[1;31m#calculate t-SNE of embeddings\u001b[0m\u001b[1;33m\u001b[0m\u001b[1;33m\u001b[0m\u001b[1;33m\u001b[0m\u001b[0m\n\u001b[0;32m    239\u001b[0m     embs = TSNE(random_state = 42,\n",
      "\u001b[1;32m~\\OneDrive\\Documents\\glycowork\\glycowork\\motif\\analysis.py\u001b[0m in \u001b[0;36m<listcomp>\u001b[1;34m(.0)\u001b[0m\n\u001b[0;32m    235\u001b[0m     \u001b[1;32mif\u001b[0m \u001b[0misinstance\u001b[0m\u001b[1;33m(\u001b[0m\u001b[0memb\u001b[0m\u001b[1;33m,\u001b[0m \u001b[0mpd\u001b[0m\u001b[1;33m.\u001b[0m\u001b[0mDataFrame\u001b[0m\u001b[1;33m)\u001b[0m\u001b[1;33m:\u001b[0m\u001b[1;33m\u001b[0m\u001b[1;33m\u001b[0m\u001b[0m\n\u001b[0;32m    236\u001b[0m         \u001b[0memb\u001b[0m \u001b[1;33m=\u001b[0m \u001b[1;33m{\u001b[0m\u001b[0mglycan\u001b[0m\u001b[1;33m[\u001b[0m\u001b[0mk\u001b[0m\u001b[1;33m]\u001b[0m\u001b[1;33m:\u001b[0m\u001b[0memb\u001b[0m\u001b[1;33m.\u001b[0m\u001b[0miloc\u001b[0m\u001b[1;33m[\u001b[0m\u001b[0mk\u001b[0m\u001b[1;33m,\u001b[0m\u001b[1;33m:\u001b[0m\u001b[1;33m]\u001b[0m \u001b[1;32mfor\u001b[0m \u001b[0mk\u001b[0m \u001b[1;32min\u001b[0m \u001b[0mrange\u001b[0m\u001b[1;33m(\u001b[0m\u001b[0mlen\u001b[0m\u001b[1;33m(\u001b[0m\u001b[0mglycans\u001b[0m\u001b[1;33m)\u001b[0m\u001b[1;33m)\u001b[0m\u001b[1;33m}\u001b[0m\u001b[1;33m\u001b[0m\u001b[1;33m\u001b[0m\u001b[0m\n\u001b[1;32m--> 237\u001b[1;33m     \u001b[0membs\u001b[0m \u001b[1;33m=\u001b[0m \u001b[0mnp\u001b[0m\u001b[1;33m.\u001b[0m\u001b[0marray\u001b[0m\u001b[1;33m(\u001b[0m\u001b[1;33m[\u001b[0m\u001b[0memb\u001b[0m\u001b[1;33m[\u001b[0m\u001b[0mk\u001b[0m\u001b[1;33m]\u001b[0m \u001b[1;32mfor\u001b[0m \u001b[0mk\u001b[0m \u001b[1;32min\u001b[0m \u001b[0mglycans\u001b[0m\u001b[1;33m]\u001b[0m\u001b[1;33m)\u001b[0m\u001b[1;33m\u001b[0m\u001b[1;33m\u001b[0m\u001b[0m\n\u001b[0m\u001b[0;32m    238\u001b[0m     \u001b[1;31m#calculate t-SNE of embeddings\u001b[0m\u001b[1;33m\u001b[0m\u001b[1;33m\u001b[0m\u001b[1;33m\u001b[0m\u001b[0m\n\u001b[0;32m    239\u001b[0m     embs = TSNE(random_state = 42,\n",
      "\u001b[1;31mKeyError\u001b[0m: 'Gal(?1-?)Gal(b1-4)[Fuc(a1-3)]GlcNAc(b1-2)Man(a1-3)[Man(a1-2)Man(a1-6)][Xyl(b1-2)]Man(b1-4)GlcNAc(b1-4)[Fuc(a1-3)]GlcNAc'"
     ]
    }
   ],
   "source": [
    "plot_embeddings(df_fabales.target.values.tolist(), label_list = df_fabales.Family.values.tolist())"
   ]
  },
  {
   "cell_type": "markdown",
   "metadata": {},
   "source": [
    "Hmm, interesting. We definitely see clear glycan clusters (remember, every point is one glycan sequence). What's even cooler is that the families Polygalaceae and Quillajaceae cluster in narrow regions of the whole plot. I wonder what differentiates their glycans from Fabaceae? <br>\n",
    "\n",
    "If you're also curious, proceed to the next function. First, we need to convert our data into a count table, with counts of every glycan in every family of Fabales. For this, you can use `presence_to_matrix` from the `glycowork.motif.processing` module, which was designed to work with tables such as `df_species`. Changing `label_col_name` to 'Genus' will for instance generate a count table for all genera in Fabales."
   ]
  },
  {
   "cell_type": "code",
   "execution_count": null,
   "metadata": {},
   "outputs": [],
   "source": [
    "df_map = presence_to_matrix(df_fabales, label_col_name = 'Family')"
   ]
  },
  {
   "cell_type": "code",
   "execution_count": null,
   "metadata": {},
   "outputs": [],
   "source": [
    "#hide_input\n",
    "HTML(df_map.style.set_properties(**{'font-size': '11pt', 'font-family': 'Helvetica','border-collapse': 'collapse','border': '1px solid black'}).render())"
   ]
  },
  {
   "cell_type": "markdown",
   "metadata": {},
   "source": [
    "Okay, we're ready for some heatmaps! In `glycowork.motif.analysis`, we have a function titled `make_heatmap`, which...makes heatmaps.<br>\n",
    "\n",
    "Specifically, it will generate clustermaps, that are aiming to cluster samples based on their glycan profile. Calling `make_heatmap` with `df_map` without any other arguments will try to cluster the samples based on their full glycan sequences. But we also have the `motif` mode, which extracts motifs from these glycans and clusters samples based on those. For instance, you can use the `known` (curated glycan motifs) and the `exhaustive` (all observed monosaccharides and disaccharides) options. Check out the documentation for more options! <br>\n",
    "\n",
    "We can immediately see that we have a lot more *N*-linked glycans in Fabaceae, for instance based on the prominence of Trimannosylcore and Fuc(a1-3)GlcNAc. Glycans from Polygalaceae an Quillajaceae in `df_species` seem to mainly contain small molecule- and lipid-linked glycans, which of course are quite different from *N*-linked glycans and are more similar to each other than to glycans from Fabaceae in `df_species`."
   ]
  },
  {
   "cell_type": "code",
   "execution_count": null,
   "metadata": {},
   "outputs": [],
   "source": [
    "make_heatmap(df_map, mode = 'motif', feature_set = ['exhaustive'], datatype = 'presence',\n",
    "            yticklabels = 1)"
   ]
  },
  {
   "cell_type": "markdown",
   "metadata": {},
   "source": [
    "Let's say you're interested in a specific glycan from Fabales, `GlcNAc(b1-2)Man(a1-3)[GlcNAc(b1-2)Man(a1-6)][Xyl(b1-2)]Man(b1-4)GlcNAc(b1-4)[Fuc(a1-3)]GlcNAc`. Finding out more about it could be annoying (try to Google anything more complex than a short motif and you run into problems). That's why we have `get_insight` in `glycowork.motif.query`, a function that returns some metadata about that glycan. The nice thing is that you don't need to bother with database IDs or notational ambiguity, as `glycowork` will convert that glycan into a graph behind the scenes and search our databases."
   ]
  },
  {
   "cell_type": "markdown",
   "metadata": {},
   "source": [
    "Let's say you develop an acute interest in the distribution of xylose in plant glycans. In such a situation, one option for further inquiry would be `characterize_monosaccharide` from `glycowork.motif.analysis`. This neat little function allows you to get a sense of what a particular monosaccharide is typically directly connected to and which modifications it can acquire. Further, you can filter the results to any taxonomic level you're interested in! (as long as it's in `df_species` or your dataset of interest of course.) <br>\n",
    "So, for xylose in plants, we immediately see Man (in M3X/M3FX structures) and Glc/Xyl (Xyloglucans) as prominent neighbors. Additionally, we note that xylose in plant glycans can be methylated, which is a rather typical modification in plant glycans in general. <br>\n",
    "There is quite a bit more that you can do with `characterize_monosaccharide`, so have a look at its documentation for all the options!"
   ]
  },
  {
   "cell_type": "code",
   "execution_count": null,
   "metadata": {},
   "outputs": [],
   "source": [
    "characterize_monosaccharide('Xyl', rank = 'Kingdom', focus = 'Plantae', modifications = True)"
   ]
  },
  {
   "cell_type": "markdown",
   "metadata": {},
   "source": [
    "To show you the true power of `characterize_monosaccharide` we'll switch gears to bacteria and have a look at how they handle their glucose connections. This is a lot more diverse than with xylose! Note how we put `thresh` to 50 (from its default value of 10), as otherwise the plot would become illegible with all the rare modifications and pairings."
   ]
  },
  {
   "cell_type": "code",
   "execution_count": null,
   "metadata": {},
   "outputs": [],
   "source": [
    "characterize_monosaccharide('Glc', rank = 'Kingdom', mode = 'sugarbond',\n",
    "                            focus = 'Bacteria', modifications = True, thresh = 50)"
   ]
  },
  {
   "cell_type": "markdown",
   "metadata": {},
   "source": [
    "And that's just a super-brief glimpse at the really cool functions contained in `glycowork`! The rest of the documentation describes all functions and what they're good for. Be sure to check out more, suggest improvements/fixes, and maybe even contribute something yourself. We are looking forward to your discoveries!"
   ]
  },
  {
   "cell_type": "code",
   "execution_count": null,
   "metadata": {},
   "outputs": [],
   "source": [
    "#hide\n",
    "from nbdev.export import notebook2script; notebook2script()"
   ]
  },
  {
   "cell_type": "code",
   "execution_count": null,
   "metadata": {},
   "outputs": [],
   "source": []
  }
 ],
 "metadata": {
  "kernelspec": {
   "display_name": "Python 3",
   "language": "python",
   "name": "python3"
  }
 },
 "nbformat": 4,
 "nbformat_minor": 2
}
