{
 "cells": [
  {
   "cell_type": "code",
   "execution_count": null,
   "metadata": {},
   "outputs": [],
   "source": [
    "#hide\n",
    "from glycowork import *\n",
    "from IPython.display import HTML\n",
    "import pandas as pd"
   ]
  },
  {
   "cell_type": "markdown",
   "metadata": {},
   "source": [
    "![CI](https://github.com/BojarLab/glycowork/workflows/CI/badge.svg)"
   ]
  },
  {
   "cell_type": "markdown",
   "metadata": {},
   "source": [
    "# Glycowork"
   ]
  },
  {
   "cell_type": "markdown",
   "metadata": {},
   "source": [
    "\n",
    "<img src=\"./glycowork_badge_wo_bg.jpg\" width=\"200\" />"
   ]
  },
  {
   "cell_type": "markdown",
   "metadata": {},
   "source": [
    "Glycans are a fundamental biological sequence, similar to DNA, RNA, or proteins. Glycans are complex carbohydrates that can form branched structures comprising monosaccharides and linkages as constituents. Despite being conspicuously absent from most research, glycans are ubiquitous in biology. They decorate most proteins and lipids and direct the stability and functions of biomolecules, cells, and organisms. This also makes glycans relevant to every human disease.\n",
    "\n",
    "The analysis of glycans is made difficult by their nonlinearity and their astounding diversity, given the large number of monosaccharides and types of linkages. `Glycowork` is a Python package designed to process and analyze glycan sequences, with a special emphasis on glycan-focused data science and machine learning. Next to various functions to work with glycans, `Glycowork` also contains glycan data that can be used for glycan alignments, model pre-training, motif comparisons, etc.\n",
    "\n",
    "If you use `glycowork` in your project, please cite [Thomes et al., 2021](https://academic.oup.com/glycob/advance-article/doi/10.1093/glycob/cwab067/6311240).\n",
    "\n",
    "The inspiration for `glycowork` can be found in [Bojar et al., 2020](https://doi.org/10.1016/j.chom.2020.10.004) and [Burkholz et al., 2021](https://www.cell.com/cell-reports/fulltext/S2211-1247(21)00616-1). There, you can also find examples of possible use cases for the functions in `glycowork`.\n",
    "\n",
    "The full documentation for `glycowork` can be found here: https://bojarlab.github.io/glycowork/\n",
    "\n",
    "If you want to contribute to `glycowork`, the best place to start is to read our [contribution guidelines](https://github.com/BojarLab/glycowork/blob/master/CONTRIBUTING.md)."
   ]
  },
  {
   "cell_type": "markdown",
   "metadata": {},
   "source": [
    "## Install"
   ]
  },
  {
   "cell_type": "markdown",
   "metadata": {},
   "source": [
    "via pip: <br>\n",
    "`pip install glycowork` <br>\n",
    "`import glycowork`\n",
    "\n",
    "alternative: <br>\n",
    "`pip install git+https://github.com/BojarLab/glycowork.git` <br>\n",
    "`import glycowork`"
   ]
  },
  {
   "cell_type": "markdown",
   "metadata": {},
   "source": [
    "## How to use"
   ]
  },
  {
   "cell_type": "markdown",
   "metadata": {},
   "source": [
    "`Glycowork` currently contains five main modules:\n",
    " - **`alignment`**\n",
    "     - can be used to find similar glycan sequences by alignment according to a glycan-specific substitution matrix\n",
    " - **`glycan_data`**\n",
    "     - stores several glycan datasets and contains helper functions\n",
    " - **`ml`**\n",
    "     - here are all the functions for training and using machine learning models, including train-test-split, getting glycan representations, etc.\n",
    " - **`motif`**\n",
    "     - contains functions for processing glycan sequences, identifying motifs and features, and analyzing them\n",
    " - **`network`**\n",
    "     - contains functions for constructing and analyzing glycan networks (e.g., biosynthetic networks)\n",
    "     \n",
    "Below are some examples of what you can do with `glycowork`, be sure to check out the other `examples` in the full documentation for everything that's there."
   ]
  },
  {
   "cell_type": "code",
   "execution_count": null,
   "metadata": {},
   "outputs": [],
   "source": [
    "#using graphs, you can easily check whether two glycans are the same - even if they use different bracket notations!\n",
    "from glycowork.motif.graph import compare_glycans\n",
    "print(compare_glycans('Man(a1-3)[Man(a1-6)]Man(b1-4)GlcNAc(b1-4)[Fuc(a1-6)]GlcNAc',\n",
    "                     'Man(a1-6)[Man(a1-3)]Man(b1-4)GlcNAc(b1-4)[Fuc(a1-6)]GlcNAc'))\n",
    "print(compare_glycans('Man(a1-3)[Man(a1-6)]Man(b1-4)GlcNAc(b1-4)[Fuc(a1-6)]GlcNAc',\n",
    "                     'Man(a1-6)[Man(a1-3)]Man(b1-4)GlcNAc(b1-4)GlcNAc'))"
   ]
  },
  {
   "cell_type": "code",
   "execution_count": null,
   "metadata": {},
   "outputs": [],
   "source": [
    "#querying some of the stored databases\n",
    "from glycowork.motif.query import get_insight\n",
    "get_insight('Man(a1-3)[Man(a1-6)]Man(b1-4)GlcNAc(b1-4)[Fuc(a1-6)]GlcNAc')"
   ]
  },
  {
   "cell_type": "code",
   "execution_count": null,
   "metadata": {},
   "outputs": [],
   "source": [
    "#get motifs, graph features, and sequence features of a set of glycan sequences to train models or analyze glycan properties\n",
    "glycans = ['Man(a1-3)[Man(a1-6)][Xyl(b1-2)]Man(b1-4)GlcNAc(b1-4)[Fuc(a1-3)]GlcNAc',\n",
    "           'Man(a1-2)Man(a1-2)Man(a1-3)[Man(a1-3)Man(a1-6)]Man(b1-4)GlcNAc(b1-4)GlcNAc',\n",
    "           'GalNAc(a1-4)GlcNAcA(a1-4)[GlcN(b1-7)]Kdo(a2-5)[Kdo(a2-4)]Kdo(a2-6)GlcN4P(b1-6)GlcN4P']\n",
    "from glycowork.motif.annotate import annotate_dataset\n",
    "out = annotate_dataset(glycans, feature_set = ['known', 'graph', 'exhaustive']).head()"
   ]
  },
  {
   "cell_type": "code",
   "execution_count": null,
   "metadata": {},
   "outputs": [],
   "source": [
    "#hide_input\n",
    "HTML(out.to_html())"
   ]
  },
  {
   "cell_type": "code",
   "execution_count": null,
   "metadata": {},
   "outputs": [],
   "source": [
    "#identify significant binding motifs with (for instance) Z-score data\n",
    "from glycowork.motif.analysis import get_pvals_motifs\n",
    "glycans = ['Man(a1-3)[Man(a1-6)][Xyl(b1-2)]Man(b1-4)GlcNAc(b1-4)[Fuc(a1-3)]GlcNAc',\n",
    "           'Man(a1-2)Man(a1-2)Man(a1-3)[Man(a1-3)Man(a1-6)]Man(b1-4)GlcNAc(b1-4)GlcNAc',\n",
    "           'GalNAc(a1-4)GlcNAcA(a1-4)[GlcN(b1-7)]Kdo(a2-5)[Kdo(a2-4)]Kdo(a2-6)GlcN4P(b1-6)GlcN4P',\n",
    "           'Man(a1-2)Man(a1-3)[Man(a1-6)]Man(b1-4)GlcNAc(b1-4)GlcNAc',\n",
    "           'Glc(b1-3)Glc(b1-3)Glc']\n",
    "label = [3.234, 2.423, 0.733, 3.102, 0.108]\n",
    "test_df = pd.DataFrame({'glycan':glycans, 'binding':label})\n",
    "out = get_pvals_motifs(test_df, glycan_col_name = 'glycan', label_col_name = 'binding').iloc[:10,:]"
   ]
  },
  {
   "cell_type": "code",
   "execution_count": null,
   "metadata": {},
   "outputs": [],
   "source": [
    "#hide_input\n",
    "HTML(out.to_html())"
   ]
  },
  {
   "cell_type": "code",
   "execution_count": null,
   "metadata": {},
   "outputs": [],
   "source": [
    "#hide\n",
    "from nbdev.export import notebook2script; notebook2script()"
   ]
  }
 ],
 "metadata": {
  "kernelspec": {
   "display_name": "Python 3",
   "language": "python",
   "name": "python3"
  }
 },
 "nbformat": 4,
 "nbformat_minor": 2
}
