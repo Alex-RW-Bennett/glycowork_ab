{
 "cells": [
  {
   "cell_type": "code",
   "execution_count": null,
   "id": "specialized-integrity",
   "metadata": {},
   "outputs": [],
   "source": [
    "#hide\n",
    "#default_exp network\n",
    "from nbdev.showdoc import show_doc\n",
    "from IPython.display import HTML\n",
    "%load_ext autoreload\n",
    "%autoreload 2"
   ]
  },
  {
   "cell_type": "markdown",
   "id": "extended-poker",
   "metadata": {},
   "source": [
    "# network\n",
    "\n",
    ">Analyzing groups of glycans as networks (e.g., biosynthesis networks)"
   ]
  },
  {
   "cell_type": "code",
   "execution_count": null,
   "id": "greatest-adaptation",
   "metadata": {},
   "outputs": [],
   "source": [
    "#export\n",
    "from glycowork.network.biosynthesis import *"
   ]
  },
  {
   "cell_type": "markdown",
   "id": "preliminary-approval",
   "metadata": {},
   "source": [
    "`network` contains functions to arrange and analyze glycans in the context of networks. In such a network, each node represents a glycan and edges represent, for instance, their connection via a biosynthetic step. It should be noted, since `glycowork` treats glycans as molecular graphs, that these networks represent hierarchical graphs, with the network being one graph and each node within the network also a graph. `network` contains the following modules:\n",
    "- `biosynthesis` contains functions to construct and analyze biosynthetic glycan networks"
   ]
  },
  {
   "cell_type": "markdown",
   "id": "random-islam",
   "metadata": {},
   "source": [
    "# biosynthesis\n",
    ">constructing and analyzing biosynthetic glycan networks"
   ]
  },
  {
   "cell_type": "code",
   "execution_count": null,
   "id": "musical-jumping",
   "metadata": {},
   "outputs": [],
   "source": [
    "show_doc(subgraph_to_string)"
   ]
  },
  {
   "cell_type": "code",
   "execution_count": null,
   "id": "level-bidding",
   "metadata": {},
   "outputs": [],
   "source": [
    "show_doc(get_neighbors)"
   ]
  },
  {
   "cell_type": "code",
   "execution_count": null,
   "id": "turned-granny",
   "metadata": {},
   "outputs": [],
   "source": [
    "get_neighbors('Gal(b1-3)GlcNAc(b1-3)[Gal(b1-4)GlcNAc(b1-6)]Gal(b1-4)Glc',\n",
    "             ['Gal(b1-3)GlcNAc(b1-3)[GlcNAc(b1-6)]Gal(b1-4)Glc', 'Gal(b1-4)Glc'])"
   ]
  },
  {
   "cell_type": "code",
   "execution_count": null,
   "id": "champion-snake",
   "metadata": {},
   "outputs": [],
   "source": [
    "show_doc(create_adjacency_matrix)"
   ]
  },
  {
   "cell_type": "code",
   "execution_count": null,
   "id": "reduced-driving",
   "metadata": {},
   "outputs": [],
   "source": [
    "show_doc(find_diff)"
   ]
  },
  {
   "cell_type": "code",
   "execution_count": null,
   "id": "accomplished-gallery",
   "metadata": {},
   "outputs": [],
   "source": [
    "find_diff('Man(a1-3)[Man(a1-6)]Man(b1-4)GlcNAc(b1-4)GlcNAc',\n",
    "         'Man(a1-3)[Man(a1-6)]Man(b1-4)GlcNAc(b1-4)[Fuc(a1-6)]GlcNAc')"
   ]
  },
  {
   "cell_type": "code",
   "execution_count": null,
   "id": "civic-margin",
   "metadata": {},
   "outputs": [],
   "source": [
    "show_doc(construct_network)"
   ]
  },
  {
   "cell_type": "code",
   "execution_count": null,
   "id": "sacred-federal",
   "metadata": {},
   "outputs": [],
   "source": [
    "show_doc(plot_network)"
   ]
  },
  {
   "cell_type": "code",
   "execution_count": null,
   "id": "caroline-protest",
   "metadata": {},
   "outputs": [],
   "source": [
    "show_doc(get_virtual_nodes)"
   ]
  },
  {
   "cell_type": "code",
   "execution_count": null,
   "id": "certified-pendant",
   "metadata": {},
   "outputs": [],
   "source": [
    "get_virtual_nodes('Man(a1-3)[Man(a1-6)]Man(b1-4)GlcNAc(b1-4)[Fuc(a1-6)]GlcNAc')"
   ]
  },
  {
   "cell_type": "code",
   "execution_count": null,
   "id": "retired-hampton",
   "metadata": {},
   "outputs": [],
   "source": [
    "show_doc(find_shared_virtuals)"
   ]
  },
  {
   "cell_type": "code",
   "execution_count": null,
   "id": "closing-corner",
   "metadata": {},
   "outputs": [],
   "source": [
    "find_shared_virtuals('GlcNAc(b1-2)Man(a1-3)[Man(a1-6)]Man(b1-4)GlcNAc(b1-4)GlcNAc',\n",
    "                    'GlcNAc(b1-2)Man(a1-6)[Man(a1-3)]Man(b1-4)GlcNAc(b1-4)GlcNAc')"
   ]
  },
  {
   "cell_type": "code",
   "execution_count": null,
   "id": "formal-digest",
   "metadata": {},
   "outputs": [],
   "source": [
    "show_doc(fill_with_virtuals)"
   ]
  },
  {
   "cell_type": "code",
   "execution_count": null,
   "id": "resistant-profit",
   "metadata": {},
   "outputs": [],
   "source": [
    "show_doc(find_path)"
   ]
  },
  {
   "cell_type": "code",
   "execution_count": null,
   "id": "bibliographic-addiction",
   "metadata": {},
   "outputs": [],
   "source": [
    "find_path('Gal(b1-4)GlcNAc(b1-3)Gal(b1-4)Glc','Gal(b1-4)Glc')"
   ]
  },
  {
   "cell_type": "code",
   "execution_count": null,
   "id": "quarterly-valley",
   "metadata": {},
   "outputs": [],
   "source": [
    "show_doc(find_shortest_path)"
   ]
  },
  {
   "cell_type": "code",
   "execution_count": null,
   "id": "level-shame",
   "metadata": {},
   "outputs": [],
   "source": [
    "find_shortest_path('Gal(b1-4)GlcNAc(b1-3)Gal(b1-4)Glc',\n",
    "                  ['Gal(b1-4)Glc', 'Gal(b1-4)GlcNAc'])"
   ]
  },
  {
   "cell_type": "code",
   "execution_count": null,
   "id": "checked-cliff",
   "metadata": {},
   "outputs": [],
   "source": [
    "show_doc(network_alignment)"
   ]
  },
  {
   "cell_type": "code",
   "execution_count": null,
   "id": "willing-liberia",
   "metadata": {},
   "outputs": [],
   "source": [
    "show_doc(infer_virtual_nodes)"
   ]
  },
  {
   "cell_type": "code",
   "execution_count": null,
   "id": "sustained-competition",
   "metadata": {},
   "outputs": [],
   "source": [
    "show_doc(infer_network)"
   ]
  },
  {
   "cell_type": "code",
   "execution_count": null,
   "id": "insured-missile",
   "metadata": {},
   "outputs": [],
   "source": [
    "#hide\n",
    "from nbdev.export import notebook2script; notebook2script()"
   ]
  },
  {
   "cell_type": "code",
   "execution_count": null,
   "id": "sweet-agriculture",
   "metadata": {},
   "outputs": [],
   "source": []
  }
 ],
 "metadata": {
  "kernelspec": {
   "display_name": "Python 3",
   "language": "python",
   "name": "python3"
  }
 },
 "nbformat": 4,
 "nbformat_minor": 5
}
