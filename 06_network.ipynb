{
 "cells": [
  {
   "cell_type": "code",
   "execution_count": null,
   "id": "specialized-integrity",
   "metadata": {},
   "outputs": [],
   "source": [
    "#hide\n",
    "#default_exp network\n",
    "from nbdev.showdoc import show_doc\n",
    "from IPython.display import HTML\n",
    "%load_ext autoreload\n",
    "%autoreload 2"
   ]
  },
  {
   "cell_type": "markdown",
   "id": "extended-poker",
   "metadata": {},
   "source": [
    "# network\n",
    "\n",
    ">Analyzing groups of glycans as networks (e.g., biosynthesis networks)"
   ]
  },
  {
   "cell_type": "code",
   "execution_count": null,
   "id": "greatest-adaptation",
   "metadata": {},
   "outputs": [],
   "source": [
    "#export\n",
    "from glycowork.network.biosynthesis import *"
   ]
  },
  {
   "cell_type": "markdown",
   "id": "preliminary-approval",
   "metadata": {},
   "source": [
    "`network` contains functions to arrange and analyze glycans in the context of networks. In such a network, each node represents a glycan and edges represent, for instance, their connection via a biosynthetic step. It should be noted, since `glycowork` treats glycans as molecular graphs, that these networks represent hierarchical graphs, with the network being one graph and each node within the network also a graph. `network` contains the following modules:\n",
    "- `biosynthesis` contains functions to construct and analyze biosynthetic glycan networks"
   ]
  },
  {
   "cell_type": "markdown",
   "id": "random-islam",
   "metadata": {},
   "source": [
    "# biosynthesis\n",
    ">constructing and analyzing biosynthetic glycan networks"
   ]
  },
  {
   "cell_type": "code",
   "execution_count": null,
   "id": "musical-jumping",
   "metadata": {},
   "outputs": [
    {
     "data": {
      "text/markdown": [
       "<h4 id=\"subgraph_to_string\" class=\"doc_header\"><code>subgraph_to_string</code><a href=\"https://github.com/BojarLab/glycowork/tree/master/glycowork/network/biosynthesis.py#L43\" class=\"source_link\" style=\"float:right\">[source]</a></h4>\n",
       "\n",
       "> <code>subgraph_to_string</code>(**`subgraph`**, **`libr`**=*`None`*)\n",
       "\n",
       "converts glycan subgraph back to IUPAC-condensed format\n",
       "\n",
       "| Arguments:\n",
       "| :-\n",
       "| subgraph (networkx object): subgraph of one monosaccharide and its linkage\n",
       "| libr (list): library of monosaccharides; if you have one use it, otherwise a comprehensive lib will be used\n",
       "\n",
       "| Returns:\n",
       "| :-\n",
       "| Returns glycan motif in IUPAC-condensed format (string)"
      ],
      "text/plain": [
       "<IPython.core.display.Markdown object>"
      ]
     },
     "metadata": {},
     "output_type": "display_data"
    }
   ],
   "source": [
    "show_doc(subgraph_to_string)"
   ]
  },
  {
   "cell_type": "code",
   "execution_count": null,
   "id": "level-bidding",
   "metadata": {},
   "outputs": [
    {
     "data": {
      "text/markdown": [
       "<h4 id=\"get_neighbors\" class=\"doc_header\"><code>get_neighbors</code><a href=\"https://github.com/BojarLab/glycowork/tree/master/glycowork/network/biosynthesis.py#L59\" class=\"source_link\" style=\"float:right\">[source]</a></h4>\n",
       "\n",
       "> <code>get_neighbors</code>(**`glycan`**, **`glycans`**, **`libr`**=*`None`*, **`graphs`**=*`None`*)\n",
       "\n",
       "find (observed) biosynthetic precursors of a glycan\n",
       "\n",
       "| Arguments:\n",
       "| :-\n",
       "| glycan (string): glycan in IUPAC-condensed format\n",
       "| glycans (list): list of glycans in IUPAC-condensed format\n",
       "| libr (list): library of monosaccharides; if you have one use it, otherwise a comprehensive lib will be used\n",
       "| graphs (list): list of glycans in df as graphs; optional if you call get_neighbors often with the same df and want to provide it precomputed\n",
       "\n",
       "| Returns:\n",
       "| :-\n",
       "| (1) a list of direct glycan precursors in IUPAC-condensed\n",
       "| (2) a list of indices where each precursor from (1) can be found in glycans"
      ],
      "text/plain": [
       "<IPython.core.display.Markdown object>"
      ]
     },
     "metadata": {},
     "output_type": "display_data"
    }
   ],
   "source": [
    "show_doc(get_neighbors)"
   ]
  },
  {
   "cell_type": "code",
   "execution_count": null,
   "id": "champion-snake",
   "metadata": {},
   "outputs": [
    {
     "data": {
      "text/markdown": [
       "<h4 id=\"create_adjacency_matrix\" class=\"doc_header\"><code>create_adjacency_matrix</code><a href=\"https://github.com/BojarLab/glycowork/tree/master/glycowork/network/biosynthesis.py#L84\" class=\"source_link\" style=\"float:right\">[source]</a></h4>\n",
       "\n",
       "> <code>create_adjacency_matrix</code>(**`glycans`**, **`libr`**=*`None`*, **`virtual_nodes`**=*`False`*, **`reducing_end`**=*`['Glc', 'GlcNAc']`*)\n",
       "\n",
       "creates a biosynthetic adjacency matrix from a list of glycans\n",
       "\n",
       "| Arguments:\n",
       "| :-\n",
       "| glycans (list): list of glycans in IUPAC-condensed format\n",
       "| libr (list): library of monosaccharides; if you have one use it, otherwise a comprehensive lib will be used\n",
       "| virtual_nodes (bool): whether to include virtual nodes in network; default:False\n",
       "| reducing_end (list): monosaccharides at the reducing end that are allowed; default:['Glc','GlcNAc']\n",
       "\n",
       "| Returns:\n",
       "| :-\n",
       "| (1) adjacency matrix (glycan X glycan) denoting whether two glycans are connected by one biosynthetic step\n",
       "| (2) list of which nodes are virtual nodes (empty list if virtual_nodes is False)"
      ],
      "text/plain": [
       "<IPython.core.display.Markdown object>"
      ]
     },
     "metadata": {},
     "output_type": "display_data"
    }
   ],
   "source": [
    "show_doc(create_adjacency_matrix)"
   ]
  },
  {
   "cell_type": "code",
   "execution_count": null,
   "id": "reduced-driving",
   "metadata": {},
   "outputs": [
    {
     "data": {
      "text/markdown": [
       "<h4 id=\"find_diff\" class=\"doc_header\"><code>find_diff</code><a href=\"https://github.com/BojarLab/glycowork/tree/master/glycowork/network/biosynthesis.py#L142\" class=\"source_link\" style=\"float:right\">[source]</a></h4>\n",
       "\n",
       "> <code>find_diff</code>(**`glycan_a`**, **`glycan_b`**, **`libr`**=*`None`*)\n",
       "\n",
       "finds the subgraph that differs between glycans and returns it, will only work if the differing subgraph is connected\n",
       "\n",
       "| Arguments:\n",
       "| :-\n",
       "| glycan_a (string): glycan in IUPAC-condensed format\n",
       "| glycan_b (string): glycan in IUPAC-condensed format\n",
       "| libr (list): library of monosaccharides; if you have one use it, otherwise a comprehensive lib will be used\n",
       "\n",
       "| Returns:\n",
       "| :-\n",
       "| Returns difference between glycan_a and glycan_b in IUPAC-condensed"
      ],
      "text/plain": [
       "<IPython.core.display.Markdown object>"
      ]
     },
     "metadata": {},
     "output_type": "display_data"
    }
   ],
   "source": [
    "show_doc(find_diff)"
   ]
  },
  {
   "cell_type": "code",
   "execution_count": null,
   "id": "accomplished-gallery",
   "metadata": {},
   "outputs": [
    {
     "data": {
      "text/plain": [
       "'Fuca1-6'"
      ]
     },
     "execution_count": null,
     "metadata": {},
     "output_type": "execute_result"
    }
   ],
   "source": [
    "find_diff('Man(a1-3)[Man(a1-6)]Man(b1-4)GlcNAc(b1-4)GlcNAc',\n",
    "         'Man(a1-3)[Man(a1-6)]Man(b1-4)GlcNAc(b1-4)[Fuc(a1-6)]GlcNAc')"
   ]
  },
  {
   "cell_type": "code",
   "execution_count": null,
   "id": "civic-margin",
   "metadata": {},
   "outputs": [
    {
     "data": {
      "text/markdown": [
       "<h4 id=\"construct_network\" class=\"doc_header\"><code>construct_network</code><a href=\"https://github.com/BojarLab/glycowork/tree/master/glycowork/network/biosynthesis.py#L168\" class=\"source_link\" style=\"float:right\">[source]</a></h4>\n",
       "\n",
       "> <code>construct_network</code>(**`glycans`**, **`add_virtual_nodes`**=*`'none'`*, **`libr`**=*`None`*, **`reducing_end`**=*`['Glc', 'GlcNAc']`*, **`limit`**=*`5`*)\n",
       "\n",
       "visualize biosynthetic network\n",
       "\n",
       "| Arguments:\n",
       "| :-\n",
       "| glycans (list): list of glycans in IUPAC-condensed format\n",
       "| add_virtual_nodes (string): indicates whether no ('None'), proximal ('simple'), or all ('exhaustive') virtual nodes should be added; default:'none'\n",
       "| libr (list): library of monosaccharides; if you have one use it, otherwise a comprehensive lib will be used\n",
       "| reducing_end (list): monosaccharides at the reducing end that are allowed; default:['Glc','GlcNAc']\n",
       "| limit (int): maximum number of virtual nodes between observed nodes; default:5\n",
       "\n",
       "| Returns:\n",
       "| :-\n",
       "| (1) a networkx object of the network\n",
       "| (2) a list of virtual nodes (empty list if add_virtual_nodes is set to 'none')"
      ],
      "text/plain": [
       "<IPython.core.display.Markdown object>"
      ]
     },
     "metadata": {},
     "output_type": "display_data"
    }
   ],
   "source": [
    "show_doc(construct_network)"
   ]
  },
  {
   "cell_type": "code",
   "execution_count": null,
   "id": "sacred-federal",
   "metadata": {},
   "outputs": [
    {
     "data": {
      "text/markdown": [
       "<h4 id=\"plot_network\" class=\"doc_header\"><code>plot_network</code><a href=\"https://github.com/BojarLab/glycowork/tree/master/glycowork/network/biosynthesis.py#L220\" class=\"source_link\" style=\"float:right\">[source]</a></h4>\n",
       "\n",
       "> <code>plot_network</code>(**`network`**, **`virtual_nodes`**=*`None`*, **`plot_format`**=*`'kamada_kawai'`*, **`node_origins`**=*`False`*)\n",
       "\n",
       "visualizes biosynthetic network\n",
       "\n",
       "| Arguments:\n",
       "| :-\n",
       "| network (networkx object): biosynthetic network, returned from construct_network\n",
       "| virtual_nodes (list): optional list of indicating which nodes are virtual nodes; default:None\n",
       "| plot_format (string): how to layout network, either 'kamada_kawai' or 'spring'; default:'kamada_kawai'\n",
       "| node_origins (bool): indicates whether nodes have an attribute 'origin' of where they are from (relevant for network alignment); default:False"
      ],
      "text/plain": [
       "<IPython.core.display.Markdown object>"
      ]
     },
     "metadata": {},
     "output_type": "display_data"
    }
   ],
   "source": [
    "show_doc(plot_network)"
   ]
  },
  {
   "cell_type": "code",
   "execution_count": null,
   "id": "caroline-protest",
   "metadata": {},
   "outputs": [
    {
     "data": {
      "text/markdown": [
       "<h4 id=\"get_virtual_nodes\" class=\"doc_header\"><code>get_virtual_nodes</code><a href=\"https://github.com/BojarLab/glycowork/tree/master/glycowork/network/biosynthesis.py#L341\" class=\"source_link\" style=\"float:right\">[source]</a></h4>\n",
       "\n",
       "> <code>get_virtual_nodes</code>(**`glycan`**, **`libr`**=*`None`*, **`reducing_end`**=*`['Glc', 'GlcNAc']`*)\n",
       "\n",
       "find unobserved biosynthetic precursors of a glycan\n",
       "\n",
       "| Arguments:\n",
       "| :-\n",
       "| glycan (string): glycan in IUPAC-condensed format\n",
       "| libr (list): library of monosaccharides; if you have one use it, otherwise a comprehensive lib will be used\n",
       "| reducing_end (list): monosaccharides at the reducing end that are allowed; default:['Glc','GlcNAc']\n",
       "\n",
       "| Returns:\n",
       "| :-\n",
       "| (1) list of virtual node graphs\n",
       "| (2) list of virtual nodes in IUPAC-condensed format"
      ],
      "text/plain": [
       "<IPython.core.display.Markdown object>"
      ]
     },
     "metadata": {},
     "output_type": "display_data"
    }
   ],
   "source": [
    "show_doc(get_virtual_nodes)"
   ]
  },
  {
   "cell_type": "code",
   "execution_count": null,
   "id": "certified-pendant",
   "metadata": {},
   "outputs": [
    {
     "data": {
      "text/plain": [
       "([<networkx.classes.graph.Graph at 0x2dd29b3c8e0>,\n",
       "  <networkx.classes.graph.Graph at 0x2dd293eef70>,\n",
       "  <networkx.classes.graph.Graph at 0x2dd6f2834c0>],\n",
       " ['Man(a1-3)[Man(a1-6)]Man(b1-4)GlcNAc(b1-4)GlcNAc',\n",
       "  'Man(a1-3)Man(b1-4)GlcNAc(b1-4)[Fuc(a1-6)]GlcNAc',\n",
       "  'Man(a1-6)Man(b1-4)GlcNAc(b1-4)[Fuc(a1-6)]GlcNAc'])"
      ]
     },
     "execution_count": null,
     "metadata": {},
     "output_type": "execute_result"
    }
   ],
   "source": [
    "get_virtual_nodes('Man(a1-3)[Man(a1-6)]Man(b1-4)GlcNAc(b1-4)[Fuc(a1-6)]GlcNAc')"
   ]
  },
  {
   "cell_type": "code",
   "execution_count": null,
   "id": "retired-hampton",
   "metadata": {},
   "outputs": [
    {
     "data": {
      "text/markdown": [
       "<h4 id=\"find_shared_virtuals\" class=\"doc_header\"><code>find_shared_virtuals</code><a href=\"https://github.com/BojarLab/glycowork/tree/master/glycowork/network/biosynthesis.py#L266\" class=\"source_link\" style=\"float:right\">[source]</a></h4>\n",
       "\n",
       "> <code>find_shared_virtuals</code>(**`glycan_a`**, **`glycan_b`**, **`libr`**=*`None`*, **`reducing_end`**=*`['Glc', 'GlcNAc']`*)\n",
       "\n",
       "finds virtual nodes that are shared between two glycans (i.e., that connect these two glycans)\n",
       "\n",
       "| Arguments:\n",
       "| :-\n",
       "| glycan_a (string): glycan in IUPAC-condensed format\n",
       "| glycan_b (string): glycan in IUPAC-condensed format\n",
       "| libr (list): library of monosaccharides; if you have one use it, otherwise a comprehensive lib will be used\n",
       "| reducing_end (list): monosaccharides at the reducing end that are allowed; default:['Glc','GlcNAc']\n",
       "\n",
       "| Returns:\n",
       "| :-\n",
       "| Returns list of edges between glycan and virtual node (if virtual node connects the two glycans)"
      ],
      "text/plain": [
       "<IPython.core.display.Markdown object>"
      ]
     },
     "metadata": {},
     "output_type": "display_data"
    }
   ],
   "source": [
    "show_doc(find_shared_virtuals)"
   ]
  },
  {
   "cell_type": "code",
   "execution_count": null,
   "id": "formal-digest",
   "metadata": {},
   "outputs": [
    {
     "data": {
      "text/markdown": [
       "<h4 id=\"fill_with_virtuals\" class=\"doc_header\"><code>fill_with_virtuals</code><a href=\"https://github.com/BojarLab/glycowork/tree/master/glycowork/network/biosynthesis.py#L298\" class=\"source_link\" style=\"float:right\">[source]</a></h4>\n",
       "\n",
       "> <code>fill_with_virtuals</code>(**`glycans`**, **`libr`**=*`None`*, **`reducing_end`**=*`['Glc', 'GlcNAc']`*)\n",
       "\n",
       "for a list of glycans, identify virtual nodes connecting observed glycans and return their edges\n",
       "\n",
       "| Arguments:\n",
       "| :-\n",
       "| glycans (list): list of glycans in IUPAC-condensed\n",
       "| libr (list): library of monosaccharides; if you have one use it, otherwise a comprehensive lib will be used\n",
       "| reducing_end (list): monosaccharides at the reducing end that are allowed; default:['Glc','GlcNAc']\n",
       "\n",
       "| Returns:\n",
       "| :-\n",
       "| Returns list of edges that connect observed glycans to virtual nodes"
      ],
      "text/plain": [
       "<IPython.core.display.Markdown object>"
      ]
     },
     "metadata": {},
     "output_type": "display_data"
    }
   ],
   "source": [
    "show_doc(fill_with_virtuals)"
   ]
  },
  {
   "cell_type": "code",
   "execution_count": null,
   "id": "resistant-profit",
   "metadata": {},
   "outputs": [
    {
     "data": {
      "text/markdown": [
       "<h4 id=\"find_path\" class=\"doc_header\"><code>find_path</code><a href=\"https://github.com/BojarLab/glycowork/tree/master/glycowork/network/biosynthesis.py#L416\" class=\"source_link\" style=\"float:right\">[source]</a></h4>\n",
       "\n",
       "> <code>find_path</code>(**`glycan_a`**, **`glycan_b`**, **`libr`**=*`None`*, **`reducing_end`**=*`['Glc', 'GlcNAc']`*, **`limit`**=*`5`*)\n",
       "\n",
       "find virtual node path between two glycans\n",
       "\n",
       "| Arguments:\n",
       "| :-\n",
       "| glycan_a (string): glycan in IUPAC-condensed format\n",
       "| glycan_b (string): glycan in IUPAC-condensed format\n",
       "| libr (list): library of monosaccharides; if you have one use it, otherwise a comprehensive lib will be used\n",
       "| reducing_end (list): monosaccharides at the reducing end that are allowed; default:['Glc','GlcNAc']\n",
       "| limit (int): maximum number of virtual nodes between observed nodes; default:5\n",
       "\n",
       "| Returns:\n",
       "| :-\n",
       "| (1) list of edges to connect glycan_a and glycan_b via virtual nodes\n",
       "| (2) dictionary of edge labels detailing difference between two connected nodes"
      ],
      "text/plain": [
       "<IPython.core.display.Markdown object>"
      ]
     },
     "metadata": {},
     "output_type": "display_data"
    }
   ],
   "source": [
    "show_doc(find_path)"
   ]
  },
  {
   "cell_type": "code",
   "execution_count": null,
   "id": "quarterly-valley",
   "metadata": {},
   "outputs": [
    {
     "data": {
      "text/markdown": [
       "<h4 id=\"find_shortest_path\" class=\"doc_header\"><code>find_shortest_path</code><a href=\"https://github.com/BojarLab/glycowork/tree/master/glycowork/network/biosynthesis.py#L472\" class=\"source_link\" style=\"float:right\">[source]</a></h4>\n",
       "\n",
       "> <code>find_shortest_path</code>(**`goal_glycan`**, **`glycan_list`**, **`libr`**=*`None`*, **`reducing_end`**=*`['Glc', 'GlcNAc']`*, **`limit`**=*`5`*)\n",
       "\n",
       "finds the glycan with the shortest path via virtual nodes to the goal glycan\n",
       "\n",
       "| Arguments:\n",
       "| :-\n",
       "| goal_glycan (string): glycan in IUPAC-condensed format\n",
       "| glycan_list (list): list of glycans in IUPAC-condensed format\n",
       "| libr (list): library of monosaccharides; if you have one use it, otherwise a comprehensive lib will be used\n",
       "| reducing_end (list): monosaccharides at the reducing end that are allowed; default:['Glc','GlcNAc']\n",
       "| limit (int): maximum number of virtual nodes between observed nodes; default:5\n",
       "\n",
       "| Returns:\n",
       "| :-\n",
       "| (1) list of edges of shortest path to connect goal_glycan and glycan via virtual nodes\n",
       "| (2) dictionary of edge labels detailing difference between two connected nodes in shortest path"
      ],
      "text/plain": [
       "<IPython.core.display.Markdown object>"
      ]
     },
     "metadata": {},
     "output_type": "display_data"
    }
   ],
   "source": [
    "show_doc(find_shortest_path)"
   ]
  },
  {
   "cell_type": "code",
   "execution_count": null,
   "id": "checked-cliff",
   "metadata": {},
   "outputs": [
    {
     "data": {
      "text/markdown": [
       "<h4 id=\"network_alignment\" class=\"doc_header\"><code>network_alignment</code><a href=\"https://github.com/BojarLab/glycowork/tree/master/glycowork/network/biosynthesis.py#L523\" class=\"source_link\" style=\"float:right\">[source]</a></h4>\n",
       "\n",
       "> <code>network_alignment</code>(**`network_a`**, **`network_b`**, **`virtual_nodes_a`**=*`None`*, **`virtual_nodes_b`**=*`None`*)\n",
       "\n",
       "combines two networks into a new network\n",
       "\n",
       "| Arguments:\n",
       "| :-\n",
       "| network_a (networkx object): biosynthetic network from construct_network\n",
       "| network_b (networkx object): biosynthetic network from construct_network\n",
       "| virtual_nodes_a (list): list of which nodes are virtual nodes in network_a; default:None\n",
       "| virtual_nodes_b (list): list of which nodes are virtual nodes in network_b; default:None\n",
       "\n",
       "| Returns:\n",
       "| :-\n",
       "| (1) combined network as a networkx object\n",
       "| (2) combined list of virtual nodes in (1) (empty list if no virtual nodes are provided)"
      ],
      "text/plain": [
       "<IPython.core.display.Markdown object>"
      ]
     },
     "metadata": {},
     "output_type": "display_data"
    }
   ],
   "source": [
    "show_doc(network_alignment)"
   ]
  },
  {
   "cell_type": "code",
   "execution_count": null,
   "id": "insured-missile",
   "metadata": {},
   "outputs": [
    {
     "name": "stdout",
     "output_type": "stream",
     "text": [
      "Converted 00_core.ipynb.\n",
      "Converted 01_alignment.ipynb.\n",
      "Converted 02_glycan_data.ipynb.\n",
      "Converted 03_ml.ipynb.\n",
      "Converted 04_motif.ipynb.\n",
      "Converted 05_examples.ipynb.\n",
      "Converted 06_network.ipynb.\n",
      "Converted index.ipynb.\n"
     ]
    }
   ],
   "source": [
    "#hide\n",
    "from nbdev.export import notebook2script; notebook2script()"
   ]
  },
  {
   "cell_type": "code",
   "execution_count": null,
   "id": "sweet-agriculture",
   "metadata": {},
   "outputs": [],
   "source": []
  }
 ],
 "metadata": {
  "kernelspec": {
   "display_name": "Python 3",
   "language": "python",
   "name": "python3"
  }
 },
 "nbformat": 4,
 "nbformat_minor": 5
}
