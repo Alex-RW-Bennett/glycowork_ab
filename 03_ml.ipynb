{
 "cells": [
  {
   "cell_type": "code",
   "execution_count": null,
   "id": "insured-wildlife",
   "metadata": {},
   "outputs": [],
   "source": [
    "#hide\n",
    "#default_exp ml\n",
    "from nbdev.showdoc import show_doc\n",
    "from IPython.display import HTML\n",
    "%load_ext autoreload\n",
    "%autoreload 2"
   ]
  },
  {
   "cell_type": "markdown",
   "id": "celtic-fossil",
   "metadata": {},
   "source": [
    "# ml\n",
    ">data processing and model training + analysis using machine learning"
   ]
  },
  {
   "cell_type": "code",
   "execution_count": null,
   "id": "reflected-assembly",
   "metadata": {},
   "outputs": [],
   "source": [
    "#export\n",
    "from glycowork.ml.model_training import *\n",
    "#from glycowork.ml.models import *\n",
    "#from glycowork.ml.processing import *\n",
    "#from glycowork.ml.representation import *\n",
    "from glycowork.ml.train_test_split import *\n",
    "from glycowork.glycan_data.loader import df_species, df_glycan\n",
    "import warnings\n",
    "warnings.filterwarnings(\"ignore\")"
   ]
  },
  {
   "cell_type": "markdown",
   "id": "experienced-burden",
   "metadata": {},
   "source": [
    "`ml` contains the code base to process glycan for machine learning, construct state-of-the-art machine learning models, train them, and analyze trained models + glycan reprsentations. It currently contains the following modules:\n",
    "\n",
    "- `model_training` contains functions for training machine learning models\n",
    "- `models` describes some examples for machine learning architectures applicable to glycans\n",
    "- `processing` contains helper functions to prepare glycan data for model training\n",
    "- `representation` can be used to analyze trained models and to obtain glycan representations\n",
    "- `train_test_split` contains various data split functions to get appropriate training and test sets"
   ]
  },
  {
   "cell_type": "markdown",
   "id": "stuck-finland",
   "metadata": {},
   "source": [
    "# model_training\n",
    ">contains functions for training machine learning models"
   ]
  },
  {
   "cell_type": "code",
   "execution_count": null,
   "id": "indie-confirmation",
   "metadata": {},
   "outputs": [
    {
     "data": {
      "text/markdown": [
       "<h2 id=\"EarlyStopping\" class=\"doc_header\"><code>class</code> <code>EarlyStopping</code><a href=\"https://github.com/BojarLab/glycowork/tree/master/glycowork/ml/model_training.py#L14\" class=\"source_link\" style=\"float:right\">[source]</a></h2>\n",
       "\n",
       "> <code>EarlyStopping</code>(**`patience`**=*`7`*, **`verbose`**=*`False`*)\n",
       "\n",
       "Early stops the training if validation loss doesn't improve after a given patience."
      ],
      "text/plain": [
       "<IPython.core.display.Markdown object>"
      ]
     },
     "metadata": {},
     "output_type": "display_data"
    }
   ],
   "source": [
    "#hide\n",
    "show_doc(EarlyStopping)"
   ]
  },
  {
   "cell_type": "code",
   "execution_count": null,
   "id": "southeast-brighton",
   "metadata": {},
   "outputs": [
    {
     "data": {
      "text/markdown": [
       "<h4 id=\"train_model\" class=\"doc_header\"><code>train_model</code><a href=\"https://github.com/BojarLab/glycowork/tree/master/glycowork/ml/model_training.py#L55\" class=\"source_link\" style=\"float:right\">[source]</a></h4>\n",
       "\n",
       "> <code>train_model</code>(**`model`**, **`dataloaders`**, **`criterion`**, **`optimizer`**, **`scheduler`**, **`num_epochs`**=*`25`*, **`patience`**=*`50`*, **`mode`**=*`'classification'`*)\n",
       "\n",
       "model -- graph neural network (such as SweetNet) for analyzing glycans\n",
       "\n",
       "dataloaders -- dictionary of dataloader objects with keys 'train' and 'val'\n",
       "\n",
       "criterion -- PyTorch loss function\n",
       "\n",
       "optimizer -- PyTorch optimizer\n",
       "\n",
       "scheduler -- PyTorch learning rate decay\n",
       "\n",
       "num_epochs -- number of epochs for training; default: 25\n",
       "\n",
       "patience -- number of epochs without improvement until early stop; default: 50\n",
       "\n",
       "mode -- 'classification' or 'regression'; default is binary classification\n",
       "\n",
       "\n",
       "returns the best model seen during training"
      ],
      "text/plain": [
       "<IPython.core.display.Markdown object>"
      ]
     },
     "metadata": {},
     "output_type": "display_data"
    }
   ],
   "source": [
    "#hide\n",
    "show_doc(train_model)"
   ]
  },
  {
   "cell_type": "code",
   "execution_count": null,
   "id": "generic-taxation",
   "metadata": {},
   "outputs": [
    {
     "data": {
      "text/markdown": [
       "<h4 id=\"training_setup\" class=\"doc_header\"><code>training_setup</code><a href=\"https://github.com/BojarLab/glycowork/tree/master/glycowork/ml/model_training.py#L169\" class=\"source_link\" style=\"float:right\">[source]</a></h4>\n",
       "\n",
       "> <code>training_setup</code>(**`model`**, **`epochs`**, **`lr`**, **`lr_decay_length`**=*`0.5`*, **`weight_decay`**=*`0.001`*, **`mode`**=*`'multiclass'`*)\n",
       "\n",
       "prepares optimizer, learning rate scheduler, and loss criterion for model training\n",
       "\n",
       "model -- graph neural network (such as SweetNet) for analyzing glycans\n",
       "\n",
       "epochs -- number of epochs for training the model\n",
       "\n",
       "lr -- learning rate\n",
       "\n",
       "lr_decay_length -- proportion of epochs over which to decay the learning rate;default:0.5\n",
       "\n",
       "weight_decay -- regularization parameter for the optimizer; default:0.001\n",
       "\n",
       "mode -- 'multiclass': classification with multiple classes, 'binary':binary classification\n",
       "\n",
       "        'regression': regression; default:'multiclass'\n",
       "\n",
       "\n",
       "returns optimizer, learning rate scheduler, and loss criterion objects"
      ],
      "text/plain": [
       "<IPython.core.display.Markdown object>"
      ]
     },
     "metadata": {},
     "output_type": "display_data"
    }
   ],
   "source": [
    "#hide\n",
    "show_doc(training_setup)"
   ]
  },
  {
   "cell_type": "code",
   "execution_count": null,
   "id": "bored-quality",
   "metadata": {},
   "outputs": [
    {
     "data": {
      "text/markdown": [
       "<h4 id=\"train_ml_model\" class=\"doc_header\"><code>train_ml_model</code><a href=\"https://github.com/BojarLab/glycowork/tree/master/glycowork/ml/model_training.py#L196\" class=\"source_link\" style=\"float:right\">[source]</a></h4>\n",
       "\n",
       "> <code>train_ml_model</code>(**`X_train`**, **`X_test`**, **`y_train`**, **`y_test`**, **`mode`**=*`'classification'`*, **`feature_calc`**=*`False`*, **`libr`**=*`None`*, **`return_features`**=*`False`*, **`feature_set`**=*`['known', 'exhaustive']`*)\n",
       "\n",
       "wrapper function to train standard machine learning models on glycans\n",
       "\n",
       "X_train, X_test -- either lists of glycans (needs feature_calc = True) or\n",
       "\n",
       "                   motif dataframes such as from annotate_dataset\n",
       "\n",
       "y_train, y_test -- lists of labels\n",
       "\n",
       "mode -- 'classification' or 'regression'; default:'classification'\n",
       "\n",
       "feature_calc -- set to True for calculating motifs from glycans; default:False\n",
       "\n",
       "libr -- sorted list of unique glycoletters observed in the glycans of our data; default:lib\n",
       "\n",
       "return_features -- whether to return calculated features; default:False\n",
       "\n",
       "feature_set -- which feature set to use for annotations, add more to list to expand; default:['known','exhaustive']\n",
       "\n",
       "             options are: 'known' (hand-crafted glycan features), 'graph' (structural graph features of glycans)\n",
       "\n",
       "                           and 'exhaustive' (all mono- and disaccharide features)\n",
       "\n",
       "\n",
       "returns trained model                           "
      ],
      "text/plain": [
       "<IPython.core.display.Markdown object>"
      ]
     },
     "metadata": {},
     "output_type": "display_data"
    }
   ],
   "source": [
    "#hide\n",
    "show_doc(train_ml_model)"
   ]
  },
  {
   "cell_type": "code",
   "execution_count": null,
   "id": "separate-knock",
   "metadata": {},
   "outputs": [
    {
     "name": "stdout",
     "output_type": "stream",
     "text": [
      "\n",
      "Calculating Glycan Features...\n",
      "\n",
      "Training model...\n",
      "[06:27:17] WARNING: C:/Users/Administrator/workspace/xgboost-win64_release_1.4.0/src/learner.cc:1095: Starting in XGBoost 1.3.0, the default evaluation metric used with the objective 'binary:logistic' was changed from 'error' to 'logloss'. Explicitly set eval_metric if you'd like to restore the old behavior.\n",
      "\n",
      "Evaluating model...\n",
      "Accuracy of trained model on separate validation set: 0.9549583648750947\n"
     ]
    }
   ],
   "source": [
    "plants = [1 if k == 'Plantae' else 0 for k in df_species.Kingdom.values.tolist()]\n",
    "X_train, X_test, y_train, y_test = general_split(df_species.target.values.tolist(), plants)\n",
    "model_ft, _, X_test = train_ml_model(X_train, X_test, y_train, y_test, feature_calc = True, feature_set = ['exhaustive'],\n",
    "                         return_features = True)"
   ]
  },
  {
   "cell_type": "code",
   "execution_count": null,
   "id": "federal-lover",
   "metadata": {},
   "outputs": [
    {
     "data": {
      "text/markdown": [
       "<h4 id=\"analyze_ml_model\" class=\"doc_header\"><code>analyze_ml_model</code><a href=\"https://github.com/BojarLab/glycowork/tree/master/glycowork/ml/model_training.py#L252\" class=\"source_link\" style=\"float:right\">[source]</a></h4>\n",
       "\n",
       "> <code>analyze_ml_model</code>(**`model`**)\n",
       "\n",
       "plots relevant features for model prediction\n",
       "\n",
       "model -- trained machine learning model from train_ml_model"
      ],
      "text/plain": [
       "<IPython.core.display.Markdown object>"
      ]
     },
     "metadata": {},
     "output_type": "display_data"
    }
   ],
   "source": [
    "#hide\n",
    "show_doc(analyze_ml_model)"
   ]
  },
  {
   "cell_type": "code",
   "execution_count": null,
   "id": "herbal-holmes",
   "metadata": {},
   "outputs": [
    {
     "data": {
      "image/png": "[encoded data removed]",
      "text/plain": [
       "<Figure size 432x288 with 1 Axes>"
      ]
     },
     "metadata": {
      "needs_background": "light"
     },
     "output_type": "display_data"
    }
   ],
   "source": [
    "analyze_ml_model(model_ft)"
   ]
  },
  {
   "cell_type": "code",
   "execution_count": null,
   "id": "moved-greene",
   "metadata": {},
   "outputs": [
    {
     "data": {
      "text/markdown": [
       "<h4 id=\"get_mismatch\" class=\"doc_header\"><code>get_mismatch</code><a href=\"https://github.com/BojarLab/glycowork/tree/master/glycowork/ml/model_training.py#L271\" class=\"source_link\" style=\"float:right\">[source]</a></h4>\n",
       "\n",
       "> <code>get_mismatch</code>(**`model`**, **`X_test`**, **`y_test`**, **`n`**=*`10`*)\n",
       "\n",
       "analyzes misclassifications of trained machine learning model\n",
       "\n",
       "model -- trained machine learning model from train_ml_model\n",
       "\n",
       "X_test -- motif dataframe used for validating model\n",
       "\n",
       "y_test -- list of labels\n",
       "\n",
       "n -- number of returned misclassifications; default:10\n",
       "\n",
       "\n",
       "returns tuples of misclassifications and their predicted probability"
      ],
      "text/plain": [
       "<IPython.core.display.Markdown object>"
      ]
     },
     "metadata": {},
     "output_type": "display_data"
    }
   ],
   "source": [
    "#hide\n",
    "show_doc(get_mismatch)"
   ]
  },
  {
   "cell_type": "code",
   "execution_count": null,
   "id": "incredible-basket",
   "metadata": {},
   "outputs": [
    {
     "data": {
      "text/plain": [
       "[('Glc(b1-4)Glc(b1-6)Glc', 0.1811130940914154),\n",
       " ('Man(a1-2)Man(a1-2)Man(a1-6)[Man(a1-2)Man(a1-3)]Man(a1-3)[Man(a1-2)Man(a1-6)]Man(b1-4)GlcNAc(b1-4)GlcNAc',\n",
       "  0.18393604457378387),\n",
       " ('Glc(a1-6)Glc(a1-4)Glc(a1-4)[Glc(a1-6)]Glc(a1-4)Glc(a1-4)Glc',\n",
       "  0.297215074300766),\n",
       " ('D-4dThrHexA4en(a1-2)Rha(a1-4)GlcA(a1-2)Rha', 0.32377585768699646),\n",
       " ('Glc(b1-3)[Glc(b1-4)]Glc', 0.31106945872306824),\n",
       " ('Gal(b1-3)Glc(b1-3)Rha(a1-4)[Gal(b1-3)]Glc(b1-3)Rha(a1-4)[Gal(b1-3)]Glc(b1-3)Rha-ol',\n",
       "  0.548016369342804),\n",
       " ('Man(a1-3)[Man(a1-6)][Xyl(b1-2)]Man(b1-4)GlcNAc(b1-4)GlcNAc',\n",
       "  0.9153600931167603),\n",
       " ('Glc(a1-4)Glc(a1-4)Glc(a1-4)Glc', 0.297215074300766),\n",
       " ('GalOMe(b1-4)GalOMe(b1-4)Rha', 0.47244569659233093),\n",
       " ('Glc(a1-3)Rha(a1-4)Glc(b1-6)Glc', 0.3254348635673523)]"
      ]
     },
     "execution_count": null,
     "metadata": {},
     "output_type": "execute_result"
    }
   ],
   "source": [
    "get_mismatch(model_ft, X_test, y_test)"
   ]
  },
  {
   "cell_type": "markdown",
   "id": "graduate-stadium",
   "metadata": {},
   "source": [
    "# models\n",
    ">describes some examples for machine learning architectures applicable to glycans"
   ]
  },
  {
   "cell_type": "code",
   "execution_count": null,
   "id": "clean-personality",
   "metadata": {},
   "outputs": [],
   "source": [
    "#requires torch_geometric\n",
    "#show_doc(SweetNet)"
   ]
  },
  {
   "cell_type": "code",
   "execution_count": null,
   "id": "frank-command",
   "metadata": {},
   "outputs": [],
   "source": [
    "#requires torch_geometric\n",
    "#show_doc(init_weights)"
   ]
  },
  {
   "cell_type": "code",
   "execution_count": null,
   "id": "collective-cooler",
   "metadata": {},
   "outputs": [],
   "source": [
    "#requires torch_geometric\n",
    "#show_doc(prep_model)"
   ]
  },
  {
   "cell_type": "markdown",
   "id": "interested-registrar",
   "metadata": {},
   "source": [
    "# processing\n",
    ">contains helper functions to prepare glycan data for model training"
   ]
  },
  {
   "cell_type": "code",
   "execution_count": null,
   "id": "lesbian-closer",
   "metadata": {},
   "outputs": [],
   "source": [
    "#requires torch_geometric\n",
    "#show_doc(dataset_to_graphs)"
   ]
  },
  {
   "cell_type": "code",
   "execution_count": null,
   "id": "broadband-tours",
   "metadata": {},
   "outputs": [],
   "source": [
    "#requires torch_geometric\n",
    "#show_doc(dataset_to_dataloader)"
   ]
  },
  {
   "cell_type": "code",
   "execution_count": null,
   "id": "heated-georgia",
   "metadata": {},
   "outputs": [],
   "source": [
    "#requires torch_geometric\n",
    "#show_doc(split_data_to_train)"
   ]
  },
  {
   "cell_type": "markdown",
   "id": "incoming-remainder",
   "metadata": {},
   "source": [
    "# representation\n",
    ">can be used to analyze trained models and to obtain glycan representations"
   ]
  },
  {
   "cell_type": "code",
   "execution_count": null,
   "id": "continued-tokyo",
   "metadata": {},
   "outputs": [],
   "source": [
    "#requires torch_geometric\n",
    "#show_doc(glycans_to_emb)"
   ]
  },
  {
   "cell_type": "markdown",
   "id": "dense-scheduling",
   "metadata": {},
   "source": [
    "# train_test_split\n",
    ">contains various data split functions to get appropriate training and test sets"
   ]
  },
  {
   "cell_type": "code",
   "execution_count": null,
   "id": "checked-effect",
   "metadata": {},
   "outputs": [
    {
     "data": {
      "text/markdown": [
       "<h4 id=\"hierarchy_filter\" class=\"doc_header\"><code>hierarchy_filter</code><a href=\"https://github.com/BojarLab/glycowork/tree/master/glycowork/ml/train_test_split.py#L34\" class=\"source_link\" style=\"float:right\">[source]</a></h4>\n",
       "\n",
       "> <code>hierarchy_filter</code>(**`df_in`**, **`rank`**=*`'Domain'`*, **`min_seq`**=*`5`*, **`wildcard_seed`**=*`False`*, **`wildcard_list`**=*`None`*, **`wildcard_name`**=*`None`*, **`r`**=*`0.1`*, **`col`**=*`'target'`*)\n",
       "\n",
       "stratified data split in train/test at the taxonomic level, removing duplicate glycans and infrequent classes\n",
       "\n",
       "df_in -- dataframe of glycan sequences and taxonomic labels\n",
       "\n",
       "rank -- which rank should be filtered; default is 'domain'\n",
       "\n",
       "min_seq -- how many glycans need to be present in class to keep it; default is 5\n",
       "\n",
       "wildcard_seed -- set to True if you want to seed wildcard glycoletters; default is False\n",
       "\n",
       "wildcard_list -- list which glycoletters a wildcard encompasses\n",
       "\n",
       "wildcard_name -- how the wildcard should be named in the IUPACcondensed nomenclature\n",
       "\n",
       "r -- rate of replacement, default is 0.1 or 10%\n",
       "\n",
       "col -- column name for glycan sequences; default: target\n",
       "\n",
       "\n",
       "returns train_x, val_x (lists of glycans (strings) after stratified shuffle split)\n",
       "\n",
       "train_y, val_y (lists of taxonomic labels (mapped integers))\n",
       "\n",
       "id_val (taxonomic labels in text form (strings))\n",
       "\n",
       "class_list (list of unique taxonomic classes (strings))\n",
       "\n",
       "class_converter (dictionary to map mapped integers back to text labels)"
      ],
      "text/plain": [
       "<IPython.core.display.Markdown object>"
      ]
     },
     "metadata": {},
     "output_type": "display_data"
    }
   ],
   "source": [
    "#hide\n",
    "show_doc(hierarchy_filter)"
   ]
  },
  {
   "cell_type": "code",
   "execution_count": null,
   "id": "latin-gross",
   "metadata": {},
   "outputs": [
    {
     "name": "stdout",
     "output_type": "stream",
     "text": [
      "['Glc(b1-2)GlcOOle(b1-4)Glc', 'Glc(a1-4)GalNAc(a1-3)LDManHepOCm(a1-3)LDManHep(a1-5)Kdo', 'GlcNAc(b1-3)Rha(a1-3)Rha(a1-2)4dEry-ol', 'Man(a1-6)Man(b1-4)GlcNAc(b1-4)GlcNAcN', '[Gal(b1-6)]Man(b1-4)[Gal(b1-2)]Man(b1-4)GlcA(b1-2)[Gal(b1-4)]GlcA(a1-3)Man', '[Fuc(a1-2)]Gal(a1-3)Gal(b1-3)GalNAc(b1-3)Gal', 'GlcNOOle(b1-2)GlcNAc(b1-4)GlcNAc(b1-4)GlcNAc(b1-4)GlcNAcOP', 'Man(a1-3)[Man(a1-6)]Man(a1-6)Man(b1-4)GlcNAc(b1-4)GlcNAc-ol', 'Glc(b1-4)[Rha(a1-2)][GalOP(a1-3)]Gal(b1-4)Glc(b1-4)Glc', 'LDManHep(a1-2)DDManHep(a1-2)GalA(a1-3)[LDManHep(a1-7)]LDManHep(a1-3)[Glc(b1-4)]LDManHep(a1-5)[AraN(b1-8)][Kdo(a2-4)]Kdo(a2-6)[AraOPN(b1-4)]GlcN(b1-6)[AraOPN(b1-1)]GlcN']\n"
     ]
    }
   ],
   "source": [
    "train_x, val_x, train_y, val_y, id_val, class_list, class_converter = hierarchy_filter(df_species,\n",
    "                                                                                       rank = 'Kingdom')\n",
    "print(train_x[:10])"
   ]
  },
  {
   "cell_type": "code",
   "execution_count": null,
   "id": "third-preference",
   "metadata": {},
   "outputs": [
    {
     "data": {
      "text/markdown": [
       "<h4 id=\"seed_wildcard_hierarchy\" class=\"doc_header\"><code>seed_wildcard_hierarchy</code><a href=\"https://github.com/BojarLab/glycowork/tree/master/glycowork/ml/train_test_split.py#L9\" class=\"source_link\" style=\"float:right\">[source]</a></h4>\n",
       "\n",
       "> <code>seed_wildcard_hierarchy</code>(**`glycans`**, **`labels`**, **`wildcard_list`**, **`wildcard_name`**, **`r`**=*`0.1`*)\n",
       "\n",
       "adds dataframe rows in which glycan parts have been replaced with the appropriate wildcards\n",
       "\n",
       "glycans -- list of IUPACcondensed glycan sequences (string)\n",
       "\n",
       "labels -- list of labels used for prediction\n",
       "\n",
       "wildcard_list -- list which glycoletters a wildcard encompasses\n",
       "\n",
       "wildcard_name -- how the wildcard should be named in the IUPACcondensed nomenclature\n",
       "\n",
       "r -- rate of replacement, default is 0.1 or 10%\n",
       "\n",
       "\n",
       "returns list of glycans (strings) and labels (flexible) where some glycan parts have been replaced with wildcard_name"
      ],
      "text/plain": [
       "<IPython.core.display.Markdown object>"
      ]
     },
     "metadata": {},
     "output_type": "display_data"
    }
   ],
   "source": [
    "#hide\n",
    "show_doc(seed_wildcard_hierarchy)"
   ]
  },
  {
   "cell_type": "code",
   "execution_count": null,
   "id": "determined-employer",
   "metadata": {},
   "outputs": [
    {
     "name": "stdout",
     "output_type": "stream",
     "text": [
      "['Glc(a1-3)Glc(bond)[Gal(b1-4)]Gal(b1-4)Gal(a1-2)Glc', 'GlcN(b1-7)LDManHep(a1-4)[LDManHep(bond)]LDManHep', 'Glc(a1-3)Glc(b1-4)Glc(b1-4)[GlcNAc(bond)LDManHepOPEtn(a1-3)]LDManHep(a1-5)[Kdo(a2-4)]Kdo', 'Rha(a1-2)Gal(bond)GlcOAc(bond)Rha(bond)Rha(a1-2)Gal(bond)GlcOAc(bond)Rha(bond)Rha(a1-2)Gal(bond)GlcOAc(bond)Rha', 'Glc(bond)Glc(bond)Glc(bond)Glc', '[Neu5Ac(bond)Gal(b1-4)GlcNAc(b1-3)]Gal(b1-3)Gal(b1-4)Glc(b1-6)Gal', '[Neu5Ac(a2-6)Gal(b1-4)GlcNAc(bond)]Gal(bond)Gal(b1-4)Glc(b1-6)Gal', 'D-RhaNAc(bond)D-RhaNAc(a1-2)D-RhaNAc(bond)D-RhaNAc(bond)D-RhaNAc', 'GlcOSA(b1-3)Gal(b1-4)GlcNAc(bond)Man(a1-6)[GlcNAc(bond)Man(a1-3)][GlcNAc(b1-4)]Man(b1-4)GlcNAc(b1-4)[Fuc(a1-6)]GlcNAc', 'GlcOSA(b1-3)Gal(bond)GlcNAc(b1-2)Man(a1-6)[GlcNAc(b1-2)Man(a1-3)][GlcNAc(bond)]Man(bond)GlcNAc(bond)[Fuc(a1-6)]GlcNAc']\n"
     ]
    }
   ],
   "source": [
    "train_x, val_x, train_y, val_y, id_val, class_list, class_converter = hierarchy_filter(df_species,\n",
    "                                                                                       rank = 'Kingdom',\n",
    "                                                                                       wildcard_seed = True,\n",
    "                                                                                       wildcard_list = linkages,\n",
    "                                                                                       wildcard_name = 'bond')\n",
    "print(train_x[-10:])"
   ]
  },
  {
   "cell_type": "code",
   "execution_count": null,
   "id": "ordinary-balance",
   "metadata": {},
   "outputs": [
    {
     "data": {
      "text/markdown": [
       "<h4 id=\"general_split\" class=\"doc_header\"><code>general_split</code><a href=\"https://github.com/BojarLab/glycowork/tree/master/glycowork/ml/train_test_split.py#L97\" class=\"source_link\" style=\"float:right\">[source]</a></h4>\n",
       "\n",
       "> <code>general_split</code>(**`glycans`**, **`labels`**, **`test_size`**=*`0.2`*)\n",
       "\n",
       "splits glycans and labels into train / test sets\n",
       "\n",
       "glycans -- list of IUPACcondensed glycan sequences (string)\n",
       "\n",
       "labels -- list of labels used for prediction\n",
       "\n",
       "test_size -- % size of test set; default is 0.2 / 20%\n",
       "\n",
       "\n",
       "returns X_train, X_test, y_train, y_test"
      ],
      "text/plain": [
       "<IPython.core.display.Markdown object>"
      ]
     },
     "metadata": {},
     "output_type": "display_data"
    }
   ],
   "source": [
    "#hide\n",
    "show_doc(general_split)"
   ]
  },
  {
   "cell_type": "code",
   "execution_count": null,
   "id": "statistical-harvest",
   "metadata": {},
   "outputs": [
    {
     "name": "stdout",
     "output_type": "stream",
     "text": [
      "['6dAltOAc(b1-2)6dAlt(b1-3)6dAlt(b1-2)6dAltOAc', 'Ara(a1-2)Ara(a1-6)GlcNAc', 'Neu5AcOS(a2-3)Gal(b1-4)GlcNAc(b1-6)[Neu5Ac(a2-3)Gal(b1-3)]GalNAc', 'Gal(b1-3)Gal(a1-3)Gal', 'AraNMeOMe(b1-8)KoOMe(a2-4)KdoOMe', 'Man(a1-2)Man(a1-2)Man(a1-2)Man(a1-2)Man(a1-3)[Man(a1-2)Man(a1-3)[Man(a1-2)Man(a1-6)]Man(a1-6)]Man(b1-4)GlcNAc(b1-4)GlcNAc', 'GlcA(b1-6)Gal(b1-3)Ara', 'GalNAcOS(b1-4)GlcNAc(b1-2)Man(a1-3)[GalNAcOS(b1-4)GlcNAc(b1-2)Man(a1-6)]Man(b1-4)GlcNAc(b1-4)[Fuc(a1-6)]GlcNAc', 'Rha(a1-6)Glc(a1-2)[Glc(a1-3)]Rha(a1-2)Rha(a1-2)Rha', 'Rha(a1-2)[Glc(b1-3)]Glc']\n"
     ]
    }
   ],
   "source": [
    "train_x, val_x, train_y, val_y = general_split(df_species.target.values.tolist(),\n",
    "                                              df_species.Species.values.tolist())\n",
    "print(train_x[:10])"
   ]
  },
  {
   "cell_type": "code",
   "execution_count": null,
   "id": "cheap-report",
   "metadata": {},
   "outputs": [
    {
     "name": "stdout",
     "output_type": "stream",
     "text": [
      "Converted 00_core.ipynb.\n",
      "Converted 01_alignment.ipynb.\n",
      "Converted 02_glycan_data.ipynb.\n",
      "Converted 03_ml.ipynb.\n",
      "Converted 04_motif.ipynb.\n",
      "Converted 05_examples.ipynb.\n",
      "Converted index.ipynb.\n"
     ]
    }
   ],
   "source": [
    "#hide\n",
    "from nbdev.export import notebook2script; notebook2script()"
   ]
  }
 ],
 "metadata": {
  "kernelspec": {
   "display_name": "Python 3",
   "language": "python",
   "name": "python3"
  }
 },
 "nbformat": 4,
 "nbformat_minor": 5
}
