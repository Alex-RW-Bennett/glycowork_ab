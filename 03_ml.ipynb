{
 "cells": [
  {
   "cell_type": "code",
   "execution_count": null,
   "id": "insured-wildlife",
   "metadata": {},
   "outputs": [],
   "source": [
    "#hide\n",
    "#default_exp ml\n",
    "from nbdev.showdoc import show_doc\n",
    "from IPython.display import HTML\n",
    "%load_ext autoreload\n",
    "%autoreload 2"
   ]
  },
  {
   "cell_type": "markdown",
   "id": "celtic-fossil",
   "metadata": {},
   "source": [
    "# ml\n",
    ">data processing and model training + analysis using machine learning"
   ]
  },
  {
   "cell_type": "code",
   "execution_count": null,
   "id": "reflected-assembly",
   "metadata": {},
   "outputs": [],
   "source": [
    "#export\n",
    "#from glycowork.ml.model_training import *\n",
    "#from glycowork.ml.models import *\n",
    "#from glycowork.ml.processing import *\n",
    "#from glycowork.ml.representation import *\n",
    "from glycowork.ml.train_test_split import *\n",
    "from glycowork.glycan_data.loader import df_species"
   ]
  },
  {
   "cell_type": "markdown",
   "id": "experienced-burden",
   "metadata": {},
   "source": [
    "`ml` contains the code base to process glycan for machine learning, construct state-of-the-art machine learning models, train them, and analyze trained models + glycan reprsentations. It currently contains the following modules:\n",
    "\n",
    "- `model_training` contains functions for training machine learning models\n",
    "- `models` describes some examples for machine learning architectures applicable to glycans\n",
    "- `processing` contains helper functions to prepare glycan data for model training\n",
    "- `representation` can be used to analyze trained models and to obtain glycan representations\n",
    "- `train_test_split` contains various data split functions to get appropriate training and test sets"
   ]
  },
  {
   "cell_type": "markdown",
   "id": "stuck-finland",
   "metadata": {},
   "source": [
    "# model_training\n",
    ">contains functions for training machine learning models"
   ]
  },
  {
   "cell_type": "code",
   "execution_count": null,
   "id": "indie-confirmation",
   "metadata": {},
   "outputs": [],
   "source": [
    "#requires torch_geometric\n",
    "#show_doc(EarlyStopping)"
   ]
  },
  {
   "cell_type": "code",
   "execution_count": null,
   "id": "southeast-brighton",
   "metadata": {},
   "outputs": [],
   "source": [
    "#requires torch_geometric\n",
    "#show_doc(train_model)"
   ]
  },
  {
   "cell_type": "code",
   "execution_count": null,
   "id": "frank-command",
   "metadata": {},
   "outputs": [],
   "source": [
    "#requires torch_geometric\n",
    "#show_doc(init_weights)"
   ]
  },
  {
   "cell_type": "code",
   "execution_count": null,
   "id": "collective-cooler",
   "metadata": {},
   "outputs": [],
   "source": [
    "#requires torch_geometric\n",
    "#show_doc(prep_model)"
   ]
  },
  {
   "cell_type": "markdown",
   "id": "graduate-stadium",
   "metadata": {},
   "source": [
    "# models\n",
    ">describes some examples for machine learning architectures applicable to glycans"
   ]
  },
  {
   "cell_type": "code",
   "execution_count": null,
   "id": "clean-personality",
   "metadata": {},
   "outputs": [],
   "source": [
    "#requires torch_geometric\n",
    "#show_doc(SweetNet)"
   ]
  },
  {
   "cell_type": "markdown",
   "id": "interested-registrar",
   "metadata": {},
   "source": [
    "# processing\n",
    ">contains helper functions to prepare glycan data for model training"
   ]
  },
  {
   "cell_type": "code",
   "execution_count": null,
   "id": "lesbian-closer",
   "metadata": {},
   "outputs": [],
   "source": [
    "#requires torch_geometric\n",
    "#show_doc(dataset_to_graphs)"
   ]
  },
  {
   "cell_type": "code",
   "execution_count": null,
   "id": "broadband-tours",
   "metadata": {},
   "outputs": [],
   "source": [
    "#requires torch_geometric\n",
    "#show_doc(dataset_to_dataloader)"
   ]
  },
  {
   "cell_type": "code",
   "execution_count": null,
   "id": "heated-georgia",
   "metadata": {},
   "outputs": [],
   "source": [
    "#requires torch_geometric\n",
    "#show_doc(split_data_to_train)"
   ]
  },
  {
   "cell_type": "markdown",
   "id": "incoming-remainder",
   "metadata": {},
   "source": [
    "# representation\n",
    ">can be used to analyze trained models and to obtain glycan representations"
   ]
  },
  {
   "cell_type": "code",
   "execution_count": null,
   "id": "continued-tokyo",
   "metadata": {},
   "outputs": [],
   "source": [
    "#requires torch_geometric\n",
    "#show_doc(glycans_to_emb)"
   ]
  },
  {
   "cell_type": "markdown",
   "id": "dense-scheduling",
   "metadata": {},
   "source": [
    "# train_test_split\n",
    ">contains various data split functions to get appropriate training and test sets"
   ]
  },
  {
   "cell_type": "code",
   "execution_count": null,
   "id": "checked-effect",
   "metadata": {},
   "outputs": [
    {
     "data": {
      "text/markdown": [
       "<h4 id=\"hierarchy_filter\" class=\"doc_header\"><code>hierarchy_filter</code><a href=\"https://github.com/BojarLab/glycoworkglycowork/ml/train_test_split.py#L34\" class=\"source_link\" style=\"float:right\">[source]</a></h4>\n",
       "\n",
       "> <code>hierarchy_filter</code>(**`df_in`**, **`rank`**=*`'domain'`*, **`min_seq`**=*`5`*, **`wildcard_seed`**=*`False`*, **`wildcard_list`**=*`None`*, **`wildcard_name`**=*`None`*, **`r`**=*`0.1`*, **`col`**=*`'target'`*)\n",
       "\n",
       "stratified data split in train/test at the taxonomic level, removing duplicate glycans and infrequent classes\n",
       "\n",
       "df_in -- dataframe of glycan sequences and taxonomic labels\n",
       "\n",
       "rank -- which rank should be filtered; default is 'domain'\n",
       "\n",
       "min_seq -- how many glycans need to be present in class to keep it; default is 5\n",
       "\n",
       "wildcard_seed -- set to True if you want to seed wildcard glycoletters; default is False\n",
       "\n",
       "wildcard_list -- list which glycoletters a wildcard encompasses\n",
       "\n",
       "wildcard_name -- how the wildcard should be named in the IUPACcondensed nomenclature\n",
       "\n",
       "r -- rate of replacement, default is 0.1 or 10%\n",
       "\n",
       "col -- column name for glycan sequences; default: target\n",
       "\n",
       "\n",
       "returns train_x, val_x (lists of glycans (strings) after stratified shuffle split)\n",
       "\n",
       "train_y, val_y (lists of taxonomic labels (mapped integers))\n",
       "\n",
       "id_val (taxonomic labels in text form (strings))\n",
       "\n",
       "class_list (list of unique taxonomic classes (strings))\n",
       "\n",
       "class_converter (dictionary to map mapped integers back to text labels)"
      ],
      "text/plain": [
       "<IPython.core.display.Markdown object>"
      ]
     },
     "metadata": {},
     "output_type": "display_data"
    }
   ],
   "source": [
    "show_doc(hierarchy_filter)"
   ]
  },
  {
   "cell_type": "code",
   "execution_count": null,
   "id": "latin-gross",
   "metadata": {},
   "outputs": [
    {
     "name": "stdout",
     "output_type": "stream",
     "text": [
      "['ManNAcOPEtn(b1-4)ManNAcOPEtn(b1-4)ManNAc(b1-3)ManNAcOPEtn', 'Gal(b1-4)GalNAc(a1-3)QuiNAc', 'Rha(a1-3)Rha(b1-4)GlcNAc(b1-3)[ManNAc(b1-2)]Rha(a1-3)Rha', 'GalOS(b1-4)GlcNAc(b1-2)[GalOS(b1-4)GlcNAc(b1-4)]Man(a1-3)[Gal(b1-4)GlcNAc(b1-2)Man(a1-6)]Man(b1-4)GlcNAc(b1-4)[Fuc(a1-6)]GlcNAc', 'GalOS(b1-4)GlcNAc(b1-3)[Neu5Ac(a2-6)]GalNAc', 'Gal(a1-4)Gal(b1-4)GlcNAc(b1-2)[Gal(b1-4)GlcNAc(b1-4)]Man(a1-3)[Gal(a1-4)Gal(b1-4)GlcNAc(b1-2)Man(a1-6)][GlcNAc(b1-4)]Man(b1-4)GlcNAc(b1-4)GlcNAc', 'Glc(b1-3)D-FucNAc(a1-4)GalNAc(a1-3)GalNAc', 'FrufOAc(a1-2)Fruf(b1-2)FrufOAc', 'Man(a1-3)[Man(a1-6)][Xyl(b1-2)]Man(b1-4)GlcNAc(b1-4)[Fuc(a1-3)]GlcNAc', 'Man(a1-2)Man(a1-2)D-Rha(a1-3)D-Rha(a1-3)Man']\n"
     ]
    }
   ],
   "source": [
    "train_x, val_x, train_y, val_y, id_val, class_list, class_converter = hierarchy_filter(df_species,\n",
    "                                                                                       rank = 'kingdom')\n",
    "print(train_x[:10])"
   ]
  },
  {
   "cell_type": "code",
   "execution_count": null,
   "id": "third-preference",
   "metadata": {},
   "outputs": [
    {
     "data": {
      "text/markdown": [
       "<h4 id=\"seed_wildcard_hierarchy\" class=\"doc_header\"><code>seed_wildcard_hierarchy</code><a href=\"https://github.com/BojarLab/glycoworkglycowork/ml/train_test_split.py#L9\" class=\"source_link\" style=\"float:right\">[source]</a></h4>\n",
       "\n",
       "> <code>seed_wildcard_hierarchy</code>(**`glycans`**, **`labels`**, **`wildcard_list`**, **`wildcard_name`**, **`r`**=*`0.1`*)\n",
       "\n",
       "adds dataframe rows in which glycan parts have been replaced with the appropriate wildcards\n",
       "\n",
       "glycans -- list of IUPACcondensed glycan sequences (string)\n",
       "\n",
       "labels -- list of labels used for prediction\n",
       "\n",
       "wildcard_list -- list which glycoletters a wildcard encompasses\n",
       "\n",
       "wildcard_name -- how the wildcard should be named in the IUPACcondensed nomenclature\n",
       "\n",
       "r -- rate of replacement, default is 0.1 or 10%\n",
       "\n",
       "\n",
       "returns list of glycans (strings) and labels (flexible) where some glycan parts have been replaced with wildcard_name"
      ],
      "text/plain": [
       "<IPython.core.display.Markdown object>"
      ]
     },
     "metadata": {},
     "output_type": "display_data"
    }
   ],
   "source": [
    "show_doc(seed_wildcard_hierarchy)"
   ]
  },
  {
   "cell_type": "code",
   "execution_count": null,
   "id": "determined-employer",
   "metadata": {},
   "outputs": [
    {
     "name": "stdout",
     "output_type": "stream",
     "text": [
      "['GlcA(b1-2)Man(a1-4)[Araf(bond)]GlcA(b1-2)[Araf(a1-5)Araf(bond)]Man(a1-4)GlcA', 'Glc(b1-3)D-FucNAc(a1-4)GalNAc(bond)GalNAc', 'DDManHep(a1-6)GlcN(a1-4)[DDManHep(bond)]GalA(a1-3)[GalA(b1-7)LDManHep(a1-7)]LDManHepOPEtn(a1-3)[Glc(b1-4)]LDManHep(a1-5)[AraN(b1-8)][Kdo(a2-4)]Kdo', 'DDManHep(a1-6)GlcN(bond)[DDManHep(a1-2)]GalA(a1-3)[GalA(b1-7)LDManHep(a1-7)]LDManHepOPEtn(a1-3)[Glc(b1-4)]LDManHep(a1-5)[AraN(b1-8)][Kdo(a2-4)]Kdo', 'Fuc(a1-3)GlcNAc(bond)DDManHep(a1-2)[Gal(b1-7)]DDManHep(a1-2)LDManHep(a1-3)LDManHepOPEtn(a1-5)Kdo', 'Man(a1-2)Man(a1-2)[Man(bond)Man(bond)]Man(a1-3)[Man(a1-2)Man(bond)[Man(a1-3)]Man(bond)]Man(b1-4)GlcNAc', 'Neu5Ac(a2-6)Gal(b1-4)GlcNAc(b1-2)[Gal(b1-4)GlcNAc(b1-4)]Man(a1-3)[Gal(b1-4)GlcNAc(b1-2)Man(bond)]Man(b1-4)GlcNAc(b1-4)[Fuc(bond)]GlcNAc', 'Neu5Ac(a2-3)Gal(b1-4)[Fuc(a1-3)]GlcNAc(bond)[GlcNAc(b1-3)]GalNAc', 'GalNAc(bond)GalOS(b1-3)GlcNAc(b1-2)Man(bond)[ManOMe(a1-6)]Man(b1-4)GlcNAc(b1-4)[Fuc(a1-6)]GlcNAc', 'Glc(a1-3)[Glc(bond)]Glc(a1-3)Glc']\n"
     ]
    }
   ],
   "source": [
    "train_x, val_x, train_y, val_y, id_val, class_list, class_converter = hierarchy_filter(df_species,\n",
    "                                                                                       rank = 'kingdom',\n",
    "                                                                                       wildcard_seed = True,\n",
    "                                                                                       wildcard_list = linkages,\n",
    "                                                                                       wildcard_name = 'bond')\n",
    "print(train_x[-10:])"
   ]
  },
  {
   "cell_type": "code",
   "execution_count": null,
   "id": "ordinary-balance",
   "metadata": {},
   "outputs": [
    {
     "data": {
      "text/markdown": [
       "<h4 id=\"general_split\" class=\"doc_header\"><code>general_split</code><a href=\"https://github.com/BojarLab/glycoworkglycowork/ml/train_test_split.py#L96\" class=\"source_link\" style=\"float:right\">[source]</a></h4>\n",
       "\n",
       "> <code>general_split</code>(**`glycans`**, **`labels`**, **`test_size`**=*`0.2`*)\n",
       "\n",
       "splits glycans and labels into train / test sets\n",
       "\n",
       "glycans -- list of IUPACcondensed glycan sequences (string)\n",
       "\n",
       "labels -- list of labels used for prediction\n",
       "\n",
       "test_size -- % size of test set; default is 0.2 / 20%\n",
       "\n",
       "\n",
       "returns X_train, X_test, y_train, y_test"
      ],
      "text/plain": [
       "<IPython.core.display.Markdown object>"
      ]
     },
     "metadata": {},
     "output_type": "display_data"
    }
   ],
   "source": [
    "show_doc(general_split)"
   ]
  },
  {
   "cell_type": "code",
   "execution_count": null,
   "id": "statistical-harvest",
   "metadata": {},
   "outputs": [
    {
     "name": "stdout",
     "output_type": "stream",
     "text": [
      "['Glc(b1-6)Glc(b1-4)Glc(b1-3)Glc(b1-4)Glc', 'D-ApifOMe(b1-3)XylOMe(b1-4)RhaOMe(a1-2)D-FucOMe', 'Rha(a1-3)Glc(b1-3)Ara', 'Gal(a1-4)Gal(b1-4)GlcNAc(b1-4)[Gal(b1-4)GlcNAc(b1-2)]Man(a1-3)[Gal(a1-4)Gal(b1-4)GlcNAc(b1-2)Man(a1-6)][GlcNAc(b1-4)]Man(b1-4)GlcNAc(b1-4)GlcNAc', 'Gal(b1-2)Gal(a1-3)[Fuc(a1-2)]Gal(b1-3)[GlcNAc(b1-6)]GalNAc', 'GalASer(a1-4)GalA(a1-3)GalAAla(a1-3)GlcNAc(b1-3)GalASer(a1-4)GalA(a1-3)GalAAla(a1-3)GlcNAc', 'Fuc(a1-2)Gal(b1-4)[Fuc(a1-3)]GlcNAc(b1-3)Gal(b1-4)Glc', 'Neu5Ac(a2-6)Gal(b1-4)GlcNAc(b1-3)Gal(b1-4)GlcNAc', 'Neu5Ac(a2-3)Gal(b1-4)GlcNAc(b1-3)Gal(b1-4)Glc(b1-4)[GlcNAc(a1-2)[Glc(a1-3)]LDManHepOPEtn(a1-3)]LDManHep(a1-5)[Kdo(2-4)]Kdo', 'GlcNCmOCm(b1-4)GlcNAc(b1-4)GlcNAc(b1-4)GlcNAc(b1-4)[FucOAcOMe(a1-6)]GlcNAc']\n"
     ]
    }
   ],
   "source": [
    "train_x, val_x, train_y, val_y = general_split(df_species.target.values.tolist(),\n",
    "                                              df_species.species.values.tolist())\n",
    "print(train_x[:10])"
   ]
  }
 ],
 "metadata": {
  "kernelspec": {
   "display_name": "Python 3",
   "language": "python",
   "name": "python3"
  }
 },
 "nbformat": 4,
 "nbformat_minor": 5
}
