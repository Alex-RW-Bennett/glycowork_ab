{
 "cells": [
  {
   "cell_type": "code",
   "execution_count": null,
   "id": "insured-wildlife",
   "metadata": {},
   "outputs": [],
   "source": [
    "#hide\n",
    "#default_exp ml\n",
    "from nbdev.showdoc import show_doc\n",
    "from IPython.display import HTML\n",
    "%load_ext autoreload\n",
    "%autoreload 2"
   ]
  },
  {
   "cell_type": "markdown",
   "id": "celtic-fossil",
   "metadata": {},
   "source": [
    "# ml\n",
    ">data processing and model training + analysis using machine learning"
   ]
  },
  {
   "cell_type": "code",
   "execution_count": null,
   "id": "reflected-assembly",
   "metadata": {},
   "outputs": [],
   "source": [
    "#from glycowork.ml.model_training import *\n",
    "#from glycowork.ml.models import *\n",
    "#from glycowork.ml.processing import *\n",
    "#from glycowork.ml.representation import *\n",
    "from glycowork.ml.train_test_split import *\n",
    "from glycowork.glycan_data.loader import df_species"
   ]
  },
  {
   "cell_type": "markdown",
   "id": "experienced-burden",
   "metadata": {},
   "source": [
    "`ml` contains the code base to process glycan for machine learning, construct state-of-the-art machine learning models, train them, and analyze trained models + glycan reprsentations. It currently contains the following modules:\n",
    "\n",
    "- `model_training` contains functions for training machine learning models\n",
    "- `models` describes some examples for machine learning architectures applicable to glycans\n",
    "- `processing` contains helper functions to prepare glycan data for model training\n",
    "- `representation` can be used to analyze trained models and to obtain glycan representations\n",
    "- `train_test_split` contains various data split functions to get appropriate training and test sets"
   ]
  },
  {
   "cell_type": "markdown",
   "id": "stuck-finland",
   "metadata": {},
   "source": [
    "# model_training\n",
    ">contains functions for training machine learning models"
   ]
  },
  {
   "cell_type": "code",
   "execution_count": null,
   "id": "indie-confirmation",
   "metadata": {},
   "outputs": [],
   "source": [
    "#requires torch_geometric\n",
    "#show_doc(EarlyStopping)"
   ]
  },
  {
   "cell_type": "code",
   "execution_count": null,
   "id": "southeast-brighton",
   "metadata": {},
   "outputs": [],
   "source": [
    "#requires torch_geometric\n",
    "#show_doc(train_model)"
   ]
  },
  {
   "cell_type": "code",
   "execution_count": null,
   "id": "frank-command",
   "metadata": {},
   "outputs": [],
   "source": [
    "#requires torch_geometric\n",
    "#show_doc(init_weights)"
   ]
  },
  {
   "cell_type": "code",
   "execution_count": null,
   "id": "collective-cooler",
   "metadata": {},
   "outputs": [],
   "source": [
    "#requires torch_geometric\n",
    "#show_doc(prep_model)"
   ]
  },
  {
   "cell_type": "markdown",
   "id": "graduate-stadium",
   "metadata": {},
   "source": [
    "# models\n",
    ">describes some examples for machine learning architectures applicable to glycans"
   ]
  },
  {
   "cell_type": "code",
   "execution_count": null,
   "id": "clean-personality",
   "metadata": {},
   "outputs": [],
   "source": [
    "#requires torch_geometric\n",
    "#show_doc(SweetNet)"
   ]
  },
  {
   "cell_type": "markdown",
   "id": "interested-registrar",
   "metadata": {},
   "source": [
    "# processing\n",
    ">contains helper functions to prepare glycan data for model training"
   ]
  },
  {
   "cell_type": "code",
   "execution_count": null,
   "id": "lesbian-closer",
   "metadata": {},
   "outputs": [],
   "source": [
    "#requires torch_geometric\n",
    "#show_doc(dataset_to_graphs)"
   ]
  },
  {
   "cell_type": "code",
   "execution_count": null,
   "id": "broadband-tours",
   "metadata": {},
   "outputs": [],
   "source": [
    "#requires torch_geometric\n",
    "#show_doc(dataset_to_dataloader)"
   ]
  },
  {
   "cell_type": "code",
   "execution_count": null,
   "id": "heated-georgia",
   "metadata": {},
   "outputs": [],
   "source": [
    "#requires torch_geometric\n",
    "#show_doc(split_data_to_train)"
   ]
  },
  {
   "cell_type": "markdown",
   "id": "incoming-remainder",
   "metadata": {},
   "source": [
    "# representation\n",
    ">can be used to analyze trained models and to obtain glycan representations"
   ]
  },
  {
   "cell_type": "code",
   "execution_count": null,
   "id": "continued-tokyo",
   "metadata": {},
   "outputs": [],
   "source": [
    "#requires torch_geometric\n",
    "#show_doc(glycans_to_emb)"
   ]
  },
  {
   "cell_type": "markdown",
   "id": "dense-scheduling",
   "metadata": {},
   "source": [
    "# train_test_split\n",
    ">contains various data split functions to get appropriate training and test sets"
   ]
  },
  {
   "cell_type": "code",
   "execution_count": null,
   "id": "checked-effect",
   "metadata": {},
   "outputs": [
    {
     "data": {
      "text/markdown": [
       "<h4 id=\"hierarchy_filter\" class=\"doc_header\"><code>hierarchy_filter</code><a href=\"https://github.com/BojarLab/glycoworkglycowork/ml/train_test_split.py#L34\" class=\"source_link\" style=\"float:right\">[source]</a></h4>\n",
       "\n",
       "> <code>hierarchy_filter</code>(**`df_in`**, **`rank`**=*`'domain'`*, **`min_seq`**=*`5`*, **`wildcard_seed`**=*`False`*, **`wildcard_list`**=*`None`*, **`wildcard_name`**=*`None`*, **`r`**=*`0.1`*, **`col`**=*`'target'`*)\n",
       "\n",
       "stratified data split in train/test at the taxonomic level, removing duplicate glycans and infrequent classes\n",
       "\n",
       "df_in -- dataframe of glycan sequences and taxonomic labels\n",
       "\n",
       "rank -- which rank should be filtered; default is 'domain'\n",
       "\n",
       "min_seq -- how many glycans need to be present in class to keep it; default is 5\n",
       "\n",
       "wildcard_seed -- set to True if you want to seed wildcard glycoletters; default is False\n",
       "\n",
       "wildcard_list -- list which glycoletters a wildcard encompasses\n",
       "\n",
       "wildcard_name -- how the wildcard should be named in the IUPACcondensed nomenclature\n",
       "\n",
       "r -- rate of replacement, default is 0.1 or 10%\n",
       "\n",
       "col -- column name for glycan sequences; default: target\n",
       "\n",
       "\n",
       "returns train_x, val_x (lists of glycans (strings) after stratified shuffle split)\n",
       "\n",
       "train_y, val_y (lists of taxonomic labels (mapped integers))\n",
       "\n",
       "id_val (taxonomic labels in text form (strings))\n",
       "\n",
       "class_list (list of unique taxonomic classes (strings))\n",
       "\n",
       "class_converter (dictionary to map mapped integers back to text labels)"
      ],
      "text/plain": [
       "<IPython.core.display.Markdown object>"
      ]
     },
     "metadata": {},
     "output_type": "display_data"
    }
   ],
   "source": [
    "show_doc(hierarchy_filter)"
   ]
  },
  {
   "cell_type": "code",
   "execution_count": null,
   "id": "latin-gross",
   "metadata": {},
   "outputs": [
    {
     "name": "stdout",
     "output_type": "stream",
     "text": [
      "['Gal(a1-4)Neu5Ac(a2-3)Gal(b1-3)GalNAcOP', 'L-GulA(a1-4)Man(b1-4)Man', '6dTalNAc(a1-3)GlcNAc(a1-3)FucNAc(a1-3)GlcNAc(b1-4)6dTalNAc', 'D-FucNAc(a1-4)ManNAcA(b1-4)GlcNAc(a1-3)Glc(b1-3)[Gal(a1-2)Gal(a1-2)]Glc(a1-3)Glc(a1-3)[GlcN(a1-7)LDManHep(a1-7)]LDManHep(a1-3)LDManHepOPPEtn(a1-5)Kdo', 'GlcNAc(a1-2)[Glc(a1-3)]LDManHep(a1-3)[Glc(b1-4)]LDManHep(a1-5)[Kdo(a2-4)]Kdo', 'Xyl(b1-3)Xyl(b1-4)Rha(a1-2)[Rha(a1-3)]Xyl', 'Fuc(a1-3)[GalNAc(b1-4)]GlcNAc(b1-3)GalNAc', 'Gal(b1-6)Gal(b1-4)Gal', 'Neu5Ac(a2-3)Gal(b1-4)GlcNAc(b1-4)[Neu5Ac(a2-6)Gal(b1-4)GlcNAc(b1-2)]Man(a1-3)[Neu5Ac(a2-3)Gal(b1-4)GlcNAc(b1-2)Man(a1-6)]Man(b1-4)GlcNAc', 'Man(a1-2)Man(a1-3)[Galf(b1-6)]Man']\n"
     ]
    }
   ],
   "source": [
    "train_x, val_x, train_y, val_y, id_val, class_list, class_converter = hierarchy_filter(df_species,\n",
    "                                                                                       rank = 'kingdom')\n",
    "print(train_x[:10])"
   ]
  },
  {
   "cell_type": "code",
   "execution_count": null,
   "id": "third-preference",
   "metadata": {},
   "outputs": [
    {
     "data": {
      "text/markdown": [
       "<h4 id=\"seed_wildcard_hierarchy\" class=\"doc_header\"><code>seed_wildcard_hierarchy</code><a href=\"https://github.com/BojarLab/glycoworkglycowork/ml/train_test_split.py#L9\" class=\"source_link\" style=\"float:right\">[source]</a></h4>\n",
       "\n",
       "> <code>seed_wildcard_hierarchy</code>(**`glycans`**, **`labels`**, **`wildcard_list`**, **`wildcard_name`**, **`r`**=*`0.1`*)\n",
       "\n",
       "adds dataframe rows in which glycan parts have been replaced with the appropriate wildcards\n",
       "\n",
       "glycans -- list of IUPACcondensed glycan sequences (string)\n",
       "\n",
       "labels -- list of labels used for prediction\n",
       "\n",
       "wildcard_list -- list which glycoletters a wildcard encompasses\n",
       "\n",
       "wildcard_name -- how the wildcard should be named in the IUPACcondensed nomenclature\n",
       "\n",
       "r -- rate of replacement, default is 0.1 or 10%\n",
       "\n",
       "\n",
       "returns list of glycans (strings) and labels (flexible) where some glycan parts have been replaced with wildcard_name"
      ],
      "text/plain": [
       "<IPython.core.display.Markdown object>"
      ]
     },
     "metadata": {},
     "output_type": "display_data"
    }
   ],
   "source": [
    "show_doc(seed_wildcard_hierarchy)"
   ]
  },
  {
   "cell_type": "code",
   "execution_count": null,
   "id": "determined-employer",
   "metadata": {},
   "outputs": [
    {
     "name": "stdout",
     "output_type": "stream",
     "text": [
      "['Neu5Ac(a2-6)Gal(b1-4)GlcNAc(b1-2)Man(a1-3)[Neu5Gc(bond)Gal(b1-4)GlcNAc(b1-2)Man(a1-6)]Man(b1-4)GlcNAc(b1-4)[Fuc(a1-6)]GlcNAc', '[Gal(a1-6)]GlcNAc(bond)GalNAc(b1-3)GlcNAc', 'GalNAcOS(b1-4)GlcNAc(b1-2)Man(a1-3)[Man(a1-3)[Man(bond)]Man(bond)]Man(b1-4)GlcNAc(b1-4)GlcNAc', 'FucNAla(b1-3)QuiN(b1-4)Glc(b1-4)QuiNAc(b1-2)QuiNAc(b1-2)Rha(bond)Rha(bond)Fuc(a1-4)[Glc(a1-2)]Fuc(a1-4)Fuc(a1-4)[Glc(bond)]Fuc(a1-4)[Glc(a1-2)]Fuc(a1-4)Fuc(a1-4)[Glc(bond)]Fuc(a1-4)[Glc(a1-2)]Fuc(a1-4)Fuc(a1-4)Glc(b1-4)[GlcNAc(bond)]Fuc(a1-4)QuiNAc(b1-4)[Man(a1-2)]Man(b1-4)[Man(a1-6)]Man(a1-5)Kdo-ol', '[GlcNAcOP(bond)Man(a1-2)]Man(bond)[Man(b1-2)[GlcOP(bond)]Man(a1-2)]Man(bond)[Man(a1-2)Man(b1-2)Man(b1-2)[GlcOP(bond)]Man(a1-2)]Man(bond)Man', 'Rha(a1-2)Gal(bond)GlcNAc(b1-3)[ManNAc(b1-2)]Rha(a1-2)Rha', 'Rha(a1-2)Gal(a1-3)GlcNAc(b1-3)[ManNAc(bond)]Rha(a1-2)Rha', 'Kdo(a2-8)Kdo(a2-4)Kdo(bond)GlcOPN(b1-6)GlcOPN', 'GlcN(a1-6)Man(bond)[GlcN(a1-6)Man(a1-6)]Man(a1-5)Kdo(a2-6)GlcN(b1-6)GlcN-ol', 'Man(a1-2)Man(a1-2)[Man(a1-6)Man(a1-6)]Man(a1-3)[Man(a1-2)Man(a1-6)[Man(a1-3)]Man(a1-6)]Man(bond)GlcNAc']\n"
     ]
    }
   ],
   "source": [
    "train_x, val_x, train_y, val_y, id_val, class_list, class_converter = hierarchy_filter(df_species,\n",
    "                                                                                       rank = 'kingdom',\n",
    "                                                                                       wildcard_seed = True,\n",
    "                                                                                       wildcard_list = linkages,\n",
    "                                                                                       wildcard_name = 'bond')\n",
    "print(train_x[-10:])"
   ]
  },
  {
   "cell_type": "code",
   "execution_count": null,
   "id": "ordinary-balance",
   "metadata": {},
   "outputs": [
    {
     "data": {
      "text/markdown": [
       "<h4 id=\"general_split\" class=\"doc_header\"><code>general_split</code><a href=\"https://github.com/BojarLab/glycoworkglycowork/ml/train_test_split.py#L96\" class=\"source_link\" style=\"float:right\">[source]</a></h4>\n",
       "\n",
       "> <code>general_split</code>(**`glycans`**, **`labels`**, **`test_size`**=*`0.2`*)\n",
       "\n",
       "splits glycans and labels into train / test sets\n",
       "\n",
       "glycans -- list of IUPACcondensed glycan sequences (string)\n",
       "\n",
       "labels -- list of labels used for prediction\n",
       "\n",
       "test_size -- % size of test set; default is 0.2 / 20%\n",
       "\n",
       "\n",
       "returns X_train, X_test, y_train, y_test"
      ],
      "text/plain": [
       "<IPython.core.display.Markdown object>"
      ]
     },
     "metadata": {},
     "output_type": "display_data"
    }
   ],
   "source": [
    "show_doc(general_split)"
   ]
  },
  {
   "cell_type": "code",
   "execution_count": null,
   "id": "statistical-harvest",
   "metadata": {},
   "outputs": [
    {
     "name": "stdout",
     "output_type": "stream",
     "text": [
      "['Xyl(b1-5)Araf(a1-5)Araf', '[GlcA(b1-2)]Man(a1-3)Man(a1-3)Man(a1-3)Man(a1-3)[GlcA(b1-2)]Man(a1-3)Man(a1-3)Man(a1-3)[GlcA(b1-2)]Man(a1-3)Man(a1-3)[Xyl(b1-4)Xyl(b1-4)]Man(a1-3)Man', 'Glc(b1-4)Man(b1-4)Man', '6dTal(a1-2)Rha(a1-5)Sug', 'Glc(a1-2)Glc(b1-6)[GlcNAc(a1-2)Glc(b1-4)][Glc(b1-3)]Glc(a1-5)Kdo', 'Rha(a1-2)Glc(b1-2)Xyl', 'Glc(b1-4)Glc(b1-4)Glc(b1-3)Glc', '[GlcNAcOPyr(b1-3)]GalNAc(a1-4)Glc(a1-4)Gal(b1-3)GalNAc(b1-4)GalNAc', 'GlcA(b1-4)GalNAcOAc(b1-4)GalNAc(a1-3)GalNAc(b1-4)GlcA', 'Gal(a1-6)Gal(a1-3)Gal']\n"
     ]
    }
   ],
   "source": [
    "train_x, val_x, train_y, val_y = general_split(df_species.target.values.tolist(),\n",
    "                                              df_species.species.values.tolist())\n",
    "print(train_x[:10])"
   ]
  },
  {
   "cell_type": "code",
   "execution_count": null,
   "id": "separated-millennium",
   "metadata": {},
   "outputs": [],
   "source": []
  }
 ],
 "metadata": {
  "kernelspec": {
   "display_name": "Python 3",
   "language": "python",
   "name": "python3"
  }
 },
 "nbformat": 4,
 "nbformat_minor": 5
}
