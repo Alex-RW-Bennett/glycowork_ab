{
 "cells": [
  {
   "cell_type": "code",
   "execution_count": null,
   "id": "broke-organizer",
   "metadata": {},
   "outputs": [],
   "source": [
    "#hide\n",
    "#all_slow"
   ]
  },
  {
   "cell_type": "code",
   "execution_count": null,
   "id": "insured-wildlife",
   "metadata": {},
   "outputs": [],
   "source": [
    "#hide\n",
    "#default_exp ml\n",
    "import warnings\n",
    "warnings.filterwarnings(\"ignore\")\n",
    "from nbdev.showdoc import show_doc\n",
    "from IPython.display import HTML\n",
    "%load_ext autoreload\n",
    "%autoreload 2"
   ]
  },
  {
   "cell_type": "markdown",
   "id": "celtic-fossil",
   "metadata": {},
   "source": [
    "# ml\n",
    ">data processing and model training + analysis using machine learning"
   ]
  },
  {
   "cell_type": "code",
   "execution_count": null,
   "id": "reflected-assembly",
   "metadata": {},
   "outputs": [],
   "source": [
    "#export\n",
    "from glycowork.ml.model_training import *\n",
    "#from glycowork.ml.models import *\n",
    "#from glycowork.ml.processing import *\n",
    "#from glycowork.ml.inference import *\n",
    "from glycowork.ml.train_test_split import *\n",
    "from glycowork.glycan_data.loader import df_species, df_glycan"
   ]
  },
  {
   "cell_type": "markdown",
   "id": "experienced-burden",
   "metadata": {},
   "source": [
    "`ml` contains the code base to process glycan for machine learning, construct state-of-the-art machine learning models, train them, and analyze trained models + glycan representations. It currently contains the following modules:\n",
    "\n",
    "- `model_training` contains functions for training machine learning models\n",
    "- `models` describes some examples for machine learning architectures applicable to glycans\n",
    "- `processing` contains helper functions to prepare glycan data for model training\n",
    "- `inference` can be used to analyze trained models, make predictions, or obtain glycan representations\n",
    "- `train_test_split` contains various data split functions to get appropriate training and test sets"
   ]
  },
  {
   "cell_type": "markdown",
   "id": "stuck-finland",
   "metadata": {},
   "source": [
    "## model_training\n",
    ">contains functions for training machine learning models"
   ]
  },
  {
   "cell_type": "code",
   "execution_count": null,
   "id": "indie-confirmation",
   "metadata": {},
   "outputs": [
    {
     "data": {
      "text/markdown": [
       "<h2 id=\"EarlyStopping\" class=\"doc_header\"><code>class</code> <code>EarlyStopping</code><a href=\"https://github.com/BojarLab/glycowork/tree/master/glycowork/ml/model_training.py#L18\" class=\"source_link\" style=\"float:right\">[source]</a></h2>\n",
       "\n",
       "> <code>EarlyStopping</code>(**`patience`**=*`7`*, **`verbose`**=*`False`*)\n",
       "\n",
       "Early stops the training if validation loss doesn't improve after a given patience."
      ],
      "text/plain": [
       "<IPython.core.display.Markdown object>"
      ]
     },
     "metadata": {},
     "output_type": "display_data"
    }
   ],
   "source": [
    "show_doc(EarlyStopping)"
   ]
  },
  {
   "cell_type": "code",
   "execution_count": null,
   "id": "southeast-brighton",
   "metadata": {},
   "outputs": [
    {
     "data": {
      "text/markdown": [
       "<h4 id=\"train_model\" class=\"doc_header\"><code>train_model</code><a href=\"https://github.com/BojarLab/glycowork/tree/master/glycowork/ml/model_training.py#L77\" class=\"source_link\" style=\"float:right\">[source]</a></h4>\n",
       "\n",
       "> <code>train_model</code>(**`model`**, **`dataloaders`**, **`criterion`**, **`optimizer`**, **`scheduler`**, **`num_epochs`**=*`25`*, **`patience`**=*`50`*, **`mode`**=*`'classification'`*, **`mode2`**=*`'multi'`*)\n",
       "\n",
       "trains a deep learning model on predicting glycan properties\n",
       "\n",
       "| Arguments:\n",
       "| :-\n",
       "| model (PyTorch object): graph neural network (such as SweetNet) for analyzing glycans\n",
       "| dataloaders (PyTorch object): dictionary of dataloader objects with keys 'train' and 'val'\n",
       "| criterion (PyTorch object): PyTorch loss function\n",
       "| optimizer (PyTorch object): PyTorch optimizer\n",
       "| scheduler (PyTorch object): PyTorch learning rate decay\n",
       "| num_epochs (int): number of epochs for training; default:25\n",
       "| patience (int): number of epochs without improvement until early stop; default:50\n",
       "| mode (string): 'classification', 'multilabel', or 'regression'; default:classification\n",
       "| mode2 (string): further specifying classification into 'multi' or 'binary' classification;default:multi\n",
       "\n",
       "| Returns:\n",
       "| :-\n",
       "| Returns the best model seen during training"
      ],
      "text/plain": [
       "<IPython.core.display.Markdown object>"
      ]
     },
     "metadata": {},
     "output_type": "display_data"
    }
   ],
   "source": [
    "show_doc(train_model)"
   ]
  },
  {
   "cell_type": "code",
   "execution_count": null,
   "id": "generic-taxation",
   "metadata": {},
   "outputs": [
    {
     "data": {
      "text/markdown": [
       "<h4 id=\"training_setup\" class=\"doc_header\"><code>training_setup</code><a href=\"https://github.com/BojarLab/glycowork/tree/master/glycowork/ml/model_training.py#L303\" class=\"source_link\" style=\"float:right\">[source]</a></h4>\n",
       "\n",
       "> <code>training_setup</code>(**`model`**, **`lr`**, **`lr_patience`**=*`4`*, **`factor`**=*`0.2`*, **`weight_decay`**=*`0.0001`*, **`mode`**=*`'multiclass'`*)\n",
       "\n",
       "prepares optimizer, learning rate scheduler, and loss criterion for model training\n",
       "\n",
       "| Arguments:\n",
       "| :-\n",
       "| model (PyTorch object): graph neural network (such as SweetNet) for analyzing glycans\n",
       "| lr (float): learning rate\n",
       "| lr_patience (int): number of epochs without validation loss improvement before reducing the learning rate;default:4\n",
       "| factor (float): factor by which learning rate is multiplied upon reduction\n",
       "| weight_decay (float): regularization parameter for the optimizer; default:0.001\n",
       "| mode (string): 'multiclass': classification with multiple classes, 'multilabel': predicting several labels at the same time, 'binary':binary classification, 'regression': regression; default:'multiclass'\n",
       "\n",
       "| Returns:\n",
       "| :-\n",
       "| Returns optimizer, learning rate scheduler, and loss criterion objects"
      ],
      "text/plain": [
       "<IPython.core.display.Markdown object>"
      ]
     },
     "metadata": {},
     "output_type": "display_data"
    }
   ],
   "source": [
    "show_doc(training_setup)"
   ]
  },
  {
   "cell_type": "code",
   "execution_count": null,
   "id": "bored-quality",
   "metadata": {},
   "outputs": [
    {
     "data": {
      "text/markdown": [
       "<h4 id=\"train_ml_model\" class=\"doc_header\"><code>train_ml_model</code><a href=\"https://github.com/BojarLab/glycowork/tree/master/glycowork/ml/model_training.py#L334\" class=\"source_link\" style=\"float:right\">[source]</a></h4>\n",
       "\n",
       "> <code>train_ml_model</code>(**`X_train`**, **`X_test`**, **`y_train`**, **`y_test`**, **`mode`**=*`'classification'`*, **`feature_calc`**=*`False`*, **`libr`**=*`None`*, **`return_features`**=*`False`*, **`feature_set`**=*`['known', 'exhaustive']`*, **`additional_features_train`**=*`None`*, **`additional_features_test`**=*`None`*)\n",
       "\n",
       "wrapper function to train standard machine learning models on glycans\n",
       "\n",
       "| Arguments:\n",
       "| :-\n",
       "| X_train, X_test (list or dataframe): either lists of glycans (needs feature_calc = True) or motif dataframes such as from annotate_dataset\n",
       "| y_train, y_test (list): lists of labels\n",
       "| mode (string): 'classification' or 'regression'; default:'classification'\n",
       "| feature_calc (bool): set to True for calculating motifs from glycans; default:False\n",
       "| libr (list): sorted list of unique glycoletters observed in the glycans of our data; default:lib\n",
       "| return_features (bool): whether to return calculated features; default:False\n",
       "| feature_set (list): which feature set to use for annotations, add more to list to expand; default:['known','exhaustive']; options are: 'known' (hand-crafted glycan features), 'graph' (structural graph features of glycans), and 'exhaustive' (all mono- and disaccharide features)\n",
       "| additional_features_train (dataframe): additional features (apart from glycans) to be used for training. Has to be of the same length as X_train; default:None\n",
       "| additional_features_test (dataframe): additional features (apart from glycans) to be used for evaluation. Has to be of the same length as X_test; default:None\n",
       "\n",
       "| Returns:\n",
       "| :-\n",
       "| Returns trained model                           "
      ],
      "text/plain": [
       "<IPython.core.display.Markdown object>"
      ]
     },
     "metadata": {},
     "output_type": "display_data"
    }
   ],
   "source": [
    "show_doc(train_ml_model)"
   ]
  },
  {
   "cell_type": "code",
   "execution_count": null,
   "id": "separate-knock",
   "metadata": {},
   "outputs": [
    {
     "name": "stdout",
     "output_type": "stream",
     "text": [
      "\n",
      "Calculating Glycan Features...\n",
      "\n",
      "Training model...\n",
      "[09:47:24] WARNING: C:/Users/Administrator/workspace/xgboost-win64_release_1.4.0/src/learner.cc:1095: Starting in XGBoost 1.3.0, the default evaluation metric used with the objective 'binary:logistic' was changed from 'error' to 'logloss'. Explicitly set eval_metric if you'd like to restore the old behavior.\n",
      "\n",
      "Evaluating model...\n",
      "Accuracy of trained model on separate validation set: 0.9150110375275938\n"
     ]
    }
   ],
   "source": [
    "vertebrate = [1 if k == 'Chordata' else 0 for k in df_species[df_species.Kingdom=='Animalia'].Phylum.values.tolist()]\n",
    "X_train, X_test, y_train, y_test = general_split(df_species[df_species.Kingdom=='Animalia'].target.values.tolist(), vertebrate)\n",
    "model_ft, _, X_test = train_ml_model(X_train, X_test, y_train, y_test, feature_calc = True, feature_set = ['exhaustive'],\n",
    "                         return_features = True)"
   ]
  },
  {
   "cell_type": "code",
   "execution_count": null,
   "id": "federal-lover",
   "metadata": {},
   "outputs": [
    {
     "data": {
      "text/markdown": [
       "<h4 id=\"analyze_ml_model\" class=\"doc_header\"><code>analyze_ml_model</code><a href=\"https://github.com/BojarLab/glycowork/tree/master/glycowork/ml/model_training.py#L396\" class=\"source_link\" style=\"float:right\">[source]</a></h4>\n",
       "\n",
       "> <code>analyze_ml_model</code>(**`model`**)\n",
       "\n",
       "plots relevant features for model prediction\n",
       "\n",
       "| Arguments:\n",
       "| :-\n",
       "| model (model object): trained machine learning model from train_ml_model"
      ],
      "text/plain": [
       "<IPython.core.display.Markdown object>"
      ]
     },
     "metadata": {},
     "output_type": "display_data"
    }
   ],
   "source": [
    "show_doc(analyze_ml_model)"
   ]
  },
  {
   "cell_type": "code",
   "execution_count": null,
   "id": "herbal-holmes",
   "metadata": {},
   "outputs": [
    {
     "data": {
      "image/png": "[encoded data removed]",
      "text/plain": [
       "<Figure size 432x288 with 1 Axes>"
      ]
     },
     "metadata": {
      "needs_background": "light"
     },
     "output_type": "display_data"
    }
   ],
   "source": [
    "analyze_ml_model(model_ft)"
   ]
  },
  {
   "cell_type": "code",
   "execution_count": null,
   "id": "moved-greene",
   "metadata": {},
   "outputs": [
    {
     "data": {
      "text/markdown": [
       "<h4 id=\"get_mismatch\" class=\"doc_header\"><code>get_mismatch</code><a href=\"https://github.com/BojarLab/glycowork/tree/master/glycowork/ml/model_training.py#L417\" class=\"source_link\" style=\"float:right\">[source]</a></h4>\n",
       "\n",
       "> <code>get_mismatch</code>(**`model`**, **`X_test`**, **`y_test`**, **`n`**=*`10`*)\n",
       "\n",
       "analyzes misclassifications of trained machine learning model\n",
       "\n",
       "| Arguments:\n",
       "| :-\n",
       "| model (model object): trained machine learning model from train_ml_model\n",
       "| X_test (dataframe): motif dataframe used for validating model\n",
       "| y_test (list): list of labels\n",
       "| n (int): number of returned misclassifications; default:10\n",
       "\n",
       "| Returns:\n",
       "| :-\n",
       "| Returns tuples of misclassifications and their predicted probability"
      ],
      "text/plain": [
       "<IPython.core.display.Markdown object>"
      ]
     },
     "metadata": {},
     "output_type": "display_data"
    }
   ],
   "source": [
    "show_doc(get_mismatch)"
   ]
  },
  {
   "cell_type": "code",
   "execution_count": null,
   "id": "incredible-basket",
   "metadata": {},
   "outputs": [
    {
     "data": {
      "text/plain": [
       "[('GalNAc(b1-4)GlcNAc(b1-2)Man(a1-3)[GlcNAc(b1-2)Man(a1-6)]Man(b1-4)GlcNAc(b1-4)GlcNAc',\n",
       "  0.45373743772506714),\n",
       " ('GlcNAc(b1-2)[GlcNAc(b1-4)]Man(a1-3)[GlcNAc(b1-2)Man(a1-6)]Man(b1-4)GlcNAc(b1-4)[FucOS(a1-6)]GlcNAc',\n",
       "  0.7654131054878235),\n",
       " ('GlcNAc(b1-2)Man(a1-3)[GlcNAc(b1-2)[GlcNAc(b1-6)]Man(a1-6)]Man(b1-4)GlcNAc(b1-4)[Fuc(a1-6)]GlcNAc',\n",
       "  0.47539860010147095),\n",
       " ('Man(a1-6)Man(b1-4)GlcNAc(b1-4)GlcNAc', 0.4186375141143799),\n",
       " ('Man(a1-2)Man(a1-2)Man(a1-3)[Man(a1-2)Man(a1-3)[Man(a1-2)Man(a1-6)]Man(a1-6)]Man(b1-4)GlcNAc(b1-4)GlcNAc',\n",
       "  0.4636443555355072),\n",
       " ('Man(a1-6)Man(b1-4)GlcNAc(b1-4)[Fuc(a1-6)]GlcNAc', 0.3262776732444763),\n",
       " ('Fuc3S(a1-2)Fuc3S(a1-3)GlcA(b1-3)GalNAc6S', 0.5211899280548096),\n",
       " ('Xyl(bond)Glc', 0.28793126344680786),\n",
       " ('Man(b1-4)GlcNAc(b1-4)[Fuc(a1-3)][Fuc(a1-6)]GlcNAc-ol', 0.5379984378814697),\n",
       " ('Gal(bond)GlcNAc(b1-2)Man(a1-3)[Man(a1-3)[Man(a1-6)]Man(a1-6)]Man(b1-4)GlcNAc(b1-4)GlcNAc',\n",
       "  0.8179002404212952)]"
      ]
     },
     "execution_count": null,
     "metadata": {},
     "output_type": "execute_result"
    }
   ],
   "source": [
    "get_mismatch(model_ft, X_test, y_test)"
   ]
  },
  {
   "cell_type": "markdown",
   "id": "graduate-stadium",
   "metadata": {},
   "source": [
    "## models\n",
    ">describes some examples for machine learning architectures applicable to glycans. The main portal is prep_models which allows users to setup (trained) models by their string names"
   ]
  },
  {
   "cell_type": "code",
   "execution_count": null,
   "id": "clean-personality",
   "metadata": {},
   "outputs": [],
   "source": [
    "#requires torch_geometric\n",
    "#show_doc(SweetNet)"
   ]
  },
  {
   "cell_type": "code",
   "execution_count": null,
   "id": "christian-arnold",
   "metadata": {},
   "outputs": [],
   "source": [
    "#requires torch_geometric\n",
    "#show_doc(LectinOracle)"
   ]
  },
  {
   "cell_type": "code",
   "execution_count": null,
   "id": "robust-passion",
   "metadata": {},
   "outputs": [],
   "source": [
    "#requires torch_geometric\n",
    "#show_doc(LectinOracle_flex)"
   ]
  },
  {
   "cell_type": "code",
   "execution_count": null,
   "id": "likely-grove",
   "metadata": {},
   "outputs": [],
   "source": [
    "#requires torch_geometric\n",
    "#show_doc(NSequonPred)"
   ]
  },
  {
   "cell_type": "code",
   "execution_count": null,
   "id": "frank-command",
   "metadata": {},
   "outputs": [],
   "source": [
    "#requires torch_geometric\n",
    "#show_doc(init_weights)"
   ]
  },
  {
   "cell_type": "code",
   "execution_count": null,
   "id": "collective-cooler",
   "metadata": {},
   "outputs": [],
   "source": [
    "#requires torch_geometric\n",
    "#show_doc(prep_model)"
   ]
  },
  {
   "cell_type": "markdown",
   "id": "interested-registrar",
   "metadata": {},
   "source": [
    "## processing\n",
    ">contains helper functions to prepare glycan data for model training"
   ]
  },
  {
   "cell_type": "code",
   "execution_count": null,
   "id": "lesbian-closer",
   "metadata": {},
   "outputs": [],
   "source": [
    "#requires torch_geometric\n",
    "#show_doc(dataset_to_graphs)"
   ]
  },
  {
   "cell_type": "code",
   "execution_count": null,
   "id": "broadband-tours",
   "metadata": {},
   "outputs": [],
   "source": [
    "#requires torch_geometric\n",
    "#show_doc(dataset_to_dataloader)"
   ]
  },
  {
   "cell_type": "code",
   "execution_count": null,
   "id": "heated-georgia",
   "metadata": {},
   "outputs": [],
   "source": [
    "#requires torch_geometric\n",
    "#show_doc(split_data_to_train)"
   ]
  },
  {
   "cell_type": "markdown",
   "id": "incoming-remainder",
   "metadata": {},
   "source": [
    "## inference\n",
    ">can be used to analyze trained models, make predictions, or obtain glycan representations"
   ]
  },
  {
   "cell_type": "code",
   "execution_count": null,
   "id": "continued-tokyo",
   "metadata": {},
   "outputs": [],
   "source": [
    "#requires torch_geometric\n",
    "#show_doc(glycans_to_emb)"
   ]
  },
  {
   "cell_type": "code",
   "execution_count": null,
   "id": "collective-strike",
   "metadata": {},
   "outputs": [],
   "source": [
    "#show_doc(get_lectin_preds)"
   ]
  },
  {
   "cell_type": "code",
   "execution_count": null,
   "id": "therapeutic-alias",
   "metadata": {},
   "outputs": [],
   "source": [
    "#show_doc(get_Nsequon_preds)"
   ]
  },
  {
   "cell_type": "code",
   "execution_count": null,
   "id": "cognitive-diploma",
   "metadata": {},
   "outputs": [],
   "source": [
    "#show_doc(get_esm1b_representations)"
   ]
  },
  {
   "cell_type": "markdown",
   "id": "physical-tractor",
   "metadata": {},
   "source": [
    "In order to run `get_esm1b_representations`, you first have to run this snippet:\n",
    "\n",
    "`!pip install fair-esm\n",
    "import esm\n",
    "model, alphabet = esm.pretrained.esm1b_t33_650M_UR50S()`"
   ]
  },
  {
   "cell_type": "markdown",
   "id": "dense-scheduling",
   "metadata": {},
   "source": [
    "## train_test_split\n",
    ">contains various data split functions to get appropriate training and test sets"
   ]
  },
  {
   "cell_type": "code",
   "execution_count": null,
   "id": "checked-effect",
   "metadata": {},
   "outputs": [
    {
     "data": {
      "text/markdown": [
       "<h4 id=\"hierarchy_filter\" class=\"doc_header\"><code>hierarchy_filter</code><a href=\"https://github.com/BojarLab/glycowork/tree/master/glycowork/ml/train_test_split.py#L34\" class=\"source_link\" style=\"float:right\">[source]</a></h4>\n",
       "\n",
       "> <code>hierarchy_filter</code>(**`df_in`**, **`rank`**=*`'Domain'`*, **`min_seq`**=*`5`*, **`wildcard_seed`**=*`False`*, **`wildcard_list`**=*`None`*, **`wildcard_name`**=*`None`*, **`r`**=*`0.1`*, **`col`**=*`'target'`*)\n",
       "\n",
       "stratified data split in train/test at the taxonomic level, removing duplicate glycans and infrequent classes\n",
       "\n",
       "| Arguments:\n",
       "| :-\n",
       "| df_in (dataframe): dataframe of glycan sequences and taxonomic labels\n",
       "| rank (string): which rank should be filtered; default:'domain'\n",
       "| min_seq (int): how many glycans need to be present in class to keep it; default:5\n",
       "| wildcard_seed (bool): set to True if you want to seed wildcard glycoletters; default:False\n",
       "| wildcard_list (list): list which glycoletters a wildcard encompasses\n",
       "| wildcard_name (string): how the wildcard should be named in the IUPAC-condensed nomenclature\n",
       "| r (float): rate of replacement, default:0.1 or 10%\n",
       "| col (string): column name for glycan sequences; default:target\n",
       "\n",
       "| Returns:\n",
       "| :-\n",
       "| Returns train_x, val_x (lists of glycans (strings) after stratified shuffle split)\n",
       "| train_y, val_y (lists of taxonomic labels (mapped integers))\n",
       "| id_val (taxonomic labels in text form (strings))\n",
       "| class_list (list of unique taxonomic classes (strings))\n",
       "| class_converter (dictionary to map mapped integers back to text labels)"
      ],
      "text/plain": [
       "<IPython.core.display.Markdown object>"
      ]
     },
     "metadata": {},
     "output_type": "display_data"
    }
   ],
   "source": [
    "show_doc(hierarchy_filter)"
   ]
  },
  {
   "cell_type": "code",
   "execution_count": null,
   "id": "latin-gross",
   "metadata": {},
   "outputs": [
    {
     "name": "stdout",
     "output_type": "stream",
     "text": [
      "['GalNAc(b1-4)GlcNAc(b1-2)Man(a1-3)[Gal(b1-4)GlcNAc(b1-2)[GalNAc(b1-4)GlcNAc(b1-6)]Man(a1-6)]Man(b1-4)GlcNAc(b1-4)[Fuc(a1-6)]GlcNAc', 'Man(a1-2)Man(a1-6)[Man(a1-3)]Man(a1-6)[Man(a1-2)Man(a1-3)]Man(b1-4)GlcNAc(b1-4)GlcNAc-ol', 'ManNAcA(b1-6)Glc(a1-4)ManNAcA', 'Fuc(a1-2)[Gal(a1-3)]Gal(b1-3)GlcNAc(b1-3)Gal(b1-3)GalNAc', 'GlcNAc(b1-3)[GlcNAc(b1-4)]Man(a1-3)[GlcNAc(b1-2)Man(a1-6)]Man(b1-4)GlcNAc(b1-4)[Fuc(a1-6)]GlcNAc', '[RhaOMe(a1-4)]RibOP-ol(1-5)RibOP-ol', 'Fuc(a1-2)Gal(b1-4)GlcNAc', 'QuiNAc(a1-4)GalNAcAOAc(a1-3)QuiNAc(a1-3)GlcNAc(b1-3)QuiNAc', 'GlcNAc(b1-2)Man(a1-6)Man(b1-4)GlcNAc(b1-4)GlcNAc', 'Neu5Gc(a2-3)Gal(b1-3)GlcNAc(b1-2)Man(a1-3)[Gal(b1-3)GlcNAc(b1-2)Man(a1-6)]GlcNAc(b1-4)[Fuc(a1-6)]GlcNAc']\n"
     ]
    }
   ],
   "source": [
    "train_x, val_x, train_y, val_y, id_val, class_list, class_converter = hierarchy_filter(df_species,\n",
    "                                                                                       rank = 'Kingdom')\n",
    "print(train_x[:10])"
   ]
  },
  {
   "cell_type": "code",
   "execution_count": null,
   "id": "ordinary-balance",
   "metadata": {},
   "outputs": [
    {
     "data": {
      "text/markdown": [
       "<h4 id=\"general_split\" class=\"doc_header\"><code>general_split</code><a href=\"https://github.com/BojarLab/glycowork/tree/master/glycowork/ml/train_test_split.py#L101\" class=\"source_link\" style=\"float:right\">[source]</a></h4>\n",
       "\n",
       "> <code>general_split</code>(**`glycans`**, **`labels`**, **`test_size`**=*`0.2`*)\n",
       "\n",
       "splits glycans and labels into train / test sets\n",
       "\n",
       "| Arguments:\n",
       "| :-\n",
       "| glycans (list): list of IUPAC-condensed glycan sequences as strings\n",
       "| labels (list): list of labels used for prediction\n",
       "| test_size (float): % size of test set; default:0.2 / 20%\n",
       "\n",
       "| Returns:\n",
       "| :-\n",
       "| Returns X_train, X_test, y_train, y_test"
      ],
      "text/plain": [
       "<IPython.core.display.Markdown object>"
      ]
     },
     "metadata": {},
     "output_type": "display_data"
    }
   ],
   "source": [
    "show_doc(general_split)"
   ]
  },
  {
   "cell_type": "code",
   "execution_count": null,
   "id": "statistical-harvest",
   "metadata": {},
   "outputs": [
    {
     "name": "stdout",
     "output_type": "stream",
     "text": [
      "['Neu5Ac(bond)Glc-ol', 'Man(b1-4)Man(b1-4)[Gal(a1-6)]Man', 'GlcNAc(b1-2)[GlcNAc(b1-4)]Man(a1-3)[Gal(b1-4)GlcNAc(b1-2)[GlcNAc(b1-6)]Man(a1-6)]Man(b1-4)GlcNAc(b1-4)[Fuc(a1-6)]GlcNAc', 'Gal(b1-4)GlcNAc(b1-2)Gal(b1-4)GlcNAc(b1-2)Man(a1-3)[Gal(b1-4)GlcNAc(b1-2)Gal(b1-4)GlcNAc(b1-2)Man(a1-6)]Man(b1-4)GlcNAc(b1-4)[Fuc(a1-6)]GlcNAc-ol', 'GlcN(a1-4)Man', 'Man(a1-3)Man(a1-3)Man', 'Neu5Ac(a2-3)Gal(b1-4)[Neu5Ac(a2-6)]GalNAc-ol', 'GlcNAc(b1-2)Man(a1-3)[Man(a1-6)]Man(b1-4)GlcNAc(b1-4)[Fuc(a1-6)]GlcNAc', 'Gal(b1-4)GlcNAc(b1-2)DDManHep(a1-6)LDManHep', 'Gal(a1-4)Gal(a1-3)Galf']\n"
     ]
    }
   ],
   "source": [
    "train_x, val_x, train_y, val_y = general_split(df_species.target.values.tolist(),\n",
    "                                              df_species.Species.values.tolist())\n",
    "print(train_x[:10])"
   ]
  },
  {
   "cell_type": "code",
   "execution_count": null,
   "id": "flush-joyce",
   "metadata": {},
   "outputs": [
    {
     "data": {
      "text/markdown": [
       "<h4 id=\"prepare_multilabel\" class=\"doc_header\"><code>prepare_multilabel</code><a href=\"https://github.com/BojarLab/glycowork/tree/master/glycowork/ml/train_test_split.py#L115\" class=\"source_link\" style=\"float:right\">[source]</a></h4>\n",
       "\n",
       "> <code>prepare_multilabel</code>(**`df`**, **`rank`**=*`'Species'`*, **`glycan_col`**=*`'target'`*)\n",
       "\n",
       "converts a one row per glycan-species/tissue/disease association file to a format of one glycan - all associations\n",
       "\n",
       "| Arguments:\n",
       "| :-\n",
       "| df (dataframe): dataframe where each row is one glycan - species association\n",
       "| rank (string): which label column should be used; default:Species\n",
       "| glycan_col (string): column name of where the glycan sequences are stored; default:target\n",
       "\n",
       "| Returns:\n",
       "| :-\n",
       "| (1) list of unique glycans in df\n",
       "| (2) list of lists, where each inner list are all the labels of a glycan"
      ],
      "text/plain": [
       "<IPython.core.display.Markdown object>"
      ]
     },
     "metadata": {},
     "output_type": "display_data"
    }
   ],
   "source": [
    "show_doc(prepare_multilabel)"
   ]
  },
  {
   "cell_type": "code",
   "execution_count": null,
   "id": "cheap-report",
   "metadata": {},
   "outputs": [
    {
     "name": "stdout",
     "output_type": "stream",
     "text": [
      "Converted 00_core.ipynb.\n",
      "Converted 01_alignment.ipynb.\n",
      "Converted 02_glycan_data.ipynb.\n",
      "Converted 03_ml.ipynb.\n",
      "Converted 04_motif.ipynb.\n",
      "Converted 05_examples.ipynb.\n",
      "Converted 06_network.ipynb.\n",
      "Converted index.ipynb.\n"
     ]
    }
   ],
   "source": [
    "#hide\n",
    "from nbdev.export import notebook2script; notebook2script()"
   ]
  },
  {
   "cell_type": "code",
   "execution_count": null,
   "id": "distant-bulgaria",
   "metadata": {},
   "outputs": [],
   "source": []
  }
 ],
 "metadata": {
  "kernelspec": {
   "display_name": "Python 3",
   "language": "python",
   "name": "python3"
  }
 },
 "nbformat": 4,
 "nbformat_minor": 5
}
